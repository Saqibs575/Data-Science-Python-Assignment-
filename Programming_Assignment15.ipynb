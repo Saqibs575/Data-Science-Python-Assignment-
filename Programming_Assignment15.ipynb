{
  "nbformat": 4,
  "nbformat_minor": 0,
  "metadata": {
    "colab": {
      "provenance": [],
      "collapsed_sections": []
    },
    "kernelspec": {
      "name": "python3",
      "display_name": "Python 3"
    },
    "language_info": {
      "name": "python"
    }
  },
  "cells": [
    {
      "cell_type": "markdown",
      "source": [
        "#***Programming_Assignment15***"
      ],
      "metadata": {
        "id": "3NGC9N5hmeK2"
      }
    },
    {
      "cell_type": "markdown",
      "source": [
        "Q1. Please write a program using generator to print the numbers which can be divisible by 5 and\n",
        "7 between 0 and n in comma separated form while n is input by console.<br>Example:<br>\n",
        "If the following n is given as input to the program:<BR><BR>\n",
        "100<BR><BR>\n",
        "Then, the output of the program should be:\n",
        "<BR><BR>0,35,70"
      ],
      "metadata": {
        "id": "X3EKIVAFWU0Y"
      }
    },
    {
      "cell_type": "code",
      "source": [
        "class generator :\n",
        "\n",
        "    def __init__(self,n) :\n",
        "        self.n = n\n",
        "\n",
        "    def isDivisible(self,num) :\n",
        "        \n",
        "        if num % 7 == 0 and num % 5 == 0 :\n",
        "            return True \n",
        "        return False \n",
        "\n",
        "    def iterator(self) :\n",
        "        for i in range(self.n+1) :\n",
        "            if self.isDivisible(i) :\n",
        "                yield i\n",
        "\n",
        "n = int(input('Give your number : '))\n",
        "obj = generator(n)\n",
        "generate = [f'{i}' for i in obj.iterator()]\n",
        "print('\\nNumbers Divisible by both 5 and 7 upto {n} : ', ','.join(generate))"
      ],
      "metadata": {
        "colab": {
          "base_uri": "https://localhost:8080/"
        },
        "id": "MuL0f-txWX7j",
        "outputId": "5f8c34db-a396-441a-872f-f7831a9ed923"
      },
      "execution_count": null,
      "outputs": [
        {
          "output_type": "stream",
          "name": "stdout",
          "text": [
            "Give your number : 1005\n",
            "\n",
            "Numbers Divisible by both 5 and 7 upto {n} :  0,35,70,105,140,175,210,245,280,315,350,385,420,455,490,525,560,595,630,665,700,735,770,805,840,875,910,945,980\n"
          ]
        }
      ]
    },
    {
      "cell_type": "markdown",
      "source": [
        "Q2. Please write a program using generator to print the even numbers between 0 and n in comma\n",
        "separated form while n is input by console.<BR>\n",
        "Example:<BR>\n",
        "If the following n is given as input to the program:\n",
        "<BR><BR>10<BR><BR>\n",
        "Then, the output of the program should be:\n",
        "<BR><BR>0,2,4,6,8,10"
      ],
      "metadata": {
        "id": "Y86Ju1_Fdb5o"
      }
    },
    {
      "cell_type": "code",
      "source": [
        "class generator :\n",
        "\n",
        "    def __init__(self,n) :\n",
        "        self.n = n\n",
        "\n",
        "    def isEven(self,num) :\n",
        "        \n",
        "        if num % 2 == 0 :\n",
        "            return True \n",
        "        return False \n",
        "\n",
        "    def iterator(self) :\n",
        "        for i in range(self.n+1) :\n",
        "            if self.isEven(i) :\n",
        "                yield i\n",
        "\n",
        "n = int(input('Give your number : '))\n",
        "obj = generator(n)\n",
        "generate = [f'{i}' for i in obj.iterator()]\n",
        "print('\\nEven numbers upto {n} : ', ','.join(generate))"
      ],
      "metadata": {
        "colab": {
          "base_uri": "https://localhost:8080/"
        },
        "id": "93bk-rjBdzVt",
        "outputId": "72dcadfa-87db-4c5b-9651-b4350d91b850"
      },
      "execution_count": null,
      "outputs": [
        {
          "output_type": "stream",
          "name": "stdout",
          "text": [
            "Give your number : 10\n",
            "\n",
            "Even numbers upto {n} :  0,2,4,6,8,10\n"
          ]
        }
      ]
    },
    {
      "cell_type": "markdown",
      "source": [
        "Q3. The Fibonacci Sequence is computed based on the following formula:<BR><BR>\n",
        "f(n)=0 if n=0<BR>\n",
        "f(n)=1 if n=1<BR>\n",
        "f(n)=f(n-1)+f(n-2) if n&gt;1<BR><BR>\n",
        "Please write a program using list comprehension to print the Fibonacci Sequence in comma\n",
        "separated form with a given n input by console.\n",
        "<BR><BR>Example:<BR>\n",
        "If the following n is given as input to the program:\n",
        "<BR><BR>7<BR><BR>\n",
        "\n",
        "Then, the output of the program should be:\n",
        "<BR><Br>0,1,1,2,3,5,8,13"
      ],
      "metadata": {
        "id": "Jc-HIOdMeXHK"
      }
    },
    {
      "cell_type": "code",
      "source": [
        "class generator :\n",
        "\n",
        "    def __init__(self,n) :\n",
        "        self.n = n\n",
        "\n",
        "    def fibonacci(self) :\n",
        "        x,y = 0,1\n",
        "        for i in range (self.n+1) :\n",
        "            yield x\n",
        "            x,y=y,x+y\n",
        "\n",
        "n = int(input('Give your number : '))\n",
        "obj = generator(n)\n",
        "generate = [f'{i}' for i in obj.fibonacci()]\n",
        "print(f'\\nFirst {n+1} fibonacci sequence : ', ','.join(generate))"
      ],
      "metadata": {
        "id": "xesdBsrmfKFz",
        "colab": {
          "base_uri": "https://localhost:8080/"
        },
        "outputId": "da23d57f-6457-4830-870f-410f83c8cc39"
      },
      "execution_count": 8,
      "outputs": [
        {
          "output_type": "stream",
          "name": "stdout",
          "text": [
            "Give your number : 7\n",
            "\n",
            "First 8 fibonacci sequence :  0,1,1,2,3,5,8,13\n"
          ]
        }
      ]
    },
    {
      "cell_type": "markdown",
      "source": [
        "Q4. Assuming that we have some email addresses in the &quot;username@companyname.com&quot; format,\n",
        "please write program to print the user name of a given email address. Both user names and\n",
        "company names are composed of letters only.<BR><BR>\n",
        "Example:<BR>\n",
        "If the following email address is given as input to the program:\n",
        "<BR><BR>john@google.com\n",
        "Then, the output of the program should be:\n",
        "<BR><BR>john"
      ],
      "metadata": {
        "id": "u18RrFRWnqca"
      }
    },
    {
      "cell_type": "code",
      "source": [
        "def user(str1) :\n",
        "    user = str1.split('@')\n",
        "    return user[0]\n",
        "\n",
        "Email = input(\"Give Email Address : \")\n",
        "print(f'\\nUser name : {user(Email)}')"
      ],
      "metadata": {
        "colab": {
          "base_uri": "https://localhost:8080/"
        },
        "id": "PuK_2UeRoFF_",
        "outputId": "a9a3cb6c-7d26-4431-ac89-5b2f839d7b89"
      },
      "execution_count": 12,
      "outputs": [
        {
          "output_type": "stream",
          "name": "stdout",
          "text": [
            "Give Email Address : john@google.com\n",
            "\n",
            "User name : john\n"
          ]
        }
      ]
    },
    {
      "cell_type": "markdown",
      "source": [
        "Q5. Define a class named Shape and its subclass Square. The Square class has an init function\n",
        "which takes a length as argument. Both classes have a area function which can print the area\n",
        "of the shape where Shape&#39;s area is 0 by default."
      ],
      "metadata": {
        "id": "QL6Z3nfKpRKO"
      }
    },
    {
      "cell_type": "code",
      "source": [
        "class Shape :\n",
        "\n",
        "    def area(self) : \n",
        "        print('Area Default  : ',end='')\n",
        "        return 0\n",
        "\n",
        "class Square(Shape) :\n",
        "    \n",
        "    def __init__(self,length) :\n",
        "        self.length = length \n",
        "\n",
        "    def area(self) :\n",
        "        print('\\nArea of Square : ',self.length*self.length)\n",
        "\n",
        "l=int(input('Length = '))\n",
        "obj1=Shape()\n",
        "obj2=Square(l)\n",
        "obj2.area()\n",
        "obj1.area()"
      ],
      "metadata": {
        "colab": {
          "base_uri": "https://localhost:8080/"
        },
        "id": "QW1vlboMpYd8",
        "outputId": "93398778-646f-48e7-992d-8427dcdcdc78"
      },
      "execution_count": 31,
      "outputs": [
        {
          "output_type": "stream",
          "name": "stdout",
          "text": [
            "Length = 11\n",
            "\n",
            "Area of Square :  121\n",
            "Area Default  : "
          ]
        },
        {
          "output_type": "execute_result",
          "data": {
            "text/plain": [
              "0"
            ]
          },
          "metadata": {},
          "execution_count": 31
        }
      ]
    }
  ]
}