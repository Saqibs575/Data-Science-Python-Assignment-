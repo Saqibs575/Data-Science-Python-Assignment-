{
  "nbformat": 4,
  "nbformat_minor": 0,
  "metadata": {
    "colab": {
      "provenance": []
    },
    "kernelspec": {
      "name": "python3",
      "display_name": "Python 3"
    },
    "language_info": {
      "name": "python"
    }
  },
  "cells": [
    {
      "cell_type": "code",
      "execution_count": null,
      "metadata": {
        "id": "rscl9UGqsXGZ"
      },
      "outputs": [],
      "source": []
    },
    {
      "cell_type": "markdown",
      "source": [
        "#***Pyhton_Adavnced_Assignment_11***"
      ],
      "metadata": {
        "id": "GpqcFMUHsm-b"
      }
    },
    {
      "cell_type": "markdown",
      "source": [
        "Q1. What is the concept of a metaclass?\n",
        "\n",
        "**ANS :**\n",
        "\n",
        "Metaclass in Python is a class of a class that defines how a class behaves. A class is itself a instance of Metaclass, and any Instance of Class in Python is an Instance of type metaclass. E.g. Type of of int, str, float, list, tuple and many more is of metaclass type.\n",
        "\n"
      ],
      "metadata": {
        "id": "idpm2jiPsyDQ"
      }
    },
    {
      "cell_type": "markdown",
      "source": [
        "Q2. Q2. What is the best way to declare a class&#39;s metaclass?\n",
        "\n",
        "** ANS :**\n",
        "\n",
        " A way to declare a class’ metaclass is by using metaclass keyword in class definition.\n"
      ],
      "metadata": {
        "id": "v5b8SH-NtHwk"
      }
    },
    {
      "cell_type": "markdown",
      "source": [
        "Q3. How do class decorators overlap with metaclasses for handling classes?\n",
        "\n",
        "**ANS :**\n",
        "\n",
        "Anything we can do with a class decorator, we can of course do with a custom metaclasses. Just apply the functionality of the \"decorator function\", i.e., the one that takes a class object and modifies it, in the course of the metaclass's ```__new__``` or ```__init__``` that make the class object."
      ],
      "metadata": {
        "id": "fKK3kUSjtraR"
      }
    },
    {
      "cell_type": "markdown",
      "source": [
        "Q4. How do class decorators overlap with metaclasses for handling instances?\n",
        "\n",
        "**ANS :** \n",
        "\n",
        "Anything we can do with a class decorator, we can of course do with a custom metaclasses. Just apply the functionality of the \"decorator function\", i.e., the one that takes a class object and modifies it, in the course of the metaclass's ```__new__``` or ```__init__``` that make the class object."
      ],
      "metadata": {
        "id": "YlSs-o4xuz_s"
      }
    },
    {
      "cell_type": "code",
      "source": [],
      "metadata": {
        "id": "MggJod4mu4w-"
      },
      "execution_count": null,
      "outputs": []
    }
  ]
}