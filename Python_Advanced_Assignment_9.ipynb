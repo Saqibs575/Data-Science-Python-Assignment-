{
  "nbformat": 4,
  "nbformat_minor": 0,
  "metadata": {
    "colab": {
      "provenance": []
    },
    "kernelspec": {
      "name": "python3",
      "display_name": "Python 3"
    },
    "language_info": {
      "name": "python"
    }
  },
  "cells": [
    {
      "cell_type": "code",
      "execution_count": null,
      "metadata": {
        "id": "DOIdzGhnN9ev"
      },
      "outputs": [],
      "source": []
    },
    {
      "cell_type": "markdown",
      "source": [
        "#***Python_Advance_Assignment_9***"
      ],
      "metadata": {
        "id": "L8Id2UA5N_CB"
      }
    },
    {
      "cell_type": "markdown",
      "source": [
        "Q1. In Python 3.X, what are the names and functions of string object types?<BR>**ANS :**<BR>functions and neme of the string objects are as follows ;"
      ],
      "metadata": {
        "id": "orBuUT03OG9M"
      }
    },
    {
      "cell_type": "code",
      "source": [
        "j = 0\n",
        "for i in dir(str()) :\n",
        "    j += 1\n",
        "    print(i.center(25) , end = ' ')\n",
        "    if j%9 == 0 :\n",
        "        print('\\n')"
      ],
      "metadata": {
        "colab": {
          "base_uri": "https://localhost:8080/"
        },
        "id": "eJ191ZsgOmiT",
        "outputId": "46b4bab5-e34b-4872-9beb-1fd5c60c8658"
      },
      "execution_count": 13,
      "outputs": [
        {
          "output_type": "stream",
          "name": "stdout",
          "text": [
            "         __add__                  __class__                __contains__              __delattr__                 __dir__                   __doc__                    __eq__                  __format__                  __ge__          \n",
            "\n",
            "     __getattribute__            __getitem__              __getnewargs__                __gt__                   __hash__                  __init__             __init_subclass__              __iter__                   __le__          \n",
            "\n",
            "         __len__                    __lt__                   __mod__                   __mul__                    __ne__                   __new__                  __reduce__              __reduce_ex__                __repr__         \n",
            "\n",
            "         __rmod__                  __rmul__                __setattr__                __sizeof__                 __str__               __subclasshook__             capitalize                 casefold                   center          \n",
            "\n",
            "          count                     encode                   endswith                 expandtabs                   find                     format                  format_map                  index                    isalnum          \n",
            "\n",
            "         isalpha                   isascii                  isdecimal                  isdigit                 isidentifier                islower                  isnumeric                isprintable                 isspace          \n",
            "\n",
            "         istitle                   isupper                     join                     ljust                     lower                     lstrip                  maketrans                 partition                  replace          \n",
            "\n",
            "          rfind                     rindex                    rjust                   rpartition                  rsplit                    rstrip                    split                   splitlines                startswith        \n",
            "\n",
            "          strip                    swapcase                   title                   translate                   upper                     zfill           "
          ]
        }
      ]
    },
    {
      "cell_type": "code",
      "source": [],
      "metadata": {
        "id": "x69OwHnnOpSK"
      },
      "execution_count": null,
      "outputs": []
    },
    {
      "cell_type": "markdown",
      "source": [
        "Q2. How do the string forms in Python 3.X vary in terms of operations?<BR>**ANS :**<BR>We can perofrom string operations in python using three i.e using f-string , using % operator and using format() method.<BR>\n",
        "If we want perofrm the operation in the string or want to access variable by its name then we can write f befor starting the string in single , double or triple quotes and variable should be written in curly braces.<BR>We can access the varibale in string by specifying the type of the variable using % operator.<br>And finally we can perform the same operation as in f-string by using format() method."
      ],
      "metadata": {
        "id": "3OicWIzdQt9L"
      }
    },
    {
      "cell_type": "markdown",
      "source": [
        "Q3. In 3.X, how do you put non-ASCII Unicode characters in a string?<BR>**ANS :**<BR> In Python 3.x unidecode() method from unidecode library can be used to put non-ASCII Unicode Characters in a string.\n",
        "In order to use non-ASCII characters, Python requires explicit encoding and decoding of strings into Unicode."
      ],
      "metadata": {
        "id": "CTQrHmEZSoTj"
      }
    },
    {
      "cell_type": "markdown",
      "source": [
        "Q4. In Python 3.X, what are the key differences between text-mode and binary-mode files?<BR>**ANS :**<BR>The major difference between these two is that a text file contains textual information in the form of alphabets, digits and special characters or symbols. On the other hand, a binary file contains bytes or a compiled version of a text file.\n",
        "\n",
        "When a file is opened in text mode, reading its data automatically decodes its content (as per the platform default or as per provided encoding), and returns it as a str; writing operation takes a str, and automatically encodes it before transferring to the file. Text mode files also support universal end-of-line translation, and encoding specification arguments.\n",
        "\n",
        "When a file is opened in binary mode by adding a b to the mode string argument in the open() call, reading its data does not decode it in any way, and simply returns its content raw and unchanged, as a bytes object; writing takes a bytes object and transfers it to the file unchanged. Binary-mode files also accept a bytearray object for the content to be written to the file."
      ],
      "metadata": {
        "id": "8ESMUz8_Tb-f"
      }
    },
    {
      "cell_type": "markdown",
      "source": [
        "Q5. How can you interpret a Unicode text file containing text encoded in a different encoding than\n",
        "your platform&#39;s default?<BR>**ANS :**<BR>Use of ```encode()``` and ```decode()``` method can be used to you interpret a Unicode text file containing text encoded in a different encoding than your platform's default, by default encoding parameter is UTF-8"
      ],
      "metadata": {
        "id": "BUjYc0X9ZMkf"
      }
    },
    {
      "cell_type": "markdown",
      "source": [
        "Q6. What is the best way to make a Unicode text file in a particular encoding format?<BR>**ANS :**<BR>Use ```str.encode()``` and ```file.write()``` to make a Unicode text file in a particular encoding format, default encoding format is UTF-18."
      ],
      "metadata": {
        "id": "AIGXAnIDZtNv"
      }
    },
    {
      "cell_type": "markdown",
      "source": [
        "Q7. What qualifies ASCII text as a form of Unicode text?<BR>**ANS :**<BR>Unicode represents most written languages in the world. ASCII has its equivalent in Unicode. The difference between ASCII and Unicode is that ASCII represents lowercase letters (a-z), uppercase letters (A-Z), digits (0–9) and symbols such as punctuation marks while Unicode represents letters of English, Arabic, Greek etc. mathematical symbols, historical scripts, emoji covering a wide range of characters than ASCII."
      ],
      "metadata": {
        "id": "MNaEGYshaEF2"
      }
    },
    {
      "cell_type": "markdown",
      "source": [
        "Q8. How much of an effect does the change in string types in Python 3.X have on your code?<BR>**ANS :**<BR> Python 3 stores strings as Unicode by default whereas Python 2 requires you to mark a string with a u if you want to store it as Unicode. Unicode strings are more versatile than ASCII strings, which are the Python 3.X default, as they can store letters from foreign languages as well as emoji and the standard Roman letters and numerals."
      ],
      "metadata": {
        "id": "j0OWEldfaVwL"
      }
    }
  ]
}