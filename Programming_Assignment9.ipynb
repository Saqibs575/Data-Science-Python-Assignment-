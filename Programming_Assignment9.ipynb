{
  "nbformat": 4,
  "nbformat_minor": 0,
  "metadata": {
    "colab": {
      "provenance": [],
      "collapsed_sections": []
    },
    "kernelspec": {
      "name": "python3",
      "display_name": "Python 3"
    },
    "language_info": {
      "name": "python"
    }
  },
  "cells": [
    {
      "cell_type": "markdown",
      "source": [
        "#***Programming_Assignment9***"
      ],
      "metadata": {
        "id": "TUvDMU2Omv6Q"
      }
    },
    {
      "cell_type": "markdown",
      "source": [
        "Q1. Write a Python program to check if the given number is a Disarium Number?"
      ],
      "metadata": {
        "id": "abLSBAhkm3kS"
      }
    },
    {
      "cell_type": "code",
      "execution_count": null,
      "metadata": {
        "id": "r0eTTwQcmPyN",
        "colab": {
          "base_uri": "https://localhost:8080/"
        },
        "outputId": "bcfa6865-6816-4a3f-f440-134659aedb84"
      },
      "outputs": [
        {
          "output_type": "stream",
          "name": "stdout",
          "text": [
            "Give your number : 89\n",
            "89\n",
            "89 is Disarium Number \n"
          ]
        }
      ],
      "source": [
        "def isDisarium(n) :\n",
        "    l = [eval(i) for i in list(str(n))]\n",
        "    sum  = 0\n",
        "\n",
        "    for i in range(len(l)) :\n",
        "        sum += l[i]**(i+1) \n",
        "\n",
        "    if sum == n :\n",
        "        return True\n",
        "    return False\n",
        "\n",
        "n = int(input('Give your number : '))\n",
        "\n",
        "if isDisarium(n) :\n",
        "    print (f'{n} is Disarium Number ')\n",
        "else :\n",
        "    print(f'{n} is NOT Disarium Number ')"
      ]
    },
    {
      "cell_type": "markdown",
      "source": [
        "Q2. Write a Python program to print all disarium numbers between 1 to 100?"
      ],
      "metadata": {
        "id": "ILAcq7PHcn6t"
      }
    },
    {
      "cell_type": "code",
      "source": [
        "def isDisarium(n) :\n",
        "    l = [eval(i) for i in list(str(n))]\n",
        "    sum  = 0\n",
        "\n",
        "    for i in range(len(l)) :\n",
        "        sum += l[i]**(i+1)\n",
        "\n",
        "    if sum == n :\n",
        "        return True\n",
        "    return False\n",
        "\n",
        "n=int(input('Give your number : '))\n",
        "\n",
        "print(f'All Disarium Numbers upto {n} are : ',end = ' ')\n",
        "\n",
        "for i in range(n+1) :\n",
        "    if isDisarium(i):\n",
        "        print(i,end=' ')"
      ],
      "metadata": {
        "colab": {
          "base_uri": "https://localhost:8080/"
        },
        "id": "rnwtP3gaRs6p",
        "outputId": "f4df0bd5-d64e-40a0-9564-71a0f84c2668"
      },
      "execution_count": null,
      "outputs": [
        {
          "output_type": "stream",
          "name": "stdout",
          "text": [
            "Give your number : 100\n",
            "All Disarium Numbers upto 100 are :  0 1 2 3 4 5 6 7 8 9 89 "
          ]
        }
      ]
    },
    {
      "cell_type": "markdown",
      "source": [
        "Q3. Write a Python program to check if the given number is Happy Number?"
      ],
      "metadata": {
        "id": "Jx22tBzsdkY4"
      }
    },
    {
      "cell_type": "code",
      "source": [
        "def isHappy(n):\n",
        "    \n",
        "    def sumSquare(n) :\n",
        "        sum = 0\n",
        "        l = [eval(i) for i in list(str(n))]\n",
        "        \n",
        "        for i in l :\n",
        "            sum += i**2\n",
        "        return sum\n",
        "\n",
        "    while True :\n",
        "        if (n == 1 or n == 4) :\n",
        "            break\n",
        "        else :\n",
        "            n=sumSquare(n)\n",
        "    \n",
        "    if n == 1 :\n",
        "        return True \n",
        "    return False\n",
        "\n",
        "n = int(input()) \n",
        "if isHappy(n) :\n",
        "    print(f'{n} is Happy Number ')\n",
        "else :\n",
        "    print(f'{n} is NOT a Happy Number ')"
      ],
      "metadata": {
        "colab": {
          "base_uri": "https://localhost:8080/"
        },
        "id": "qflgQJRTAK_R",
        "outputId": "741e0a6e-909d-4e0b-fd19-b44222936789"
      },
      "execution_count": null,
      "outputs": [
        {
          "output_type": "stream",
          "name": "stdout",
          "text": [
            "329\n",
            "329 is Happy Number \n"
          ]
        }
      ]
    },
    {
      "cell_type": "markdown",
      "source": [
        "Q4. Write a Python program to print all happy numbers between 1 and 100?"
      ],
      "metadata": {
        "id": "1vZ15bnNPbLR"
      }
    },
    {
      "cell_type": "code",
      "source": [
        "def isHappy(n):\n",
        "    \n",
        "    def sumSquare(n) :\n",
        "        sum = 0\n",
        "        l = [eval(i) for i in list(str(n))]\n",
        "        for i in l :\n",
        "            sum += i**2\n",
        "        return sum\n",
        "\n",
        "    while True :\n",
        "        if (n == 1 or n == 4) :\n",
        "            break\n",
        "        else :\n",
        "            n=sumSquare(n)\n",
        "    \n",
        "    if n == 1 :\n",
        "        return True \n",
        "    return False\n",
        "\n",
        "n = int(input('Give your input : '))\n",
        "\n",
        "print(f'Happy Numbers upto {n} are : ', end = '  ') \n",
        "\n",
        "for i in range(1,n+1) :\n",
        "    if isHappy(i) :\n",
        "        print(i, end = '  ')"
      ],
      "metadata": {
        "colab": {
          "base_uri": "https://localhost:8080/"
        },
        "outputId": "588a27b4-0d0c-4119-ce41-83625aed0f1d",
        "id": "7Gr_F_KSG4YE"
      },
      "execution_count": null,
      "outputs": [
        {
          "output_type": "stream",
          "name": "stdout",
          "text": [
            "Give your input : 100\n",
            "Happy Numbers upto 100 are :   1  7  10  13  19  23  28  31  32  44  49  68  70  79  82  86  91  94  97  100  "
          ]
        }
      ]
    },
    {
      "cell_type": "markdown",
      "source": [
        "5. Write a Python program to determine whether the given number is a Harshad Number?"
      ],
      "metadata": {
        "id": "6Z_NE6xLPqM0"
      }
    },
    {
      "cell_type": "code",
      "source": [
        "def isHarshad(n) :\n",
        "    sum = 0\n",
        "    l = [eval(i) for i in list(str(n))]\n",
        "\n",
        "    for i in l :\n",
        "        sum += i\n",
        "        \n",
        "    if n % sum == 0 :\n",
        "        return True\n",
        "    return False\n",
        "\n",
        "n=int(input('Give your number : '))\n",
        "\n",
        "if isHarshad(n) :\n",
        "    print(f'{n} is Harshad Number ')\n",
        "else :\n",
        "    print(f'{n} is NOT a Harshad Number ')"
      ],
      "metadata": {
        "colab": {
          "base_uri": "https://localhost:8080/"
        },
        "id": "Yd7Qp7rrPsCS",
        "outputId": "5948667a-58f3-44a3-b9b5-aaaaacce6b11"
      },
      "execution_count": null,
      "outputs": [
        {
          "output_type": "stream",
          "name": "stdout",
          "text": [
            "Give your number : 55\n",
            "55 is NOT a Harshad Number \n"
          ]
        }
      ]
    },
    {
      "cell_type": "markdown",
      "source": [
        "Q6. Write a Python program to print all pronic numbers between 1 and 100?"
      ],
      "metadata": {
        "id": "oCWeSGdzZeCO"
      }
    },
    {
      "cell_type": "code",
      "source": [
        "def isHarshad(n) :\n",
        "    sum = 0\n",
        "    l = [eval(i) for i in list(str(n))]\n",
        "\n",
        "    for i in l :\n",
        "        sum += i\n",
        "        \n",
        "    if n % sum == 0 :\n",
        "        return True\n",
        "    return False \n",
        "\n",
        "n = int(input('Give your input : '))\n",
        "\n",
        "print(f'Harshad Numbers upto {n} are : ', end = '  ') \n",
        "\n",
        "for i in range(1,n+1) :\n",
        "    if isHarshad(i) :\n",
        "        print(i, end = '  ')"
      ],
      "metadata": {
        "colab": {
          "base_uri": "https://localhost:8080/"
        },
        "id": "5rRJCb3JT8cG",
        "outputId": "a4ba695f-a9a2-4e6e-f200-8421bb307d47"
      },
      "execution_count": null,
      "outputs": [
        {
          "output_type": "stream",
          "name": "stdout",
          "text": [
            "Give your input : 100\n",
            "Harshad Numbers upto 100 are :   1  2  3  4  5  6  7  8  9  10  12  18  20  21  24  27  30  36  40  42  45  48  50  54  60  63  70  72  80  81  84  90  100  "
          ]
        }
      ]
    }
  ]
}