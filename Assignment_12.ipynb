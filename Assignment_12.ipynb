{
  "nbformat": 4,
  "nbformat_minor": 0,
  "metadata": {
    "colab": {
      "provenance": [],
      "collapsed_sections": []
    },
    "kernelspec": {
      "name": "python3",
      "display_name": "Python 3"
    },
    "language_info": {
      "name": "python"
    }
  },
  "cells": [
    {
      "cell_type": "markdown",
      "source": [
        "#***Assignment_12***"
      ],
      "metadata": {
        "id": "rMf9VV9Do1TA"
      }
    },
    {
      "cell_type": "markdown",
      "source": [
        "Q1. In what modes should the PdfFileReader() and PdfFileWriter() File objects will be opened?<BR>**ANS :** Read-binary ('rb') for PdfFileReader() and write-binary ('wb') for PdfFileWriter()"
      ],
      "metadata": {
        "id": "7ljcHL3Ho6Yh"
      }
    },
    {
      "cell_type": "markdown",
      "source": [
        "Q2.  From a PdfFileReader object, how do you get a Page object for page 5?<BR>**ANS :** Calling function getPage(4) (as page starts from 0)"
      ],
      "metadata": {
        "id": "4IGKZCIPpmh8"
      }
    },
    {
      "cell_type": "markdown",
      "source": [
        "Q3.  What PdfFileReader variable stores the number of pages in the PDF document?<BR>**ANS :** The numPages variable stores an integer of the number of pages in the PdfFileReader object."
      ],
      "metadata": {
        "id": "XKHrsSnl0XNQ"
      }
    },
    {
      "cell_type": "markdown",
      "source": [
        "Q4. If a PdfFileReader object’s PDF is encrypted with the password swordfish, what must you do\n",
        "before you can obtain Page objects from it?<BR>**ANS :** Call decrypt('swordfish')"
      ],
      "metadata": {
        "id": "G2WDHqOQ05fZ"
      }
    },
    {
      "cell_type": "markdown",
      "source": [
        "Q5. What methods do you use to rotate a page?<BR>**ANS :** roateClockwise() or rotateCounterClockwise(). Where in parameter we can pass degree by which we want to rotate the page."
      ],
      "metadata": {
        "id": "ioTqxFQf1LQa"
      }
    },
    {
      "cell_type": "markdown",
      "source": [
        "Q6. What is the difference between a Run object and a Paragraph object?<BR>**ANS :**Document contains multiple paragraphs.  A paragraph begins on a new line and contains multiple runs. Runs are contiguous groups of characters within the a paragraph."
      ],
      "metadata": {
        "id": "BLP1s9l8237P"
      }
    },
    {
      "cell_type": "markdown",
      "source": [
        "Q7. How do you obtain a list of Paragraph objects for a Document object that’s stored in a variable\n",
        "named doc?<BR>**ANS :** doc.paragraphs"
      ],
      "metadata": {
        "id": "sHtIxDla4wMm"
      }
    },
    {
      "cell_type": "markdown",
      "source": [
        "Q8. What type of object has bold, underline, italic, strike, and outline variables?<BR>**ANS :** Run object"
      ],
      "metadata": {
        "id": "pWBrlKiZ6zzM"
      }
    },
    {
      "cell_type": "markdown",
      "source": [
        "Q9. What is the difference between False, True, and None for the bold variable?<BR>**ANS :** True always makes the Run object bolded and False makes it always not bolded. None will make the Run object just use the style's bold setting."
      ],
      "metadata": {
        "id": "0ExwbmO28mJe"
      }
    },
    {
      "cell_type": "markdown",
      "source": [
        "\n",
        "Q10. How do you create a Document object for a new Word document?<BR>**ANS :** By caaling docx.Document() function."
      ],
      "metadata": {
        "id": "qAwpv4UY9KmJ"
      }
    },
    {
      "cell_type": "markdown",
      "source": [
        "Q11. How do you add a paragraph with the text &#39;Hello, there!&#39; to a Document object stored in a\n",
        "variable named doc?<BR>**ANS :** doc.add_paragraph('Hello there!')"
      ],
      "metadata": {
        "id": "iPirqkzv9h1j"
      }
    },
    {
      "cell_type": "markdown",
      "source": [
        "Q12. What integers represent the levels of headings available in Word documents?<BR>**ANS :** The integers 0,1,2,3, and 4."
      ],
      "metadata": {
        "id": "PcHch0iQ-Utb"
      }
    }
  ]
}