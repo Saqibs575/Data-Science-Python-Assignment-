{
  "nbformat": 4,
  "nbformat_minor": 0,
  "metadata": {
    "colab": {
      "provenance": [],
      "collapsed_sections": []
    },
    "kernelspec": {
      "name": "python3",
      "display_name": "Python 3"
    },
    "language_info": {
      "name": "python"
    }
  },
  "cells": [
    {
      "cell_type": "markdown",
      "source": [
        "#***Assignment_5***"
      ],
      "metadata": {
        "id": "BIo9l-IK6DnF"
      }
    },
    {
      "cell_type": "markdown",
      "source": [
        "Q1. What does an empty dictionary&#39;s code look like?<br>**ANS :**<br>\n",
        "{ }"
      ],
      "metadata": {
        "id": "U_JvVjMN6Qty"
      }
    },
    {
      "cell_type": "code",
      "execution_count": null,
      "metadata": {
        "colab": {
          "base_uri": "https://localhost:8080/"
        },
        "id": "r5zgXWiW5wJ4",
        "outputId": "c1dff2a0-1ee1-4694-e5cf-04a6ff8d4add"
      },
      "outputs": [
        {
          "output_type": "execute_result",
          "data": {
            "text/plain": [
              "dict"
            ]
          },
          "metadata": {},
          "execution_count": 2
        }
      ],
      "source": [
        "type({})"
      ]
    },
    {
      "cell_type": "markdown",
      "source": [
        "Q2. What is the value of a dictionary value with the key &#39;foo&#39; and the value 42?<br>**ANS :**<br>{'foo':42}"
      ],
      "metadata": {
        "id": "WgTJVLvL6kta"
      }
    },
    {
      "cell_type": "markdown",
      "source": [
        "Q3. What is the most significant distinction between a dictionary and a list?<br>**ANS :**<br>\n",
        "List is indexed while Dictionary in unindexed."
      ],
      "metadata": {
        "id": "nkvsGRMz7baV"
      }
    },
    {
      "cell_type": "markdown",
      "source": [
        "Q4. What happens if you try to access spam[&#39;foo&#39;] if spam is {&#39;bar&#39;: 100}?<br>**ANS :**<br>\n",
        "KeyError"
      ],
      "metadata": {
        "id": "_f21iJbK79O0"
      }
    },
    {
      "cell_type": "code",
      "source": [
        "spam={'bar':100}\n",
        "spam['foo']"
      ],
      "metadata": {
        "colab": {
          "base_uri": "https://localhost:8080/",
          "height": 189
        },
        "id": "4hs7THGj8KFe",
        "outputId": "f6caaab2-0b1c-4468-92fd-8769f841e080"
      },
      "execution_count": null,
      "outputs": [
        {
          "output_type": "error",
          "ename": "KeyError",
          "evalue": "ignored",
          "traceback": [
            "\u001b[0;31m---------------------------------------------------------------------------\u001b[0m",
            "\u001b[0;31mKeyError\u001b[0m                                  Traceback (most recent call last)",
            "\u001b[0;32m<ipython-input-4-3fa7eee1403a>\u001b[0m in \u001b[0;36m<module>\u001b[0;34m\u001b[0m\n\u001b[1;32m      1\u001b[0m \u001b[0mspam\u001b[0m\u001b[0;34m=\u001b[0m\u001b[0;34m{\u001b[0m\u001b[0;34m'bar'\u001b[0m\u001b[0;34m:\u001b[0m\u001b[0;36m100\u001b[0m\u001b[0;34m}\u001b[0m\u001b[0;34m\u001b[0m\u001b[0;34m\u001b[0m\u001b[0m\n\u001b[0;32m----> 2\u001b[0;31m \u001b[0mspam\u001b[0m\u001b[0;34m[\u001b[0m\u001b[0;34m'foo'\u001b[0m\u001b[0;34m]\u001b[0m\u001b[0;34m\u001b[0m\u001b[0;34m\u001b[0m\u001b[0m\n\u001b[0m",
            "\u001b[0;31mKeyError\u001b[0m: 'foo'"
          ]
        }
      ]
    },
    {
      "cell_type": "markdown",
      "source": [
        "Q5. If a dictionary is stored in spam, what is the difference between the expressions &#39;cat&#39; in spam and\n",
        "&#39;cat&#39; in spam.keys()?<br>**ANS :**<br>\n",
        "No difference"
      ],
      "metadata": {
        "id": "nmSM6Qhq85VN"
      }
    },
    {
      "cell_type": "code",
      "source": [
        "spam={'bar':100,'foo':200,'cat':300}\n",
        "print('cat' in spam)\n",
        "print('cat' in spam.keys())"
      ],
      "metadata": {
        "colab": {
          "base_uri": "https://localhost:8080/"
        },
        "id": "mkRLe1QK9W-L",
        "outputId": "69792b1e-e788-4ff7-afaf-a026f5692869"
      },
      "execution_count": null,
      "outputs": [
        {
          "output_type": "stream",
          "name": "stdout",
          "text": [
            "True\n",
            "True\n"
          ]
        }
      ]
    },
    {
      "cell_type": "markdown",
      "source": [
        "Q6. If a dictionary is stored in spam, what is the difference between the expressions &#39;cat&#39; in spam and\n",
        "&#39;cat&#39; in spam.values()?<br>**ANS :**<br>\n",
        "'cat' in spam checks whether 'cat' is one of the key of spam or not. But 'cat' in spam.values() checks whether 'cat' is one of the value or not."
      ],
      "metadata": {
        "id": "bPpdlqlD-AJG"
      }
    },
    {
      "cell_type": "markdown",
      "source": [
        "Q7. What is a shortcut for the following code?<br>\n",
        "if &#39;color&#39; not in spam:<br> \n",
        "spam[&#39;color&#39;] = &#39;black&#39;<br>**ANS :**<br>\n",
        "spam.setdefault('color','black')"
      ],
      "metadata": {
        "id": "dZVjBJtR_UUl"
      }
    },
    {
      "cell_type": "markdown",
      "source": [
        "Q8. How do you &quot;pretty print&quot; dictionary values using which module and function?<br>**ANS :**<br>\n",
        "pprint.pprint()"
      ],
      "metadata": {
        "id": "0oZVvvNS_7x4"
      }
    }
  ]
}