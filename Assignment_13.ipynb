{
  "nbformat": 4,
  "nbformat_minor": 0,
  "metadata": {
    "colab": {
      "provenance": [],
      "collapsed_sections": []
    },
    "kernelspec": {
      "name": "python3",
      "display_name": "Python 3"
    },
    "language_info": {
      "name": "python"
    }
  },
  "cells": [
    {
      "cell_type": "markdown",
      "source": [
        "#***Assignment_13***"
      ],
      "metadata": {
        "id": "aF-Ttzpy_FRW"
      }
    },
    {
      "cell_type": "markdown",
      "source": [
        "Q1. What advantages do Excel spreadsheets have over CSV spreadsheets?<BR>**ANS :** In Excel <BR>\n",
        "spreadsheets can have values of data types other than strings<BR>\n",
        "Cells can have different fonts, sizes, or color settings <BR>\n",
        "Cells can have varying widths and heights<BR>Adjacent cells can be merged<BR> We can embed images and charts."
      ],
      "metadata": {
        "id": "1MxUjPsmgo1J"
      }
    },
    {
      "cell_type": "markdown",
      "source": [
        "Q2.What do you pass to csv.reader() and csv.writer() to create reader and writer objects?<BR>\n",
        "**ANS :** We pass a File object"
      ],
      "metadata": {
        "id": "UDLqo-NWhjWv"
      }
    },
    {
      "cell_type": "markdown",
      "source": [
        "Q3. What modes do File objects for reader and writer objects need to be opened in?<BR>**ANS :**File objects need to be opened in read-binary ('rb') for Reader objects and write-binary ('wb') for Writer objects."
      ],
      "metadata": {
        "id": "G9ErEtdMh5DP"
      }
    },
    {
      "cell_type": "markdown",
      "source": [
        "Q4. What method takes a list argument and writes it to a CSV file?<BR>**ANS :** writerow() method"
      ],
      "metadata": {
        "id": "BM_l_R0XiUbJ"
      }
    },
    {
      "cell_type": "markdown",
      "source": [
        "Q5. What do the keyword arguments delimiter and line terminator do?<BR>**ANS :** The delimiter argument changes the string used to separate cells in a row. The lineterminator argument changes the string used to separate rows."
      ],
      "metadata": {
        "id": "N7mjYGgvin4l"
      }
    },
    {
      "cell_type": "markdown",
      "source": [
        "Q6. What function takes a string of JSON data and returns a Python data structure?<BR>**ANS :** json.loads()"
      ],
      "metadata": {
        "id": "8rk7n1QqjRSt"
      }
    },
    {
      "cell_type": "markdown",
      "source": [
        "Q7. What function takes a Python data structure and returns a string of JSON data?<BR>**ANS :** json.dumps()"
      ],
      "metadata": {
        "id": "fj1JskRWjiKu"
      }
    }
  ]
}