{
  "nbformat": 4,
  "nbformat_minor": 0,
  "metadata": {
    "colab": {
      "provenance": [],
      "collapsed_sections": []
    },
    "kernelspec": {
      "name": "python3",
      "display_name": "Python 3"
    },
    "language_info": {
      "name": "python"
    }
  },
  "cells": [
    {
      "cell_type": "markdown",
      "source": [
        "#***Assignment_24***"
      ],
      "metadata": {
        "id": "pV5Bhfwx_Npz"
      }
    },
    {
      "cell_type": "markdown",
      "source": [
        "Q1. What is the relationship between def statements and lambda expressions ?<BR>**ANS :** def satements functions and lambda expression both can be used to define by the user in the way that they wants. It can calculate the answer according to the defined expression. But in def statements we generally use return statement to get some return value otherwise it will return None. But in lambda function return statement not required. Also, both lamda and def can take multiple arguments where as lambda returns only one value whereas def can return multiple or None values."
      ],
      "metadata": {
        "id": "9pGL7ZbK_Snn"
      }
    },
    {
      "cell_type": "markdown",
      "source": [
        "Q2. What is the benefit of lambda?<BR>**ANS :** It is single lined expression, so increases readablity. It is easy to understand. More efficient. Not required return statement. Consized ans compact"
      ],
      "metadata": {
        "id": "Dhe7yZ1cFBmA"
      }
    },
    {
      "cell_type": "markdown",
      "source": [
        "Q3. Compare and contrast map, filter, and reduce.<BR>**ANS :** The map() function iterates through all items in the given iterable and executes the function we passed as an argument on each of them. For example, if we have taken numeric input from the user in space separated format. As we know that python input function takes input in string format. So, we can map all space seperated numbers into int or float using map() function.The map() function returns the map_object type, which is an iterable.<BR>Similar to map(), filter() takes a function object and an iterable and creates a new list.<BR>\n",
        "\n",
        "As the name suggests, filter() forms a new list that contains only elements that satisfy a certain condition, i.e. the function we passed returns True.<BR>The syntax is:\n",
        "\n",
        "```filter(function, iterable(s))``` \n",
        "<BR>reduce() works differently than map() and filter(). It does not return a new list based on the function and iterable we've passed. Instead, it returns a single value.\n",
        "<BR><BR>\n",
        "Also, in Python 3 reduce() isn't a built-in function anymore, and it can be found in the functools module.\n",
        "<BR><BR>\n",
        "The syntax is:\n",
        "\n",
        "```reduce(function, sequence[, initial])```"
      ],
      "metadata": {
        "id": "hnM-qCfrF-fa"
      }
    },
    {
      "cell_type": "markdown",
      "source": [
        "Q4. What are function annotations, and how are they used?<BR>**ANS :** Function annotations are nothing more than a way of associating arbitrary Python expressions with various parts of a function at compile-time.<BR>These are nothing but some random and optional Python expressions that get allied to different parts of the function.<BR>They do not have any significance or meaning associated with them until accessed by some third-party libraries.<BR>"
      ],
      "metadata": {
        "id": "6Xn9_t06kUU9"
      }
    },
    {
      "cell_type": "markdown",
      "source": [
        "Q5. What are recursive functions, and how are they used?<BR>**ANS :** Recursive functions are the functions that calls itself until we get the required result using the condition assign to it. Recursive function can be used in various cases like to find gcd , factorial of a number ,fibonacci sequence, sum of first n natural numbers,.. etc. "
      ],
      "metadata": {
        "id": "Zk0NMBMjF-rh"
      }
    },
    {
      "cell_type": "markdown",
      "source": [
        "Q6. What are some general design guidelines for coding functions?<BR>**ANS :**  <BR>  Use 4 spaces instead of tabs.\n",
        "<BR>Maximum line length is 120 symbols.\n",
        "<BR>2 blank lines between classes and functions.\n",
        "<BR>1 blank line within class between class methods.\n",
        "<BR>No blank line following a def line.\n",
        "<BR>No whitespace inside parentheses, brackets, or braces"
      ],
      "metadata": {
        "id": "iTqhXWyWeWgx"
      }
    },
    {
      "cell_type": "markdown",
      "source": [
        "7. Name three or more ways that functions can communicate results to a caller.<BR>**ANS :** Function may return a value after it's call. <BR> It may take an arguments and give the desired result.<BR> It can return zero or more values as a result of a function."
      ],
      "metadata": {
        "id": "0JTE53ffgDaa"
      }
    }
  ]
}