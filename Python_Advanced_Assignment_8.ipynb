{
  "nbformat": 4,
  "nbformat_minor": 0,
  "metadata": {
    "colab": {
      "provenance": []
    },
    "kernelspec": {
      "name": "python3",
      "display_name": "Python 3"
    },
    "language_info": {
      "name": "python"
    }
  },
  "cells": [
    {
      "cell_type": "code",
      "execution_count": null,
      "metadata": {
        "id": "MRew23L6I6yo"
      },
      "outputs": [],
      "source": []
    },
    {
      "cell_type": "markdown",
      "source": [
        "#***Python_Advanced_Assignment_8***"
      ],
      "metadata": {
        "id": "d3h11L4MJJRA"
      }
    },
    {
      "cell_type": "markdown",
      "source": [
        "Q1. What are the two latest user-defined exception constraints in Python 3.X?<BR>**ANS :**<BR>Two latest user-defined exception in python are ;<BR>1. raise <BR>2. assert"
      ],
      "metadata": {
        "id": "nUA0A326JRwq"
      }
    },
    {
      "cell_type": "markdown",
      "source": [
        "Q2. How are class-based exceptions that have been raised matched to handlers?<BR>**ANS :**<BR>A user-defined exception handling process needs to have a user-defined class representing the exception to be created. This user-defined exception class needs to be inherited from the exception class either directly or indirectly. So based on the inherited class this formulates into a user based exception."
      ],
      "metadata": {
        "id": "Hpy4Lj4IJq2X"
      }
    },
    {
      "cell_type": "markdown",
      "source": [
        "Q3. Describe two methods for attaching context information to exception artefacts.<BR>**ANS :**<BR>\n",
        "The process() method of LoggerAdapter is where the contextual information is added to the logging output. It passes the message and keyword arguments of the logging call, and it passes back modified versions of these to use in the call to the underlying logger.\n",
        "\n",
        "Other method that can be used is exception(), Logs a messgae with level ERROR on this logger. The arguments are interpreted as for debug(). Exception info is added to the logging message."
      ],
      "metadata": {
        "id": "0QUyF0NaKYfg"
      }
    },
    {
      "cell_type": "markdown",
      "source": [
        "Q4. Describe two methods for specifying the text of an exception object&#39;s error message.<BR>**ANS :**<BR>```raise``` and ```assert``` are two methods for specifying the text of an exception object's error message.<BR>```raise``` statement is used to trigger explicit exception, if certain condition is not as per requirement of programmer. it helps in triggering exception as per need of programmer and logic.\n",
        "\n",
        "There are few assertions that programmer always want to be True to avoid code failure. This type of requirment is fullfilled by ```assert``` statement. This statement takes a Boolean Condition output of which if True, further program executes. if output of ```assert``` statement is False it raises an Assertion Error."
      ],
      "metadata": {
        "id": "C8wUuDZFK5PE"
      }
    },
    {
      "cell_type": "markdown",
      "source": [
        "Q5. Why do you no longer use string-based exceptions?<BR>**ANS :**<BR>String-based Exceptions doesn't inherit from Exceptions. so plain exceptions catch all exceptions and not only system.c "
      ],
      "metadata": {
        "id": "5JewrYrNLqF2"
      }
    }
  ]
}