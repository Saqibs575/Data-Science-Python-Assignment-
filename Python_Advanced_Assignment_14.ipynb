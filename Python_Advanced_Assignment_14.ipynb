{
  "nbformat": 4,
  "nbformat_minor": 0,
  "metadata": {
    "colab": {
      "provenance": []
    },
    "kernelspec": {
      "name": "python3",
      "display_name": "Python 3"
    },
    "language_info": {
      "name": "python"
    }
  },
  "cells": [
    {
      "cell_type": "code",
      "execution_count": null,
      "metadata": {
        "id": "UYuFdSKgC1NK"
      },
      "outputs": [],
      "source": []
    },
    {
      "cell_type": "markdown",
      "source": [
        "#***Python_Advanced_Assignment_14***"
      ],
      "metadata": {
        "id": "QhMsVz6VC5kQ"
      }
    },
    {
      "cell_type": "markdown",
      "source": [
        "Q1. Is an assignment operator like += only for show? Is it possible that it would lead to faster results\n",
        "at the runtime?\n",
        "\n",
        "**ANS :**\n",
        "\n",
        "No,  it is not for show only it also consumes less memory and time efficient."
      ],
      "metadata": {
        "id": "AnrSQKp2C6EX"
      }
    },
    {
      "cell_type": "markdown",
      "source": [
        "Q2. What is the smallest number of statements you&#39;d have to write in most programming languages to\n",
        "replace the Python expression a, b = a + b, a?\n",
        "\n",
        "**ANS :**\n",
        "\n",
        "Minimum number of lines required to write above code in languages other Python will be 4, two for assigning initial values for variables a and b, and two for reassignment i.e. a=a+b and b=a."
      ],
      "metadata": {
        "id": "SrrnR9rfDeQF"
      }
    },
    {
      "cell_type": "markdown",
      "source": [
        "Q3. In Python, what is the most effective way to set a list of 100 integers to 0?\n",
        "\n",
        "**ANS :**\n",
        "\n",
        "List comprension ;"
      ],
      "metadata": {
        "id": "ULfenmPKEmDq"
      }
    },
    {
      "cell_type": "code",
      "source": [
        "l = [i for i in range(100 , 200)]\n",
        "l1 = [i*0 for i in l]\n"
      ],
      "metadata": {
        "id": "r5e5qEf2Dh34"
      },
      "execution_count": 9,
      "outputs": []
    },
    {
      "cell_type": "code",
      "source": [
        "print(l)\n",
        "print(l1)"
      ],
      "metadata": {
        "colab": {
          "base_uri": "https://localhost:8080/"
        },
        "id": "yulMxAfLFYMp",
        "outputId": "7e5b6009-324a-4fc6-bdca-ad93002e55d1"
      },
      "execution_count": 10,
      "outputs": [
        {
          "output_type": "stream",
          "name": "stdout",
          "text": [
            "[100, 101, 102, 103, 104, 105, 106, 107, 108, 109, 110, 111, 112, 113, 114, 115, 116, 117, 118, 119, 120, 121, 122, 123, 124, 125, 126, 127, 128, 129, 130, 131, 132, 133, 134, 135, 136, 137, 138, 139, 140, 141, 142, 143, 144, 145, 146, 147, 148, 149, 150, 151, 152, 153, 154, 155, 156, 157, 158, 159, 160, 161, 162, 163, 164, 165, 166, 167, 168, 169, 170, 171, 172, 173, 174, 175, 176, 177, 178, 179, 180, 181, 182, 183, 184, 185, 186, 187, 188, 189, 190, 191, 192, 193, 194, 195, 196, 197, 198, 199]\n",
            "[0, 0, 0, 0, 0, 0, 0, 0, 0, 0, 0, 0, 0, 0, 0, 0, 0, 0, 0, 0, 0, 0, 0, 0, 0, 0, 0, 0, 0, 0, 0, 0, 0, 0, 0, 0, 0, 0, 0, 0, 0, 0, 0, 0, 0, 0, 0, 0, 0, 0, 0, 0, 0, 0, 0, 0, 0, 0, 0, 0, 0, 0, 0, 0, 0, 0, 0, 0, 0, 0, 0, 0, 0, 0, 0, 0, 0, 0, 0, 0, 0, 0, 0, 0, 0, 0, 0, 0, 0, 0, 0, 0, 0, 0, 0, 0, 0, 0, 0, 0]\n"
          ]
        }
      ]
    },
    {
      "cell_type": "markdown",
      "source": [
        "Q4. What is the most effective way to initialise a list of 99 integers that repeats the sequence 1, 2, 3?\n",
        "S If necessary, show step-by-step instructions on how to accomplish this.\n",
        "\n",
        "**ANS :**\n",
        "\n",
        "Using  *  operator as shown below ;"
      ],
      "metadata": {
        "id": "t76aH8kGFqWI"
      }
    },
    {
      "cell_type": "code",
      "source": [
        "print([1,2,3]*33)\n"
      ],
      "metadata": {
        "colab": {
          "base_uri": "https://localhost:8080/"
        },
        "id": "TlI0pj0rFZfI",
        "outputId": "01e89dd6-5435-4cbc-f2b6-5c029e7ad306"
      },
      "execution_count": 12,
      "outputs": [
        {
          "output_type": "stream",
          "name": "stdout",
          "text": [
            "[1, 2, 3, 1, 2, 3, 1, 2, 3, 1, 2, 3, 1, 2, 3, 1, 2, 3, 1, 2, 3, 1, 2, 3, 1, 2, 3, 1, 2, 3, 1, 2, 3, 1, 2, 3, 1, 2, 3, 1, 2, 3, 1, 2, 3, 1, 2, 3, 1, 2, 3, 1, 2, 3, 1, 2, 3, 1, 2, 3, 1, 2, 3, 1, 2, 3, 1, 2, 3, 1, 2, 3, 1, 2, 3, 1, 2, 3, 1, 2, 3, 1, 2, 3, 1, 2, 3, 1, 2, 3, 1, 2, 3, 1, 2, 3, 1, 2, 3]\n"
          ]
        }
      ]
    },
    {
      "cell_type": "markdown",
      "source": [
        "Q5. If you&#39;re using IDLE to run a Python application, explain how to print a multidimensional list as\n",
        "efficiently?\n",
        "\n",
        "**ANS :**\n",
        "\n"
      ],
      "metadata": {
        "id": "eWeeYwACGRgk"
      }
    },
    {
      "cell_type": "code",
      "source": [
        "list_2D = [[1 , 2 , 3] , [4 , 5 , 6] , [7 , 8 , 9]]\n",
        "\n",
        "for i in list_2D :\n",
        "    for j in i :\n",
        "        print(j , end = '  ')"
      ],
      "metadata": {
        "colab": {
          "base_uri": "https://localhost:8080/"
        },
        "id": "zdN2J1neGC9-",
        "outputId": "e75f5078-8dca-4f69-f96d-d148cf16088f"
      },
      "execution_count": 13,
      "outputs": [
        {
          "output_type": "stream",
          "name": "stdout",
          "text": [
            "1  2  3  4  5  6  7  8  9  "
          ]
        }
      ]
    },
    {
      "cell_type": "markdown",
      "source": [
        "Q6. Is it possible to use list comprehension with a string? If so, how can you go about doing it?\n",
        "\n",
        "**ANS :** \n",
        "\n",
        "Yes , list comprehension is possible using list "
      ],
      "metadata": {
        "id": "4oPgxMfZMbHp"
      }
    },
    {
      "cell_type": "code",
      "source": [
        "l = [i+f'{j}' for i , j in zip('SAQIB SHAIKH' ,range(len(\"SAQIB SHAIKH\")))]\n",
        "print(l)"
      ],
      "metadata": {
        "colab": {
          "base_uri": "https://localhost:8080/"
        },
        "id": "1kOHQkeeMZQJ",
        "outputId": "1bca61a4-0496-4559-e2a0-6e842c22a1e9"
      },
      "execution_count": 18,
      "outputs": [
        {
          "output_type": "stream",
          "name": "stdout",
          "text": [
            "['S0', 'A1', 'Q2', 'I3', 'B4', ' 5', 'S6', 'H7', 'A8', 'I9', 'K10', 'H11']\n"
          ]
        }
      ]
    },
    {
      "cell_type": "markdown",
      "source": [
        "Q7. From the command line, how do you get support with a user-written Python programme? Is this\n",
        "possible from inside IDLE?\n",
        "\n",
        "**ANS :**\n",
        "\n",
        "Get support with a user-written Python Programme: Start a command prompt (Windows) or terminal window (Linux/Mac). If the current working directory is the same as the location in which you saved the file, you can simply specify the filename as a command-line argument to the Python interpreter.\n",
        "\n",
        "Get support with a User-written Python Program from IDLE: You can also create script files and run them in IDLE. From the Shell window menu, select File → New File. That should open an additional editing window. Type in the code to be executed. From the menu in that window, select File → Save or File → Save As… and save the file to disk. Then select Run → Run Module. The output should appear back in the interpreter"
      ],
      "metadata": {
        "id": "sJ6KUq2aN0TK"
      }
    },
    {
      "cell_type": "markdown",
      "source": [
        "Q8. Functions are said to be “first-class objects” in Python but not in most other languages, such as\n",
        "C++ or Java. What can you do in Python with a function (callable object) that you can&#39;t do in C or\n",
        "C++?\n",
        "\n",
        "**ANS :**\n",
        "\n",
        "The tasks which can be performed with the functions in python are:\n",
        "\n",
        "Pyhton function does not requires input or return datatypes specifiers whereas in other languages like c++ or java it requires.\n",
        "\n",
        "A function is an instance of the Object type.\n",
        "\n",
        "You can store the function in a variable.\n",
        "\n",
        "You can pass the function as a parameter to another function.\n",
        "\n",
        "You can return the function from a function.\n",
        "\n",
        "You can store them in data structures such as hash tables, lists,"
      ],
      "metadata": {
        "id": "stJ9Xw79ONnQ"
      }
    },
    {
      "cell_type": "markdown",
      "source": [
        "Q9. How do you distinguish between a wrapper, a wrapped feature, and a decorator?\n",
        "\n",
        "**ANS :**\n",
        "\n",
        "Wrappers around the functions are also knows as decorators which are a very powerful and useful tool in Python since it allows programmers to modify the behavior of function or class. Decorators allow us to wrap another function in order to extend the behavior of the wrapped function, without permanently modifying it. In Decorators, functions are taken as the argument into another function and then called inside the wrapper function.\n",
        "\n"
      ],
      "metadata": {
        "id": "fG9-Jj8vO5Y8"
      }
    },
    {
      "cell_type": "markdown",
      "source": [
        "Q10. If a function is a generator function, what does it return?\n",
        "\n",
        "**ANS :**\n",
        "\n",
        "Generator functions are a special kind of function that return a lazy iterator. These are objects that you can loop over like a list. However, unlike lists, lazy iterators do not store their contents in memory."
      ],
      "metadata": {
        "id": "wl0ZPJQPPY1J"
      }
    },
    {
      "cell_type": "markdown",
      "source": [
        "Q11. What is the one improvement that must be made to a function in order for it to become a\n",
        "generator function in the Python language?\n",
        "\n",
        "**ANS :**\n",
        "\n",
        "Generator is a written as normal function but uses yield keyword to return values instead of return keyword."
      ],
      "metadata": {
        "id": "ZsVkrGDbPmd1"
      }
    },
    {
      "cell_type": "markdown",
      "source": [
        "Q12. Identify at least one benefit of generators.\n",
        "\n",
        "**ANS :**\n",
        "\n",
        "Gnerators consumes less memory.\n",
        "\n",
        "It takes less time.\n",
        "\n",
        "Hence , generators are time as well memory efficient."
      ],
      "metadata": {
        "id": "beBBzMmZP8Cb"
      }
    },
    {
      "cell_type": "code",
      "source": [
        "\n"
      ],
      "metadata": {
        "id": "j7iQkxuHNO7s"
      },
      "execution_count": null,
      "outputs": []
    }
  ]
}