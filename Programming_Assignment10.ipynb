{
  "nbformat": 4,
  "nbformat_minor": 0,
  "metadata": {
    "colab": {
      "provenance": [],
      "collapsed_sections": []
    },
    "kernelspec": {
      "name": "python3",
      "display_name": "Python 3"
    },
    "language_info": {
      "name": "python"
    }
  },
  "cells": [
    {
      "cell_type": "markdown",
      "source": [
        "#***Programmin_Assignment10***"
      ],
      "metadata": {
        "id": "ph-KxIIMb2qe"
      }
    },
    {
      "cell_type": "markdown",
      "source": [
        "Q1. Write a Python program to find sum of elements in list?"
      ],
      "metadata": {
        "id": "Nml3dd4Ib-1D"
      }
    },
    {
      "cell_type": "code",
      "execution_count": null,
      "metadata": {
        "colab": {
          "base_uri": "https://localhost:8080/"
        },
        "id": "OZ6TCiWEbjgm",
        "outputId": "71eb177c-1bc3-4358-d0f5-1c87b3be00fa"
      },
      "outputs": [
        {
          "output_type": "stream",
          "name": "stdout",
          "text": [
            "Give space separated elements of list : 10 12 14 15 19 18 17 7 1214\n",
            "Sum of elements of list :  1326\n"
          ]
        }
      ],
      "source": [
        "def listSum(lst) :\n",
        "\n",
        "    sum = 0 \n",
        "    lst = [eval(i) for i in lst.split()]\n",
        "\n",
        "    for i in lst :\n",
        "        sum += i \n",
        "\n",
        "    return sum\n",
        "\n",
        "lst = input('Give space separated elements of list : ') \n",
        "print('Sum of elements of list : ', listSum(lst))   "
      ]
    },
    {
      "cell_type": "markdown",
      "source": [
        "Q2. Write a Python program to Multiply all numbers in the list?"
      ],
      "metadata": {
        "id": "y2Nh_PZwlsA_"
      }
    },
    {
      "cell_type": "code",
      "source": [
        "def listMult(lst) :\n",
        "\n",
        "    factor = 1 \n",
        "    lst = [eval(i) for i in lst.split()]\n",
        "\n",
        "    for i in lst :\n",
        "        factor *= i \n",
        "\n",
        "    return factor\n",
        "\n",
        "lst = input('Give space separated elements of list : ') \n",
        "print('Product of elements of list : ', listMult(lst))   "
      ],
      "metadata": {
        "colab": {
          "base_uri": "https://localhost:8080/"
        },
        "id": "peIA4gaJltP4",
        "outputId": "f48560bc-3962-4aee-8401-8608db29e891"
      },
      "execution_count": null,
      "outputs": [
        {
          "output_type": "stream",
          "name": "stdout",
          "text": [
            "Give space separated elements of list : 1 2 3 4 5 6\n",
            "Product of elements of list :  720\n"
          ]
        }
      ]
    },
    {
      "cell_type": "markdown",
      "source": [
        "Q3. Write a Python program to find smallest number in a list?"
      ],
      "metadata": {
        "id": "otq12RzWmSgd"
      }
    },
    {
      "cell_type": "code",
      "source": [
        "def min(lst) :\n",
        " \n",
        "    lst = [eval(i) for i in lst.split()]\n",
        "    min = lst[0]\n",
        "\n",
        "    for i in lst :\n",
        "        if i <= min :\n",
        "            min = i\n",
        "\n",
        "    return min\n",
        "\n",
        "lst = input('Give space separated elements of list : ') \n",
        "print('Smallest element of list : ', min(lst))"
      ],
      "metadata": {
        "colab": {
          "base_uri": "https://localhost:8080/"
        },
        "id": "id7kZSKtmWcu",
        "outputId": "ba57aa84-945c-405b-d5d4-93d69c4980c1"
      },
      "execution_count": null,
      "outputs": [
        {
          "output_type": "stream",
          "name": "stdout",
          "text": [
            "Give space separated elements of list : 12 10 13 18  -1  -65  65  -56  32\n",
            "Smallest element of list :  -65\n"
          ]
        }
      ]
    },
    {
      "cell_type": "markdown",
      "source": [
        "Q4. Write a Python program to find largest number in a list?"
      ],
      "metadata": {
        "id": "vLOtRPNHoBVv"
      }
    },
    {
      "cell_type": "code",
      "source": [
        "def max(lst) :\n",
        " \n",
        "    lst = [eval(i) for i in lst.split()]\n",
        "    max = lst[0]\n",
        "\n",
        "    for i in lst :\n",
        "        if i >= max :\n",
        "            max = i\n",
        "\n",
        "    return max\n",
        "\n",
        "lst = input('Give space separated elements of list : ') \n",
        "print('Largest element of list : ', max(lst))"
      ],
      "metadata": {
        "colab": {
          "base_uri": "https://localhost:8080/"
        },
        "id": "eiDMBNN6oHxt",
        "outputId": "42b121cb-a4e3-460d-dcbd-4de6b8151371"
      },
      "execution_count": null,
      "outputs": [
        {
          "output_type": "stream",
          "name": "stdout",
          "text": [
            "Give space separated elements of list : -5  -6  -65  -32  -3261 -1 0  -2\n",
            "Largest element of list :  0\n"
          ]
        }
      ]
    },
    {
      "cell_type": "markdown",
      "source": [
        "Q5. Write a Python program to find second largest number in a list?"
      ],
      "metadata": {
        "id": "a-usjKHto7RM"
      }
    },
    {
      "cell_type": "code",
      "source": [
        "def max_2(lst) :\n",
        " \n",
        "    lst = [eval(i) for i in lst.split()]\n",
        "    lst.sort()\n",
        "    \n",
        "    return lst[-2]\n",
        "\n",
        "lst = input('Give space separated elements of list : ') \n",
        "print('Second Largest element of list : ', max_2(lst))"
      ],
      "metadata": {
        "colab": {
          "base_uri": "https://localhost:8080/"
        },
        "id": "ftuwIbiWo_Iu",
        "outputId": "dca98ee0-2987-49cd-bc81-04bc4c24628b"
      },
      "execution_count": null,
      "outputs": [
        {
          "output_type": "stream",
          "name": "stdout",
          "text": [
            "Give space separated elements of list : -5  -6  -65  -32  -3261 -1 0  -2\n",
            "Second Largest element of list :  -1\n"
          ]
        }
      ]
    },
    {
      "cell_type": "markdown",
      "source": [
        "Q6. Write a Python program to find N largest elements from a list?"
      ],
      "metadata": {
        "id": "G1fS2nVrq6f9"
      }
    },
    {
      "cell_type": "code",
      "source": [
        "def max_N(lst,n) :\n",
        "\n",
        "    lst = [eval(i) for i in lst.split()]\n",
        "    lst.sort(reverse = True)\n",
        "    lst1 = []\n",
        "\n",
        "    for i in range (n) :\n",
        "        lst1.append(lst[i])\n",
        "    return lst1\n",
        "\n",
        "lst = input('Give space separated elements of list : ')\n",
        "N = int(input(f'Give value of 1 between 0 and {len(lst.split())} : '))\n",
        "\n",
        "print ('N largest elements of list : ', end = \"\")\n",
        "for i in max_N(lst,N) :\n",
        "    print(i , end = \"  \")"
      ],
      "metadata": {
        "colab": {
          "base_uri": "https://localhost:8080/"
        },
        "id": "cFQ3iVddq8BR",
        "outputId": "b3e6a0ae-943b-4c71-b075-e9e3667fb2a1"
      },
      "execution_count": null,
      "outputs": [
        {
          "output_type": "stream",
          "name": "stdout",
          "text": [
            "Give space separated elements of list : 1  12  13  14  15  522 321  -659  -52  65  32  2.36 \n",
            "Give value of 1 between 0 and 12 : 7\n",
            "N largest elements of list : 522  321  65  32  15  14  13  "
          ]
        }
      ]
    },
    {
      "cell_type": "markdown",
      "source": [
        "Q7. Write a Python program to print even numbers in a list?"
      ],
      "metadata": {
        "id": "R1fdmGbi1Kb1"
      }
    },
    {
      "cell_type": "code",
      "source": [
        "def Even(lst) :\n",
        "\n",
        "    lst = [eval(i) for i in lst.split()]\n",
        "    lst1 = []\n",
        "    for i in lst :\n",
        "        if i % 2 == 0 :\n",
        "            lst1.append(i)\n",
        "    return lst1\n",
        "\n",
        "lst = input('Give space separated elements of list : ')\n",
        "\n",
        "print ('Even numbers of list : ', end = \"\")\n",
        "for i in Even(lst) :\n",
        "    print(i , end = \"  \")"
      ],
      "metadata": {
        "colab": {
          "base_uri": "https://localhost:8080/"
        },
        "id": "oSPer9Dp1LpP",
        "outputId": "c8c3f71d-435d-4320-b0c3-6d6c0f40a007"
      },
      "execution_count": null,
      "outputs": [
        {
          "output_type": "stream",
          "name": "stdout",
          "text": [
            "Give space separated elements of list : 10 12 13 14 15 16 178 122 1 -63 -62 652 65 33 365214\n",
            "Even numbers of list : 10  12  14  16  178  122  -62  652  365214  "
          ]
        }
      ]
    },
    {
      "cell_type": "markdown",
      "source": [
        "Q8. Write a Python program to print odd numbers in a List?"
      ],
      "metadata": {
        "id": "6zJoe1HY3Ru7"
      }
    },
    {
      "cell_type": "code",
      "source": [
        "def Odd(lst) :\n",
        "\n",
        "    lst = [eval(i) for i in lst.split()]\n",
        "    lst1 = []\n",
        "    for i in lst :\n",
        "        if i % 2 != 0 :\n",
        "            lst1.append(i)\n",
        "    return lst1\n",
        "\n",
        "lst = input('Give space separated elements of list : ')\n",
        "\n",
        "print ('Odd numbers of list : ', end = \"\")\n",
        "for i in Odd(lst) :\n",
        "    print(i , end = \"  \")"
      ],
      "metadata": {
        "colab": {
          "base_uri": "https://localhost:8080/"
        },
        "id": "GIs4lHYp3SvP",
        "outputId": "dbbc4ea9-5ba9-4f10-ba23-4a83ac390b29"
      },
      "execution_count": null,
      "outputs": [
        {
          "output_type": "stream",
          "name": "stdout",
          "text": [
            "Give space separated elements of list : 3 10 12 14 15 18 13 632 6523 456 88 65 124\n",
            "Odd numbers of list : 3  15  13  6523  65  "
          ]
        }
      ]
    },
    {
      "cell_type": "markdown",
      "source": [
        "Q9. Write a Python program to Remove empty List from List?"
      ],
      "metadata": {
        "id": "bJZdnhp930X8"
      }
    },
    {
      "cell_type": "code",
      "source": [
        "list1 = [1,2,[],['I','am','SAQIB','SHAIKH'],3,['Only'],4,5,6,[],65,[1,2,3,6],[],[21,'lk','65','abc'],'iNeuron']\n",
        "for i in list1 :\n",
        "    if (type(i) == list) and (len(i) == 0) :\n",
        "        list1.remove(i)\n",
        "print(list1)"
      ],
      "metadata": {
        "id": "mjb_85Vq31g9",
        "colab": {
          "base_uri": "https://localhost:8080/"
        },
        "outputId": "fee01692-9293-427d-f493-e4559e207e7f"
      },
      "execution_count": null,
      "outputs": [
        {
          "output_type": "stream",
          "name": "stdout",
          "text": [
            "[1, 2, ['I', 'am', 'SAQIB', 'SHAIKH'], 3, ['Only'], 4, 5, 6, 65, [1, 2, 3, 6], [21, 'lk', '65', 'abc'], 'iNeuron']\n"
          ]
        }
      ]
    },
    {
      "cell_type": "markdown",
      "source": [
        "Q10. Write a Python program to Cloning or Copying a list?"
      ],
      "metadata": {
        "id": "cuNYyhzXFRjw"
      }
    },
    {
      "cell_type": "code",
      "source": [
        "import copy\n",
        "list1 = ['1',1,'2',2,'2',3,'3',4,'4',[12,13,14,15,'fdsf']]\n",
        "list2 = copy.deepcopy(list1)\n",
        "print('list1 = ',list1,'   \\033[31mAddress of list1 = ',id(list1))\n",
        "print('list2 = ',list2,'   \\033[31mAddress of list2 = ',id(list2))"
      ],
      "metadata": {
        "colab": {
          "base_uri": "https://localhost:8080/"
        },
        "id": "9YoDAMlBFXDH",
        "outputId": "728ae02b-da46-43ba-ca43-13d0913277f4"
      },
      "execution_count": null,
      "outputs": [
        {
          "output_type": "stream",
          "name": "stdout",
          "text": [
            "list1 =  ['1', 1, '2', 2, '2', 3, '3', 4, '4', [12, 13, 14, 15, 'fdsf']]    \u001b[31mAddress of list1 = \u001b[37m 139769216744096\n",
            "list2 =  ['1', 1, '2', 2, '2', 3, '3', 4, '4', [12, 13, 14, 15, 'fdsf']]    \u001b[31mAddress of list2 = \u001b[37m 139769216115008\n"
          ]
        }
      ]
    },
    {
      "cell_type": "markdown",
      "source": [
        "Q11. Write a Python program to Count occurrences of an element in a list?"
      ],
      "metadata": {
        "id": "FDiIT2dUKlHA"
      }
    },
    {
      "cell_type": "code",
      "source": [
        "def Count(elt,lst) :\n",
        "    count = 0\n",
        "\n",
        "    for i in lst :\n",
        "        if i == elt :\n",
        "            count += 1\n",
        "    return count\n",
        "\n",
        "lst = input('Give space separated elements of list : ').split()\n",
        "lst1 = set(lst)\n",
        "for i in lst1 :\n",
        "    print(f'Occurence of {i}'.ljust(20),f' -------->  {Count(i,lst)} Times')"
      ],
      "metadata": {
        "colab": {
          "base_uri": "https://localhost:8080/"
        },
        "id": "hxJ4j2KOKpiI",
        "outputId": "1e554b01-f97b-4670-9ec9-d286bae39a1b"
      },
      "execution_count": null,
      "outputs": [
        {
          "output_type": "stream",
          "name": "stdout",
          "text": [
            "Give space separated elements of list : 1 2 3 6 5 4 3 2 1 ok kk by hello world ok kk ok by by\n",
            "Occurence of 2        -------->  2 Times\n",
            "Occurence of 5        -------->  1 Times\n",
            "Occurence of ok       -------->  3 Times\n",
            "Occurence of 3        -------->  2 Times\n",
            "Occurence of 6        -------->  1 Times\n",
            "Occurence of kk       -------->  2 Times\n",
            "Occurence of hello    -------->  1 Times\n",
            "Occurence of 4        -------->  1 Times\n",
            "Occurence of by       -------->  3 Times\n",
            "Occurence of 1        -------->  2 Times\n",
            "Occurence of world    -------->  1 Times\n"
          ]
        }
      ]
    }
  ]
}