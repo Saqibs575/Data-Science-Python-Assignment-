{
  "nbformat": 4,
  "nbformat_minor": 0,
  "metadata": {
    "colab": {
      "provenance": [],
      "collapsed_sections": []
    },
    "kernelspec": {
      "name": "python3",
      "display_name": "Python 3"
    },
    "language_info": {
      "name": "python"
    }
  },
  "cells": [
    {
      "cell_type": "markdown",
      "source": [
        "#**Assignment_1**"
      ],
      "metadata": {
        "id": "qZdkT5tXP4QU"
      }
    },
    {
      "cell_type": "markdown",
      "source": [
        "Q1. In the below elements which of them are values or an expression? eg:- values can be integer or string and expressions will be mathematical operators.<br>*<br>'hello'<br>-87.8<br>-<br> /<br> 6 <br>\n",
        "**ANS**<br>\n",
        "### Values are ;\n",
        "*   'hello'\n",
        "*   -87.8\n",
        "*   6\n",
        "\n",
        "### Expressions are;\n",
        "*   *\n",
        "*   -\n",
        "*   /\n",
        "\n",
        "\n",
        "\n",
        "\n",
        "\n",
        "\n"
      ],
      "metadata": {
        "id": "JRpUpy2AwcsG"
      }
    },
    {
      "cell_type": "markdown",
      "source": [
        "Q2. What is the difference between string and variable?<br>\n",
        "**ANS**<br>\n",
        "### Strings<br>\n",
        "String is one of the data type in python. It is a sequence of characters enclosed in single or diuble quotes. Characters can be letters, numbers, symbols or space. <br>\n",
        "### Variable<br>\n",
        "A variable is nothing but the identifiers use for storing, manipulating and reusing the data."
      ],
      "metadata": {
        "id": "GGxzZn_C0BoM"
      }
    },
    {
      "cell_type": "markdown",
      "source": [
        "Q3. Describe three different data types.<br>\n",
        "**ANS**<br>\n",
        "### Data Types in Python\n",
        "\n",
        "1.  **Numerical** : It is a data type that contains numbers. It can be integer, float and complex.\n",
        "2.  **Dictionary** :    It is a data type that exist in key and value pair enclosed in the curly braces. Keys and Values are separated by ' : ' and each pair is separated by ' , ' . Keys are immutable whereas Values are mutable.\n",
        "3.   **List** :   List is a mutable, heterogeneous collection of data enclosed in square bracket. It allows duplicates of elements."
      ],
      "metadata": {
        "id": "TRJwFNNe31e7"
      }
    },
    {
      "cell_type": "markdown",
      "source": [
        "Q4. What is an expression made up of? What do all expressions do?<br>\n",
        "**ANS**<br>\n",
        "An expresssion is made up of operation/s and operands which can be used to get single intepreted output that can be stored in a variable. Expression can perform multiple mathematical operations like addition, subtraction, division and multipication etc. It can also perform logical, conditional and bitwise operations.  "
      ],
      "metadata": {
        "id": "TnhDiQXpBxwF"
      }
    },
    {
      "cell_type": "markdown",
      "source": [
        "Q5. This assignment statements, like spam = 10. What is the difference between an expression and a statement?\n",
        "**ANS :**<br>\n",
        "Expression is something that evaluates to a value whereas statements is any complete line of code. We can also say that statements can have several number of expressions."
      ],
      "metadata": {
        "id": "8vSl78c-HI-U"
      }
    },
    {
      "cell_type": "markdown",
      "source": [
        "Q6. After running the following code, what does the variable bacon contain?\n",
        "<br>bacon = 22<br>bacon + 1\n",
        "**ANS :**<br>\n",
        "22"
      ],
      "metadata": {
        "id": "hDbTnpNTKm8K"
      }
    },
    {
      "cell_type": "markdown",
      "source": [
        "Q7. What should the values of the following two terms be?<br>'spam' + 'spamspam'<br>'spam' * 3<br>\n",
        "**ANS :**<br>\n",
        "'spamspam'<br>'spamspamspam'"
      ],
      "metadata": {
        "id": "qCR9RpY8LRV0"
      }
    },
    {
      "cell_type": "markdown",
      "source": [
        "Q8. Why is eggs a valid variable name while 100 is invalid?<br>\n",
        "**ANS :**<br>\n",
        "According to variable name rule no variable can start with a number but it can start with any alphabet. Hence, eggs is valid variable whereas 100 is invalid."
      ],
      "metadata": {
        "id": "CkxOIseDMUti"
      }
    },
    {
      "cell_type": "markdown",
      "source": [
        "Q9. What three functions can be used to get the integer, floating-point number, or string version of a value?\n",
        "<br>\n",
        "**ANS :**<br>\n",
        "int(), float() and str()."
      ],
      "metadata": {
        "id": "GL0qvE-_NXHh"
      }
    },
    {
      "cell_type": "markdown",
      "source": [
        "Q10. Why does this expression cause an error? How can you fix it?\n",
        "'I have eaten ' + 99 + ' burritos.'\n",
        "<br>\n",
        "**ANS :**<br>\n",
        "Note that 'I have eaten' and 'burritos' are strings hence + operator will concatenate the strings but here 99 is not an string as it is not written in quotes.<br> The correct expression would be 'I have eaten'+'99'+'burritos'. "
      ],
      "metadata": {
        "id": "CZSWPM3OOvEg"
      }
    }
  ]
}