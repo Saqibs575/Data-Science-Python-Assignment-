{
  "nbformat": 4,
  "nbformat_minor": 0,
  "metadata": {
    "colab": {
      "provenance": [],
      "collapsed_sections": []
    },
    "kernelspec": {
      "name": "python3",
      "display_name": "Python 3"
    },
    "language_info": {
      "name": "python"
    }
  },
  "cells": [
    {
      "cell_type": "markdown",
      "source": [
        "#***Programming_Assignment4***"
      ],
      "metadata": {
        "id": "UZsWHtHNDsok"
      }
    },
    {
      "cell_type": "markdown",
      "source": [
        "Q1. Write a Python Program to Find the Factorial of a Number?"
      ],
      "metadata": {
        "id": "6H9mLHZVENxc"
      }
    },
    {
      "cell_type": "code",
      "execution_count": null,
      "metadata": {
        "colab": {
          "base_uri": "https://localhost:8080/"
        },
        "id": "Y37RnFCQDUAr",
        "outputId": "c719ba35-fb8f-4ac4-8af5-1a7b0e08562e"
      },
      "outputs": [
        {
          "output_type": "stream",
          "name": "stdout",
          "text": [
            "Give your number :6\n",
            "720\n"
          ]
        }
      ],
      "source": [
        "def factorial(n):\n",
        "    if (n == 1 or n == 0) :\n",
        "        return 1\n",
        "    return n*factorial(n-1)\n",
        "n=int(input('Give your number :'))\n",
        "if n < 0 :\n",
        "    print('INVALID INPUT !!!')\n",
        "else :\n",
        "    print(factorial(n))"
      ]
    },
    {
      "cell_type": "markdown",
      "source": [
        "Q2. Write a Python Program to Display the multiplication Table?"
      ],
      "metadata": {
        "id": "0iO_PU_UF_jH"
      }
    },
    {
      "cell_type": "code",
      "source": [
        "n=int(input ('Give your number : '))\n",
        "for i in range (1,11):\n",
        "    print(n,'x',i,' = ',n*i)"
      ],
      "metadata": {
        "colab": {
          "base_uri": "https://localhost:8080/"
        },
        "id": "dhJwLKMdDsXV",
        "outputId": "9a1abbde-9dfb-43a4-abab-829497401f95"
      },
      "execution_count": null,
      "outputs": [
        {
          "output_type": "stream",
          "name": "stdout",
          "text": [
            "Give your number : 55\n",
            "55 x 1  =  55\n",
            "55 x 2  =  110\n",
            "55 x 3  =  165\n",
            "55 x 4  =  220\n",
            "55 x 5  =  275\n",
            "55 x 6  =  330\n",
            "55 x 7  =  385\n",
            "55 x 8  =  440\n",
            "55 x 9  =  495\n",
            "55 x 10  =  550\n"
          ]
        }
      ]
    },
    {
      "cell_type": "markdown",
      "source": [
        "Q3. Write a Python Program to Print the Fibonacci sequence?"
      ],
      "metadata": {
        "id": "MmA9eBRcINTD"
      }
    },
    {
      "cell_type": "code",
      "source": [
        "def fibonacci(n):\n",
        "    if n <= 1 :\n",
        "        return n\n",
        "    return fibonacci(n-1)+fibonacci(n-2)\n",
        "m=int(input('Give number of sequence : '))\n",
        "for i in range(m) :\n",
        "    print(fibonacci(i),end=' ')"
      ],
      "metadata": {
        "colab": {
          "base_uri": "https://localhost:8080/"
        },
        "id": "kkKAYK65IQnd",
        "outputId": "ba25f095-c610-462e-9fc6-fe38bf295f90"
      },
      "execution_count": null,
      "outputs": [
        {
          "output_type": "stream",
          "name": "stdout",
          "text": [
            "Give number of sequence : 10\n",
            "0 1 1 2 3 5 8 13 21 34 "
          ]
        }
      ]
    },
    {
      "cell_type": "markdown",
      "source": [
        "Q4. Write a Python Program to Check Armstrong Number?"
      ],
      "metadata": {
        "id": "8wrDGDAjNmIA"
      }
    },
    {
      "cell_type": "code",
      "source": [
        "def isArmstrong(m):\n",
        "    n=len(str(m))\n",
        "    temp=m\n",
        "    sum = 0\n",
        "    while temp > 0 :\n",
        "        sum += (temp%10)**n\n",
        "        temp = temp // 10\n",
        "    if m == sum :\n",
        "        return True\n",
        "    return False\n",
        "n = int(input('Guve your number : '))\n",
        "if isArmstrong(n) == True :\n",
        "    print ('Given number is Armstrong ')\n",
        "else :\n",
        "    print ('Given number is NOT Armstrong ')"
      ],
      "metadata": {
        "colab": {
          "base_uri": "https://localhost:8080/"
        },
        "id": "11nDadwWNnhW",
        "outputId": "abff5d93-c395-4611-887d-8bb80e7f002a"
      },
      "execution_count": null,
      "outputs": [
        {
          "output_type": "stream",
          "name": "stdout",
          "text": [
            "Guve your number : 8208\n",
            "Given number is Armstrong \n"
          ]
        }
      ]
    },
    {
      "cell_type": "markdown",
      "source": [
        "Q5. Write a Python Program to Find Armstrong Number in an Interval?"
      ],
      "metadata": {
        "id": "0zwbS4ULRpKg"
      }
    },
    {
      "cell_type": "code",
      "source": [
        "def isArmstrong(m):\n",
        "    n=len(str(m))\n",
        "    temp=m\n",
        "    sum = 0\n",
        "    while temp > 0 :\n",
        "        sum += (temp%10)**n\n",
        "        temp = temp // 10\n",
        "    if m == sum :\n",
        "        return True\n",
        "    return False\n",
        "a = int(input('Give lower bound of your range : '))\n",
        "b = int(input('Give upper bound of your range : '))\n",
        "for i in range (a,b+1):\n",
        "    if isArmstrong(i) == True :\n",
        "        print(i,end='  ')"
      ],
      "metadata": {
        "colab": {
          "base_uri": "https://localhost:8080/"
        },
        "id": "AP8AaSzXNurq",
        "outputId": "7d3fed90-39f7-4bc4-ee27-3c8c473d1f48"
      },
      "execution_count": null,
      "outputs": [
        {
          "output_type": "stream",
          "name": "stdout",
          "text": [
            "Give lower bound of your range : 1\n",
            "Give upper bound of your range : 100000\n",
            "1  2  3  4  5  6  7  8  9  153  370  371  407  1634  8208  9474  54748  92727  93084  "
          ]
        }
      ]
    },
    {
      "cell_type": "markdown",
      "source": [
        "Q6. Write a Python Program to Find the Sum of Natural Numbers?"
      ],
      "metadata": {
        "id": "eNn9CciOTcRX"
      }
    },
    {
      "cell_type": "code",
      "source": [
        "def sum(n):\n",
        "    if n  >= 1 :\n",
        "        return n + sum(n-1)\n",
        "    return 0    \n",
        "n=int(input('Give your number : '))\n",
        "print(sum(n))"
      ],
      "metadata": {
        "colab": {
          "base_uri": "https://localhost:8080/"
        },
        "id": "2yJlpPseTf7N",
        "outputId": "c04242da-fb99-4867-9c4b-93d432818655"
      },
      "execution_count": null,
      "outputs": [
        {
          "output_type": "stream",
          "name": "stdout",
          "text": [
            "Give your number : 50\n",
            "1275\n"
          ]
        }
      ]
    }
  ]
}