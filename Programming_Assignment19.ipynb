{
  "nbformat": 4,
  "nbformat_minor": 0,
  "metadata": {
    "colab": {
      "provenance": [],
      "collapsed_sections": []
    },
    "kernelspec": {
      "name": "python3",
      "display_name": "Python 3"
    },
    "language_info": {
      "name": "python"
    }
  },
  "cells": [
    {
      "cell_type": "markdown",
      "source": [
        "#***Programming_Assignment19***"
      ],
      "metadata": {
        "id": "-XxeiDYusau2"
      }
    },
    {
      "cell_type": "markdown",
      "source": [
        "**Question1**<BR><BR>\n",
        "Create a function that takes a string and returns a string in which each character is repeated\n",
        "once.<BR><BR>\n",
        "**Examples**<BR><BR>\n",
        "```\n",
        "double_char(\"String\") ➞ \"SSttrriinngg\"\n",
        "\n",
        "double_char(\"Hello World!\") ➞ \"HHeelllloo WWoorrlldd!!\"\n",
        "\n",
        "double_char(\"1234!_ \") ➞ \"11223344!!__ \"\n",
        "```\n"
      ],
      "metadata": {
        "id": "FvBn3AhEWHif"
      }
    },
    {
      "cell_type": "code",
      "source": [
        "def double_char(string) :\n",
        "    str1 = ''\n",
        "\n",
        "    for i in string :\n",
        "        str1 += i*2\n",
        "\n",
        "    return str1\n",
        "\n",
        "print(double_char(\"String\"))\n",
        "print(double_char(\"Hello World!\"))\n",
        "print(double_char(\"1234!_ \"))"
      ],
      "metadata": {
        "colab": {
          "base_uri": "https://localhost:8080/"
        },
        "id": "07WD8YFZWhGj",
        "outputId": "ec86b9ab-a970-4147-9589-4b0936a53503"
      },
      "execution_count": null,
      "outputs": [
        {
          "output_type": "stream",
          "name": "stdout",
          "text": [
            "SSttrriinngg\n",
            "HHeelllloo  WWoorrlldd!!\n",
            "11223344!!__  \n"
          ]
        }
      ]
    },
    {
      "cell_type": "markdown",
      "source": [
        "**Question2**<br><BR>\n",
        "Create a function that reverses a boolean value and returns the string \"boolean expected\"\n",
        "if another variable type is given.<BR><BR>\n",
        "**Examples**<BR><BR>\n",
        "```\n",
        "reverse(True) ➞ False\n",
        "\n",
        "reverse(False) ➞ True\n",
        "\n",
        "reverse(0) ➞ \"boolean expected\"\n",
        "\n",
        "reverse(None) ➞ \"boolean expected\"\n",
        "```"
      ],
      "metadata": {
        "id": "-Eb_HUrIikA5"
      }
    },
    {
      "cell_type": "code",
      "source": [
        "def reverse (Boolean) :\n",
        "    if type(Boolean) == bool :\n",
        "        Boolean = not Boolean \n",
        "        return Boolean \n",
        "    return 'boolean expected'\n",
        "\n",
        "print(reverse(True))\n",
        "print(reverse(False))\n",
        "print(reverse(0))\n",
        "print(reverse(None))"
      ],
      "metadata": {
        "colab": {
          "base_uri": "https://localhost:8080/"
        },
        "id": "UEl-Ay25jLWe",
        "outputId": "9c183b13-b981-4861-a89c-74d270869424"
      },
      "execution_count": null,
      "outputs": [
        {
          "output_type": "stream",
          "name": "stdout",
          "text": [
            "False\n",
            "True\n",
            "boolean expected\n",
            "boolean expected\n"
          ]
        }
      ]
    },
    {
      "cell_type": "markdown",
      "source": [
        "**Question3**<BR><BR>\n",
        "Create a function that returns the **thickness (in meters)** of a piece of paper after folding it n\n",
        "number of times. The paper starts off with a thickness of **0.5mm**.\n",
        "<BR><BR>**Examples**<BR><BR>\n",
        "```\n",
        "num_layers(1) ➞ \"0.001m\"\n",
        "# Paper folded once is 1mm (equal to 0.001m)\n",
        "\n",
        "num_layers(4) ➞ \"0.008m\"\n",
        "# Paper folded 4 times is 8mm (equal to 0.008m)\n",
        "\n",
        "num_layers(21) ➞ \"1048.576m\"\n",
        "# Paper folded 21 times is 1048576mm (equal to 1048.576m)\n",
        "```"
      ],
      "metadata": {
        "id": "MeplFLRRkmPv"
      }
    },
    {
      "cell_type": "code",
      "source": [
        "def num_layers(n) :\n",
        "\n",
        "    thickness_mm = 0.5   # Given\n",
        "    thickness_m = 0.0005\n",
        "\n",
        "    for i in range (n) :\n",
        "        thickness_m *= 2\n",
        "\n",
        "    return f'{thickness_m}m'\n",
        "print(num_layers(1))\n",
        "print(num_layers(4))\n",
        "print(num_layers(21))"
      ],
      "metadata": {
        "colab": {
          "base_uri": "https://localhost:8080/"
        },
        "id": "PlPgSNwyjVmb",
        "outputId": "a79de2a2-2e87-44df-983d-84576623f210"
      },
      "execution_count": null,
      "outputs": [
        {
          "output_type": "stream",
          "name": "stdout",
          "text": [
            "0.001m\n",
            "0.008m\n",
            "1048.576m\n"
          ]
        }
      ]
    },
    {
      "cell_type": "markdown",
      "source": [
        "**Question4**<BR><BR>\n",
        "\n",
        "Create a function that takes a single string as argument and returns an ordered list containing\n",
        "the indices of all capital letters in the string.\n",
        "<BR><BR>**Examples**<BR><BR>\n",
        "```\n",
        "index_of_caps(\"eDaBiT\") ➞ [1, 3, 5]\n",
        "\n",
        "index_of_caps(\"eQuINoX\") ➞ [1, 3, 4, 6]\n",
        "\n",
        "index_of_caps(\"determine\") ➞ []\n",
        "\n",
        "index_of_caps(\"STRIKE\") ➞ [0, 1, 2, 3, 4, 5]\n",
        "\n",
        "index_of_caps(\"sUn\") ➞ [1]\n",
        "```"
      ],
      "metadata": {
        "id": "Fit1x7e8qdKv"
      }
    },
    {
      "cell_type": "code",
      "source": [
        "def index_of_caps(str1) :\n",
        "    list1 = []\n",
        "\n",
        "    for ch in str1 :\n",
        "        if ch.isupper() :\n",
        "            list1.append(str1.index(ch))\n",
        "\n",
        "    return list1\n",
        "\n",
        "print(index_of_caps(\"eDaBiT\"))\n",
        "print(index_of_caps(\"eQuINoX\"))\n",
        "print(index_of_caps(\"determine\"))\n",
        "print(index_of_caps(\"STRIKE\"))\n",
        "print(index_of_caps(\"sUn\"))"
      ],
      "metadata": {
        "colab": {
          "base_uri": "https://localhost:8080/"
        },
        "id": "P6pKKDDwquQT",
        "outputId": "1ea9c65f-47fe-46ec-e124-90c22aff73b1"
      },
      "execution_count": null,
      "outputs": [
        {
          "output_type": "stream",
          "name": "stdout",
          "text": [
            "[1, 3, 5]\n",
            "[1, 3, 4, 6]\n",
            "[]\n",
            "[0, 1, 2, 3, 4, 5]\n",
            "[1]\n"
          ]
        }
      ]
    },
    {
      "cell_type": "markdown",
      "source": [
        "**Question5**<BR><BR>\n",
        "Using list comprehensions, create a function that finds all even numbers from 1 to the given\n",
        "number.<BR><BR>\n",
        "**Examples**<BR><BR>\n",
        "```\n",
        "find_even_nums(8) ➞ [2, 4, 6, 8]\n",
        "\n",
        "find_even_nums(4) ➞ [2, 4]\n",
        "\n",
        "find_even_nums(2) ➞ [2]\n",
        "```"
      ],
      "metadata": {
        "id": "TIeruLzaxW7z"
      }
    },
    {
      "cell_type": "code",
      "source": [
        "def find_even_nums(n) :\n",
        "    return [i+1 for i in range(1,n+1,2)]\n",
        "\n",
        "print(find_even_nums(8))\n",
        "print(find_even_nums(4))\n",
        "print(find_even_nums(2))\n"
      ],
      "metadata": {
        "colab": {
          "base_uri": "https://localhost:8080/"
        },
        "id": "fdOALN9Gxmrt",
        "outputId": "206817cc-af9c-4556-9443-4a75642be96f"
      },
      "execution_count": 21,
      "outputs": [
        {
          "output_type": "stream",
          "name": "stdout",
          "text": [
            "[2, 4, 6, 8]\n",
            "[2, 4]\n",
            "[2]\n"
          ]
        }
      ]
    }
  ]
}