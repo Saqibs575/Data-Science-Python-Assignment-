{
  "nbformat": 4,
  "nbformat_minor": 0,
  "metadata": {
    "colab": {
      "provenance": [],
      "collapsed_sections": []
    },
    "kernelspec": {
      "name": "python3",
      "display_name": "Python 3"
    },
    "language_info": {
      "name": "python"
    }
  },
  "cells": [
    {
      "cell_type": "markdown",
      "source": [
        "#***Assignment_1***"
      ],
      "metadata": {
        "id": "_A-svwxBHgrc"
      }
    },
    {
      "cell_type": "markdown",
      "source": [
        "Q1. What is the purpose of Python&#39;s OOP?<BR>**ANS :** \n",
        "\n",
        "*   OOP is based on DRY(Do Not Reapeat Yourself) principle. \n",
        "*   OOP It aims to implement real-world entities like inheritance, polymorphisms, encapsulation, etc. in the programming.\n",
        "*   It reduces the complexity of the programming.\n",
        "*   Th code is more secured.\n",
        "*   As it works on DRY principle we can reuse the code.\n",
        "*   It increases the efficiency as we can modify it very easy.\n",
        "*   OOP programmings as easy to maintain.\n",
        "\n"
      ],
      "metadata": {
        "id": "be2p9JetHnOr"
      }
    },
    {
      "cell_type": "markdown",
      "source": [
        "Q2. Where does an inheritance search look for an attribute?<BR>**ANS :** In inheritance search based on tree. That is if we want to access any attribute using inherited class then first it will searcch in lower class , if not found then it will go and search in the next super class ans so on."
      ],
      "metadata": {
        "id": "iFcCzqUSKUAG"
      }
    },
    {
      "cell_type": "markdown",
      "source": [
        "Q3. How do you distinguish between a class object and an instance object?<BR>**ANS :** An object of a class is the phsical quantity that can be created after class definition. While defining class no memory will be allocated to it. Memory will be allocated after createting objects only. <br> Whereas instance are the attributes that belongs to the object. let us understand this concept with the following example ;\n",
        "<BR>\n",
        "Suppose we have created a class students , then s1 = Students() wilcreate an objec. Where s1 is the object of class Students. Now, in the object s1 we may habe some property of a students like name , roll number , standard , division ...etc all these are instances of the object."
      ],
      "metadata": {
        "id": "D2WZHVTdLEUe"
      }
    },
    {
      "cell_type": "markdown",
      "source": [
        "Q4. What makes the first argument in a class’s method function special?<BR>**ANS :** The first argument of any method define in class is ```self``` . By using the keword self we can access all the attributes of the class. Also, we can use the self keyword to access any other method inside the class. It binds the attrinutes with all the arguments."
      ],
      "metadata": {
        "id": "mqJ4ycwUNbla"
      }
    },
    {
      "cell_type": "markdown",
      "source": [
        "Q5. What is the purpose of the __init__ method?<BR>**ANS :** The purpose of init method is to execute the method as soon as object is created. We don not require to call the funtion to run the method. We define method using init keyword then it will be automatically invoked just after the creation of an objec. We generally use init method to assign the variables . The default argument of init is self."
      ],
      "metadata": {
        "id": "pfgyjXBNPDH3"
      }
    },
    {
      "cell_type": "markdown",
      "source": [
        "Q6. What is the process for creating a class instance?<BR>**ANS :** To create instances of a class, you call the class using class name and pass in whatever arguments its init method accepts."
      ],
      "metadata": {
        "id": "wFg2cHRmQAHJ"
      }
    },
    {
      "cell_type": "markdown",
      "source": [
        "Q7. What is the process for creating a class?<BR>**ANS :** The processs of creating a class is use the keyword class then after space we can write the name of the class as per our convinience. The followint example may help us to understand <BR>\n",
        "```\n",
        "class maths :    \n",
        "    pass\n",
        "```"
      ],
      "metadata": {
        "id": "WPbeXAtjQQG4"
      }
    },
    {
      "cell_type": "markdown",
      "source": [
        "Q8. How would you define the superclasses of a class?<BR>**ANS :** We can define a subcalss of a class by using inheritance. Then th e upper class will be super classes of their respective sub classsess. Let us understand with the following example ;\n",
        "\n",
        "```\n",
        "class maths :    \n",
        "    pass \n",
        "\n",
        "class algebra(maths) :    \n",
        "pass\n",
        "```\n",
        "Here class maths is a super class of class algebra. So, algebra is a sub class of a super class maths."
      ],
      "metadata": {
        "id": "dR4V2Hf2Rdwx"
      }
    }
  ]
}