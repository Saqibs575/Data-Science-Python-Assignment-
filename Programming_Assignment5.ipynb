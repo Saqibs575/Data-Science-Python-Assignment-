{
  "nbformat": 4,
  "nbformat_minor": 0,
  "metadata": {
    "colab": {
      "provenance": [],
      "collapsed_sections": []
    },
    "kernelspec": {
      "name": "python3",
      "display_name": "Python 3"
    },
    "language_info": {
      "name": "python"
    }
  },
  "cells": [
    {
      "cell_type": "markdown",
      "source": [
        "#***Programming_Assignment5***"
      ],
      "metadata": {
        "id": "-saiCzhzW4WO"
      }
    },
    {
      "cell_type": "markdown",
      "source": [
        "Q1. Write a Python Program to Find LCM?"
      ],
      "metadata": {
        "id": "Ky4jicJpXGgA"
      }
    },
    {
      "cell_type": "code",
      "source": [
        "def gcd(a, b):\n",
        "    if (a == 0):\n",
        "        return b\n",
        "    return gcd(b % a, a)\n",
        "def lcm(a,b):\n",
        "    return a*b//gcd(a,b)                                # AS GCD(a,b).LCM(a,b) = a.b  --------> LCM(a,b) = a.b / GCD(a,b) \n",
        "Input = input('Give two or more space separated input : ')\n",
        "arr=[eval(i) for i in Input.split()]\n",
        "for i in range (len(arr)-1):\n",
        "    arr[0]=lcm(arr[0],arr[i+1])\n",
        "print(f'LCM ({Input}) = ',arr[0])"
      ],
      "metadata": {
        "colab": {
          "base_uri": "https://localhost:8080/"
        },
        "id": "jlbmaqioxQIl",
        "outputId": "90d74c5d-3937-49f8-d7b1-5ea36bf646e9"
      },
      "execution_count": null,
      "outputs": [
        {
          "output_type": "stream",
          "name": "stdout",
          "text": [
            "Give two or more space separated input : 2 7 9 3 5\n",
            "LCM (2 7 9 3 5) =  630\n"
          ]
        }
      ]
    },
    {
      "cell_type": "markdown",
      "source": [
        "Q2. Write a Python Program to Find HCF?"
      ],
      "metadata": {
        "id": "CWsyz4kBDXBe"
      }
    },
    {
      "cell_type": "code",
      "source": [
        "def gcd(a, b):\n",
        "    if (a == 0):\n",
        "        return b\n",
        "    return gcd(b % a, a)\n",
        "Input = input('Give two or more space separated input : ')\n",
        "arr=[eval(i) for i in Input.split()]\n",
        "for i in range (len(arr)-1):\n",
        "    arr[0] = gcd(arr[0],arr[i+1])\n",
        "print(f'GCD ({Input}) = ',arr[0])"
      ],
      "metadata": {
        "colab": {
          "base_uri": "https://localhost:8080/"
        },
        "id": "VL-hRka3DawG",
        "outputId": "95865b5d-f848-4c1c-96bb-71ceca8dcce3"
      },
      "execution_count": null,
      "outputs": [
        {
          "output_type": "stream",
          "name": "stdout",
          "text": [
            "Give two or more space separated input : 52 244 48\n",
            "GCD (52 244 48) =  4\n"
          ]
        }
      ]
    },
    {
      "cell_type": "markdown",
      "source": [
        "Q3. Write a Python Program to Convert Decimal to Binary, Octal and Hexadecimal?"
      ],
      "metadata": {
        "id": "WyWDVVq6FrUV"
      }
    },
    {
      "cell_type": "code",
      "source": [
        "def convert(n) :\n",
        "    toBinary = bin(n)[2:]\n",
        "    toOctal = oct(n)[2:].upper()\n",
        "    toHexadecimal = hex(n)[2:].upper()\n",
        "    print(\"To Binary : \".rjust(30),toBinary)\n",
        "    print(\"To Octal : \".rjust(30),toOctal)\n",
        "    print(\"To Hexadecimal : \".rjust(30),toHexadecimal)\n",
        "convert(int(input('Give your number in decimal :  ')))"
      ],
      "metadata": {
        "colab": {
          "base_uri": "https://localhost:8080/"
        },
        "id": "N4RCO-HAFvPk",
        "outputId": "ee50c04e-8187-42d0-f71e-c3be64ebdb20"
      },
      "execution_count": 1,
      "outputs": [
        {
          "output_type": "stream",
          "name": "stdout",
          "text": [
            "Give your number in decimal :  5556\n",
            "                  To Binary :  1010110110100\n",
            "                   To Octal :  12664\n",
            "             To Hexadecimal :  15B4\n"
          ]
        }
      ]
    },
    {
      "cell_type": "markdown",
      "source": [
        "Q4. Write a Python Program To Find ASCII value of a character?"
      ],
      "metadata": {
        "id": "vDW48tLOTMgB"
      }
    },
    {
      "cell_type": "code",
      "source": [
        "def ASCII(ch):\n",
        "    return ord(ch)\n",
        "ch=input('Give your character : ')[0]\n",
        "print('ASCII value of',ch,'is',ASCII(ch))"
      ],
      "metadata": {
        "colab": {
          "base_uri": "https://localhost:8080/"
        },
        "id": "CDG7KCSeTWXk",
        "outputId": "f8597afa-c9df-4450-bdf3-cebe2d21575d"
      },
      "execution_count": null,
      "outputs": [
        {
          "output_type": "stream",
          "name": "stdout",
          "text": [
            "Give your character : &\n",
            "ASCII value of & is 38\n"
          ]
        }
      ]
    },
    {
      "cell_type": "markdown",
      "source": [
        "Q5. Write a Python Program to Make a Simple Calculator with 4 basic mathematical operations?"
      ],
      "metadata": {
        "id": "N0v2VoKAUEo9"
      }
    },
    {
      "cell_type": "code",
      "source": [
        "def add(x, y):\n",
        "    return x + y\n",
        "def subtract(x, y):\n",
        "    return x - y\n",
        "def multiply(x, y):\n",
        "    return x * y\n",
        "def divide(x, y):\n",
        "    return x / y\n",
        "print(\"Select operation.\")\n",
        "while True:\n",
        "    operation = input(\"Enter operation +,-,*,/: \")\n",
        "\n",
        "    if operation in {'+', '-', '*', '/'}:\n",
        "        a = float(input(\"a = \"))\n",
        "        b = float(input(\"b = \"))\n",
        "        if operation == '+':\n",
        "            print(f'{a} + {b} = ', round(add(a, b),2))\n",
        "\n",
        "        elif operation == '-':\n",
        "            print(f'{a} - {b} = ', round(subtract(a, b),2))\n",
        "\n",
        "        elif operation == '*':\n",
        "            print(f'{a} * {b} = ', round(multiply(a, b),2))\n",
        "\n",
        "        else :\n",
        "            print(f'{a} / {b} = ', round(divide(a, b),2))\n",
        "        continue_calc = input(\"Continue with calculator (Yes or No) : \")\n",
        "        print('\\n')\n",
        "        if continue_calc == \"No\":\n",
        "          break\n",
        "    \n",
        "    else:\n",
        "        print(\"Invalid Operation\")"
      ],
      "metadata": {
        "colab": {
          "base_uri": "https://localhost:8080/"
        },
        "id": "IyHw2MdnWNNF",
        "outputId": "6c36b445-3037-4429-abcb-a0cb0aa7bde6"
      },
      "execution_count": null,
      "outputs": [
        {
          "output_type": "stream",
          "name": "stdout",
          "text": [
            "Select operation.\n",
            "Enter operation +,-,*,/: =\n",
            "Invalid Operation\n",
            "Enter operation +,-,*,/: +\n",
            "a = 3.6\n",
            "b = 366\n",
            "3.6 + 366.0 =  369.6\n",
            "Continue with calculator (Yes or No) : Yes\n",
            "\n",
            "\n",
            "Enter operation +,-,*,/: -\n",
            "a = 3521.36\n",
            "b = 122\n",
            "3521.36 - 122.0 =  3399.36\n",
            "Continue with calculator (Yes or No) : Yes\n",
            "\n",
            "\n",
            "Enter operation +,-,*,/: *\n",
            "a = 2.85\n",
            "b = 12.35\n",
            "2.85 * 12.35 =  35.2\n",
            "Continue with calculator (Yes or No) : Yes\n",
            "\n",
            "\n",
            "Enter operation +,-,*,/: /\n",
            "a = 3.6\n",
            "b = 6.\n",
            "3.6 / 6.0 =  0.6\n",
            "Continue with calculator (Yes or No) : No\n",
            "\n",
            "\n"
          ]
        }
      ]
    }
  ]
}