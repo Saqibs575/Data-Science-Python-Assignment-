{
  "nbformat": 4,
  "nbformat_minor": 0,
  "metadata": {
    "colab": {
      "provenance": [],
      "collapsed_sections": []
    },
    "kernelspec": {
      "name": "python3",
      "display_name": "Python 3"
    },
    "language_info": {
      "name": "python"
    }
  },
  "cells": [
    {
      "cell_type": "markdown",
      "source": [
        "#***Programming_Assignment24***"
      ],
      "metadata": {
        "id": "6bulLcSqbEAl"
      }
    },
    {
      "cell_type": "markdown",
      "source": [
        "**Question1**<BR><BR>\n",
        "Create a function that takes an integer and returns a list from 1 to the given number, where:\n",
        "1. If the number can be divided evenly by 4, amplify it by 10 (i.e. return 10 times the\n",
        "number).\n",
        "2. If the number cannot be divided evenly by 4, simply return the number.\n",
        "\n",
        "<BT><BR>**Examples**<BR><BR>\n",
        "\n",
        "```\n",
        "amplify(4) ➞ [1, 2, 3, 40]\n",
        "\n",
        "amplify(3) ➞ [1, 2, 3]\n",
        "\n",
        "amplify(25) ➞ [1, 2, 3, 40, 5, 6, 7, 80, 9, 10, 11, 120, 13, 14, 15, 160,\n",
        "\n",
        "17, 18, 19, 200, 21, 22, 23, 240, 25]\n",
        "```"
      ],
      "metadata": {
        "id": "4AcUdEyTbN9N"
      }
    },
    {
      "cell_type": "code",
      "execution_count": 5,
      "metadata": {
        "colab": {
          "base_uri": "https://localhost:8080/"
        },
        "id": "NWnksa8lbBi_",
        "outputId": "bb993ad2-36e0-41ce-9bcc-a553b9ca51ee"
      },
      "outputs": [
        {
          "output_type": "stream",
          "name": "stdout",
          "text": [
            "[1, 2, 3, 40]\n",
            "[1, 2, 3]\n",
            "[1, 2, 3, 40, 5, 6, 7, 80, 9, 10, 11, 120, 13, 14, 15, 160, 17, 18, 19, 200, 21, 22, 23, 240, 25]\n",
            "\n",
            "Using list comprehension\n",
            "\n",
            "[1, 2, 3, 40]\n",
            "[1, 2, 3]\n",
            "[1, 2, 3, 40, 5, 6, 7, 80, 9, 10, 11, 120, 13, 14, 15, 160, 17, 18, 19, 200, 21, 22, 23, 240, 25]\n"
          ]
        }
      ],
      "source": [
        "def amplify(n) :\n",
        "    list1 =[]\n",
        "\n",
        "    for i in range(1,n+1) :\n",
        "        if i % 4 != 0 :\n",
        "            list1.append(i)\n",
        "        else :\n",
        "            list1.append(10*i)\n",
        "\n",
        "    return list1\n",
        "\n",
        "def amplify1(n) :\n",
        "\n",
        "    return [i if i % 4 != 0 else i*10 for i in range (1,n+1)]\n",
        "\n",
        "print(amplify(4))\n",
        "print(amplify(3))\n",
        "print(amplify(25))\n",
        "print('\\nUsing list comprehension\\n')\n",
        "print(amplify1(4))\n",
        "print(amplify1(3))\n",
        "print(amplify1(25))"
      ]
    },
    {
      "cell_type": "markdown",
      "source": [
        "**Question2**<BR><BR>\n",
        "Create a function that takes a list of numbers and return the number that&#39;s unique.\n",
        "<BR><BR>**Examples**<BR><BR>\n",
        "```\n",
        "unique([3, 3, 3, 7, 3, 3]) ➞ 7\n",
        "\n",
        "unique([0, 0, 0.77, 0, 0]) ➞ 0.77\n",
        "\n",
        "unique([0, 1, 1, 1, 1, 1, 1, 1]) ➞ 0\n",
        "```"
      ],
      "metadata": {
        "id": "2XwkMbyWdLHs"
      }
    },
    {
      "cell_type": "code",
      "source": [
        "def unique(list1) :\n",
        "    for i in list1 :\n",
        "        if list1.count(i) == 1 :\n",
        "            return i\n",
        "\n",
        "print(unique([3, 3, 3, 7, 3, 3]))\n",
        "print(unique([0, 0, 0.77, 0, 0]))\n",
        "print(unique([0, 1, 1, 1, 1, 1, 1, 1]))"
      ],
      "metadata": {
        "colab": {
          "base_uri": "https://localhost:8080/"
        },
        "id": "q3BkJfBRe0Mk",
        "outputId": "0d3325b9-4095-4079-eff0-2eb9c5835a71"
      },
      "execution_count": 7,
      "outputs": [
        {
          "output_type": "stream",
          "name": "stdout",
          "text": [
            "7\n",
            "0.77\n",
            "0\n"
          ]
        }
      ]
    },
    {
      "cell_type": "markdown",
      "source": [
        "**Question3**<BR><BR>\n",
        "Your task is to create a Circle constructor that creates a circle with a radius provided by an\n",
        "argument. The circles constructed must have two getters ```getArea()``` (PIr^2) and ```getPerimeter()``` (2PI*r) which give both respective areas and perimeter (circumference).<BR><BR>\n",
        "\n",
        "For help with this class, I have provided you with a Rectangle constructor which you can use\n",
        "as a base example.\n",
        "<BR><BR>**Examples**<BR><BR>\n",
        "```\n",
        "circy = Circle(11)\n",
        "circy.getArea()\n",
        "# Should return 380.132711084365\n",
        "\n",
        "circy = Circle(4.44)\n",
        "circy.getPerimeter()\n",
        "# Should return 27.897342763877365\n",
        "```"
      ],
      "metadata": {
        "id": "a7wW3c2ofsFz"
      }
    },
    {
      "cell_type": "code",
      "source": [
        "import math\n",
        "\n",
        "class Circle :\n",
        "    def __init__(self,r) :\n",
        "        self.r = r\n",
        "\n",
        "    def getArea(self) :\n",
        "        return round(math.pi*pow(self.r,2))\n",
        "\n",
        "    def getPerimeter(self) :\n",
        "        return round(math.pi*(2*self.r))"
      ],
      "metadata": {
        "id": "lcsDuThmhCrM"
      },
      "execution_count": 13,
      "outputs": []
    },
    {
      "cell_type": "code",
      "source": [
        "circy = Circle(11)\n",
        "circy.getArea()"
      ],
      "metadata": {
        "colab": {
          "base_uri": "https://localhost:8080/"
        },
        "id": "uwJfafouh3y_",
        "outputId": "9b8a05c8-2d63-4dfe-d833-cf7f24536c16"
      },
      "execution_count": 14,
      "outputs": [
        {
          "output_type": "execute_result",
          "data": {
            "text/plain": [
              "380"
            ]
          },
          "metadata": {},
          "execution_count": 14
        }
      ]
    },
    {
      "cell_type": "code",
      "source": [
        "circy = Circle(4.44)\n",
        "circy.getPerimeter()"
      ],
      "metadata": {
        "colab": {
          "base_uri": "https://localhost:8080/"
        },
        "id": "9ku5BynfiFjl",
        "outputId": "c5230bf9-2c87-4bf5-9e2f-e9a6c19dce7e"
      },
      "execution_count": 15,
      "outputs": [
        {
          "output_type": "execute_result",
          "data": {
            "text/plain": [
              "28"
            ]
          },
          "metadata": {},
          "execution_count": 15
        }
      ]
    },
    {
      "cell_type": "markdown",
      "source": [
        "**Question4**<BR><BR>\n",
        "Create a function that takes a list of strings and return a list, sorted from shortest to longest.\n",
        "<br><BR>**Examples**<BR><BR>\n",
        "```\n",
        "sort_by_length([\"Google\", \"Apple\", \"Microsoft\"])\n",
        "➞ [\"Apple\", \"Google\", \"Microsoft\"]\n",
        "\n",
        "sort_by_length([\"Leonardo\", \"Michelangelo\", \"Raphael\", \"Donatello\"])\n",
        "➞ [\"Raphael\", \"Leonardo\", \"Donatello\", \"Michelangelo\"]\n",
        "\n",
        "sort_by_length([\"Turing\", \"Einstein\", \"Jung\"])\n",
        "➞ [\"Jung\", \"Turing\", \"Einstein\"]\n",
        "```"
      ],
      "metadata": {
        "id": "cAnCUYo8ixVx"
      }
    },
    {
      "cell_type": "code",
      "source": [
        "def sort_by_length(list1) :\n",
        "\n",
        "    return sorted(list1,key = len)\n",
        "\n",
        "print(sort_by_length([\"Google\", \"Apple\", \"Microsoft\"]))\n",
        "print(sort_by_length([\"Leonardo\", \"Michelangelo\", \"Raphael\", \"Donatello\"]))\n",
        "print(sort_by_length([\"Turing\", \"Einstein\", \"Jung\"]))"
      ],
      "metadata": {
        "colab": {
          "base_uri": "https://localhost:8080/"
        },
        "id": "5UQy5gpJjnKn",
        "outputId": "f05374e2-526f-44fe-a942-d49e36859258"
      },
      "execution_count": 32,
      "outputs": [
        {
          "output_type": "stream",
          "name": "stdout",
          "text": [
            "['Apple', 'Google', 'Microsoft']\n",
            "['Raphael', 'Leonardo', 'Donatello', 'Michelangelo']\n",
            "['Jung', 'Turing', 'Einstein']\n"
          ]
        }
      ]
    },
    {
      "cell_type": "markdown",
      "source": [
        "**Question5**<BR><BR>\n",
        "Create a function that validates whether three given integers form a Pythagorean triplet. The\n",
        "sum of the squares of the two smallest integers must equal the square of the largest number to\n",
        "be validated.\n",
        "<BR><BR>\n",
        "**Examples**<BR><BR>\n",
        "```\n",
        "is_triplet(3, 4, 5) ➞ True\n",
        "# 3² + 4² = 25\n",
        "# 5² = 25\n",
        "\n",
        "is_triplet(13, 5, 12) ➞ True\n",
        "# 5² + 12² = 169\n",
        "# 13² = 169\n",
        "\n",
        "is_triplet(1, 2, 3) ➞ False\n",
        "# 1² + 2² = 5\n",
        "# 3² = 9\n",
        "```"
      ],
      "metadata": {
        "id": "6NZr1w-nrCKK"
      }
    },
    {
      "cell_type": "code",
      "source": [
        "def is_triplet(a,b,c) :\n",
        "    list1 = sorted([a,b,c])\n",
        "\n",
        "    if list1[0]**2 + list1[1]**2 == list1[2]**2 :\n",
        "        return True \n",
        "    return False\n",
        "\n",
        "print(is_triplet(3,4,5))\n",
        "print(is_triplet(13,5,12))\n",
        "print(is_triplet(1,2,3))"
      ],
      "metadata": {
        "colab": {
          "base_uri": "https://localhost:8080/"
        },
        "id": "gWBaBGc-rieI",
        "outputId": "4be36297-7ae4-4025-e8cb-4a1f06693daf"
      },
      "execution_count": 31,
      "outputs": [
        {
          "output_type": "stream",
          "name": "stdout",
          "text": [
            "True\n",
            "True\n",
            "False\n"
          ]
        }
      ]
    }
  ]
}