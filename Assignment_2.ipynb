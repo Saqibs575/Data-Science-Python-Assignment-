{
  "cells": [
    {
      "cell_type": "markdown",
      "source": [
        "#***Assignment_2***"
      ],
      "metadata": {
        "id": "6ezQs4_Ul6vS"
      }
    },
    {
      "cell_type": "markdown",
      "metadata": {
        "id": "JgBtx0xFFv_i"
      },
      "source": [
        "Q1.What are the two values of the Boolean data type? How do you write them?<br>**ANS :**<br>\n",
        "True and False are two values of Boolean data types. Both can be written as True , False.\n"
      ]
    },
    {
      "cell_type": "markdown",
      "metadata": {
        "id": "3jcHW3nRJpaE"
      },
      "source": [
        "Q2. What are the three different types of Boolean operators?<br>\n",
        "**ANS :**<br>\n",
        "and, or & not are three Boolean operators."
      ]
    },
    {
      "cell_type": "markdown",
      "source": [
        "3. Make a list of each Boolean operator&#39;s truth tables (i.e. every possible combination of Boolean values for the operator and what it evaluate ).<br>\n",
        "**ANS :**<br>\n",
        "\n",
        "\n",
        "1.   and operator<br>\n",
        "True and True   --------> True<br>\n",
        "True and False --------> False<br>\n",
        "False and True ---------> False <br>\n",
        "False and False --------> False\n",
        "2.   or operator <br>\n",
        "True and True   --------> True<br>\n",
        "True and False --------> True<br>\n",
        "False and True ---------> True <br>\n",
        "False and False --------> False<br>\n",
        "\n",
        "3.   not operator<br>\n",
        "not True --------> False<br>\n",
        "not False --------> True\n",
        "\n",
        "\n",
        "\n",
        "\n"
      ],
      "metadata": {
        "id": "C_hcBkSeX5W6"
      }
    },
    {
      "cell_type": "markdown",
      "source": [
        "Q4. What are the values of the following expressions?<br>\n",
        "(5 &gt; 4) and (3 == 5)<br>\n",
        "not (5 &gt; 4)<br>\n",
        "(5 &gt; 4) or (3 == 5)<br>\n",
        "not ((5 &gt; 4) or (3 == 5))<br>\n",
        "(True and True) and (True == False)<br>\n",
        "(not False) or (not True)<br><br>\n",
        "**ANS :**<br>\n",
        "(5 &gt; 4) and (3 == 5) --------> False<br>\n",
        "not (5 &gt; 4) --------> False<br>\n",
        "(5 &gt; 4) or (3 == 5) --------> True<br>\n",
        "not ((5 &gt; 4) or (3 == 5)) -------->False<br>\n",
        "(True and True) and (True == False) --------> False<br>\n",
        "(not False) or (not True) --------> True<br>"
      ],
      "metadata": {
        "id": "B5hy-3s3aNmS"
      }
    },
    {
      "cell_type": "markdown",
      "source": [
        "Q5. What are the six comparison operators?<br>\n",
        "**ANS :**<br>\n",
        "1. == (Equal to) \n",
        "2. != (not equal to)\n",
        "3. < (strictly greater than)\n",
        "4.  &gt; (strictly less than)\n",
        "5. <= (less than or equal)\n",
        "6. &gt;= (greater than or equal)"
      ],
      "metadata": {
        "id": "o7V7_UzKbcJu"
      }
    },
    {
      "cell_type": "markdown",
      "source": [
        "6. How do you tell the difference between the equal to and assignment operators?Describe a\n",
        "condition and when you would use one.<br>**ANS :**<br>\n",
        "== (equal to) is comparison operator that checks whether two values are equal or not and based on that it gives True or False. Whereas = is use to assign a value to the variable present on the left side of the operator.<br>\n",
        "We will use == if we have condition like whether two quantities are equal or not.<br>We will use = if we want to store any quantity into some variable. "
      ],
      "metadata": {
        "id": "FaKDDzfldWLm"
      }
    },
    {
      "cell_type": "markdown",
      "source": [
        "Q7. Identify the three blocks in this code:<br>\n",
        "spam = 0<br>\n",
        "if spam == 10:<br>\n",
        "print(&#39;eggs&#39;)<br>\n",
        "if spam &gt; 5:<br>\n",
        "print(&#39;bacon&#39;)<br>\n",
        "ese:<br>\n",
        "print(&#39;ham&#39;)<br>\n",
        "print(&#39;spam&#39;)<br>\n",
        "print(&#39;spam&#39;)<br>**ANS :**<br>\n",
        "###1st block :<br>\n",
        "if spam == 10:<br>\n",
        "print(&#39;eggs&#39;)<br> \n",
        "### 2nd Block :<br> \n",
        "if spam &gt; 5:<br>\n",
        "print(&#39;bacon&#39;)<br> \n",
        "### 3rd block : \n",
        "else:<br>\n",
        "print(&#39;ham&#39;)<br>\n",
        "print(&#39;spam&#39;)<br>\n",
        "print(&#39;spam&#39;)"
      ],
      "metadata": {
        "id": "aCbQthbdfROR"
      }
    },
    {
      "cell_type": "markdown",
      "source": [
        "Q8. Write code that prints Hello if 1 is stored in spam, prints Howdy if 2 is stored in spam, and prints\n",
        "Greetings! if anything else is stored in spam.<br>\n",
        "if spam == 1:\n",
        "print('Hello')\n",
        "elif spam == 2:\n",
        "print('Howdy')\n",
        "else:\n",
        "print('Greetings!')<br>**ANS :**\n",
        "\n",
        "``` \n",
        "spam=int(input())\n",
        "if spam == 1:\n",
        "    print('Hello')\n",
        "elif spam == 2:\n",
        "    print('Howdy')\n",
        "else:\n",
        "    print('Greetings!')\n",
        "```\n",
        "\n"
      ],
      "metadata": {
        "id": "p0UfE-31hmcX"
      }
    },
    {
      "cell_type": "markdown",
      "source": [
        "Q9.If your programme is stuck in an endless loop, what keys you’ll press?<br>**ANS :**<br>\n",
        "Press ctrl-C"
      ],
      "metadata": {
        "id": "hj4M3MQdi0BX"
      }
    },
    {
      "cell_type": "markdown",
      "source": [
        "Q10. How can you tell the difference between break and continue?<br>**ANS :**<br>\n",
        "break command will stop the loop and continue command will go to the next iteration of the loop."
      ],
      "metadata": {
        "id": "HLVjEbC1jPNO"
      }
    },
    {
      "cell_type": "markdown",
      "source": [
        "Q11. In a for loop, what is the difference between range(10), range(0, 10), and range(0, 10, 1)?<br>**ANS :**<br>\n",
        "All three are same."
      ],
      "metadata": {
        "id": "IbCmaLOzj6Im"
      }
    },
    {
      "cell_type": "markdown",
      "source": [
        "Q12. Write a short program that prints the numbers 1 to 10 using a for loop. Then write an equivalent\n",
        "program that prints the numbers 1 to 10 using a while loop.<br>**ANS :**<br>\n",
        "\n",
        "### Using for loop\n",
        "``` \n",
        "for i in range (1,11):\n",
        "    print(i)\n",
        "```\n",
        "### Using while loop\n",
        "```\n",
        "i = 1\n",
        "while (i <= 10):\n",
        "    print(i)\n",
        "    i += 1\n",
        "```\n",
        "\n"
      ],
      "metadata": {
        "id": "cOkOsuC7kTyz"
      }
    },
    {
      "cell_type": "markdown",
      "source": [
        "Q13. If you had a function named bacon() inside a module named spam, how would you call it after\n",
        "importing spam?<br>**ANS :**<br>spam.bacon()"
      ],
      "metadata": {
        "id": "Z7Ez7PZElYsd"
      }
    }
  ],
  "metadata": {
    "colab": {
      "collapsed_sections": [],
      "provenance": []
    },
    "kernelspec": {
      "display_name": "Python 3",
      "name": "python3"
    }
  },
  "nbformat": 4,
  "nbformat_minor": 0
}