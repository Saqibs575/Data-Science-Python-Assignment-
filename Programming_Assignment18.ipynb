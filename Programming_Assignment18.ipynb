{
  "nbformat": 4,
  "nbformat_minor": 0,
  "metadata": {
    "colab": {
      "provenance": [],
      "collapsed_sections": []
    },
    "kernelspec": {
      "name": "python3",
      "display_name": "Python 3"
    },
    "language_info": {
      "name": "python"
    }
  },
  "cells": [
    {
      "cell_type": "markdown",
      "source": [
        "#***Programming_Assignment18***"
      ],
      "metadata": {
        "id": "7onHbx3fpQFq"
      }
    },
    {
      "cell_type": "markdown",
      "source": [
        "**Question 1**<BR>\n",
        "Create a function that takes a list of non-negative integers and strings and return a new list\n",
        "without the strings.<BR><BR>\n",
        "**Examples**<BR><BR>\n",
        "```\n",
        "filter_list([1, 2, \"a\", \"b\"]) ➞ [1, 2]\n",
        "\n",
        "filter_list([1, \"a\", \"b\", 0, 15]) ➞ [1, 0, 15]\n",
        "\n",
        "filter_list([1, 2, \"aasf\", \"1\", \"123\", 123]) ➞ [1, 2, 123]\n",
        "```"
      ],
      "metadata": {
        "id": "OUptdE6JE9Rh"
      }
    },
    {
      "cell_type": "code",
      "source": [
        "def filter_list(list1) :\n",
        "    list2=[]\n",
        "\n",
        "    for i in list1 :\n",
        "        if type(i) != str :\n",
        "            list2.append(i)\n",
        "        \n",
        "    return list2\n",
        "\n",
        "print(filter_list([1, 2, \"a\", \"b\"]))\n",
        "print(filter_list([1,'a','b',0,15]))\n",
        "print(filter_list([1,2,'aasf','1','123',123]))    "
      ],
      "metadata": {
        "colab": {
          "base_uri": "https://localhost:8080/"
        },
        "id": "UrM64YSSFej2",
        "outputId": "b5b46d24-155f-4273-c8b4-22fa7922d422"
      },
      "execution_count": 29,
      "outputs": [
        {
          "output_type": "stream",
          "name": "stdout",
          "text": [
            "[1, 2]\n",
            "[1, 0, 15]\n",
            "[1, 2, 123]\n"
          ]
        }
      ]
    },
    {
      "cell_type": "markdown",
      "source": [
        "**Question 2**<br><BR>\n",
        "The \"Reverser\" takes a string as input and returns that string in reverse order, with the\n",
        "opposite case.<BR><BR>\n",
        "**Examples**<BR><BR>\n",
        "```\n",
        "reverse(\"Hello World\") ➞ \"DLROw OLLEh\"\n",
        "reverse(\"ReVeRsE\") ➞ \"eSrEvEr\"\n",
        "reverse(\"Radar\") ➞ \"RADAr\"\n",
        "```"
      ],
      "metadata": {
        "id": "9em9mGqCKv0N"
      }
    },
    {
      "cell_type": "code",
      "source": [
        "def reverse(string) :\n",
        "\n",
        "    string = string[::-1].swapcase()\n",
        "\n",
        "    return string\n",
        "\n",
        "print(reverse(\"Hello World\"))\n",
        "print(reverse(\"ReVeRsE\"))\n",
        "print(reverse(\"Radar\"))"
      ],
      "metadata": {
        "colab": {
          "base_uri": "https://localhost:8080/"
        },
        "id": "n9cqAP6tFxqA",
        "outputId": "30e2aeb9-1f1f-4e55-b015-429303cd16be"
      },
      "execution_count": 32,
      "outputs": [
        {
          "output_type": "stream",
          "name": "stdout",
          "text": [
            "DLROw OLLEh\n",
            "eSrEvEr\n",
            "RADAr\n"
          ]
        }
      ]
    },
    {
      "cell_type": "markdown",
      "source": [
        "**Question 3**<BR><BR>\n",
        "You can assign variables from lists like this:<BR><BR>\n",
        "```\n",
        "lst = [1, 2, 3, 4, 5, 6]\n",
        "first = lst[0]\n",
        "middle = lst[1:-1]\n",
        "last = lst[-1]\n",
        "\n",
        "print(first) ➞ outputs 1\n",
        "print(middle) ➞ outputs [2, 3, 4, 5]\n",
        "print(last) ➞ outputs 6\n",
        "```\n",
        "<BR>\n",
        "With Python 3, you can assign variables from lists in a much more succinct way. Create\n",
        "variables first, middle and last from the given list using destructuring assignment\n",
        "(check the Resources tab for some examples), where:<BR>\n",
        "\n",
        "\n",
        "```\n",
        "first ➞ 1\n",
        "middle ➞ [2, 3, 4, 5]\n",
        "last ➞ 6\n",
        "```\n",
        "<BR>\n",
        "Your task is to unpack the list \n",
        "\n",
        "\n",
        "```writeyourcodehere``` into three variables, being ```first```,\n",
        "```middle```, and ```last```, with middle being everything in between the first and last element. Then\n",
        "print all three variables.*italicised text*"
      ],
      "metadata": {
        "id": "j_Yz_sgbMj3l"
      }
    },
    {
      "cell_type": "code",
      "source": [
        "task = 'writeyourcodehere'\n",
        "list1 = list(task)\n",
        "first = list1[0]\n",
        "middle = list1[1:-1]\n",
        "last = list1[-1]\n",
        "print(first)\n",
        "print(middle)\n",
        "print(last)"
      ],
      "metadata": {
        "colab": {
          "base_uri": "https://localhost:8080/"
        },
        "id": "hKmq7jf6RUfL",
        "outputId": "70adfef1-9fad-4907-ad4d-b921272cd39b"
      },
      "execution_count": 34,
      "outputs": [
        {
          "output_type": "stream",
          "name": "stdout",
          "text": [
            "w\n",
            "['r', 'i', 't', 'e', 'y', 'o', 'u', 'r', 'c', 'o', 'd', 'e', 'h', 'e', 'r']\n",
            "e\n"
          ]
        }
      ]
    },
    {
      "cell_type": "markdown",
      "source": [
        "**Question 4**<BR><BR>\n",
        "Write a function that calculates the factorial of a number recursively.\n",
        "<BR><BR>**Examples**<BR><BR>\n",
        "```\n",
        "factorial(5) ➞ 120\n",
        "\n",
        "factorial(3) ➞ 6\n",
        "\n",
        "factorial(1) ➞ 1\n",
        "\n",
        "factorial(0) ➞ 1\n",
        "```"
      ],
      "metadata": {
        "id": "ciMN3Zp9SDtz"
      }
    },
    {
      "cell_type": "code",
      "source": [
        "def factorial(num) :\n",
        "\n",
        "    if num == 0 or num == 1 :\n",
        "        return 1\n",
        "    return num*factorial(num-1)\n",
        "\n",
        "print(factorial(5))\n",
        "print(factorial(3))\n",
        "print(factorial(1))\n",
        "print(factorial(0))"
      ],
      "metadata": {
        "colab": {
          "base_uri": "https://localhost:8080/"
        },
        "id": "Yv5Cc_VFSVqz",
        "outputId": "795580e0-f2fb-49ae-869e-958e7fe9ff7e"
      },
      "execution_count": 35,
      "outputs": [
        {
          "output_type": "stream",
          "name": "stdout",
          "text": [
            "120\n",
            "6\n",
            "1\n",
            "1\n"
          ]
        }
      ]
    },
    {
      "cell_type": "markdown",
      "source": [
        "**Question 5**<BR><BR>\n",
        "Write a function that moves all elements of one type to the end of the list.<BR><BR>\n",
        "**Examples**<BR><BR>\n",
        "```\n",
        "move_to_end([1, 3, 2, 4, 4, 1], 1) ➞ [3, 2, 4, 4, 1, 1]\n",
        "\n",
        "# Move all the 1s to the end of the array.\n",
        "\n",
        "move_to_end([7, 8, 9, 1, 2, 3, 4], 9) ➞ [7, 8, 1, 2, 3, 4, 9]\n",
        "\n",
        "move_to_end([\"a\", \"a\", \"a\", \"b\"], \"a\") ➞ [\"b\", \"a\", \"a\", \"a\"]\n",
        "```"
      ],
      "metadata": {
        "id": "duwR8GjdTF7g"
      }
    },
    {
      "cell_type": "code",
      "source": [
        "def move_to_end(list1,elt) :\n",
        "\n",
        "    for i in list1 :\n",
        "        if i == elt :\n",
        "            list1.append(i) \n",
        "            list1.remove(i)\n",
        "    \n",
        "    return list1\n",
        "\n",
        "print(move_to_end([1, 3, 2, 4, 4, 1], 1))\n",
        "print(move_to_end([7, 8, 9, 1, 2, 3, 4], 9))\n",
        "print(move_to_end([\"a\", \"a\", \"a\", \"b\"], \"a\"))"
      ],
      "metadata": {
        "colab": {
          "base_uri": "https://localhost:8080/"
        },
        "id": "OprtoynzT9Lz",
        "outputId": "7a466707-884f-4ee1-b195-1b83be0992e0"
      },
      "execution_count": 36,
      "outputs": [
        {
          "output_type": "stream",
          "name": "stdout",
          "text": [
            "[3, 2, 4, 4, 1, 1]\n",
            "[7, 8, 1, 2, 3, 4, 9]\n",
            "['b', 'a', 'a', 'a']\n"
          ]
        }
      ]
    }
  ]
}