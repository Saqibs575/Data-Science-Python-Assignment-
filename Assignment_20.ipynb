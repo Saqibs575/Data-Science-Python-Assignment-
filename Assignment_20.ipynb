{
  "nbformat": 4,
  "nbformat_minor": 0,
  "metadata": {
    "colab": {
      "provenance": [],
      "collapsed_sections": []
    },
    "kernelspec": {
      "name": "python3",
      "display_name": "Python 3"
    },
    "language_info": {
      "name": "python"
    }
  },
  "cells": [
    {
      "cell_type": "markdown",
      "source": [
        "#***Assignment_20***"
      ],
      "metadata": {
        "id": "KT8GAI_-41BE"
      }
    },
    {
      "cell_type": "markdown",
      "source": [
        "Q1. Set the variable test1 to the string &#39;This is a test of the emergency text system,&#39; and save test1 to a\n",
        "file named test.txt."
      ],
      "metadata": {
        "id": "nYaBqsk146Tl"
      }
    },
    {
      "cell_type": "code",
      "execution_count": null,
      "metadata": {
        "id": "oWmyrA4A4wU0"
      },
      "outputs": [],
      "source": [
        "test1 = 'This is a test of the emergency text system,'"
      ]
    },
    {
      "cell_type": "code",
      "source": [
        "file1 = open('test.txt','w')"
      ],
      "metadata": {
        "id": "HnbsSSzAbUq_"
      },
      "execution_count": null,
      "outputs": []
    },
    {
      "cell_type": "code",
      "source": [
        "file1.write(test1)\n",
        "file1.close()"
      ],
      "metadata": {
        "id": "uAGiRgcTbuOQ"
      },
      "execution_count": null,
      "outputs": []
    },
    {
      "cell_type": "markdown",
      "source": [
        "Q2. Read the contents of the file test.txt into the variable test2. Is there a difference between test 1\n",
        "and test 2?"
      ],
      "metadata": {
        "id": "juSwwREBcJ_R"
      }
    },
    {
      "cell_type": "code",
      "source": [
        "file2 = open('test.txt','r')\n",
        "test2 = file2.read()"
      ],
      "metadata": {
        "id": "3ix7h3wdb5Ym"
      },
      "execution_count": null,
      "outputs": []
    },
    {
      "cell_type": "code",
      "source": [
        "test1 == test2"
      ],
      "metadata": {
        "colab": {
          "base_uri": "https://localhost:8080/"
        },
        "id": "-SSPvknad3hr",
        "outputId": "73811110-177c-4fda-b1fb-0f673b71af41"
      },
      "execution_count": null,
      "outputs": [
        {
          "output_type": "execute_result",
          "data": {
            "text/plain": [
              "True"
            ]
          },
          "metadata": {},
          "execution_count": 5
        }
      ]
    },
    {
      "cell_type": "markdown",
      "source": [
        "There is no difference in test1 and tets2 "
      ],
      "metadata": {
        "id": "mLJDA0_MeD32"
      }
    },
    {
      "cell_type": "markdown",
      "source": [
        "Q3. Create a CSV file called books.csv by using these lines:<BR><BR>\n",
        "title,author,year<BR><BR>\n",
        "The Weirdstone of Brisingamen,Alan Garner,1960<BR><BR>\n",
        "Perdido Street Station,China Miéville,2000<BR><BR>\n",
        "Thud!,Terry Pratchett,2005<BR><BR>\n",
        "The Spellman Files,Lisa Lutz,2007<BR><BR>\n",
        "Small Gods,Terry Pratchett,1992<BR><BR>"
      ],
      "metadata": {
        "id": "HqwyhcvTeKy1"
      }
    },
    {
      "cell_type": "code",
      "source": [
        "file3 = open('books.csv','w')\n",
        "file3.write('''title,author,year\n",
        "\n",
        "The Weirdstone of Brisingamen,Alan Garner,1960\n",
        "\n",
        "Perdido Street Station,China Miéville,2000\n",
        "\n",
        "Thud!,Terry Pratchett,2005\n",
        "\n",
        "The Spellman Files,Lisa Lutz,2007\n",
        "\n",
        "Small Gods,Terry Pratchett,1992\n",
        "''')\n",
        "file3.close()"
      ],
      "metadata": {
        "id": "FltsBdaiehRW"
      },
      "execution_count": null,
      "outputs": []
    },
    {
      "cell_type": "markdown",
      "source": [
        "Q4. Use the sqlite3 module to create a SQLite database called books.db, and a table called books with\n",
        "these fields: title (text), author (text), and year (integer)."
      ],
      "metadata": {
        "id": "LbCKldv7fRjw"
      }
    },
    {
      "cell_type": "code",
      "source": [
        "import sqlite3\n",
        "database = sqlite3.connect('books.db')\n",
        "database.cursor().execute('create table book (title text, author text, year int)')\n",
        "database.commit()"
      ],
      "metadata": {
        "id": "e5LDe_CbfYIa"
      },
      "execution_count": null,
      "outputs": []
    },
    {
      "cell_type": "markdown",
      "source": [
        "Q5. Read books.csv and insert its data into the book table."
      ],
      "metadata": {
        "id": "8hem106lgX7B"
      }
    },
    {
      "cell_type": "code",
      "source": [
        "import csv\n",
        "file4 = open('books.csv','r')\n",
        "csv_ = csv.DictReader(file4)\n",
        "for book in csv_ :\n",
        "    database.cursor().execute('insert into book values(?, ?, ?)',(book['title'], book['author'], book['year']))\n",
        "\n",
        "database.commit()"
      ],
      "metadata": {
        "id": "YeFXtKqlggTQ"
      },
      "execution_count": null,
      "outputs": []
    },
    {
      "cell_type": "markdown",
      "source": [
        "Q6. Select and print the title column from the book table in alphabetical order."
      ],
      "metadata": {
        "id": "8-wYtWuxiygI"
      }
    },
    {
      "cell_type": "code",
      "source": [
        "sql = 'select title from book order by title asc'\n",
        "for i in database.execute(sql):\n",
        "    print(i[0])"
      ],
      "metadata": {
        "colab": {
          "base_uri": "https://localhost:8080/"
        },
        "id": "XLQwyRaMi2-2",
        "outputId": "18242ebf-b197-4095-f552-a604072689e7"
      },
      "execution_count": null,
      "outputs": [
        {
          "output_type": "stream",
          "name": "stdout",
          "text": [
            "Perdido Street Station\n",
            "Small Gods\n",
            "The Spellman Files\n",
            "The Weirdstone of Brisingamen\n",
            "Thud!\n"
          ]
        }
      ]
    },
    {
      "cell_type": "markdown",
      "source": [
        "Q7. From the book table, select and print all columns in the order of publication."
      ],
      "metadata": {
        "id": "w1i3Ykuqj9OU"
      }
    },
    {
      "cell_type": "code",
      "source": [
        "for i in database.execute('select * from book order by year'):\n",
        "    print(i)"
      ],
      "metadata": {
        "colab": {
          "base_uri": "https://localhost:8080/"
        },
        "id": "E68cRn6tkA5j",
        "outputId": "02192f9d-fd3a-452e-d28d-a38caec68a3b"
      },
      "execution_count": null,
      "outputs": [
        {
          "output_type": "stream",
          "name": "stdout",
          "text": [
            "('The Weirdstone of Brisingamen', 'Alan Garner', 1960)\n",
            "('Small Gods', 'Terry Pratchett', 1992)\n",
            "('Perdido Street Station', 'China Miéville', 2000)\n",
            "('Thud!', 'Terry Pratchett', 2005)\n",
            "('The Spellman Files', 'Lisa Lutz', 2007)\n"
          ]
        }
      ]
    },
    {
      "cell_type": "markdown",
      "source": [
        "Q8. Use the sqlalchemy module to connect to the sqlite3 database books.db that you just made in\n",
        "exercise 6."
      ],
      "metadata": {
        "id": "EYjeVcZDkue8"
      }
    },
    {
      "cell_type": "code",
      "source": [
        "import sqlalchemy\n",
        "connect = sqlalchemy.create_engine('sqlite:///books.db')\n",
        "sql = 'select title from book order by title asc'\n",
        "rows = connect.execute(sql) \n",
        "for row in rows:\n",
        "    print(row)"
      ],
      "metadata": {
        "colab": {
          "base_uri": "https://localhost:8080/"
        },
        "id": "9FDBNWYAkxyB",
        "outputId": "b0466f6c-1926-4c32-b77b-70d542d89c41"
      },
      "execution_count": null,
      "outputs": [
        {
          "output_type": "stream",
          "name": "stdout",
          "text": [
            "('Perdido Street Station',)\n",
            "('Small Gods',)\n",
            "('The Spellman Files',)\n",
            "('The Weirdstone of Brisingamen',)\n",
            "('Thud!',)\n"
          ]
        }
      ]
    },
    {
      "cell_type": "markdown",
      "source": [
        "9. Install the Redis server and the Python redis library (pip install redis) on your computer. Create a\n",
        "Redis hash called test with the fields count (1) and name (&#39;Fester Bestertester&#39;). Print all the fields for\n",
        "test."
      ],
      "metadata": {
        "id": "EDPOadvjoocq"
      }
    },
    {
      "cell_type": "code",
      "source": [
        "%pip install redis-server redis"
      ],
      "metadata": {
        "colab": {
          "base_uri": "https://localhost:8080/"
        },
        "id": "Wx13EoSJr_pu",
        "outputId": "d090b2f6-2666-4bb2-d117-98c1ed5132b2"
      },
      "execution_count": null,
      "outputs": [
        {
          "output_type": "stream",
          "name": "stdout",
          "text": [
            "Looking in indexes: https://pypi.org/simple, https://us-python.pkg.dev/colab-wheels/public/simple/\n",
            "Collecting redis-server\n",
            "  Downloading redis_server-6.0.9-202010301343-cp37-cp37m-manylinux2010_x86_64.whl (5.5 MB)\n",
            "\u001b[K     |████████████████████████████████| 5.5 MB 7.3 MB/s \n",
            "\u001b[?25hRequirement already satisfied: redis in /usr/local/lib/python3.7/dist-packages (4.3.4)\n",
            "Requirement already satisfied: async-timeout>=4.0.2 in /usr/local/lib/python3.7/dist-packages (from redis) (4.0.2)\n",
            "Requirement already satisfied: typing-extensions in /usr/local/lib/python3.7/dist-packages (from redis) (4.1.1)\n",
            "Requirement already satisfied: importlib-metadata>=1.0 in /usr/local/lib/python3.7/dist-packages (from redis) (4.13.0)\n",
            "Requirement already satisfied: packaging>=20.4 in /usr/local/lib/python3.7/dist-packages (from redis) (21.3)\n",
            "Requirement already satisfied: deprecated>=1.2.3 in /usr/local/lib/python3.7/dist-packages (from redis) (1.2.13)\n",
            "Requirement already satisfied: wrapt<2,>=1.10 in /usr/local/lib/python3.7/dist-packages (from deprecated>=1.2.3->redis) (1.14.1)\n",
            "Requirement already satisfied: zipp>=0.5 in /usr/local/lib/python3.7/dist-packages (from importlib-metadata>=1.0->redis) (3.9.0)\n",
            "Requirement already satisfied: pyparsing!=3.0.5,>=2.0.2 in /usr/local/lib/python3.7/dist-packages (from packaging>=20.4->redis) (3.0.9)\n",
            "Installing collected packages: redis-server\n",
            "Successfully installed redis-server-6.0.9\n"
          ]
        }
      ]
    },
    {
      "cell_type": "code",
      "source": [
        "! pip install redis"
      ],
      "metadata": {
        "colab": {
          "base_uri": "https://localhost:8080/"
        },
        "id": "wiKh1OcSo-NJ",
        "outputId": "05cf3b5a-f01c-4194-dd95-bdbc52dedc6c"
      },
      "execution_count": null,
      "outputs": [
        {
          "output_type": "stream",
          "name": "stdout",
          "text": [
            "Looking in indexes: https://pypi.org/simple, https://us-python.pkg.dev/colab-wheels/public/simple/\n",
            "Collecting redis\n",
            "  Downloading redis-4.3.4-py3-none-any.whl (246 kB)\n",
            "\u001b[K     |████████████████████████████████| 246 kB 40.4 MB/s \n",
            "\u001b[?25hRequirement already satisfied: importlib-metadata>=1.0 in /usr/local/lib/python3.7/dist-packages (from redis) (4.13.0)\n",
            "Requirement already satisfied: packaging>=20.4 in /usr/local/lib/python3.7/dist-packages (from redis) (21.3)\n",
            "Collecting deprecated>=1.2.3\n",
            "  Downloading Deprecated-1.2.13-py2.py3-none-any.whl (9.6 kB)\n",
            "Requirement already satisfied: typing-extensions in /usr/local/lib/python3.7/dist-packages (from redis) (4.1.1)\n",
            "Requirement already satisfied: async-timeout>=4.0.2 in /usr/local/lib/python3.7/dist-packages (from redis) (4.0.2)\n",
            "Requirement already satisfied: wrapt<2,>=1.10 in /usr/local/lib/python3.7/dist-packages (from deprecated>=1.2.3->redis) (1.14.1)\n",
            "Requirement already satisfied: zipp>=0.5 in /usr/local/lib/python3.7/dist-packages (from importlib-metadata>=1.0->redis) (3.9.0)\n",
            "Requirement already satisfied: pyparsing!=3.0.5,>=2.0.2 in /usr/local/lib/python3.7/dist-packages (from packaging>=20.4->redis) (3.0.9)\n",
            "Installing collected packages: deprecated, redis\n",
            "Successfully installed deprecated-1.2.13 redis-4.3.4\n"
          ]
        }
      ]
    },
    {
      "cell_type": "code",
      "source": [
        "import redis"
      ],
      "metadata": {
        "id": "SOjOvREiqPzQ"
      },
      "execution_count": null,
      "outputs": []
    },
    {
      "cell_type": "code",
      "source": [
        "connect = redis.Redis()"
      ],
      "metadata": {
        "id": "YVCpL8gIqd2P"
      },
      "execution_count": null,
      "outputs": []
    }
  ]
}