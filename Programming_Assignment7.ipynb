{
  "cells": [
    {
      "cell_type": "markdown",
      "metadata": {
        "id": "hGH-vIyqudT5"
      },
      "source": [
        "#***Programming_Assignment7***"
      ]
    },
    {
      "cell_type": "markdown",
      "metadata": {
        "id": "kncNDfTwuoRN"
      },
      "source": [
        "Q1. Write a Python Program to find sum of array?"
      ]
    },
    {
      "cell_type": "code",
      "execution_count": null,
      "metadata": {
        "colab": {
          "base_uri": "https://localhost:8080/"
        },
        "id": "UZt9kp0cuBkU",
        "outputId": "d8bd4c4f-619d-48db-9b85-b1f0e5d5a2ea"
      },
      "outputs": [
        {
          "output_type": "stream",
          "name": "stdout",
          "text": [
            "Give space separated elements of an array : 19 21 23 25 27 29 31 -19 -21 -23 -25 -29\n",
            "Sum of an array is :  58\n"
          ]
        }
      ],
      "source": [
        "def arraySum(arr):\n",
        "    sum=0\n",
        "    for i in arr :\n",
        "        sum+=i\n",
        "    return sum\n",
        "Input = input (\"Give space separated elements of an array : \")\n",
        "arr=[eval(i) for i in Input.split()]\n",
        "print('Sum of an array is : ',arraySum(arr))"
      ]
    },
    {
      "cell_type": "markdown",
      "source": [
        "Q2. Write a Python Program to find largest element in an array?"
      ],
      "metadata": {
        "id": "rGJqDp-fGlRY"
      }
    },
    {
      "cell_type": "code",
      "source": [
        "def max(arr) :\n",
        "    max = arr[0]\n",
        "    for i in arr :\n",
        "        if i >= max :\n",
        "            max = i\n",
        "    return max\n",
        "Input = input (\"Give space separated elements of an array : \")\n",
        "arr=[eval(i) for i in Input.split()]\n",
        "print('Largest element of an array is : ',max(arr))"
      ],
      "metadata": {
        "colab": {
          "base_uri": "https://localhost:8080/"
        },
        "id": "m6vYeTfzGm8_",
        "outputId": "95bb2a93-bc53-402b-b134-698287c59852"
      },
      "execution_count": null,
      "outputs": [
        {
          "output_type": "stream",
          "name": "stdout",
          "text": [
            "Give space separated elements of an array : 23 12 25 23 10 -123 2365 2533 22 2.365 -6541\n",
            "Largest element of an array is :  2533\n"
          ]
        }
      ]
    },
    {
      "cell_type": "markdown",
      "source": [
        "Q3. Write a Python Program for array rotation?"
      ],
      "metadata": {
        "id": "zF6waQlJItHo"
      }
    },
    {
      "cell_type": "code",
      "source": [
        "def rotate(arr,f) :\n",
        "    i = 0\n",
        "    while(i != f) :\n",
        "        arr.append(arr[0])\n",
        "        arr.pop(0)\n",
        "        i += 1\n",
        "    return arr\n",
        "Input = input (\"Give space separated elements of an array : \")\n",
        "f = int(input ('Give factor of rotation : '))\n",
        "arr=[eval(i) for i in Input.split()]\n",
        "print('Array before rotation   :',arr)\n",
        "print('Array after rotation    :',rotate(arr,f))"
      ],
      "metadata": {
        "colab": {
          "base_uri": "https://localhost:8080/"
        },
        "id": "vSApe1WmIyXz",
        "outputId": "40cdc206-1164-4807-d484-950d67ba61e7"
      },
      "execution_count": null,
      "outputs": [
        {
          "output_type": "stream",
          "name": "stdout",
          "text": [
            "Give space separated elements of an array : 1 2 3 4 5 6 7 8 9\n",
            "Give factor of rotation : 500\n",
            "Array before rotation   : [1, 2, 3, 4, 5, 6, 7, 8, 9]\n",
            "Array after rotation    : [6, 7, 8, 9, 1, 2, 3, 4, 5]\n"
          ]
        }
      ]
    },
    {
      "cell_type": "markdown",
      "source": [
        "Q4. Write a Python Program to Split the array and add the first part to the end?"
      ],
      "metadata": {
        "id": "4FEsTlQcRJwa"
      }
    },
    {
      "cell_type": "code",
      "source": [
        "def split(arr,n) :\n",
        "    arr.extend(arr[n])\n",
        "    del arr[n]\n",
        "    return arr\n",
        "Input = input (\"Give space separated elements of an array : \")\n",
        "n = int(input ('Number of elements to slice   : '))\n",
        "arr=[eval(i) for i in Input.split()]\n",
        "print('Array before splitted rotation:',arr)\n",
        "print('Array after splitted rotation :',rotate(arr,f))"
      ],
      "metadata": {
        "colab": {
          "base_uri": "https://localhost:8080/"
        },
        "id": "7sXCuJkiMnY3",
        "outputId": "c460c30c-f9ce-4153-b0ec-77fb6dbfd2e2"
      },
      "execution_count": null,
      "outputs": [
        {
          "output_type": "stream",
          "name": "stdout",
          "text": [
            "Give space separated elements of an array : 1 2 3 4 5 6   7 8  9 10 12  13 14 15\n",
            "Number of elements to slice   : 8\n",
            "Array before splitted rotation: [1, 2, 3, 4, 5, 6, 7, 8, 9, 10, 12, 13, 14, 15]\n",
            "Array after splitted rotation : [9, 10, 12, 13, 14, 15, 1, 2, 3, 4, 5, 6, 7, 8]\n"
          ]
        }
      ]
    },
    {
      "cell_type": "markdown",
      "source": [
        "Q5. Write a Python Program to check if given array is Monotonic?"
      ],
      "metadata": {
        "id": "nmXhutE6Rl7A"
      }
    },
    {
      "cell_type": "code",
      "source": [
        "def isMonotonic(arr) :\n",
        "    global x \n",
        "    x = 1\n",
        "    if (all(arr[i] <= arr[i + 1] for i in range(len(arr) - 1))) :\n",
        "        return True\n",
        "    elif (all(arr[i] >= arr[i + 1] for i in range(len(arr) - 1))) :\n",
        "        x = -1\n",
        "        return True\n",
        "    return False\n",
        "Input = input (\"Give space separated elements of an array : \")\n",
        "arr=[eval(i) for i in Input.split()]\n",
        "if (isMonotonic(arr) == True and x == 1) :\n",
        "    print('Given array is Monotonically increasing ')\n",
        "elif (isMonotonic(arr) == True and x == -1) :\n",
        "    print('Given array is Monotonically decreasing')\n",
        "else :\n",
        "    print('Given array is NOT Monotonic')"
      ],
      "metadata": {
        "colab": {
          "base_uri": "https://localhost:8080/"
        },
        "id": "F64pXALiRm9E",
        "outputId": "a56a1a76-1b71-4641-f813-87ffe993c239"
      },
      "execution_count": null,
      "outputs": [
        {
          "output_type": "stream",
          "name": "stdout",
          "text": [
            "Give space separated elements of an array : 9 8 7 6 5 4 3 2   1 0\n",
            "Given array is Monotonically decreasing\n"
          ]
        }
      ]
    }
  ],
  "metadata": {
    "colab": {
      "provenance": [],
      "collapsed_sections": []
    },
    "kernelspec": {
      "display_name": "Python 3",
      "name": "python3"
    },
    "language_info": {
      "name": "python"
    }
  },
  "nbformat": 4,
  "nbformat_minor": 0
}