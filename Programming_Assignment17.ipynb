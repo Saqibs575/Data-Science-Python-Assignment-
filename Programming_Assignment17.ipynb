{
  "nbformat": 4,
  "nbformat_minor": 0,
  "metadata": {
    "colab": {
      "provenance": [],
      "collapsed_sections": []
    },
    "kernelspec": {
      "name": "python3",
      "display_name": "Python 3"
    },
    "language_info": {
      "name": "python"
    }
  },
  "cells": [
    {
      "cell_type": "markdown",
      "source": [
        "#***Programming_Assignment17***"
      ],
      "metadata": {
        "id": "BQlmAc1doSfA"
      }
    },
    {
      "cell_type": "markdown",
      "source": [
        "Question1. Create a function that takes three arguments a, b, c and returns the sum of the\n",
        "numbers that are evenly divided by c from the range a, b inclusive.<BR><BR>\n",
        "***Examples***<BR><BR>\n",
        "```\n",
        "evenly_divisible(1, 10, 20) ➞ 0\n",
        "# No number between 1 and 10 can be evenly divided by 20.\n",
        "\n",
        "evenly_divisible(1, 10, 2) ➞ 30\n",
        "# 2 + 4 + 6 + 8 + 10 = 30\n",
        "\n",
        "evenly_divisible(1, 10, 3) ➞ 18\n",
        "# 3 + 6 + 9 = 18\n",
        "```"
      ],
      "metadata": {
        "id": "Qu_eJDlygrLA"
      }
    },
    {
      "cell_type": "code",
      "source": [
        "def evenly_divisible(a,b,c) :\n",
        "    sum = 0\n",
        "    for i in range (a,b+1) :\n",
        "        if i % c == 0 :\n",
        "            sum += i\n",
        "\n",
        "    return sum \n",
        "\n",
        "print(evenly_divisible(1,10,20))\n",
        "print(evenly_divisible(1,10,2))\n",
        "print(evenly_divisible(1,10,3))"
      ],
      "metadata": {
        "colab": {
          "base_uri": "https://localhost:8080/"
        },
        "id": "6RSnXU4LhGl_",
        "outputId": "5fdcf5ff-7480-4c3a-b2b5-d277ab441fe3"
      },
      "execution_count": 2,
      "outputs": [
        {
          "output_type": "stream",
          "name": "stdout",
          "text": [
            "0\n",
            "30\n",
            "18\n"
          ]
        }
      ]
    },
    {
      "cell_type": "markdown",
      "source": [
        "Question2. Create a function that returns True if a given inequality expression is correct and\n",
        "False otherwise.<BR><BR>\n",
        "**Examples**<BR><BR>\n",
        "```\n",
        "correct_signs(\"3 < 7 < 11\") ➞ True\n",
        "correct_signs(\"13 > 44 > 33 > 1\") ➞ False\n",
        "correct_signs(\"1 < 2 < 6 < 9 > 3\") ➞ True\n",
        "```"
      ],
      "metadata": {
        "id": "unT-hIqiudpI"
      }
    },
    {
      "cell_type": "code",
      "source": [
        "def correct_sign(expression) :\n",
        "    if eval(expression)  :\n",
        "        return True \n",
        "    return False\n",
        "\n",
        "print(correct_sign(\"3 < 7 < 11\"))\n",
        "print(correct_sign(\"13 > 44 > 33 > 1\"))\n",
        "print(correct_sign(\"1 < 2 < 6 < 9 > 3\")) "
      ],
      "metadata": {
        "colab": {
          "base_uri": "https://localhost:8080/"
        },
        "id": "H-51kr0avOfm",
        "outputId": "25bf69dd-2ac6-4b24-d8ef-c0682b71214c"
      },
      "execution_count": 13,
      "outputs": [
        {
          "output_type": "stream",
          "name": "stdout",
          "text": [
            "True\n",
            "False\n",
            "True\n"
          ]
        }
      ]
    },
    {
      "cell_type": "markdown",
      "source": [
        "Question3. Create a function that replaces all the vowels in a string with a specified character.<BR><BR>\n",
        "***Examples***<BR><BR>\n",
        "```\n",
        "replace_vowels(\"the aardvark\", \"#\") ➞ \"th# ##rdv#rk\"\n",
        "replace_vowels(\"minnie mouse\", \"?\") ➞ \"m?nn?? m??s?\"\n",
        "replace_vowels(\"shakespeare\", \"*\") ➞ \"sh*k*sp**r*\"\n",
        "```"
      ],
      "metadata": {
        "id": "2Fepsj-qznji"
      }
    },
    {
      "cell_type": "code",
      "source": [
        "def replace_vowels(string,char) :\n",
        "\n",
        "    vowels = {'a','A','e','E','I','i','o','O','u','U'}\n",
        "    for i in string :\n",
        "        if i in vowels :\n",
        "            string = string.replace(i,char)\n",
        "\n",
        "    return string\n",
        "\n",
        "print(replace_vowels(\"the aardvark\", \"#\"))\n",
        "print(replace_vowels(\"minnie mouse\", \"?\"))\n",
        "print(replace_vowels(\"shakespeare\", \"*\"))"
      ],
      "metadata": {
        "colab": {
          "base_uri": "https://localhost:8080/"
        },
        "id": "R-6KJ54d0qH-",
        "outputId": "1f14f1ca-23b0-491e-bb9a-7964ce781e21"
      },
      "execution_count": 17,
      "outputs": [
        {
          "output_type": "stream",
          "name": "stdout",
          "text": [
            "th# ##rdv#rk\n",
            "m?nn?? m??s?\n",
            "sh*k*sp**r*\n"
          ]
        }
      ]
    },
    {
      "cell_type": "markdown",
      "source": [
        "Question4. Write a function that calculates the factorial of a number recursively.<BR><BR>\n",
        "***Examples***<BR><BR>\n",
        "```\n",
        "factorial(5) ➞ 120\n",
        "\n",
        "factorial(3) ➞ 6\n",
        "\n",
        "factorial(1) ➞ 1\n",
        "\n",
        "factorial(0) ➞ 1\n",
        "```"
      ],
      "metadata": {
        "id": "fnNUcv7J2n9_"
      }
    },
    {
      "cell_type": "code",
      "source": [
        "def factorial(num) :\n",
        "\n",
        "    if num == 1 or num == 0 :\n",
        "        return 1 \n",
        "    return num*factorial(num-1)\n",
        "\n",
        "print(factorial(5))\n",
        "print(factorial(3))\n",
        "print(factorial(1))\n",
        "print(factorial(0))"
      ],
      "metadata": {
        "colab": {
          "base_uri": "https://localhost:8080/"
        },
        "id": "WBwzHZiw3Csg",
        "outputId": "84407e5d-3252-47d9-b369-fa3ac4372e7b"
      },
      "execution_count": 19,
      "outputs": [
        {
          "output_type": "stream",
          "name": "stdout",
          "text": [
            "120\n",
            "6\n",
            "1\n",
            "1\n"
          ]
        }
      ]
    },
    {
      "cell_type": "markdown",
      "source": [
        "Question 5. \n",
        "**Hamming distance** is the number of characters that differ between two strings.<BR><BR>\n",
        "To illustrate:<BR><BR>\n",
        "```\n",
        "String1: \"abcbba\"\n",
        "String2: \"abcbda\"\n",
        "\n",
        "Hamming Distance: 1 - \"b\" vs. \"d\" is the only difference.\n",
        "```\n",
        "Create a function that computes the hamming distance between two strings.<BR><BR>\n",
        "**Examples**<BR><BR>\n",
        "```\n",
        "hamming_distance(\"abcde\", \"bcdef\") ➞ 5\n",
        "\n",
        "hamming_distance(\"abcde\", \"abcde\") ➞ 0\n",
        "\n",
        "hamming_distance(\"strong\", \"strung\") ➞ 1\n",
        "```"
      ],
      "metadata": {
        "id": "s0Xe-S_q3lkK"
      }
    },
    {
      "cell_type": "code",
      "source": [
        "def hamming_distance(str1,str2) :\n",
        "    i = 0\n",
        "    count = 0\n",
        "\n",
        "    while i < len(str1) :\n",
        "        if str1[i] != str2[i] :\n",
        "            count += 1\n",
        "        i += 1\n",
        "\n",
        "    return count \n",
        "\n",
        "print(hamming_distance(\"abcde\", \"bcdef\"))\n",
        "print(hamming_distance(\"abcde\", \"abcde\"))\n",
        "print(hamming_distance(\"strong\", \"strung\"))"
      ],
      "metadata": {
        "colab": {
          "base_uri": "https://localhost:8080/"
        },
        "id": "pm1dwCgg5xzV",
        "outputId": "0342275e-a3a6-46b2-ba3a-9c996a0fc877"
      },
      "execution_count": 28,
      "outputs": [
        {
          "output_type": "stream",
          "name": "stdout",
          "text": [
            "5\n",
            "0\n",
            "1\n"
          ]
        }
      ]
    }
  ]
}