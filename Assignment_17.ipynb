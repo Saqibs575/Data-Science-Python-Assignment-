{
  "nbformat": 4,
  "nbformat_minor": 0,
  "metadata": {
    "colab": {
      "provenance": [],
      "collapsed_sections": []
    },
    "kernelspec": {
      "name": "python3",
      "display_name": "Python 3"
    },
    "language_info": {
      "name": "python"
    }
  },
  "cells": [
    {
      "cell_type": "markdown",
      "source": [
        "#***Assignment_17***"
      ],
      "metadata": {
        "id": "FCszr_49JHkd"
      }
    },
    {
      "cell_type": "markdown",
      "source": [
        "Q1. Assign the value 7 to the variable guess_me. Then, write the conditional tests (if, else, and elif) to\n",
        "print the string &#39;too low&#39; if guess_me is less than 7, &#39;too high&#39; if greater than 7, and &#39;just right&#39; if equal\n",
        "to 7."
      ],
      "metadata": {
        "id": "Mls0TKIqJMT6"
      }
    },
    {
      "cell_type": "code",
      "execution_count": null,
      "metadata": {
        "colab": {
          "base_uri": "https://localhost:8080/"
        },
        "id": "vBiHG_uMI_QC",
        "outputId": "6396a5fe-1b85-4b3d-d983-f67bd572c270"
      },
      "outputs": [
        {
          "output_type": "stream",
          "name": "stdout",
          "text": [
            "just right\n"
          ]
        }
      ],
      "source": [
        "guess_me=7\n",
        "if guess_me == 7:\n",
        "    print('just right')\n",
        "elif guess_me < 7 :\n",
        "    print('too low')\n",
        "else :\n",
        "    print('too high')"
      ]
    },
    {
      "cell_type": "markdown",
      "source": [
        "Q2. Assign the value 7 to the variable guess_me and the value 1 to the variable start. Write a while\n",
        "loop that compares start with guess_me. Print too low if start is less than guess me. If start equals\n",
        "guess_me, print &#39;found it!&#39; and exit the loop. If start is greater than guess_me, print &#39;oops&#39; and exit\n",
        "the loop. Increment start at the end of the loop."
      ],
      "metadata": {
        "id": "J9Sm097cJ3yX"
      }
    },
    {
      "cell_type": "code",
      "source": [
        "guess_me=7\n",
        "start=1\n",
        "while True:\n",
        "    if start < guess_me:\n",
        "        print('too low')\n",
        "    elif start == guess_me:\n",
        "        print('found it!')\n",
        "        break\n",
        "    else:\n",
        "        print('oops')\n",
        "        break\n",
        "    start += 1"
      ],
      "metadata": {
        "colab": {
          "base_uri": "https://localhost:8080/"
        },
        "id": "jlYFk2r3KAbe",
        "outputId": "478894c4-4f91-45e9-cb11-f808ad20e04d"
      },
      "execution_count": null,
      "outputs": [
        {
          "output_type": "stream",
          "name": "stdout",
          "text": [
            "too low\n",
            "too low\n",
            "too low\n",
            "too low\n",
            "too low\n",
            "too low\n",
            "found it!\n"
          ]
        }
      ]
    },
    {
      "cell_type": "markdown",
      "source": [
        "Q3. Print the following values of the list [3, 2, 1, 0] using a for loop."
      ],
      "metadata": {
        "id": "4acHr-jKLLoL"
      }
    },
    {
      "cell_type": "code",
      "source": [
        "for i in [3,2,1,0] :\n",
        "    print(i)"
      ],
      "metadata": {
        "colab": {
          "base_uri": "https://localhost:8080/"
        },
        "id": "kOz_9hnaLRre",
        "outputId": "6f12d299-6946-4446-b168-556f1446e3fd"
      },
      "execution_count": null,
      "outputs": [
        {
          "output_type": "stream",
          "name": "stdout",
          "text": [
            "3\n",
            "2\n",
            "1\n",
            "0\n"
          ]
        }
      ]
    },
    {
      "cell_type": "markdown",
      "source": [
        "Q4. Use a list comprehension to make a list of the even numbers in range(10)"
      ],
      "metadata": {
        "id": "lQttlb89Lbw_"
      }
    },
    {
      "cell_type": "code",
      "source": [
        "evenNumbers=[i for i in range(0,11,2)]\n",
        "evenNumbers"
      ],
      "metadata": {
        "colab": {
          "base_uri": "https://localhost:8080/"
        },
        "id": "DlIoELkdLiI1",
        "outputId": "ae6e773b-bdeb-4c35-a6af-2e27ef2172b9"
      },
      "execution_count": null,
      "outputs": [
        {
          "output_type": "execute_result",
          "data": {
            "text/plain": [
              "[0, 2, 4, 6, 8, 10]"
            ]
          },
          "metadata": {},
          "execution_count": 5
        }
      ]
    },
    {
      "cell_type": "markdown",
      "source": [
        "Q5. Use a dictionary comprehension to create the dictionary squares. Use range(10) to return the\n",
        "keys, and use the square of each key as its value."
      ],
      "metadata": {
        "id": "tzJG63ctLxjE"
      }
    },
    {
      "cell_type": "code",
      "source": [
        "squares={x:x**2 for x in range(10)}\n",
        "squares"
      ],
      "metadata": {
        "colab": {
          "base_uri": "https://localhost:8080/"
        },
        "id": "4piZjG6yMKqp",
        "outputId": "7f53cc48-b36c-424a-d4ef-be9ebe09981f"
      },
      "execution_count": null,
      "outputs": [
        {
          "output_type": "execute_result",
          "data": {
            "text/plain": [
              "{0: 0, 1: 1, 2: 4, 3: 9, 4: 16, 5: 25, 6: 36, 7: 49, 8: 64, 9: 81}"
            ]
          },
          "metadata": {},
          "execution_count": 6
        }
      ]
    },
    {
      "cell_type": "markdown",
      "source": [
        "Q6. Construct the set odd from the odd numbers in the range using a set comprehension (10)."
      ],
      "metadata": {
        "id": "q2RP7SSwMibY"
      }
    },
    {
      "cell_type": "code",
      "source": [
        "odd={x for x in range(1,11,2)}\n",
        "odd"
      ],
      "metadata": {
        "colab": {
          "base_uri": "https://localhost:8080/"
        },
        "id": "MwP9_FqrM5DT",
        "outputId": "fc5b6ecd-5d4f-4d8c-987d-a4d3de3704d8"
      },
      "execution_count": null,
      "outputs": [
        {
          "output_type": "execute_result",
          "data": {
            "text/plain": [
              "{1, 3, 5, 7, 9}"
            ]
          },
          "metadata": {},
          "execution_count": 7
        }
      ]
    },
    {
      "cell_type": "markdown",
      "source": [
        "Q7. Use a generator comprehension to return the string &#39;Got &#39; and a number for the numbers in\n",
        "range(10). Iterate through this by using a for loop."
      ],
      "metadata": {
        "id": "Gic5QOimNDPs"
      }
    },
    {
      "cell_type": "code",
      "source": [
        "generator=('Got'+str(n) for n in range(11))\n",
        "for i in generator :\n",
        "    print(i)"
      ],
      "metadata": {
        "colab": {
          "base_uri": "https://localhost:8080/"
        },
        "id": "V6QmWA5uMK0Y",
        "outputId": "48a3124e-a6b0-43e8-8fa6-bfd453096d46"
      },
      "execution_count": null,
      "outputs": [
        {
          "output_type": "stream",
          "name": "stdout",
          "text": [
            "Got0\n",
            "Got1\n",
            "Got2\n",
            "Got3\n",
            "Got4\n",
            "Got5\n",
            "Got6\n",
            "Got7\n",
            "Got8\n",
            "Got9\n",
            "Got10\n"
          ]
        }
      ]
    },
    {
      "cell_type": "markdown",
      "source": [
        "Q8. Define a function called good that returns the list [&#39;Harry&#39;, &#39;Ron&#39;, &#39;Hermione&#39;]."
      ],
      "metadata": {
        "id": "CmffA0RsN3tY"
      }
    },
    {
      "cell_type": "code",
      "source": [
        "def good() :\n",
        "    return  ['Harry', 'Ron', 'Hermione']\n",
        "\n",
        "good()"
      ],
      "metadata": {
        "colab": {
          "base_uri": "https://localhost:8080/"
        },
        "id": "gZKUbrLSN9sN",
        "outputId": "37959914-12d0-419b-b028-d8368d51c266"
      },
      "execution_count": null,
      "outputs": [
        {
          "output_type": "execute_result",
          "data": {
            "text/plain": [
              "['Harry', 'Ron', 'Hermione']"
            ]
          },
          "metadata": {},
          "execution_count": 9
        }
      ]
    },
    {
      "cell_type": "markdown",
      "source": [
        "Q9. Define a generator function called get_odds that returns the odd numbers from range(10). Use a\n",
        "for loop to find and print the third value returned."
      ],
      "metadata": {
        "id": "bBRt80p0ONdn"
      }
    },
    {
      "cell_type": "code",
      "source": [
        "get_odds=(x for x in range(1,11,2))\n",
        "count=1\n",
        "for i in get_odds :\n",
        "    if count == 3 :\n",
        "        print(i)\n",
        "    count += 1"
      ],
      "metadata": {
        "colab": {
          "base_uri": "https://localhost:8080/"
        },
        "id": "3HwLdOrYOd-u",
        "outputId": "5f1acfe2-433b-4faf-e9ff-0d5c17809018"
      },
      "execution_count": null,
      "outputs": [
        {
          "output_type": "stream",
          "name": "stdout",
          "text": [
            "5\n"
          ]
        }
      ]
    },
    {
      "cell_type": "markdown",
      "source": [
        "Q10. Define an exception called OopsException. Raise this exception to see what happens. Then write\n",
        "the code to catch this exception and print &#39;Caught an oops&#39;."
      ],
      "metadata": {
        "id": "RioTxY7pO5Nk"
      }
    },
    {
      "cell_type": "code",
      "source": [
        "class OopsException(Exception):\n",
        "    pass\n",
        "\n",
        "def with_exception(a):\n",
        "    if a < 0:\n",
        "        raise OopsException(a)\n",
        "\n",
        "try:\n",
        "    with_exception(-1)\n",
        "except OopsException as err:\n",
        "    print('Caught an oops')"
      ],
      "metadata": {
        "colab": {
          "base_uri": "https://localhost:8080/"
        },
        "id": "N226hijaQJWY",
        "outputId": "554e0cbf-58fb-42dc-a261-b7b1fa97e330"
      },
      "execution_count": null,
      "outputs": [
        {
          "output_type": "stream",
          "name": "stdout",
          "text": [
            "Caught an oops\n"
          ]
        }
      ]
    },
    {
      "cell_type": "markdown",
      "source": [
        "Q11. Use zip() to make a dictionary called movies that pairs these lists: titles = [&#39;Creature of Habit&#39;,\n",
        "&#39;Crewel Fate&#39;] and plots = [&#39;A nun turns into a monster&#39;, &#39;A haunted yarn shop&#39;]."
      ],
      "metadata": {
        "id": "YO-4NfHJQeSW"
      }
    },
    {
      "cell_type": "code",
      "source": [
        "titles = ['Creature of Habit', 'Crewel Fate']\n",
        "plots = ['A nun turns into a monster', 'A haunted yarn shop']\n",
        "movies={k:v for k,v in zip(titles,plots)}\n",
        "movies"
      ],
      "metadata": {
        "colab": {
          "base_uri": "https://localhost:8080/"
        },
        "id": "AM99toyzQiFR",
        "outputId": "1d354ca5-3098-425e-e9ad-efb526b0ecac"
      },
      "execution_count": null,
      "outputs": [
        {
          "output_type": "execute_result",
          "data": {
            "text/plain": [
              "{'Creature of Habit': 'A nun turns into a monster',\n",
              " 'Crewel Fate': 'A haunted yarn shop'}"
            ]
          },
          "metadata": {},
          "execution_count": 15
        }
      ]
    }
  ]
}