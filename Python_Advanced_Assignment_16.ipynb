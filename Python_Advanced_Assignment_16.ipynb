{
  "nbformat": 4,
  "nbformat_minor": 0,
  "metadata": {
    "colab": {
      "provenance": []
    },
    "kernelspec": {
      "name": "python3",
      "display_name": "Python 3"
    },
    "language_info": {
      "name": "python"
    }
  },
  "cells": [
    {
      "cell_type": "code",
      "execution_count": null,
      "metadata": {
        "id": "eZuMx7gpUR9M"
      },
      "outputs": [],
      "source": []
    },
    {
      "cell_type": "markdown",
      "source": [
        "#***Python_Advanced_Assignment_16***"
      ],
      "metadata": {
        "id": "2tOJkQMjUU98"
      }
    },
    {
      "cell_type": "markdown",
      "source": [
        "Q1. What is the benefit of regular expressions?\n",
        "\n",
        "**ANS :** \n",
        "\n",
        "Regular expressions are expressions that are made to match a specific pattern. As an example, there are regular expressions to verify the authenticity of emails, phone numbers, and websites.\n",
        " \n",
        "it has wide range of usage possibility, we may create one regular expression to validate any kind of input;\n",
        "It is upported by almost any language, there are only a few programming languages which do not understand regular expressions;\n",
        "Do more with less, keep our code cleaner;\n",
        "Faster validations, instead of having many IF and ELSE operators we may validate only once with a regular expression."
      ],
      "metadata": {
        "id": "LkixMVj4USm5"
      }
    },
    {
      "cell_type": "markdown",
      "source": [
        "Q2. Describe the difference between the effects of &quot;(ab)c+&quot; and &quot;a(bc)+.&quot; Which of these, if any, is the\n",
        "unqualified pattern &quot;abc+&quot;?\n",
        "\n",
        "**ANS :**\n",
        "\n",
        "In \"(ab)c+\" ,  ab is grouped whereas in \"a(bc)+\" , bc is grouped. And none of these two are invalid."
      ],
      "metadata": {
        "id": "wuUb13Znnw-G"
      }
    },
    {
      "cell_type": "markdown",
      "source": [
        "Q3. How much do you need to use the following sentence while using regular expressions?\n",
        "\n",
        "import re\n",
        "\n",
        "**ANS :**\n",
        "\n",
        "We need to use import re everytime if we want to use regular expression in every new file . "
      ],
      "metadata": {
        "id": "vLt_Q5b5olf1"
      }
    },
    {
      "cell_type": "markdown",
      "source": [
        "Q4. Which characters have special significance in square brackets when expressing a range, and\n",
        "under what circumstances?\n",
        "\n",
        "**ANS :**\n",
        "\n",
        "The Characters .,*,?,^,or,(), have a special signiface when used with square brackets. They need not be be explicitly escaped by \\ as in case of pattern texts in a raw string."
      ],
      "metadata": {
        "id": "M8oC2KQTpEks"
      }
    },
    {
      "cell_type": "markdown",
      "source": [
        "Q5. How does compiling a regular-expression object benefit you?\n",
        "\n",
        "**ANS :**\n",
        "\n",
        "We can Combine a regular expression pattern into pattern Objects.Which can be used for pattern matching. it also helps to search a pattern again without rewritting it."
      ],
      "metadata": {
        "id": "VBRcydvypO-v"
      }
    },
    {
      "cell_type": "markdown",
      "source": [
        "Q6. What are some examples of how to use the match object returned by re.match and re.search?\n",
        "\n",
        "**ANS :**\n",
        "\n",
        "The re.search() and re.match() both are functions of re module in python. These functions are very efficient and fast for searching in strings. The function searches for some substring in a string and returns a match object if found, else it returns none.\n",
        "\n",
        "There is a difference between the use of both functions. Both return the first match of a substring found in the string, but re.match() searches only from the beginning of the string and return match object if found. But if a match of substring is found somewhere in the middle of the string, it returns none.\n",
        "\n",
        "While re.search() searches for the whole string even if the string contains multi-lines and tries to find a match of the substring in all the lines of string\n",
        "\n"
      ],
      "metadata": {
        "id": "VOxwG5S9piFg"
      }
    },
    {
      "cell_type": "code",
      "source": [
        "import re\n",
        "Substring ='saqib' \n",
        "String1 ='Hi I am Saqib Shaikh and I am learning python from iNeuron' "
      ],
      "metadata": {
        "id": "TXx3xdH6pTJ6"
      },
      "execution_count": 1,
      "outputs": []
    },
    {
      "cell_type": "code",
      "source": [
        "re.search(Substring, String1, re.IGNORECASE)"
      ],
      "metadata": {
        "colab": {
          "base_uri": "https://localhost:8080/"
        },
        "id": "UfUvQurHq374",
        "outputId": "32dbf509-501d-45e4-f607-4f727679512c"
      },
      "execution_count": 2,
      "outputs": [
        {
          "output_type": "execute_result",
          "data": {
            "text/plain": [
              "<re.Match object; span=(8, 13), match='Saqib'>"
            ]
          },
          "metadata": {},
          "execution_count": 2
        }
      ]
    },
    {
      "cell_type": "code",
      "source": [
        "re.match(Substring, String1, re.IGNORECASE)"
      ],
      "metadata": {
        "id": "QbHG2_Jpq0q3"
      },
      "execution_count": 3,
      "outputs": []
    },
    {
      "cell_type": "markdown",
      "source": [
        "Q7. What is the difference between using a vertical bar (|) as an alteration and using square brackets\n",
        "as a character set?\n",
        "\n",
        "**ANS :**\n",
        "\n",
        "When | us used then patterns searches for or option. i.e | means it searches as or< in the searched string. the first occurance of matched string will be returned as the Match Object. Using Character set in square Brackets searches for all the character set in the square bracket and if match is found, it returns it."
      ],
      "metadata": {
        "id": "IBTa9tduqz9l"
      }
    },
    {
      "cell_type": "code",
      "source": [],
      "metadata": {
        "id": "2C19pF8grRyY"
      },
      "execution_count": null,
      "outputs": []
    },
    {
      "cell_type": "markdown",
      "source": [
        "Q8. In regular-expression search patterns, why is it necessary to use the raw-string indicator (r)? In  \n",
        "replacement strings?\n",
        "\n",
        "*ANS :**\n",
        "\n",
        "Raw Strings are used in the regular-expression search patterns, otherwise backslashes will be treated as escape character."
      ],
      "metadata": {
        "id": "ZRUgrzgZrS5y"
      }
    }
  ]
}