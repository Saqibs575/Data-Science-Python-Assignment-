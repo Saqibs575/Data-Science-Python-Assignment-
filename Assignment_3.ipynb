{
  "nbformat": 4,
  "nbformat_minor": 0,
  "metadata": {
    "colab": {
      "provenance": [],
      "collapsed_sections": []
    },
    "kernelspec": {
      "name": "python3",
      "display_name": "Python 3"
    },
    "language_info": {
      "name": "python"
    }
  },
  "cells": [
    {
      "cell_type": "markdown",
      "source": [
        "#***Assignment_3***"
      ],
      "metadata": {
        "id": "rmf4cDL0Apd4"
      }
    },
    {
      "cell_type": "markdown",
      "source": [
        "Q1. Why are functions advantageous to have in your programs?<br>\n",
        "**ANS :**<br>\n",
        "### Advantages of functions :<br>\n",
        "\n",
        "\n",
        "*   **Reusability :** Functions are working on DRY (Don't Repeat Yourself) principle. Hence, we can use functions multiple time without writing the complete code again and again.\n",
        "*   **Readability :** It is less complex and hence it enhances readability of the code.\n",
        "* **Time Efficiency :** It saves time as we can use it again and again by just calling it.\n",
        "* **Memory Efficiency :** It also saves memory as we can reuse the functions multiple times  by its name. \n",
        "\n"
      ],
      "metadata": {
        "id": "QLoR9V5LA4mO"
      }
    },
    {
      "cell_type": "markdown",
      "source": [
        "Q2. When does the code in a function run: when it&#39;s specified or when it&#39;s called?<br>**ANS :**<br>\n",
        "Functions run when it is called or invoked."
      ],
      "metadata": {
        "id": "oziAxjqmEUsC"
      }
    },
    {
      "cell_type": "markdown",
      "source": [
        "Q3. What statement creates a function?<br>**ANS :**<br>\n",
        "Functions can be created by the keyword **def** ."
      ],
      "metadata": {
        "id": "KvAwNfztEqhC"
      }
    },
    {
      "cell_type": "markdown",
      "source": [
        "Q4. What is the difference between a function and a function call?\n",
        "<br>**ANS :**<br>\n",
        "Function is a block of code that provides the frame of the task to be performed but it doesn't executes the progrrame. Whereas function call executes the block of codes written in a funtion.<br>"
      ],
      "metadata": {
        "id": "fJXKhOvwFgjq"
      }
    },
    {
      "cell_type": "markdown",
      "source": [
        "Q5. How many global scopes are there in a Python program? How many local scopes?\n",
        "<br>**ANS :**<br>\n",
        "In python there is ONE global scope and local scope is created whenever function is called."
      ],
      "metadata": {
        "id": "kMzHHrWnG_oR"
      }
    },
    {
      "cell_type": "markdown",
      "source": [
        "Q6. What happens to variables in a local scope when the function call returns?\n",
        "<br>**ANS :**<br>\n",
        "When function call returns then it destoys local scope and  all the variable in a function."
      ],
      "metadata": {
        "id": "tConmfQ2Hegc"
      }
    },
    {
      "cell_type": "markdown",
      "source": [
        "Q7. What is the concept of a return value? Is it possible to have a return value in an expression?\n",
        "<br>**ANS :**<br>\n",
        "return value is the value that function gives after a function call and it can be an expression as well."
      ],
      "metadata": {
        "id": "pUbfco8AIN2Q"
      }
    },
    {
      "cell_type": "markdown",
      "source": [
        "Q8. If a function does not have a return statement, what is the return value of a call to that function?<br>**ANS :**<br>\n",
        "None"
      ],
      "metadata": {
        "id": "xO6lJ0-wIxKw"
      }
    },
    {
      "cell_type": "markdown",
      "source": [
        "Q9. How do you make a function variable refer to the global variable?\n",
        "<br>**ANS :**<br>\n",
        "By using global keyword."
      ],
      "metadata": {
        "id": "eQz9s_J0I-nd"
      }
    },
    {
      "cell_type": "code",
      "source": [
        "type(print())"
      ],
      "metadata": {
        "colab": {
          "base_uri": "https://localhost:8080/"
        },
        "id": "dimuv2tNJxJz",
        "outputId": "6b0e0887-9e3f-4b65-b4a0-ee7ab1f567cf"
      },
      "execution_count": null,
      "outputs": [
        {
          "output_type": "stream",
          "name": "stdout",
          "text": [
            "\n"
          ]
        },
        {
          "output_type": "execute_result",
          "data": {
            "text/plain": [
              "NoneType"
            ]
          },
          "metadata": {},
          "execution_count": 1
        }
      ]
    },
    {
      "cell_type": "markdown",
      "source": [
        "Q10. What is the data type of None?\n",
        "<br>**ANS :**<br>\n",
        "NoneType"
      ],
      "metadata": {
        "id": "v8_frPv6Je7k"
      }
    },
    {
      "cell_type": "markdown",
      "source": [
        "Q11. What does the sentence import areallyourpetsnamederic do?\n",
        "<br>**ANS :**<br>\n",
        "It imports the module named as areallyourpetsnamederic."
      ],
      "metadata": {
        "id": "SOOhZ7xCJwgp"
      }
    },
    {
      "cell_type": "markdown",
      "source": [
        "Q12. If you had a bacon() feature in a spam module, what would you call it after importing spam?\n",
        "<br>**ANS :**<br>\n",
        "spam.bacon() after import spam."
      ],
      "metadata": {
        "id": "qHScky5TKgXv"
      }
    },
    {
      "cell_type": "markdown",
      "source": [
        "Q13. What can you do to save a programme from crashing if it encounters an error?\n",
        "<br>**ANS :**<br>\n",
        "We can use try and except. We can write code that can cause error under try and remaining under except."
      ],
      "metadata": {
        "id": "Qo6SftOWK_AQ"
      }
    },
    {
      "cell_type": "markdown",
      "source": [
        "Q14. What is the purpose of the try clause? What is the purpose of the except clause?\n",
        "<br>**ANS :**<br>\n",
        "If there is code that can give an error for some condiotion then we will write it under try clause else we will write under except clause. By writing the code in this way our programme will not through any error."
      ],
      "metadata": {
        "id": "d_YwlkhmLrvp"
      }
    }
  ]
}