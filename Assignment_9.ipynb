{
  "nbformat": 4,
  "nbformat_minor": 0,
  "metadata": {
    "colab": {
      "provenance": [],
      "collapsed_sections": []
    },
    "kernelspec": {
      "name": "python3",
      "display_name": "Python 3"
    },
    "language_info": {
      "name": "python"
    }
  },
  "cells": [
    {
      "cell_type": "markdown",
      "source": [
        "#***Assignment_9***"
      ],
      "metadata": {
        "id": "ChtXFBLzDwgB"
      }
    },
    {
      "cell_type": "markdown",
      "source": [
        "Q1. To what does a relative path refer?<BR>**ANS :** Relative path rfers to current working directory."
      ],
      "metadata": {
        "id": "TOfeqAzHDxFQ"
      }
    },
    {
      "cell_type": "markdown",
      "source": [
        "Q2. What does an absolute path start with your operating system?<BR>**ANs :** An absolute path is specifying the location of a file or directory from the root directory"
      ],
      "metadata": {
        "id": "foh9OsPSGdBq"
      }
    },
    {
      "cell_type": "markdown",
      "source": [
        "Q3. What do the functions os.getcwd() and os.chdir() do?<BR>**ANS :** os.getcwd() gives the directory in which we are currrently working and os.chdir() is used to change the directory from current directory to the directory of specified path. "
      ],
      "metadata": {
        "id": "I9Bb_e09H4hC"
      }
    },
    {
      "cell_type": "markdown",
      "source": [
        "Q4. What are the . and .. folders?<BR>**ANS :** The . is the current directory, while .. is the parent directory."
      ],
      "metadata": {
        "id": "A2UGHhDAJCP_"
      }
    },
    {
      "cell_type": "markdown",
      "source": [
        "Q5. In C:\\bacon\\eggs\\spam.txt, which part is the dir name, and which part is the base name?<BR>**ANS :**C:\\bacon\\eggs is the dir name, while spam.txt is the base name. "
      ],
      "metadata": {
        "id": "MH6AySBCJloo"
      }
    },
    {
      "cell_type": "markdown",
      "source": [
        "Q6. What are the three “mode” arguments that can be passed to the open() function?<BR>**ANS :** The string 'r' for read mode, 'w' for write mode, and 'a' for append mode."
      ],
      "metadata": {
        "id": "iTsCXo21KQw9"
      }
    },
    {
      "cell_type": "markdown",
      "source": [
        "Q&. What happens if an existing file is opened in write mode?<BR>**ANS :** An existing file opened in write mode is erased and will be overridden."
      ],
      "metadata": {
        "id": "TNPrqkXMLNAE"
      }
    },
    {
      "cell_type": "markdown",
      "source": [
        "Q8. How do you tell the difference between read() and readlines()?<BR>**ANS :** The read() method gives the whole content of the file as a string whereas readlines() gives the list of strings where each string represents the single line."
      ],
      "metadata": {
        "id": "raHacWdEL25p"
      }
    },
    {
      "cell_type": "markdown",
      "source": [
        "Q9. What data structure does a shelf value resemble?<BR>**ANS :** A shelf value resembles a dictionary."
      ],
      "metadata": {
        "id": "fsKHc4CdMfJh"
      }
    }
  ]
}