{
  "nbformat": 4,
  "nbformat_minor": 0,
  "metadata": {
    "colab": {
      "provenance": [],
      "collapsed_sections": []
    },
    "kernelspec": {
      "name": "python3",
      "display_name": "Python 3"
    },
    "language_info": {
      "name": "python"
    }
  },
  "cells": [
    {
      "cell_type": "markdown",
      "source": [
        "#***Assignment_25***"
      ],
      "metadata": {
        "id": "-fuaqVGBsdPh"
      }
    },
    {
      "cell_type": "markdown",
      "source": [
        "Q1) . What is the difference between enclosing a list comprehension in square brackets and\n",
        "parentheses?<BR>**ANS :** List comprehension enclosing in square brackets will give list whereas same in the case of parentheses will creat generator."
      ],
      "metadata": {
        "id": "YAOq9gSwoDCs"
      }
    },
    {
      "cell_type": "markdown",
      "source": [
        "Q2) What is the relationship between generators and iterators?<BR>**ANS :** A process that is repeated more than one time by applying the same logic is called an Iteration.<BR>Class is used to implement an iterator<BR>Local Variables aren’t used in iterator. Iterators are used mostly to iterate or convert other objects to an iterator using iter() function<BR>Iterator uses iter() and next() functions <BR><BR> Whereas in case of generator <BR>It is another way of creating iterators in a simple way where it uses the keyword “yield” instead of returning it in a defined function. Generators are implemented using a function.<BR>All the local variables before the yield function are stored. <BR>Generators are mostly used in loops to generate an iterator by returning all the values in the loop without affecting the iteration of the loop<BR>Generator uses yield keyword<BR>Every generator is an iterator."
      ],
      "metadata": {
        "id": "2XOvG7F-tjiP"
      }
    },
    {
      "cell_type": "markdown",
      "source": [
        "Q3) What are the signs that a function is a generator function?<BR>**ANS :** If function return the value in form of yield then it is a generator function."
      ],
      "metadata": {
        "id": "SZpd3uwbvNMz"
      }
    },
    {
      "cell_type": "markdown",
      "source": [],
      "metadata": {
        "id": "88Qk3cwCv1q_"
      }
    },
    {
      "cell_type": "markdown",
      "source": [
        "Q4) What is the purpose of a yield statement?<BR>**ANS :** The purpose of yield statement is to return a value just like return statement in function but it ct=reates in form of generator. "
      ],
      "metadata": {
        "id": "EINwHzVMv16u"
      }
    },
    {
      "cell_type": "markdown",
      "source": [
        "Q5) What is the relationship between map calls and list comprehensions? Make a comparison and\n",
        "contrast between the two.<BR>**ANS :** Suppose we have a function and we want to compute this function for different values in a single line of code . This is where map() function plays its role ! map() function returns a map object(which is an iterator) of the results after applying the given function to each item of a given iterable (list, tuple etc.)<BR>Syntax: map(funcname, iterables)\n",
        "<BR>List comprehension is more concise and easier to read as compared to map.<BR>\n",
        "List comprehension allows filtering. In map, we have no such facility. ,<BR>For example, to print all even numbers in range of 100, we can write [n for n in range(100) if n%2 == 0]. <BR>There is no alternate for it in map\n",
        "List comprehension are used when a list of results is required as map only returns a map object and does not return any list.<BR>\n",
        "List comprehension is faster than map when we need to evaluate expressions that are too long or complicated to expression.<BR>\n",
        "Map is faster in case of calling an already defined function (as no lambda is required).<BR>"
      ],
      "metadata": {
        "id": "tuJn0WCowot7"
      }
    }
  ]
}