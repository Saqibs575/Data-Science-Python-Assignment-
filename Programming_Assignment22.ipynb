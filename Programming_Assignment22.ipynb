{
  "nbformat": 4,
  "nbformat_minor": 0,
  "metadata": {
    "colab": {
      "provenance": [],
      "collapsed_sections": []
    },
    "kernelspec": {
      "name": "python3",
      "display_name": "Python 3"
    },
    "language_info": {
      "name": "python"
    }
  },
  "cells": [
    {
      "cell_type": "markdown",
      "source": [
        "#***Programming_Assignment22***"
      ],
      "metadata": {
        "id": "C9SRL0pAXuPh"
      }
    },
    {
      "cell_type": "markdown",
      "source": [
        "**Question1**<BR><BR>\n",
        "Create a function that takes three parameters where:\n",
        "* x is the start of the range (inclusive).\n",
        "\n",
        "\n",
        "\n",
        "* y is the end of the range (inclusive).\n",
        "\n",
        "* n is the divisor to be checked against.\n",
        "\n",
        "Return an ordered list with numbers in the range that are divisible by the third parameter n.\n",
        "Return an empty list if there are no numbers that are divisible by n.<BR><BR>\n",
        "**Examples**<BR><BR>\n",
        "```\n",
        "list_operation(1, 10, 3) ➞ [3, 6, 9]\n",
        "\n",
        "list_operation(7, 9, 2) ➞ [8]\n",
        "\n",
        "list_operation(15, 20, 7) ➞ []\n",
        "```"
      ],
      "metadata": {
        "id": "Sg-tvC9-X1gP"
      }
    },
    {
      "cell_type": "code",
      "execution_count": 2,
      "metadata": {
        "colab": {
          "base_uri": "https://localhost:8080/"
        },
        "id": "C4KtcVgRXd6Q",
        "outputId": "0a9e25f9-cd4f-485c-da62-41bd16d2021c"
      },
      "outputs": [
        {
          "output_type": "stream",
          "name": "stdout",
          "text": [
            "[3, 6, 9]\n",
            "[8]\n",
            "[]\n"
          ]
        }
      ],
      "source": [
        "def list_operation(x,y,n) :\n",
        "    list1 = []\n",
        "\n",
        "    for i in range(x,y+1) :\n",
        "        if i % n == 0 :\n",
        "            list1.append(i) \n",
        "\n",
        "    return list1 \n",
        "\n",
        "print(list_operation(1, 10, 3))\n",
        "print(list_operation(7, 9, 2))\n",
        "print(list_operation(15, 20, 7))"
      ]
    },
    {
      "cell_type": "markdown",
      "source": [
        "**Question2**<BR><BR>\n",
        "Create a function that takes in two lists and returns ```True``` if the second list follows the first list\n",
        "by **one** element, and ```False``` otherwise. In other words, determine if the second list is the first\n",
        "list shifted to the right by 1.<BR><BR>\n",
        "**Examples**<BR><BR>\n",
        "```\n",
        "simon_says([1, 2], [5, 1]) ➞ True\n",
        "\n",
        "simon_says([1, 2], [5, 5]) ➞ False\n",
        "\n",
        "simon_says([1, 2, 3, 4, 5], [0, 1, 2, 3, 4]) ➞ True\n",
        "\n",
        "simon_says([1, 2, 3, 4, 5], [5, 5, 1, 2, 3]) ➞ False\n",
        "```"
      ],
      "metadata": {
        "id": "sgbuXGA9Xs58"
      }
    },
    {
      "cell_type": "code",
      "source": [
        "def simon_says(list1,list2) :\n",
        "    if list1[0:len(list1)-1] == list2[1:len(list2)] :\n",
        "        return True \n",
        "    return False \n",
        "\n",
        "print(simon_says([1, 2], [5, 1]))\n",
        "print(simon_says([1, 2], [5, 5]))\n",
        "print(simon_says([1, 2, 3, 4, 5], [0, 1, 2, 3, 4]))\n",
        "print(simon_says([1, 2, 3, 4, 5], [5, 5, 1, 2, 3]))"
      ],
      "metadata": {
        "colab": {
          "base_uri": "https://localhost:8080/"
        },
        "id": "4RG_szpdaLPy",
        "outputId": "be7fa9fb-45f9-4e3f-beed-8c56912e887f"
      },
      "execution_count": 3,
      "outputs": [
        {
          "output_type": "stream",
          "name": "stdout",
          "text": [
            "True\n",
            "False\n",
            "True\n",
            "False\n"
          ]
        }
      ]
    },
    {
      "cell_type": "markdown",
      "source": [
        "**Question3**<BR><BR>\n",
        "A group of friends have decided to start a secret society. The name will be the first letter of\n",
        "each of their names, sorted in alphabetical order.<BR><BR>\n",
        "Create a function that takes in a list of names and returns the name of the secret society.\n",
        "<BR><BR>\n",
        "**Examples**<BR><BR>\n",
        "```\n",
        "society_name([\"Adam\", \"Sarah\", \"Malcolm\"]) ➞ \"AMS\"\n",
        "\n",
        "society_name([\"Harry\", \"Newt\", \"Luna\", \"Cho\"]) ➞ \"CHLN\"\n",
        "\n",
        "society_name([\"Phoebe\", \"Chandler\", \"Rachel\", \"Ross\", \"Monica\", \"Joey\"])\n",
        "```\n"
      ],
      "metadata": {
        "id": "zeawN-IMdCTQ"
      }
    },
    {
      "cell_type": "code",
      "source": [
        "def society_name(list1) :\n",
        "    list2 = sorted(list1) \n",
        "    str1 = ''\n",
        "\n",
        "    for i in list2 :\n",
        "        str1 += i[0]\n",
        "\n",
        "    return str1\n",
        "\n",
        "print(society_name([\"Adam\", \"Sarah\", \"Malcolm\"]))\n",
        "print(society_name([\"Harry\", \"Newt\", \"Luna\", \"Cho\"]))\n",
        "print(society_name([\"Phoebe\", \"Chandler\", \"Rachel\", \"Ross\", \"Monica\", \"Joey\"]))\n",
        "    "
      ],
      "metadata": {
        "colab": {
          "base_uri": "https://localhost:8080/"
        },
        "id": "bTZ2V2QHd6yw",
        "outputId": "f2c5700c-68e2-48bf-85a0-cdde79534bbd"
      },
      "execution_count": 4,
      "outputs": [
        {
          "output_type": "stream",
          "name": "stdout",
          "text": [
            "AMS\n",
            "CHLN\n",
            "CJMPRR\n"
          ]
        }
      ]
    },
    {
      "cell_type": "markdown",
      "source": [
        "**Question4**<BR><BR>\n",
        "An isogram is a word that has no duplicate letters. Create a function that takes a string and\n",
        "returns either ```True``` or ```False``` depending on whether or not it&#39;s an \"isogram\".<BR><BR>\n",
        "**Examples**<BR><BR>\n",
        "```\n",
        "is_isogram(\"Algorism\") ➞ True\n",
        "\n",
        "is_isogram(\"PasSword\") ➞ False\n",
        "\n",
        "# Not case sensitive.\n",
        "\n",
        "is_isogram(\"Consecutive\") ➞ False\n",
        "```"
      ],
      "metadata": {
        "id": "3S9bPsVRffOx"
      }
    },
    {
      "cell_type": "code",
      "source": [
        "def is_isogram(str1) :\n",
        "    set1=set(str1.lower())\n",
        "\n",
        "    if len(set1) == len(str1) :\n",
        "        return True \n",
        "    return False\n",
        "\n",
        "print(is_isogram(\"Algorism\"))\n",
        "print(is_isogram(\"PasSword\"))\n",
        "print(is_isogram(\"Consecutive\"))"
      ],
      "metadata": {
        "colab": {
          "base_uri": "https://localhost:8080/"
        },
        "id": "l3j0D0y4gbQa",
        "outputId": "6bb5b04d-f27f-442c-f35d-1b0f0ff42f59"
      },
      "execution_count": 5,
      "outputs": [
        {
          "output_type": "stream",
          "name": "stdout",
          "text": [
            "True\n",
            "False\n",
            "False\n"
          ]
        }
      ]
    },
    {
      "cell_type": "markdown",
      "source": [
        "**Question5**<BR><BR>\n",
        "Create a function that takes a string and returns ```True``` or ```False```, depending on whether the\n",
        "characters are in order or not.<BR><BR>\n",
        "**Examples**<BR><BR>\n",
        "```\n",
        "is_in_order(\"abc\") ➞ True\n",
        "\n",
        "is_in_order(\"edabit\") ➞ False\n",
        "\n",
        "is_in_order(\"123\") ➞ True\n",
        "\n",
        "is_in_order(\"xyzz\") ➞ True\n",
        "```"
      ],
      "metadata": {
        "id": "aoQQe2h8hwkl"
      }
    },
    {
      "cell_type": "code",
      "source": [
        "def is_in_order(str1) :\n",
        "    if str1 == ''.join(sorted(str1)) :\n",
        "        return True \n",
        "    return False\n",
        "\n",
        "print(is_in_order(\"abc\"))\n",
        "print(is_in_order(\"edabit\"))\n",
        "print(is_in_order(\"123\"))\n",
        "print(is_in_order(\"xyzz\"))"
      ],
      "metadata": {
        "colab": {
          "base_uri": "https://localhost:8080/"
        },
        "id": "x9bgLuRsiUms",
        "outputId": "86a74f9d-e1fb-448b-abcb-33097837ff7e"
      },
      "execution_count": 6,
      "outputs": [
        {
          "output_type": "stream",
          "name": "stdout",
          "text": [
            "True\n",
            "False\n",
            "True\n",
            "True\n"
          ]
        }
      ]
    }
  ]
}