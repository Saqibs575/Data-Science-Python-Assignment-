{
  "nbformat": 4,
  "nbformat_minor": 0,
  "metadata": {
    "colab": {
      "provenance": [],
      "collapsed_sections": []
    },
    "kernelspec": {
      "name": "python3",
      "display_name": "Python 3"
    },
    "language_info": {
      "name": "python"
    }
  },
  "cells": [
    {
      "cell_type": "markdown",
      "source": [
        "Q1. Write a Python Program to Display Fibonacci Sequence Using Recursion?"
      ],
      "metadata": {
        "id": "zGxtt1szfcPY"
      }
    },
    {
      "cell_type": "code",
      "execution_count": null,
      "metadata": {
        "id": "aVpzsxzGfNR3"
      },
      "outputs": [],
      "source": [
        "def fibonacci(n):\n",
        "    if n <= 1 :\n",
        "        return n\n",
        "    return fibonacci(n-1)+fibonacci(n-2)\n",
        "m=int(input('Give number of sequence : '))\n",
        "for i in range(m) :\n",
        "    print(fibonacci(i),end=' ')"
      ]
    },
    {
      "cell_type": "markdown",
      "source": [
        "Q2. Write a Python Program to Find Factorial of Number Using Recursion?"
      ],
      "metadata": {
        "id": "f2gj_Yk7gYg1"
      }
    },
    {
      "cell_type": "code",
      "source": [
        "def factorial(n):\n",
        "    if (n == 1 or n == 0) :\n",
        "        return 1\n",
        "    return n*factorial(n-1)\n",
        "n=int(input('Give your number :'))\n",
        "if n < 0 :\n",
        "    print('INVALID INPUT !!!')\n",
        "else :\n",
        "    print(factorial(n))"
      ],
      "metadata": {
        "id": "4mlGhTDNgfqa"
      },
      "execution_count": null,
      "outputs": []
    },
    {
      "cell_type": "markdown",
      "source": [
        "Q3. Write a Python Program to calculate your Body Mass Index?"
      ],
      "metadata": {
        "id": "juduBGgFgozY"
      }
    },
    {
      "cell_type": "code",
      "source": [
        "def BMI(ht, wt):\n",
        "    bmi = wt/ht**2\n",
        "    return bmi\n",
        "ht=float(input('Give your hieght in meter : '))\n",
        "wt=float(input('Give your weight in Kg : '))\n",
        "print('Your Body Mass Index is : ',BMI(ht,wt)) "
      ],
      "metadata": {
        "colab": {
          "base_uri": "https://localhost:8080/"
        },
        "id": "4ippYOhqgqFg",
        "outputId": "9e5d5492-d682-4d3e-e44c-c149da546ee4"
      },
      "execution_count": null,
      "outputs": [
        {
          "output_type": "stream",
          "name": "stdout",
          "text": [
            "Give your hieght in meter : 1.75\n",
            "Give your weight in Kg : 60\n",
            "Your Body Mass Index is :  19.591836734693878\n"
          ]
        }
      ]
    },
    {
      "cell_type": "markdown",
      "source": [
        "Q4. Write a Python Program to calculate the natural logarithm of any number?"
      ],
      "metadata": {
        "id": "wc07hPQqjO9C"
      }
    },
    {
      "cell_type": "code",
      "source": [
        "import math\n",
        "n=float(input('Give the number : '))\n",
        "print('loge(',n,') =',log(n))"
      ],
      "metadata": {
        "colab": {
          "base_uri": "https://localhost:8080/"
        },
        "id": "8cI1FBQ5joGQ",
        "outputId": "35be78d7-a6c4-40ea-8f57-2afed92c30fe"
      },
      "execution_count": null,
      "outputs": [
        {
          "output_type": "stream",
          "name": "stdout",
          "text": [
            "Give the number : 5.569\n",
            "loge( 5.569 ) =  1.7172155046075315\n"
          ]
        }
      ]
    },
    {
      "cell_type": "markdown",
      "source": [
        "Q5. Write a Python Program for cube sum of first n natural numbers?"
      ],
      "metadata": {
        "id": "wKZIcS55jMTj"
      }
    },
    {
      "cell_type": "code",
      "source": [
        "def cubesum(n):\n",
        "    if n >= 1 :\n",
        "        return n**3 + cubesum(n-1)\n",
        "    return 0\n",
        "n=int(input('Give your number : '))\n",
        "print(cubesum(n))"
      ],
      "metadata": {
        "colab": {
          "base_uri": "https://localhost:8080/"
        },
        "id": "Riw7doHorWK8",
        "outputId": "636b0762-38c0-4f5f-c7df-a81ab2caca94"
      },
      "execution_count": null,
      "outputs": [
        {
          "output_type": "stream",
          "name": "stdout",
          "text": [
            "Give your number : 15\n",
            "14400\n"
          ]
        }
      ]
    }
  ]
}