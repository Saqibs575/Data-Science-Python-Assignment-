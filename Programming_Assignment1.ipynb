{
  "nbformat": 4,
  "nbformat_minor": 0,
  "metadata": {
    "colab": {
      "provenance": [],
      "collapsed_sections": []
    },
    "kernelspec": {
      "name": "python3",
      "display_name": "Python 3"
    },
    "language_info": {
      "name": "python"
    }
  },
  "cells": [
    {
      "cell_type": "markdown",
      "source": [
        "#***Programming_Assignment1***"
      ],
      "metadata": {
        "id": "6-fNAvXYH8iw"
      }
    },
    {
      "cell_type": "markdown",
      "source": [
        "Q1. Write a Python program to print &quot;Hello Python&quot;?"
      ],
      "metadata": {
        "id": "vt0STKUCIS89"
      }
    },
    {
      "cell_type": "code",
      "execution_count": null,
      "metadata": {
        "colab": {
          "base_uri": "https://localhost:8080/"
        },
        "id": "C3cM0_bVH68g",
        "outputId": "e12193ae-9c49-4889-a42f-0e5e824c122d"
      },
      "outputs": [
        {
          "output_type": "stream",
          "name": "stdout",
          "text": [
            "Hello Python\n"
          ]
        }
      ],
      "source": [
        "print('Hello Python')"
      ]
    },
    {
      "cell_type": "markdown",
      "source": [
        "Q2. Write a Python program to do arithmetical operations addition and division.?"
      ],
      "metadata": {
        "id": "XLgpuGCNI2cV"
      }
    },
    {
      "cell_type": "code",
      "source": [
        "a=float(input('a = '))\n",
        "b=float(input('b = '))\n",
        "print('Addition of a and b is :',round(a+b,2))\n",
        "print('Subtraction of a and b is :',round(a/b,2))"
      ],
      "metadata": {
        "colab": {
          "base_uri": "https://localhost:8080/"
        },
        "id": "eca42-kpI65t",
        "outputId": "b569f309-4824-48b0-cb0e-ac714a90a01c"
      },
      "execution_count": 6,
      "outputs": [
        {
          "output_type": "stream",
          "name": "stdout",
          "text": [
            "a = 88.8\n",
            "b = 100.5\n",
            "Addition of a and b is : 189.3\n",
            "Subtraction of a and b is : 0.88\n"
          ]
        }
      ]
    },
    {
      "cell_type": "markdown",
      "source": [
        "Q3. Write a Python program to find the area of a triangle?"
      ],
      "metadata": {
        "id": "o2jHRFLqJz7g"
      }
    },
    {
      "cell_type": "code",
      "source": [
        "print('Give base and height of triangle')\n",
        "b=float(input('b = '))\n",
        "h=float(input('h = '))\n",
        "print('Area of triangle is :',round(b*h/2,2))"
      ],
      "metadata": {
        "colab": {
          "base_uri": "https://localhost:8080/"
        },
        "id": "liBiXqFYJ6Le",
        "outputId": "833962a5-dbc2-428f-e2e7-28429520ee33"
      },
      "execution_count": 5,
      "outputs": [
        {
          "output_type": "stream",
          "name": "stdout",
          "text": [
            "Give base and height of triangle\n",
            "b = 14\n",
            "h = 19.8\n",
            "Area of triangle is : 138.6\n"
          ]
        }
      ]
    },
    {
      "cell_type": "markdown",
      "source": [
        "Q4. Write a Python program to swap two variables?"
      ],
      "metadata": {
        "id": "3lYeCoDDKrc6"
      }
    },
    {
      "cell_type": "code",
      "source": [
        "print('Before swapping :')\n",
        "a=float(input('a = '))\n",
        "b=float(input('b = '))\n",
        "a,b=b,a\n",
        "print('After swappping:')\n",
        "print('a=',a)\n",
        "print('b=',b)"
      ],
      "metadata": {
        "colab": {
          "base_uri": "https://localhost:8080/"
        },
        "id": "EGREiPlEKqnh",
        "outputId": "bd6fcbf6-8cdb-4d76-cd7d-cb03daf9e3b4"
      },
      "execution_count": 7,
      "outputs": [
        {
          "output_type": "stream",
          "name": "stdout",
          "text": [
            "Before swapping :\n",
            "a = 5\n",
            "b = 32\n",
            "After swappping:\n",
            "a= 32.0\n",
            "b= 5.0\n"
          ]
        }
      ]
    },
    {
      "cell_type": "markdown",
      "source": [
        "Q5. Write a Python program to generate a random number?"
      ],
      "metadata": {
        "id": "30FAm_stOxWv"
      }
    },
    {
      "cell_type": "code",
      "source": [
        "import random\n",
        "n=random.random()\n",
        "print(n)"
      ],
      "metadata": {
        "colab": {
          "base_uri": "https://localhost:8080/"
        },
        "id": "hlwhw-wJO1xN",
        "outputId": "671943e2-276c-468b-b700-1c91040c0336"
      },
      "execution_count": null,
      "outputs": [
        {
          "output_type": "stream",
          "name": "stdout",
          "text": [
            "0.37764056418548064\n"
          ]
        }
      ]
    }
  ]
}