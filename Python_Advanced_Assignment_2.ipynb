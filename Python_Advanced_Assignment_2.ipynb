{
  "nbformat": 4,
  "nbformat_minor": 0,
  "metadata": {
    "colab": {
      "provenance": [],
      "collapsed_sections": []
    },
    "kernelspec": {
      "name": "python3",
      "display_name": "Python 3"
    },
    "language_info": {
      "name": "python"
    }
  },
  "cells": [
    {
      "cell_type": "markdown",
      "source": [
        "Q1. What is the relationship between classes and modules?<BR>**ANS :** A class can have its own instance, but a module cannot be instantiated. We use the ‘class’ keyword followed by class name to define a class, whereas to use modules, we use the ‘import’ keyword followed by module name.<BR>For example we can import math modeule and can use all the functions of the module. similarly We can define any class and can write the some methods inside it and can use all the methods.<BR>Classes can be defined by a user , whereas modules ar already defined packages. Like pandas, Numpy etc<BR> We can inherit a particular class and modify it using inheritance. But while using modules, it is simply a code containing variables, functions, and classes.\n",
        "<BR>\n",
        "Modules are files present inside a package, whereas a class is used to encapsulate data and functions together inside the same unit."
      ],
      "metadata": {
        "id": "GR3lc3sMrRjW"
      }
    },
    {
      "cell_type": "markdown",
      "source": [
        "Q2. How do you make instances and classes?<BR>**ANS :** To create instances of a class, we call the class using class name and pass in whatever arguments its init method accepts. The class statement creates a new class definition. The name of the class immediately follows the keyword class followed by a colon."
      ],
      "metadata": {
        "id": "nywsnlWWuolD"
      }
    },
    {
      "cell_type": "markdown",
      "source": [
        "Q3. Where and how should be class attributes created?<BR>**ANS :** Class attributes belong to the class itself they will be shared by all the instances. These attributes can be accessed by class name, these attributes can be accessed even without creating an object. These attributes are not written in any of the function. These are defined at the top of the class body."
      ],
      "metadata": {
        "id": "2A5_-w1H8OZQ"
      }
    },
    {
      "cell_type": "markdown",
      "source": [
        "Q4. Where and how are instance attributes created?<BR>**ANS :** Unlike class attributes, instance attributes are not shared by objects. Every object has its own copy of the instance attribute. They are created in init method. How they are created. They are usually declared in the definition of the functions. "
      ],
      "metadata": {
        "id": "VMVQlmXl9PwR"
      }
    },
    {
      "cell_type": "markdown",
      "source": [
        "Q5. What does the term &quot;self&quot; in a Python class mean?<BR>**ANS :** Self represents the instance of the class. By using the “self” keyword we can access the attributes and methods of the class in python. It binds the attributes with the given arguments. Self is default parameter used for every attributes. It also used while we need to use methods inside the class itself. In the init methoed as well self is default parameter which is to passed."
      ],
      "metadata": {
        "id": "fBDmp5dx828C"
      }
    },
    {
      "cell_type": "markdown",
      "source": [
        "Q6. How does a Python class handle operator overloading?<BR>**ANS :** Python operators work for built-in classes. But the same operator behaves differently with different types. For example, the + operator will perform arithmetic addition on two numbers, merge two lists, or concatenate two strings.<BR>This feature in Python that allows the same operator to have different meaning according to the context is called operator overloading.<BR>Class functions that begin with double underscore __ are called special functions in Python.\n",
        "\n",
        "These functions are not the typical functions that we define for a class. The __init__() function we defined above is one of them. It gets called every time we create a new object of that class."
      ],
      "metadata": {
        "id": "k2fyKcC-_BlO"
      }
    },
    {
      "cell_type": "markdown",
      "source": [
        "Q7. When do you consider allowing operator overloading of your classes?<BR>**ANS :** If we want to concatenate the two string of the class outside the class or we want to add two integers of the class outside the class definition, so in both of these cases we require to use operator overloadining. Since , in both of these cases we have to use + operator in general. But in the case of class we can use __add__() method to achieve our goal."
      ],
      "metadata": {
        "id": "jKC0F3o-CB0B"
      }
    },
    {
      "cell_type": "markdown",
      "source": [
        "Q8. What is the most popular form of operator overloading?<BR>**ANS :** The most popular and convenient example is the Addition (+) operator. Just think how the '+' operator operates on two numbers and the same operator operates on two strings. It performs “Addition” on numbers whereas it performs “Concatenation” on strings."
      ],
      "metadata": {
        "id": "NrzSg-Z0DP-N"
      }
    },
    {
      "cell_type": "markdown",
      "source": [
        "Q9. What are the two most important concepts to grasp in order to comprehend Python OOP code?<BR>**ANS :** <BR> **Inheritance** and **Polymorphism** are two most important concepts in OOP."
      ],
      "metadata": {
        "id": "qEIbv2Y0Du18"
      }
    }
  ]
}