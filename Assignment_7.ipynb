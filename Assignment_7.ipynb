{
  "nbformat": 4,
  "nbformat_minor": 0,
  "metadata": {
    "colab": {
      "provenance": [],
      "collapsed_sections": []
    },
    "kernelspec": {
      "name": "python3",
      "display_name": "Python 3"
    },
    "language_info": {
      "name": "python"
    }
  },
  "cells": [
    {
      "cell_type": "markdown",
      "source": [
        "#***Assignment_7***"
      ],
      "metadata": {
        "id": "tVyeMuGDKWOH"
      }
    },
    {
      "cell_type": "markdown",
      "source": [
        "Q1. What is the name of the feature responsible for generating Regex objects?<BR>**ANS :**<br>re.compile()"
      ],
      "metadata": {
        "id": "Yl1iS2tbKcDn"
      }
    },
    {
      "cell_type": "markdown",
      "source": [
        "Q2. Why do raw strings often appear in Regex objects?<br>**ANS :**<BR>Raw strings are used so that backslash can not be treated as escape character."
      ],
      "metadata": {
        "id": "GpPfrGNOMPzE"
      }
    },
    {
      "cell_type": "markdown",
      "source": [
        "Q3. What is the return value of the search() method?<br>**ANS :**<BR>The search() method returns Match objects if there is a match otherwise it will return None."
      ],
      "metadata": {
        "id": "W5LQ6RL1mdWB"
      }
    },
    {
      "cell_type": "markdown",
      "source": [
        "Q4. From a Match item, how do you get the actual strings that match the pattern?<br>**ANS :**<BR>The group() method returns strings of the matched text."
      ],
      "metadata": {
        "id": "vTvNFgGJmetS"
      }
    },
    {
      "cell_type": "markdown",
      "source": [
        "Q5. In the regex which created from the r&#39;(\\d\\d\\d)-(\\d\\d\\d-\\d\\d\\d\\d)&#39;, what does group zero cover?\n",
        "Group 2? Group 1?<br>**ANS :**<BR>Group 0 is the entire match, group 1 covers the first set of parentheses, and group 2 covers the second set of parentheses."
      ],
      "metadata": {
        "id": "Cnx7qdySmfW-"
      }
    },
    {
      "cell_type": "markdown",
      "source": [
        "Q6. In standard expression syntax, parentheses and intervals have distinct meanings. How can you tell\n",
        "a regex that you want it to fit real parentheses and periods?<br>**ANS :**<BR>Periods and parentheses can be escaped with a backslash: \\., \\(, and \\)."
      ],
      "metadata": {
        "id": "nTaqtg1pmhgv"
      }
    },
    {
      "cell_type": "markdown",
      "source": [
        "Q7. The findall() method returns a string list or a list of string tuples. What causes it to return one of\n",
        "the two options?<br>**ANS :**<BR>If the regex has no groups, a list of strings is returned. If the regex has groups, a list of tuples of strings is returned."
      ],
      "metadata": {
        "id": "FPKnQwrDmiCl"
      }
    },
    {
      "cell_type": "markdown",
      "source": [
        "Q8. In standard expressions, what does the | character mean?<br>**ANS :**<BR>The | character signifies matching \"either, or\" between two groups."
      ],
      "metadata": {
        "id": "WdIRpOkTmihT"
      }
    },
    {
      "cell_type": "markdown",
      "source": [
        "Q9. In regular expressions, what does the character stand for?<br>**ANS :**<BR>The ? character can either mean \"match zero or one of the preceding group\" or be used to signify nongreedy matching."
      ],
      "metadata": {
        "id": "J5tSCW38mjgm"
      }
    },
    {
      "cell_type": "markdown",
      "source": [
        "Q10.In regular expressions, what is the difference between the + and * characters?<br>**ANS :**<BR>The + matches one or more character and the * matches zero or more character."
      ],
      "metadata": {
        "id": "bB1oWmlsmjD9"
      }
    },
    {
      "cell_type": "markdown",
      "source": [
        "Q11. What is the difference between {4} and {4,5} in regular expression?<br>**ANS :**<BR>The {4} matches exactly three instances of the preceding group. The {4,5} matches between three and five instances."
      ],
      "metadata": {
        "id": "7WKdKE1nmlRH"
      }
    },
    {
      "cell_type": "markdown",
      "source": [
        "Q12. What do you mean by the \\d, \\w, and \\s shorthand character classes signify in regular\n",
        "expressions?<br>**ANS :**<BR>\n",
        "The \\d, \\w, and \\s shorthand character classes match a single digit, word, or space character, respectively.\n",
        "<br> **NOTE :**  Here word includes alphanumeric character with _(Underscore).\n"
      ],
      "metadata": {
        "id": "yYU7Zdhpml5d"
      }
    },
    {
      "cell_type": "markdown",
      "source": [
        "Q13. What do means by \\D, \\W, and \\S shorthand character classes signify in regular expressions?<br>**ANS :**<BR>The \\D, \\W, and \\S shorthand character classes match a single character that is not a digit, word, or space character, respectively."
      ],
      "metadata": {
        "id": "0G_iIWtgmmhE"
      }
    },
    {
      "cell_type": "markdown",
      "source": [
        "Q14. What is the difference between .* ? and .* ?<br>**ANS :**<BR>Both looks same"
      ],
      "metadata": {
        "id": "wPbVihFNmm-w"
      }
    },
    {
      "cell_type": "markdown",
      "source": [
        "Q15. What is the syntax for matching both numbers and lowercase letters with a character class?<br>**ANS :**<BR>Either [0-9a-z] or [a-z0-9]"
      ],
      "metadata": {
        "id": "JvYNdeEMmn65"
      }
    },
    {
      "cell_type": "markdown",
      "source": [
        "Q16. What is the procedure for making a normal expression in regax case insensitive?<br>**ANS :**<BR>Passing re.I or re.IGNORECASE as the second argument to re.compile() will make the matching case insensitive."
      ],
      "metadata": {
        "id": "fwRW8NCdmpWU"
      }
    },
    {
      "cell_type": "markdown",
      "source": [
        "Q17. What does the . character normally match? What does it match if re.DOTALL is passed as 2nd\n",
        "argument in re.compile()?<br>**ANS :**<BR>The . character normally matches any character except the newline character. If re.DOTALL is passed as the second argument to re.compile(), then the dot will also match newline characters."
      ],
      "metadata": {
        "id": "DX6XiKb6mwyb"
      }
    },
    {
      "cell_type": "markdown",
      "source": [
        "Q18. If numReg = re.compile(r&#39;\\d+&#39;), what will numRegex.sub(&#39;X&#39;, &#39;11 drummers, 10 pipers, five rings, 4\n",
        "hen&#39;) return?<br>**ANS :**<BR>'X drummers, X pipers, five rings, X hens'"
      ],
      "metadata": {
        "id": "gaPiJjmLmxVD"
      }
    },
    {
      "cell_type": "markdown",
      "source": [
        "Q19. What does passing re.VERBOSE as the 2nd argument to re.compile() allow to do?<br>**ANS :**<BR>The re.VERBOSE argument allows you to add whitespace and comments to the string passed to re.compile()."
      ],
      "metadata": {
        "id": "yu-Ce4ISm2lA"
      }
    },
    {
      "cell_type": "markdown",
      "source": [
        "Q20. How would you write a regex that match a number with comma for every three digits? It must\n",
        "match the given following:<br>&#39;42&#39;\n",
        "<br>'1,234'<br>'6,368,745&#39;\n",
        "\n",
        "but not the following:<br>\n",
        "&#39;12,34,567&#39; (which has only two digits between the commas)<br>\n",
        "&#39;1234&#39; (which lacks commas)<br><br>**ANS :**<BR>re.compile(r'^\\d{1,3}(,\\d{3})*$') will create this regex, but other regex strings can produce a similar regular expression."
      ],
      "metadata": {
        "id": "RHChfiyRm3kS"
      }
    },
    {
      "cell_type": "markdown",
      "source": [
        "Q21. How would you write a regex that matches the full name of someone whose last name is\n",
        "Watanabe? You can assume that the first name that comes before it will always be one word that\n",
        "begins with a capital letter. The regex must match the following:<br>\n",
        "&#39;Haruto Watanabe&#39;<br>\n",
        "&#39;Alice Watanabe&#39;<br>\n",
        "&#39;RoboCop Watanabe&#39;<BR>\n",
        "but not the following:<BR>\n",
        "&#39;haruto Watanabe&#39; (where the first name is not capitalized)<BR>\n",
        "&#39;Mr. Watanabe&#39; (where the preceding word has a nonletter character)<br>\n",
        "&#39;Watanabe&#39; (which has no first name)<br>\n",
        "&#39;Haruto watanabe&#39; (where Watanabe is not capitalized)<br>**ANS :**<BR>re.compile(r'[A-Z][a-z]*\\hWatanabe')"
      ],
      "metadata": {
        "id": "x3de3jTTm4Lm"
      }
    },
    {
      "cell_type": "markdown",
      "source": [
        "Q22. How would you write a regex that matches a sentence where the first word is either Alice, Bob,\n",
        "or Carol; the second word is either eats, pets, or throws; the third word is apples, cats, or baseballs;\n",
        "and the sentence ends with a period? This regex should be case-insensitive. It must match the\n",
        "following:<BR>\n",
        "&#39;Alice eats apples.&#39;<BR>\n",
        "&#39;Bob pets cats.&#39;<br>\n",
        "&#39;Carol throws baseballs.&#39;<br>\n",
        "&#39;Alice throws Apples.&#39;<br>\n",
        "&#39;BOB EATS CATS.&#39;<br>\n",
        "but not the following:<br>\n",
        "&#39;RoboCop eats apples.&#39;<br>\n",
        "&#39;ALICE THROWS FOOTBALLS.&#39;<br>\n",
        "&#39;Carol eats 7 cats.&#39;<br>**ANS :**<BR>re.compile(r'(Alice|Bob|Carol)\\s(eats|pets|throws)\\s(apples|cats|baseballs)\\.', re.IGNORECASE)"
      ],
      "metadata": {
        "id": "pSFt7tlHm5rc"
      }
    }
  ]
}