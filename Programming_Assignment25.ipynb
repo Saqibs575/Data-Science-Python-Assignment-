{
  "nbformat": 4,
  "nbformat_minor": 0,
  "metadata": {
    "colab": {
      "provenance": [],
      "collapsed_sections": []
    },
    "kernelspec": {
      "name": "python3",
      "display_name": "Python 3"
    },
    "language_info": {
      "name": "python"
    }
  },
  "cells": [
    {
      "cell_type": "markdown",
      "source": [
        "#***Programming_Assignment25***"
      ],
      "metadata": {
        "id": "4m75T-LSvb-G"
      }
    },
    {
      "cell_type": "markdown",
      "source": [
        "**Question1**<BR><BR>\n",
        "Create a function that takes three integer arguments (a, b, c) and returns the amount of\n",
        "integers which are of equal value.\n",
        "<BR><BR>**Examples**<BR><BR>\n",
        "```\n",
        "equal(3, 4, 3) ➞ 2\n",
        "\n",
        "equal(1, 1, 1) ➞ 3\n",
        "\n",
        "equal(3, 4, 1) ➞ 0\n",
        "```"
      ],
      "metadata": {
        "id": "6SCymHIi2EAg"
      }
    },
    {
      "cell_type": "code",
      "execution_count": 1,
      "metadata": {
        "colab": {
          "base_uri": "https://localhost:8080/"
        },
        "id": "xI_TfmypvVjQ",
        "outputId": "c7eeedb0-11cd-4d8c-f048-5176acd744c7"
      },
      "outputs": [
        {
          "output_type": "stream",
          "name": "stdout",
          "text": [
            "2\n",
            "3\n",
            "0\n"
          ]
        }
      ],
      "source": [
        "def equal(a,b,c) :\n",
        "    if a == b and a == c :\n",
        "        return 3 \n",
        "    elif a == b or a == c :\n",
        "        return 2 \n",
        "    return 0 \n",
        "\n",
        "print(equal(3,4,3))\n",
        "print(equal(1,1,1))\n",
        "print(equal(3,4,1))"
      ]
    },
    {
      "cell_type": "markdown",
      "source": [
        "**Question2**<BR><BR>\n",
        "Write a function that converts a dictionary into a list of keys-values tuples.\n",
        "<BR><BR>**Examples**<BR><BR>\n",
        "```\n",
        "dict_to_list({\n",
        "\"D\": 1,\n",
        "\"B\": 2,\n",
        "\"C\": 3\n",
        "}) ➞ [(\"B\", 2), (\"C\", 3), (\"D\", 1)]\n",
        "\n",
        "dict_to_list({\n",
        "\"likes\": 2,\n",
        "\"dislikes\": 3,\n",
        "\"followers\": 10\n",
        "}) ➞ [(\"dislikes\", 3), (\"followers\", 10), (\"likes\", 2)]\n",
        "```"
      ],
      "metadata": {
        "id": "6s0yCe1B29sC"
      }
    },
    {
      "cell_type": "code",
      "source": [
        "def dict_to_list(dict1) :\n",
        "\n",
        "    return sorted([(k,v) for k,v in dict1.items()])\n",
        "\n",
        "print(dict_to_list({\n",
        "\"D\": 1,\n",
        "\"B\": 2,\n",
        "\"C\": 3\n",
        "}))\n",
        "\n",
        "print(dict_to_list({\n",
        "\"likes\": 2,\n",
        "\"dislikes\": 3,\n",
        "\"followers\": 10\n",
        "}))"
      ],
      "metadata": {
        "colab": {
          "base_uri": "https://localhost:8080/"
        },
        "id": "7xQKQ0XC3Uqr",
        "outputId": "62bc8113-08f6-454d-b3df-90e0d819af85"
      },
      "execution_count": 10,
      "outputs": [
        {
          "output_type": "stream",
          "name": "stdout",
          "text": [
            "[('B', 2), ('C', 3), ('D', 1)]\n",
            "[('dislikes', 3), ('followers', 10), ('likes', 2)]\n"
          ]
        }
      ]
    },
    {
      "cell_type": "markdown",
      "source": [
        "**Question3**<BR><BR>\n",
        "Write a function that creates a dictionary with each (key, value) pair being the (lower case,\n",
        "upper case) versions of a letter, respectively.\n",
        "<BR><BR>**Examples**<BR><BR>\n",
        "```\n",
        "mapping([\"p\", \"s\"]) ➞ { \"p\": \"P\", \"s\": \"S\" }\n",
        "\n",
        "mapping([\"a\", \"b\", \"c\"]) ➞ { \"a\": \"A\", \"b\": \"B\", \"c\": \"C\" }\n",
        "\n",
        "mapping([\"a\", \"v\", \"y\", \"z\"]) ➞ { \"a\": \"A\", \"v\": \"V\", \"y\": \"Y\", \"z\": \"Z\" }\n",
        "```"
      ],
      "metadata": {
        "id": "iVmszbeP47DI"
      }
    },
    {
      "cell_type": "code",
      "source": [
        "def mapping(list1) :\n",
        "    return {k.lower():k.upper() for k in list1 }\n",
        "\n",
        "print(mapping([\"p\",\"s\"]))\n",
        "print(mapping([\"a\",\"b\",\"c\"]))\n",
        "print(mapping([\"a\",\"v\",\"y\",\"z\"]))"
      ],
      "metadata": {
        "colab": {
          "base_uri": "https://localhost:8080/"
        },
        "id": "qkeflThu5Zcl",
        "outputId": "2060237d-79d1-4851-c689-3798a5ee3115"
      },
      "execution_count": 12,
      "outputs": [
        {
          "output_type": "stream",
          "name": "stdout",
          "text": [
            "{'p': 'P', 's': 'S'}\n",
            "{'a': 'A', 'b': 'B', 'c': 'C'}\n",
            "{'a': 'A', 'v': 'V', 'y': 'Y', 'z': 'Z'}\n"
          ]
        }
      ]
    },
    {
      "cell_type": "markdown",
      "source": [
        "**Question4**<Br><BR>\n",
        "Write a function, that replaces all vowels in a string with a specified vowel.\n",
        "<BR><BR>**Examples**<BR><BR>\n",
        "```\n",
        "vow_replace(\"apples and bananas\", \"u\") ➞ \"upplus und bununus\"\n",
        "\n",
        "vow_replace(\"cheese casserole\", \"o\") ➞ \"chooso cossorolo\"\n",
        "\n",
        "vow_replace(\"stuffed jalapeno poppers\", \"e\") ➞ \"\n",
        "steffed jelepene peppers\"\n",
        "```"
      ],
      "metadata": {
        "id": "yEwsbPxu7XfY"
      }
    },
    {
      "cell_type": "code",
      "source": [
        "def vow_replace(str1,ch) :\n",
        "    vowels = {'a','e','i','o','u'}\n",
        "\n",
        "    for i in str1.lower() :\n",
        "        if i in vowels :\n",
        "            str1=str1.replace(i,ch)\n",
        "\n",
        "    return str1\n",
        "\n",
        "print(vow_replace(\"apples and bananas\", \"u\"))\n",
        "print(vow_replace(\"cheese casserole\", \"o\"))\n",
        "print(vow_replace(\"stuffed jalapeno poppers\", \"e\"))"
      ],
      "metadata": {
        "colab": {
          "base_uri": "https://localhost:8080/"
        },
        "id": "rVL9zxmp7z4I",
        "outputId": "0b4f835f-c1de-48ce-aaf4-e56e7e1178a0"
      },
      "execution_count": 14,
      "outputs": [
        {
          "output_type": "stream",
          "name": "stdout",
          "text": [
            "upplus und bununus\n",
            "chooso cossorolo\n",
            "steffed jelepene peppers\n"
          ]
        }
      ]
    },
    {
      "cell_type": "markdown",
      "source": [
        "**Question5**<BR><BR>\n",
        "Create a function that takes a string as input and capitalizes a letter if its ASCII code is even\n",
        "and returns its lower case version if its ASCII code is odd.\n",
        "<BR><BR>**Examples**<BR><BR>\n",
        "```\n",
        "ascii_capitalize(\"to be or not to be!\") ➞ \"To Be oR NoT To Be!\"\n",
        "\n",
        "ascii_capitalize(\"THE LITTLE MERMAID\") ➞ \"THe LiTTLe meRmaiD\"\n",
        "\n",
        "ascii_capitalize(\"Oh what a beautiful morning.\") ➞ \"oH wHaT a BeauTiFuLmoRNiNg.\"\n",
        "```"
      ],
      "metadata": {
        "id": "Y2HM-Rip9fX_"
      }
    },
    {
      "cell_type": "code",
      "source": [
        "def ascii_capitalize(str1) :\n",
        "    \n",
        "    for ch in str1 :\n",
        "        if ord(ch) % 2 == 0 :\n",
        "            str1 = str1.replace(ch,ch.upper())\n",
        "        else :\n",
        "            str1 = str1.replace(ch,ch.lower())\n",
        "\n",
        "    return str1\n",
        "\n",
        "print(ascii_capitalize(\"to be or not to be!\"))\n",
        "print(ascii_capitalize(\"THE LITTLE MERMAID\"))\n",
        "print(ascii_capitalize(\"Oh what a beautiful morning.\"))"
      ],
      "metadata": {
        "colab": {
          "base_uri": "https://localhost:8080/"
        },
        "id": "NAEwu-yP91dm",
        "outputId": "a7a69304-82dc-4f2e-b681-6ce468332d96"
      },
      "execution_count": 17,
      "outputs": [
        {
          "output_type": "stream",
          "name": "stdout",
          "text": [
            "To Be oR NoT To Be!\n",
            "THe LiTTLe meRmaiD\n",
            "oH wHaT a BeauTiFuL moRNiNg.\n"
          ]
        }
      ]
    }
  ]
}