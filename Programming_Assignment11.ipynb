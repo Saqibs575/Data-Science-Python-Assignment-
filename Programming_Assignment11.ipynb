{
  "nbformat": 4,
  "nbformat_minor": 0,
  "metadata": {
    "colab": {
      "provenance": [],
      "collapsed_sections": []
    },
    "kernelspec": {
      "name": "python3",
      "display_name": "Python 3"
    },
    "language_info": {
      "name": "python"
    }
  },
  "cells": [
    {
      "cell_type": "markdown",
      "source": [
        "#***Programming_Assignment11***"
      ],
      "metadata": {
        "id": "lVuXC5svRZJ9"
      }
    },
    {
      "cell_type": "markdown",
      "source": [
        "Q1. Write a Python program to find words which are greater than given length k?"
      ],
      "metadata": {
        "id": "3EVL7c-SRXbf"
      }
    },
    {
      "cell_type": "code",
      "execution_count": null,
      "metadata": {
        "colab": {
          "base_uri": "https://localhost:8080/"
        },
        "id": "glgvrddgRCsW",
        "outputId": "50e0277a-2536-4530-c539-d4d07106fcfd"
      },
      "outputs": [
        {
          "output_type": "stream",
          "name": "stdout",
          "text": [
            "Give you string : I am Saqib shaikh . I am doing programming assignment right now .\n",
            "Give length : 3\n",
            "Words length greater than 3 are : Saqib shaikh doing programming assignment right "
          ]
        }
      ],
      "source": [
        "def find(str1,k) :\n",
        "    lst1 = str1.split()\n",
        "    lst2 = []\n",
        "    \n",
        "    for i in lst1 :\n",
        "        if len(i) > k :\n",
        "            lst2.append(i)\n",
        "    \n",
        "    return lst2\n",
        "\n",
        "string = input('Give you string : ')\n",
        "k = int(input('Give length : '))\n",
        "print(f'Words length greater than {k} are : ',end='')\n",
        "\n",
        "if len(find(string,k)) == 0 :\n",
        "    print(f'NO WORD FOUND OF LENGTH GREATER THAN {k} ')\n",
        "else :\n",
        "    for i in find(string,k) :\n",
        "        print(i,end = ' ')"
      ]
    },
    {
      "cell_type": "markdown",
      "source": [
        "Q2. Write a Python program for removing i-th character from a string?"
      ],
      "metadata": {
        "id": "iRRRHsDMZ8gy"
      }
    },
    {
      "cell_type": "code",
      "source": [
        "def remove(str1,i) :\n",
        "    str2 = str1[:i-1]+str1[i:]\n",
        "    return str2\n",
        "\n",
        "string = input('Give your string : ')\n",
        "i = int(input ('Give position of character : '))\n",
        "\n",
        "if i > len(string) :\n",
        "    print(\"Position is out of range !!!\")\n",
        "else :\n",
        "    print(f'String after removing {i}th character : ',remove(string,i))"
      ],
      "metadata": {
        "colab": {
          "base_uri": "https://localhost:8080/"
        },
        "id": "8yQSA74iR81F",
        "outputId": "defd7fa0-3660-488f-be8d-e3b84f5f4760"
      },
      "execution_count": null,
      "outputs": [
        {
          "output_type": "stream",
          "name": "stdout",
          "text": [
            "Give your string : I am Saqib shaikh . I am doing programming assignment right now .\n",
            "Give position of character : 5\n",
            "String after removing 5th character :  I amSaqib shaikh . I am doing programming assignment right now .\n"
          ]
        }
      ]
    },
    {
      "cell_type": "markdown",
      "source": [
        "Q3. Write a Python program to split and join a string?"
      ],
      "metadata": {
        "id": "94Vwex0BrYl2"
      }
    },
    {
      "cell_type": "code",
      "source": [
        "def split(str1,i) :\n",
        "    str2 = str1[:i-1]\n",
        "    str3 = str1[i:]\n",
        "    return [str2,str3]\n",
        "\n",
        "def join(str1,str2) :\n",
        "    str3 = str1 + str2\n",
        "    return str3\n",
        "\n",
        "string = input ('Give your string : ')\n",
        "i = int(input('Give the position from where you want to split your string : '))\n",
        "\n",
        "if i > len(string) :\n",
        "    print(\"\\nPosition is out of range !!!\")\n",
        "else :\n",
        "    print(f'\\nSplitted strings are : \\n\\n{split(string,i)[0]} \\n{split(string,i)[1]}')\n",
        "    print(f'\\nJoin of two strings are : \\n{join(split(string,i)[0],split(string,i)[1])}')"
      ],
      "metadata": {
        "colab": {
          "base_uri": "https://localhost:8080/"
        },
        "id": "q8deQVHpSCAE",
        "outputId": "29bbfef7-1e18-4f39-c9a6-68e500a096da"
      },
      "execution_count": null,
      "outputs": [
        {
          "output_type": "stream",
          "name": "stdout",
          "text": [
            "Give your string : I am Saqib shaikh . I am doing programming assignment right now .\n",
            "Give the position from where you want to split your string : 20\n",
            "\n",
            "Splitted strings are : \n",
            "\n",
            "I am Saqib shaikh . \n",
            "I am doing programming assignment right now .\n",
            "\n",
            "Join of two strings are : \n",
            "I am Saqib shaikh .I am doing programming assignment right now .\n"
          ]
        }
      ]
    },
    {
      "cell_type": "markdown",
      "source": [
        "Q4. Write a Python to check if a given string is binary string or not?"
      ],
      "metadata": {
        "id": "TD841fnCxonW"
      }
    },
    {
      "cell_type": "code",
      "source": [
        "def isBinary(str1) :\n",
        "    for i in str1 :\n",
        "        if i not in {\"1\",'0'} :\n",
        "            return False \n",
        "    return True\n",
        "\n",
        "str1 = input ('Give your string : ')\n",
        "if isBinary(str1) :\n",
        "    print('Given string is Binary ')\n",
        "else : \n",
        "    print('Given string is NOT binary ') "
      ],
      "metadata": {
        "colab": {
          "base_uri": "https://localhost:8080/"
        },
        "id": "rhVJrfAPSE7L",
        "outputId": "aac38462-7420-46af-9fa4-629f2aa0abcb"
      },
      "execution_count": 12,
      "outputs": [
        {
          "output_type": "stream",
          "name": "stdout",
          "text": [
            "Give your string : 1010111001101\n",
            "Given string is Binary \n"
          ]
        }
      ]
    },
    {
      "cell_type": "markdown",
      "source": [
        "Q5. Write a Python program to find uncommon words from two Strings?"
      ],
      "metadata": {
        "id": "VOGS48p3xwI6"
      }
    },
    {
      "cell_type": "code",
      "source": [
        "def unCommon(str1,str2) :\n",
        "\n",
        "    if len(str1.split()) > len(str2.split()) :\n",
        "        temp1 = str1.upper().split()\n",
        "        temp2 = str2.upper().split()\n",
        "    else :\n",
        "        temp1 = str2.upper().split()\n",
        "        temp2 = str1.upper().split()\n",
        "\n",
        "    str3 = []\n",
        "    for i in temp1 :\n",
        "        if i not in temp2 :\n",
        "            str3.append(i)\n",
        "\n",
        "    return set(str3)\n",
        "\n",
        "str1 = input('Give your 1st string : ')\n",
        "str2 = input('Give your 2nd string : ')\n",
        "\n",
        "if len(unCommon(str1 , str2)) != 0 : \n",
        "    print('Uncommon WORDS in both strings are : ',end = '')\n",
        "    for i in unCommon(str1,str2) :\n",
        "        print(i,end = '  ')\n",
        "else :\n",
        "    print('No Uncommon Words found !!!')"
      ],
      "metadata": {
        "colab": {
          "base_uri": "https://localhost:8080/"
        },
        "id": "1PTr0cxzx1tW",
        "outputId": "cadfd189-aa55-40ed-e999-95fcf01eb02d"
      },
      "execution_count": null,
      "outputs": [
        {
          "output_type": "stream",
          "name": "stdout",
          "text": [
            "Give your 1st string : I am Saqib shaikh  I am doing programming assignment right now \n",
            "Give your 2nd string : I am Saqib shaikh  I am doing programming assignment right now  and i am doing it sincerely\n",
            "Uncommon WORDS in both strings are : SINCERELY  IT  AND  "
          ]
        }
      ]
    },
    {
      "cell_type": "markdown",
      "source": [
        "Q6. Write a Python to find all duplicate characters in string?"
      ],
      "metadata": {
        "id": "LVugnNb1HX2W"
      }
    },
    {
      "cell_type": "code",
      "source": [
        "def duplicates(str1) :\n",
        "    str2 = []\n",
        "    for ch in str1.replace(' ','') :\n",
        "        if str1.count(ch) > 1 :\n",
        "            str2.append(ch)\n",
        "    return set(str2)\n",
        "\n",
        "str1 = input('Give your string : ')\n",
        "\n",
        "if len(duplicates(str1) )!= 0: \n",
        "    print('Duplicate characters in the given string are : ',end = '')\n",
        "    for i in duplicates(str1) :\n",
        "        print(i,end = '  ')\n",
        "else :\n",
        "    print('No Duplicates found !!!')"
      ],
      "metadata": {
        "colab": {
          "base_uri": "https://localhost:8080/"
        },
        "id": "oGC4JEK-HZYB",
        "outputId": "5af45a97-aa69-4a1b-c49c-af837caf11e1"
      },
      "execution_count": null,
      "outputs": [
        {
          "output_type": "stream",
          "name": "stdout",
          "text": [
            "Give your string : I am Saqib shaikh  I am doing programming assignment right now \n",
            "Duplicate characters in the given string are : m  I  s  n  i  h  t  o  g  r  a  "
          ]
        }
      ]
    },
    {
      "cell_type": "markdown",
      "source": [
        "Q7. Write a Python Program to check if a string contains any special character?"
      ],
      "metadata": {
        "id": "UhqCLIg9QWCP"
      }
    },
    {
      "cell_type": "code",
      "source": [
        "def isSpecial (str1) :\n",
        "    specialChar = \"!@#$%^&*()-+?_=,<>/\"\n",
        "    global count\n",
        "    count = 0\n",
        "    for ch in str1 :\n",
        "        if ch in specialChar :\n",
        "            count += 1\n",
        "\n",
        "    if count != 0 :\n",
        "        return True \n",
        "    return False\n",
        "\n",
        "string = input('Give your string : ')\n",
        "if isSpecial (string) :\n",
        "    print (f'Given string has {count} special character : ')\n",
        "else :\n",
        "    print('Given string has NO special character ')"
      ],
      "metadata": {
        "colab": {
          "base_uri": "https://localhost:8080/"
        },
        "id": "E_wNfsvXL7Jp",
        "outputId": "d02eb4f9-4d2d-44d6-a6d2-85e333806267"
      },
      "execution_count": null,
      "outputs": [
        {
          "output_type": "stream",
          "name": "stdout",
          "text": [
            "Give your string : Am I doing well ? yes ! \n",
            "Given string has 2 special character : \n"
          ]
        }
      ]
    }
  ]
}