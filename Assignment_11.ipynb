{
  "nbformat": 4,
  "nbformat_minor": 0,
  "metadata": {
    "colab": {
      "provenance": [],
      "collapsed_sections": []
    },
    "kernelspec": {
      "name": "python3",
      "display_name": "Python 3"
    },
    "language_info": {
      "name": "python"
    }
  },
  "cells": [
    {
      "cell_type": "markdown",
      "source": [
        "#***Assignment_11***"
      ],
      "metadata": {
        "id": "RsUIbe2zSE6K"
      }
    },
    {
      "cell_type": "markdown",
      "source": [
        "Q1. Create an assert statement that throws an AssertionError if the variable spam is a negative\n",
        "integer.<BR>**ANS :**```assert spam >= 0```"
      ],
      "metadata": {
        "id": "Ok1eAMEdSPtV"
      }
    },
    {
      "cell_type": "markdown",
      "source": [
        "Q2. Write an assert statement that triggers an AssertionError if the variables eggs and bacon contain\n",
        "strings that are the same as each other, even if their cases are different (that is, &#39;hello&#39; and &#39;hello&#39; are\n",
        "considered the same, and &#39;goodbye&#39; and &#39;GOODbye&#39; are also considered the same).<BR>**ANS :** ```assert spam.lower != bacon.lower()```"
      ],
      "metadata": {
        "id": "iSiCk6g_U139"
      }
    },
    {
      "cell_type": "markdown",
      "source": [
        "Q3. Create an assert statement that throws an AssertionError every time.<BR>**ANS :** ```assert False```"
      ],
      "metadata": {
        "id": "mIVSgTxRV1f_"
      }
    },
    {
      "cell_type": "markdown",
      "source": [
        "Q4. What are the two lines that must be present in your software in order to call logging.debug()?<BR>**ANS :**<BR>import logging \n",
        "<BR>logging.basicConfig(level=logging.DEBUG, format=' %(asctime)s - %(levelname)s - %(message)s')"
      ],
      "metadata": {
        "id": "8AAIsndoWcA8"
      }
    },
    {
      "cell_type": "markdown",
      "source": [
        "Q5. What are the two lines that your program must have in order to have logging.debug() send a\n",
        "logging message to a file named programLog.txt?<BR>**ANS :**<BR>import logging<BR> logging.basicConfig(filename='programLog.txt', level=logging.DEBUG, format=' %(asctime)s - %(levelname)s - %(message)s')"
      ],
      "metadata": {
        "id": "WUHhpG27jgnm"
      }
    },
    {
      "cell_type": "markdown",
      "source": [
        "Q6. What are the five levels of logging?<BR>**ANS :**     DEBUG, INFO, WARNING, ERROR, CRITICAL"
      ],
      "metadata": {
        "id": "qFypxcjPj-V_"
      }
    },
    {
      "cell_type": "markdown",
      "source": [
        "Q7. What line of code would you add to your software to disable all logging messages?<BR>**ANS :** logging.disable(logging.CRITICAL)"
      ],
      "metadata": {
        "id": "4JU2fJUFlAdN"
      }
    },
    {
      "cell_type": "markdown",
      "source": [
        "8.Why is using logging messages better than using print() to display the same message?<BR>**ANS :** <BR>We can disable logging messages without removing the logging function calls.<BR> We can selectively disable lower-level logging messages. <BR>We can create logging messages. <BR>Logging messages provides a timestamp."
      ],
      "metadata": {
        "id": "2AKo1ZISlZEP"
      }
    },
    {
      "cell_type": "markdown",
      "source": [
        "Q9. What are the differences between the Step Over, Step In, and Step Out buttons in the debugger?<BR>**ANS :**<BR>Step in will cause the debugger to execute the next line of code and then pause again. If the next line of code is a function call, the debugger will \"step into\" that function and jump to the first line of code of that function.\n",
        "<BR>\n",
        "step over will execute the next line of code, similar to the STEP button. However, if the next line of code is a function call, the OVER button will \"step over\" the code in the function.\n",
        "<BR>\n",
        "step out will cause the debugger to execute lines of code at full speed until it returns from the current function."
      ],
      "metadata": {
        "id": "k1QnLk3Hmygy"
      }
    },
    {
      "cell_type": "markdown",
      "source": [
        "Q10. After you click Continue, when will the debugger stop ?<BR>**ANS :** After clicking continue, the debugger will stop when it has reached the end of the program or a line with a breakpoint."
      ],
      "metadata": {
        "id": "34LhTveUnw8R"
      }
    },
    {
      "cell_type": "markdown",
      "source": [
        "Q11. What is the concept of a breakpoint?<BR>**ANS :** A breakpoint is a setting on a line of code that causes the debugger to pause when the program execution reaches the line."
      ],
      "metadata": {
        "id": "OOomlxAToWi_"
      }
    }
  ]
}