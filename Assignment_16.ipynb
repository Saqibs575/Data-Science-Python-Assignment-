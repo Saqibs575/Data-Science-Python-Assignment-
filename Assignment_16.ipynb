{
  "nbformat": 4,
  "nbformat_minor": 0,
  "metadata": {
    "colab": {
      "provenance": [],
      "collapsed_sections": []
    },
    "kernelspec": {
      "name": "python3",
      "display_name": "Python 3"
    },
    "language_info": {
      "name": "python"
    }
  },
  "cells": [
    {
      "cell_type": "markdown",
      "source": [
        "#***Assignment_16***"
      ],
      "metadata": {
        "id": "i4LA6o1y_9o9"
      }
    },
    {
      "cell_type": "markdown",
      "source": [
        "Q1. Create a list called years_list, starting with the year of your birth, and each year thereafter until\n",
        "the year of your fifth birthday. For example, if you were born in 1980. the list would be years_list =\n",
        "[1980, 1981, 1982, 1983, 1984, 1985]."
      ],
      "metadata": {
        "id": "tefAVpCJACQF"
      }
    },
    {
      "cell_type": "code",
      "source": [
        "years_list=[1995,1996,1997,1998,1999,2000]"
      ],
      "metadata": {
        "id": "98GGrr-kATM-"
      },
      "execution_count": null,
      "outputs": []
    },
    {
      "cell_type": "markdown",
      "source": [
        "Q2. In which year in years_list was your third birthday? Remember, you were 0 years of age for your\n",
        "first year.<BR>**ANS :** 1998"
      ],
      "metadata": {
        "id": "8JB6OtsEAqX3"
      }
    },
    {
      "cell_type": "code",
      "source": [
        "years_list[3]"
      ],
      "metadata": {
        "colab": {
          "base_uri": "https://localhost:8080/"
        },
        "id": "So3OWjXhBoTe",
        "outputId": "e23d5d57-96b0-498f-ae29-f60fe911e064"
      },
      "execution_count": null,
      "outputs": [
        {
          "output_type": "execute_result",
          "data": {
            "text/plain": [
              "1998"
            ]
          },
          "metadata": {},
          "execution_count": 4
        }
      ]
    },
    {
      "cell_type": "markdown",
      "source": [
        "Q3 3.In the years list, which year were you the oldest?<BR>**ANS :** 2000"
      ],
      "metadata": {
        "id": "M2SjyGI5BTdQ"
      }
    },
    {
      "cell_type": "code",
      "source": [
        "years_list[-1] \n",
        "# OR\n",
        "max(years_list)"
      ],
      "metadata": {
        "colab": {
          "base_uri": "https://localhost:8080/"
        },
        "id": "kzwBMU7hAubP",
        "outputId": "aa6d91e6-9cec-4d3d-dcc7-3a69ac5d48ef"
      },
      "execution_count": null,
      "outputs": [
        {
          "output_type": "execute_result",
          "data": {
            "text/plain": [
              "2000"
            ]
          },
          "metadata": {},
          "execution_count": 9
        }
      ]
    },
    {
      "cell_type": "markdown",
      "source": [
        "Q4. Make a list called things with these three strings as elements: &quot;mozzarella&quot;, &quot;cinderella&quot;,\n",
        "&quot;salmonella&quot;."
      ],
      "metadata": {
        "id": "mLfE60BmB1_h"
      }
    },
    {
      "cell_type": "code",
      "source": [
        "things=[\"mozzarella\", \"cinderella\", \"salmonella\"]"
      ],
      "metadata": {
        "id": "RnAPSNpyB9rO"
      },
      "execution_count": null,
      "outputs": []
    },
    {
      "cell_type": "markdown",
      "source": [
        "Q5. Capitalize the element in things that refers to a person and then print the list. Did it change the\n",
        "element in the list?"
      ],
      "metadata": {
        "id": "aYd3MSdBCHxT"
      }
    },
    {
      "cell_type": "code",
      "source": [
        "for person in things :\n",
        "    print(person.capitalize())\n",
        "things"
      ],
      "metadata": {
        "colab": {
          "base_uri": "https://localhost:8080/"
        },
        "id": "14Q8LUNyCVf_",
        "outputId": "a352e97f-603f-4701-cb4a-2bc59eabf862"
      },
      "execution_count": null,
      "outputs": [
        {
          "output_type": "stream",
          "name": "stdout",
          "text": [
            "Mozzarella\n",
            "Cinderella\n",
            "Salmonella\n"
          ]
        },
        {
          "output_type": "execute_result",
          "data": {
            "text/plain": [
              "['mozzarella', 'cinderella', 'salmonella']"
            ]
          },
          "metadata": {},
          "execution_count": 11
        }
      ]
    },
    {
      "cell_type": "markdown",
      "source": [
        "IT DOES NOT CHANGE THE ELEMENTS IN LIST"
      ],
      "metadata": {
        "id": "heYEvdcVDdi-"
      }
    },
    {
      "cell_type": "markdown",
      "source": [
        "Q6. Make a surprise list with the elements &quot;Groucho,&quot; &quot;Chico,&quot; and &quot;Harpo.&quot;"
      ],
      "metadata": {
        "id": "3hOdlxotDlGv"
      }
    },
    {
      "cell_type": "code",
      "source": [
        "surprise_list=['Groucho','Chico','Harpo']"
      ],
      "metadata": {
        "id": "J965L1ILD2ED"
      },
      "execution_count": null,
      "outputs": []
    },
    {
      "cell_type": "markdown",
      "source": [
        "Q7. Lowercase the last element of the surprise list, reverse it, and then capitalize it."
      ],
      "metadata": {
        "id": "1q-M_WqlEKDv"
      }
    },
    {
      "cell_type": "code",
      "source": [
        "surprise_list[-1].lower()"
      ],
      "metadata": {
        "colab": {
          "base_uri": "https://localhost:8080/",
          "height": 35
        },
        "id": "3DtJrGQ-EVgV",
        "outputId": "dda44766-42fb-4ec2-b667-1e4b3fbfe641"
      },
      "execution_count": null,
      "outputs": [
        {
          "output_type": "execute_result",
          "data": {
            "text/plain": [
              "'harpo'"
            ],
            "application/vnd.google.colaboratory.intrinsic+json": {
              "type": "string"
            }
          },
          "metadata": {},
          "execution_count": 13
        }
      ]
    },
    {
      "cell_type": "code",
      "source": [
        "surprise_list[-1][::-1]"
      ],
      "metadata": {
        "colab": {
          "base_uri": "https://localhost:8080/",
          "height": 35
        },
        "id": "SNUclzrEEas7",
        "outputId": "bc8c21a8-b197-4f26-930d-6b116e35eaf8"
      },
      "execution_count": null,
      "outputs": [
        {
          "output_type": "execute_result",
          "data": {
            "text/plain": [
              "'opraH'"
            ],
            "application/vnd.google.colaboratory.intrinsic+json": {
              "type": "string"
            }
          },
          "metadata": {},
          "execution_count": 15
        }
      ]
    },
    {
      "cell_type": "code",
      "source": [
        "surprise_list[-1].capitalize()"
      ],
      "metadata": {
        "colab": {
          "base_uri": "https://localhost:8080/",
          "height": 35
        },
        "id": "FtYkraZ0EjbN",
        "outputId": "12f78c56-7612-46df-8785-bb2cafbf73fe"
      },
      "execution_count": null,
      "outputs": [
        {
          "output_type": "execute_result",
          "data": {
            "text/plain": [
              "'Harpo'"
            ],
            "application/vnd.google.colaboratory.intrinsic+json": {
              "type": "string"
            }
          },
          "metadata": {},
          "execution_count": 16
        }
      ]
    },
    {
      "cell_type": "markdown",
      "source": [
        "Q8. Make an English-to-French dictionary called e2f and print it. Here are your starter words: dog is\n",
        "chien, cat is chat, and walrus is morse."
      ],
      "metadata": {
        "id": "-60YZD3oE8SZ"
      }
    },
    {
      "cell_type": "code",
      "source": [
        "e2f={ 'dog' : 'chien', 'cat' : 'chat', 'walrus' : 'morse'}"
      ],
      "metadata": {
        "id": "LOMUi8OkFFvZ"
      },
      "execution_count": null,
      "outputs": []
    },
    {
      "cell_type": "markdown",
      "source": [
        "Q9. Write the French word for walrus in your three-word dictionary e2f."
      ],
      "metadata": {
        "id": "0utxBNWpFlEc"
      }
    },
    {
      "cell_type": "code",
      "source": [
        "e2f['walrus']"
      ],
      "metadata": {
        "colab": {
          "base_uri": "https://localhost:8080/",
          "height": 35
        },
        "id": "jwMC1nviFqGo",
        "outputId": "d7dbd907-580d-49d2-8337-8a48b8d41c91"
      },
      "execution_count": null,
      "outputs": [
        {
          "output_type": "execute_result",
          "data": {
            "text/plain": [
              "'morse'"
            ],
            "application/vnd.google.colaboratory.intrinsic+json": {
              "type": "string"
            }
          },
          "metadata": {},
          "execution_count": 18
        }
      ]
    },
    {
      "cell_type": "markdown",
      "source": [
        "Q10. Make a French-to-English dictionary called f2e from e2f. Use the items method."
      ],
      "metadata": {
        "id": "1wVe9V2PF4sz"
      }
    },
    {
      "cell_type": "code",
      "source": [
        "f2e={k:v for v,k in e2f.items()}"
      ],
      "metadata": {
        "id": "fciNwz37F-Si"
      },
      "execution_count": null,
      "outputs": []
    },
    {
      "cell_type": "code",
      "source": [
        "f2e"
      ],
      "metadata": {
        "colab": {
          "base_uri": "https://localhost:8080/"
        },
        "id": "Fd3HSr0qGR9a",
        "outputId": "ea36a2c1-1029-478a-e1da-9e3d51f3e3fb"
      },
      "execution_count": null,
      "outputs": [
        {
          "output_type": "execute_result",
          "data": {
            "text/plain": [
              "{'chien': 'dog', 'chat': 'cat', 'morse': 'walrus'}"
            ]
          },
          "metadata": {},
          "execution_count": 21
        }
      ]
    },
    {
      "cell_type": "markdown",
      "source": [
        "Q11. Print the English version of the French word chien using f2e."
      ],
      "metadata": {
        "id": "gYLC1Y3LGekA"
      }
    },
    {
      "cell_type": "code",
      "source": [
        "f2e['chien']"
      ],
      "metadata": {
        "colab": {
          "base_uri": "https://localhost:8080/",
          "height": 35
        },
        "id": "FyYWG1eZGjBZ",
        "outputId": "81c2eb21-7924-41ef-c8cd-4044b5d68b24"
      },
      "execution_count": null,
      "outputs": [
        {
          "output_type": "execute_result",
          "data": {
            "text/plain": [
              "'dog'"
            ],
            "application/vnd.google.colaboratory.intrinsic+json": {
              "type": "string"
            }
          },
          "metadata": {},
          "execution_count": 22
        }
      ]
    },
    {
      "cell_type": "markdown",
      "source": [
        "Q12. Make and print a set of English words from the keys in e2f."
      ],
      "metadata": {
        "id": "LVBhbBrGGmhW"
      }
    },
    {
      "cell_type": "code",
      "source": [
        "e2f.keys()"
      ],
      "metadata": {
        "colab": {
          "base_uri": "https://localhost:8080/"
        },
        "id": "W8v5xKhXGxTO",
        "outputId": "13f75a8e-3b80-42d8-dd40-6c720675c259"
      },
      "execution_count": null,
      "outputs": [
        {
          "output_type": "execute_result",
          "data": {
            "text/plain": [
              "dict_keys(['dog', 'cat', 'walrus'])"
            ]
          },
          "metadata": {},
          "execution_count": 23
        }
      ]
    },
    {
      "cell_type": "markdown",
      "source": [
        "Q13. Make a multilevel dictionary called life. Use these strings for the topmost keys: &#39;animals&#39;, &#39;plants&#39;,\n",
        "and &#39;other&#39;. Make the &#39;animals&#39; key refer to another dictionary with the keys &#39;cats&#39;, &#39;octopi&#39;, and\n",
        "&#39;emus&#39;. Make the &#39;cats&#39; key refer to a list of strings with the values &#39;Henri&#39;, &#39;Grumpy&#39;, and &#39;Lucy&#39;.\n",
        "Make all the other keys refer to empty dictionaries."
      ],
      "metadata": {
        "id": "ciqwNy7GG5xd"
      }
    },
    {
      "cell_type": "code",
      "source": [
        "life={'animals':{'cats' : ['Henry','Grumpy','Lucy'],'octopi' :{},'emus' :{}},'plants' : {},'other' :{}}"
      ],
      "metadata": {
        "id": "Y9of91NMHLpg"
      },
      "execution_count": null,
      "outputs": []
    },
    {
      "cell_type": "markdown",
      "source": [
        "Q14. Print the top-level keys of life."
      ],
      "metadata": {
        "id": "aoJz6hdnH5Ln"
      }
    },
    {
      "cell_type": "code",
      "source": [
        "life.keys()"
      ],
      "metadata": {
        "colab": {
          "base_uri": "https://localhost:8080/"
        },
        "id": "YIHagM55Hp-6",
        "outputId": "671077c6-00b2-42ae-c4fc-5d558748bfb4"
      },
      "execution_count": null,
      "outputs": [
        {
          "output_type": "execute_result",
          "data": {
            "text/plain": [
              "dict_keys(['animals', 'plants', 'other'])"
            ]
          },
          "metadata": {},
          "execution_count": 26
        }
      ]
    },
    {
      "cell_type": "markdown",
      "source": [
        "Q15. Print the keys for life[&#39;animals&#39;]."
      ],
      "metadata": {
        "id": "S6u6gqxfIJ2F"
      }
    },
    {
      "cell_type": "code",
      "source": [
        "life['animals'].keys()"
      ],
      "metadata": {
        "colab": {
          "base_uri": "https://localhost:8080/"
        },
        "id": "UrtnguekIOWG",
        "outputId": "e2dad22f-ffe8-4273-d18f-027b0f9461b6"
      },
      "execution_count": null,
      "outputs": [
        {
          "output_type": "execute_result",
          "data": {
            "text/plain": [
              "dict_keys(['cats', 'octopi', 'emus'])"
            ]
          },
          "metadata": {},
          "execution_count": 27
        }
      ]
    },
    {
      "cell_type": "markdown",
      "source": [
        "Q16. Print the values for life[&#39;animals&#39;][&#39;cats&#39;]"
      ],
      "metadata": {
        "id": "iSINLXWuIWkt"
      }
    },
    {
      "cell_type": "code",
      "source": [
        "life['animals']['cats']"
      ],
      "metadata": {
        "colab": {
          "base_uri": "https://localhost:8080/"
        },
        "id": "WsgOCHQnIdSB",
        "outputId": "9251cd1b-5efc-431c-e6c9-84a4983d184c"
      },
      "execution_count": null,
      "outputs": [
        {
          "output_type": "execute_result",
          "data": {
            "text/plain": [
              "['Henry', 'Grumpy', 'Lucy']"
            ]
          },
          "metadata": {},
          "execution_count": 29
        }
      ]
    }
  ]
}