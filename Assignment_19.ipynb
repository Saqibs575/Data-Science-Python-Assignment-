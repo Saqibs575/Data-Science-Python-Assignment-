{
  "nbformat": 4,
  "nbformat_minor": 0,
  "metadata": {
    "colab": {
      "provenance": [],
      "collapsed_sections": []
    },
    "kernelspec": {
      "name": "python3",
      "display_name": "Python 3"
    },
    "language_info": {
      "name": "python"
    }
  },
  "cells": [
    {
      "cell_type": "markdown",
      "source": [
        "#***Assignment_19***"
      ],
      "metadata": {
        "id": "BqyA1jMPcbHZ"
      }
    },
    {
      "cell_type": "markdown",
      "source": [
        "1. Make a class called Thing with no contents and print it. Then, create an object called example\n",
        "from this class and also print it. Are the printed values the same or different?"
      ],
      "metadata": {
        "id": "go8Fld-_oNRw"
      }
    },
    {
      "cell_type": "code",
      "execution_count": null,
      "metadata": {
        "id": "knXGZFZJcV7C"
      },
      "outputs": [],
      "source": [
        "class Thing :\n",
        "    pass\n",
        "\n",
        "example = Thing()"
      ]
    },
    {
      "cell_type": "code",
      "source": [
        "print(Thing)"
      ],
      "metadata": {
        "colab": {
          "base_uri": "https://localhost:8080/"
        },
        "id": "R9TnO4xIolaf",
        "outputId": "eb721fa1-592a-4e75-c932-ec2d426422a6"
      },
      "execution_count": null,
      "outputs": [
        {
          "output_type": "stream",
          "name": "stdout",
          "text": [
            "<class '__main__.Thing'>\n"
          ]
        }
      ]
    },
    {
      "cell_type": "code",
      "source": [
        "print(example)"
      ],
      "metadata": {
        "colab": {
          "base_uri": "https://localhost:8080/"
        },
        "id": "I3uSiJ8joo7b",
        "outputId": "f870ccb4-a10e-4f68-df87-3f5dccd29914"
      },
      "execution_count": null,
      "outputs": [
        {
          "output_type": "stream",
          "name": "stdout",
          "text": [
            "<__main__.Thing object at 0x7f31fb73a290>\n"
          ]
        }
      ]
    },
    {
      "cell_type": "markdown",
      "source": [
        "The only difference between printing class and object is object printed the adress of the object."
      ],
      "metadata": {
        "id": "X2ShA1gQoz0I"
      }
    },
    {
      "cell_type": "markdown",
      "source": [
        "Q2. Create a new class called Thing2 and add the value &#39;abc&#39; to the letters class attribute. Letters\n",
        "should be printed."
      ],
      "metadata": {
        "id": "pqKxmuVTpJ5s"
      }
    },
    {
      "cell_type": "code",
      "source": [
        "class Thing2 :\n",
        "    letters = 'abc'\n",
        "\n",
        "Thing2.letters"
      ],
      "metadata": {
        "colab": {
          "base_uri": "https://localhost:8080/",
          "height": 35
        },
        "id": "e1RN1coBpWaY",
        "outputId": "13567f27-56e0-40b4-d078-ef224156c05b"
      },
      "execution_count": null,
      "outputs": [
        {
          "output_type": "execute_result",
          "data": {
            "text/plain": [
              "'abc'"
            ],
            "application/vnd.google.colaboratory.intrinsic+json": {
              "type": "string"
            }
          },
          "metadata": {},
          "execution_count": 7
        }
      ]
    },
    {
      "cell_type": "markdown",
      "source": [
        "Q3. Make yet another class called, of course, Thing3. This time, assign the value &#39;xyz&#39; to an instance\n",
        "(object) attribute called letters. Print letters. Do you need to make an object from the class to do\n",
        "this?"
      ],
      "metadata": {
        "id": "TlHk6ljGp2EK"
      }
    },
    {
      "cell_type": "code",
      "source": [
        "class Thing3 :\n",
        "    def __init__ (self) :\n",
        "        self.letters = 'xyz'\n",
        "\n",
        "obj = Thing3()\n",
        "obj.letters"
      ],
      "metadata": {
        "colab": {
          "base_uri": "https://localhost:8080/",
          "height": 35
        },
        "id": "vbJcEGPmp54t",
        "outputId": "810c531f-7755-4fe1-cb36-11c8db28c96d"
      },
      "execution_count": null,
      "outputs": [
        {
          "output_type": "execute_result",
          "data": {
            "text/plain": [
              "'xyz'"
            ],
            "application/vnd.google.colaboratory.intrinsic+json": {
              "type": "string"
            }
          },
          "metadata": {},
          "execution_count": 10
        }
      ]
    },
    {
      "cell_type": "markdown",
      "source": [
        "Yes in this case we need to create an object to print calss attribute letters because it does not belongs to the class directly."
      ],
      "metadata": {
        "id": "l_7JMpRkrMJC"
      }
    },
    {
      "cell_type": "markdown",
      "source": [
        "Q4. Create an Element class with the instance attributes name, symbol, and number. Create a class\n",
        "object with the values &#39;Hydrogen,&#39; &#39;H,&#39; and 1."
      ],
      "metadata": {
        "id": "vLu7YAQHriLV"
      }
    },
    {
      "cell_type": "code",
      "source": [
        "class Element :\n",
        "    def __init__(self,name , symbol,number) :\n",
        "        self.name = name\n",
        "        self.symbol = symbol \n",
        "        self.number = number\n",
        "\n",
        "obj = Element('Hydrogen',\"H\",1)"
      ],
      "metadata": {
        "id": "FmbOdfFWrlU4"
      },
      "execution_count": null,
      "outputs": []
    },
    {
      "cell_type": "markdown",
      "source": [
        "Q5. Make a dictionary with these keys and values: &#39;name&#39;: &#39;Hydrogen&#39;, &#39;symbol&#39;: &#39;H&#39;, &#39;number&#39;: 1. Then,\n",
        "create an object called hydrogen from class Element using this dictionary."
      ],
      "metadata": {
        "id": "6Qk3BLLmsYvH"
      }
    },
    {
      "cell_type": "code",
      "source": [
        "dict1 = { 'name': 'Hydrogen', 'symbol': 'H', 'number': 1}\n",
        "hydrogen = (dict1['name'],dict1['symbol'],dict1['number'])"
      ],
      "metadata": {
        "id": "dZrOQvkAro4e"
      },
      "execution_count": null,
      "outputs": []
    },
    {
      "cell_type": "markdown",
      "source": [
        "Q6. For the Element class, define a method called dump() that prints the values of the object’s\n",
        "attributes (name, symbol, and number). Create the hydrogen object from this new definition and\n",
        "use dump() to print its attributes."
      ],
      "metadata": {
        "id": "FGoTLSACtKyO"
      }
    },
    {
      "cell_type": "code",
      "source": [
        "class Element :\n",
        "    def __init__(self,name , symbol,number) :\n",
        "        self.name = name\n",
        "        self.symbol = symbol \n",
        "        self.number = number\n",
        "    def dump(self) :\n",
        "        print(f'name = {self.name} , symbol = {self.symbol} , number = {self.number}')\n",
        "\n",
        "hydrogen = Element('hydrogen','H',1)\n",
        "hydrogen.dump() "
      ],
      "metadata": {
        "colab": {
          "base_uri": "https://localhost:8080/"
        },
        "id": "t5xgEzZXtOTu",
        "outputId": "e7c5c93f-471b-47fa-96f1-b2ff14a958be"
      },
      "execution_count": null,
      "outputs": [
        {
          "output_type": "stream",
          "name": "stdout",
          "text": [
            "name = hydrogen , symbol = H , number = 1\n"
          ]
        }
      ]
    },
    {
      "cell_type": "markdown",
      "source": [
        "Q7. Call print(hydrogen). In the definition of Element, change the name of method dump to __str__,\n",
        "create a new hydrogen object, and call print(hydrogen) again."
      ],
      "metadata": {
        "id": "WPoDotQFwzbW"
      }
    },
    {
      "cell_type": "code",
      "source": [
        "print(hydrogen)"
      ],
      "metadata": {
        "colab": {
          "base_uri": "https://localhost:8080/"
        },
        "id": "Dt02i9mww2vQ",
        "outputId": "9068a254-6fff-4c2d-ac61-6ae932b5de7f"
      },
      "execution_count": null,
      "outputs": [
        {
          "output_type": "stream",
          "name": "stdout",
          "text": [
            "<__main__.Element object at 0x7f31f3297e10>\n"
          ]
        }
      ]
    },
    {
      "cell_type": "code",
      "source": [
        "class Element :\n",
        "    def __init__(self,name , symbol,number) :\n",
        "        self.name = name\n",
        "        self.symbol = symbol \n",
        "        self.number = number\n",
        "    def __str__(self) :\n",
        "        return f'name = {self.name} , symbol = {self.symbol} , number = {self.number}'\n",
        "\n",
        "hydrogen = Element('hydrogen','H',1)\n",
        "print(hydrogen)"
      ],
      "metadata": {
        "colab": {
          "base_uri": "https://localhost:8080/"
        },
        "id": "BVnbtw0LxOBS",
        "outputId": "dabfcce0-fb0e-4055-96b4-f58a4923711e"
      },
      "execution_count": null,
      "outputs": [
        {
          "output_type": "stream",
          "name": "stdout",
          "text": [
            "name = hydrogen , symbol = H , number = 1\n"
          ]
        }
      ]
    },
    {
      "cell_type": "markdown",
      "source": [
        "Q8. Modify Element to make the attributes name, symbol, and number private. Define a getter\n",
        "property for each to return its value."
      ],
      "metadata": {
        "id": "MfIQxFOgxqio"
      }
    },
    {
      "cell_type": "code",
      "source": [
        "class Element :\n",
        "    def __init__(self,name ,symbol,number) :\n",
        "        self.__name = name\n",
        "        self.__symbol = symbol \n",
        "        self.__number = number\n",
        "    \n",
        "    @property\n",
        "    def name(self) :\n",
        "        return self.__name\n",
        "\n",
        "    @property\n",
        "    def symbol(self) :\n",
        "        return self.__symbol\n",
        "\n",
        "    @property\n",
        "    def number(self) :\n",
        "        return self.__number\n",
        "\n",
        "hydrogen = Element('hydrogen','H',1)\n",
        "hydrogen.name"
      ],
      "metadata": {
        "colab": {
          "base_uri": "https://localhost:8080/",
          "height": 35
        },
        "id": "68fkx1lgxt-3",
        "outputId": "33e89da4-1340-4f6b-cafd-96ef798c57cb"
      },
      "execution_count": null,
      "outputs": [
        {
          "output_type": "execute_result",
          "data": {
            "text/plain": [
              "'hydrogen'"
            ],
            "application/vnd.google.colaboratory.intrinsic+json": {
              "type": "string"
            }
          },
          "metadata": {},
          "execution_count": 33
        }
      ]
    },
    {
      "cell_type": "code",
      "source": [
        "hydrogen.symbol"
      ],
      "metadata": {
        "colab": {
          "base_uri": "https://localhost:8080/",
          "height": 35
        },
        "id": "ZzkYHWcNyyde",
        "outputId": "f832281e-fb8b-4df5-911c-fee32aa78328"
      },
      "execution_count": null,
      "outputs": [
        {
          "output_type": "execute_result",
          "data": {
            "text/plain": [
              "'H'"
            ],
            "application/vnd.google.colaboratory.intrinsic+json": {
              "type": "string"
            }
          },
          "metadata": {},
          "execution_count": 34
        }
      ]
    },
    {
      "cell_type": "code",
      "source": [
        "hydrogen.number"
      ],
      "metadata": {
        "colab": {
          "base_uri": "https://localhost:8080/"
        },
        "id": "8DpKno9RzVEq",
        "outputId": "7c4800de-93d8-4a63-ad09-229bb49eaa74"
      },
      "execution_count": null,
      "outputs": [
        {
          "output_type": "execute_result",
          "data": {
            "text/plain": [
              "1"
            ]
          },
          "metadata": {},
          "execution_count": 35
        }
      ]
    },
    {
      "cell_type": "markdown",
      "source": [
        "Q9. Define three classes: Bear, Rabbit, and Octothorpe. For each, define only one method: eats(). This\n",
        "should return &#39;berries&#39; (Bear), &#39;clover&#39; (Rabbit), or &#39;campers&#39; (Octothorpe). Create one object from\n",
        "each and print what it eats."
      ],
      "metadata": {
        "id": "rh0Gqg9Oz-5U"
      }
    },
    {
      "cell_type": "code",
      "source": [
        "class Bear :\n",
        "    def eats(self) :\n",
        "        return 'berries'\n",
        "\n",
        "class Rabbit :\n",
        "    def eats(self) :\n",
        "        return 'clover'\n",
        "\n",
        "class Octothorpe :\n",
        "    def eats(self) :\n",
        "        return 'campers'"
      ],
      "metadata": {
        "id": "nPPElTpq0BkG"
      },
      "execution_count": null,
      "outputs": []
    },
    {
      "cell_type": "code",
      "source": [
        "obj1 = Bear()\n",
        "obj1.eats()"
      ],
      "metadata": {
        "colab": {
          "base_uri": "https://localhost:8080/",
          "height": 35
        },
        "id": "mxLIIjJa0uCu",
        "outputId": "2f5be384-bfee-4e47-eb32-3620830389ee"
      },
      "execution_count": null,
      "outputs": [
        {
          "output_type": "execute_result",
          "data": {
            "text/plain": [
              "'campers'"
            ],
            "application/vnd.google.colaboratory.intrinsic+json": {
              "type": "string"
            }
          },
          "metadata": {},
          "execution_count": 39
        }
      ]
    },
    {
      "cell_type": "code",
      "source": [
        "obj2 = Rabbit()\n",
        "obj2.eats()"
      ],
      "metadata": {
        "colab": {
          "base_uri": "https://localhost:8080/",
          "height": 35
        },
        "id": "ZGiaI01M1aPc",
        "outputId": "f1f63417-61db-47e8-bfde-a81af997b0ac"
      },
      "execution_count": null,
      "outputs": [
        {
          "output_type": "execute_result",
          "data": {
            "text/plain": [
              "'clover'"
            ],
            "application/vnd.google.colaboratory.intrinsic+json": {
              "type": "string"
            }
          },
          "metadata": {},
          "execution_count": 40
        }
      ]
    },
    {
      "cell_type": "code",
      "source": [
        "obj3 = Octothorpe()\n",
        "obj3.eats()"
      ],
      "metadata": {
        "colab": {
          "base_uri": "https://localhost:8080/",
          "height": 35
        },
        "id": "oIb0_qGn1eHG",
        "outputId": "68637d28-f026-4900-9714-1479225314a8"
      },
      "execution_count": null,
      "outputs": [
        {
          "output_type": "execute_result",
          "data": {
            "text/plain": [
              "'campers'"
            ],
            "application/vnd.google.colaboratory.intrinsic+json": {
              "type": "string"
            }
          },
          "metadata": {},
          "execution_count": 41
        }
      ]
    },
    {
      "cell_type": "markdown",
      "source": [
        "Q10. Define these classes: Laser, Claw, and SmartPhone. Each has only one method: does(). This\n",
        "returns &#39;disintegrate&#39; (Laser), &#39;crush&#39; (Claw), or &#39;ring&#39; (SmartPhone). Then, define the class Robot that\n",
        "has one instance (object) of each of these. Define a does() method for the Robot that prints what its\n",
        "component objects do."
      ],
      "metadata": {
        "id": "RlOCd51r1JBl"
      }
    },
    {
      "cell_type": "code",
      "source": [
        "class Laser :\n",
        "    def does(self) :\n",
        "        return 'disintegrate'\n",
        "\n",
        "class Claw :\n",
        "    def does(self) :\n",
        "        return 'crush'\n",
        "\n",
        "class SmartPhone :\n",
        "    def does(self) :\n",
        "        return 'ring'"
      ],
      "metadata": {
        "id": "pH48BMtI1iPy"
      },
      "execution_count": null,
      "outputs": []
    },
    {
      "cell_type": "code",
      "source": [
        "class Robot :\n",
        "    def __init__(self) :\n",
        "        self.Laser = Laser()\n",
        "        self.Claw = Claw()\n",
        "        self.SmartPhone = SmartPhone()\n",
        "\n",
        "    def does (self) :\n",
        "        return f'Laer {self.Laser.does()}, Claw {self.Claw.does()}, SmartPhone {self.SmartPhone.does()}'"
      ],
      "metadata": {
        "id": "G5okzu6V2Myp"
      },
      "execution_count": null,
      "outputs": []
    },
    {
      "cell_type": "code",
      "source": [
        "obj = Robot()\n",
        "obj.does()"
      ],
      "metadata": {
        "colab": {
          "base_uri": "https://localhost:8080/",
          "height": 35
        },
        "id": "gbn-2uQz3vM4",
        "outputId": "18761796-c5e7-497e-8c11-eb636be76868"
      },
      "execution_count": null,
      "outputs": [
        {
          "output_type": "execute_result",
          "data": {
            "text/plain": [
              "'Laer disintegrate, Claw crush, SmartPhone ring'"
            ],
            "application/vnd.google.colaboratory.intrinsic+json": {
              "type": "string"
            }
          },
          "metadata": {},
          "execution_count": 52
        }
      ]
    }
  ]
}