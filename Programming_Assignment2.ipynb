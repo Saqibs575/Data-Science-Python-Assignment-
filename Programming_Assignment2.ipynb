{
  "nbformat": 4,
  "nbformat_minor": 0,
  "metadata": {
    "colab": {
      "provenance": [],
      "collapsed_sections": []
    },
    "kernelspec": {
      "name": "python3",
      "display_name": "Python 3"
    },
    "language_info": {
      "name": "python"
    }
  },
  "cells": [
    {
      "cell_type": "markdown",
      "source": [
        "#***Programming_Assignment2***"
      ],
      "metadata": {
        "id": "JPxC-dxyQr-o"
      }
    },
    {
      "cell_type": "markdown",
      "source": [
        "Q1. Write a Python program to convert kilometers to miles?"
      ],
      "metadata": {
        "id": "xEcHBs28RAJW"
      }
    },
    {
      "cell_type": "code",
      "source": [
        "km=float(input('Give distance in km : '))\n",
        "miles=round(km*0.621371,2)\n",
        "print(f'{km} km = {miles} miles')"
      ],
      "metadata": {
        "colab": {
          "base_uri": "https://localhost:8080/"
        },
        "id": "bGijmfdIQpbW",
        "outputId": "b60a59bf-e51d-46e7-cdf9-3b508381ea88"
      },
      "execution_count": null,
      "outputs": [
        {
          "output_type": "stream",
          "name": "stdout",
          "text": [
            "Give distance in km : 500\n",
            "500.0 km = 310.69 miles\n"
          ]
        }
      ]
    },
    {
      "cell_type": "markdown",
      "source": [
        "Q2. Write a Python program to convert Celsius to Fahrenheit?"
      ],
      "metadata": {
        "id": "Bj3Ix4ktSWEI"
      }
    },
    {
      "cell_type": "code",
      "source": [
        "C=float(input('Give value in celsius :'))\n",
        "F=round((C*1.8)+32,2)\n",
        "print(f'{C} °C = {F} °F')"
      ],
      "metadata": {
        "colab": {
          "base_uri": "https://localhost:8080/"
        },
        "id": "6YgmJg1zSVXC",
        "outputId": "c1e3596e-39c2-4365-94b2-f3d84329bb5c"
      },
      "execution_count": null,
      "outputs": [
        {
          "output_type": "stream",
          "name": "stdout",
          "text": [
            "Give value in celsius :50\n",
            "50.0 °C = 122.0 °F\n"
          ]
        }
      ]
    },
    {
      "cell_type": "markdown",
      "source": [
        "Q2. 3. Write a Python program to display calendar?"
      ],
      "metadata": {
        "id": "v6ysNf5aVMWE"
      }
    },
    {
      "cell_type": "code",
      "execution_count": null,
      "metadata": {
        "colab": {
          "base_uri": "https://localhost:8080/"
        },
        "id": "gzfkFWtPQJnJ",
        "outputId": "f74e39aa-1ebb-4c20-e109-84b0d1b4fba1"
      },
      "outputs": [
        {
          "output_type": "stream",
          "name": "stdout",
          "text": [
            "YYYY = 20222\n",
            "                                 20222\n",
            "\n",
            "      January                   February                   March\n",
            "Mo Tu We Th Fr Sa Su      Mo Tu We Th Fr Sa Su      Mo Tu We Th Fr Sa Su\n",
            "    1  2  3  4  5  6                   1  2  3                   1  2  3\n",
            " 7  8  9 10 11 12 13       4  5  6  7  8  9 10       4  5  6  7  8  9 10\n",
            "14 15 16 17 18 19 20      11 12 13 14 15 16 17      11 12 13 14 15 16 17\n",
            "21 22 23 24 25 26 27      18 19 20 21 22 23 24      18 19 20 21 22 23 24\n",
            "28 29 30 31               25 26 27 28               25 26 27 28 29 30 31\n",
            "\n",
            "       April                      May                       June\n",
            "Mo Tu We Th Fr Sa Su      Mo Tu We Th Fr Sa Su      Mo Tu We Th Fr Sa Su\n",
            " 1  2  3  4  5  6  7             1  2  3  4  5                      1  2\n",
            " 8  9 10 11 12 13 14       6  7  8  9 10 11 12       3  4  5  6  7  8  9\n",
            "15 16 17 18 19 20 21      13 14 15 16 17 18 19      10 11 12 13 14 15 16\n",
            "22 23 24 25 26 27 28      20 21 22 23 24 25 26      17 18 19 20 21 22 23\n",
            "29 30                     27 28 29 30 31            24 25 26 27 28 29 30\n",
            "\n",
            "        July                     August                  September\n",
            "Mo Tu We Th Fr Sa Su      Mo Tu We Th Fr Sa Su      Mo Tu We Th Fr Sa Su\n",
            " 1  2  3  4  5  6  7                1  2  3  4                         1\n",
            " 8  9 10 11 12 13 14       5  6  7  8  9 10 11       2  3  4  5  6  7  8\n",
            "15 16 17 18 19 20 21      12 13 14 15 16 17 18       9 10 11 12 13 14 15\n",
            "22 23 24 25 26 27 28      19 20 21 22 23 24 25      16 17 18 19 20 21 22\n",
            "29 30 31                  26 27 28 29 30 31         23 24 25 26 27 28 29\n",
            "                                                    30\n",
            "\n",
            "      October                   November                  December\n",
            "Mo Tu We Th Fr Sa Su      Mo Tu We Th Fr Sa Su      Mo Tu We Th Fr Sa Su\n",
            "    1  2  3  4  5  6                   1  2  3                         1\n",
            " 7  8  9 10 11 12 13       4  5  6  7  8  9 10       2  3  4  5  6  7  8\n",
            "14 15 16 17 18 19 20      11 12 13 14 15 16 17       9 10 11 12 13 14 15\n",
            "21 22 23 24 25 26 27      18 19 20 21 22 23 24      16 17 18 19 20 21 22\n",
            "28 29 30 31               25 26 27 28 29 30         23 24 25 26 27 28 29\n",
            "                                                    30 31\n",
            "\n"
          ]
        }
      ],
      "source": [
        "import calendar\n",
        "y=int(input('YYYY = '))\n",
        "print(calendar.calendar(y))"
      ]
    },
    {
      "cell_type": "markdown",
      "source": [
        "Q4. Write a Python program to solve quadratic equation?"
      ],
      "metadata": {
        "id": "burzwLBfW3Cg"
      }
    },
    {
      "cell_type": "code",
      "source": [
        "print('Give coefficient of quadratic equation aX²+bX+c=0 :')\n",
        "a=float(input('a = '))\n",
        "b=float(input('b = '))\n",
        "c=float(input('c = '))\n",
        "if a==0:\n",
        "    print('Givan equation is not quadratic !')\n",
        "else:\n",
        "    discriminant=(b**2)-(4*a*c)\n",
        "    if discriminant > 0:\n",
        "        print(\"Roots are real and unequal :\")\n",
        "        print('r1 = ',(-b+(discriminant**0.5))/(2*a))\n",
        "        print('r2 = ',(-b-(discriminant**0.5))/(2*a))\n",
        "    elif discriminant == 0:\n",
        "        print('Roots are real and equal')\n",
        "        print('r1=r2= ',-b/(2*a))\n",
        "    else:\n",
        "        print('Roots are Complex Conjugates :')\n",
        "        print('r1 = ',-b/(2*a),' + ',abs(discriminant)**0.5/(2*a),'i')\n",
        "        print('r1 = ',-b/(2*a),' - ',abs(discriminant)**0.5/(2*a),'i')"
      ],
      "metadata": {
        "id": "wzP-aGwFWhYa",
        "colab": {
          "base_uri": "https://localhost:8080/"
        },
        "outputId": "a15a163d-033a-46db-ce40-4a5e3ab5fd19"
      },
      "execution_count": null,
      "outputs": [
        {
          "output_type": "stream",
          "name": "stdout",
          "text": [
            "Give coefficient of quadratic equation aX²+bX+c=0 :\n",
            "a = 5\n",
            "b = 6\n",
            "c = 7\n",
            "Roots are Complex Conjugates :\n",
            "r1 =  -0.6  +  1.0198039027185568 i\n",
            "r1 =  -0.6  -  1.0198039027185568 i\n"
          ]
        }
      ]
    },
    {
      "cell_type": "markdown",
      "source": [
        "Q5. Write a Python program to swap two variables without temp variable?"
      ],
      "metadata": {
        "id": "e1saCnXohZIE"
      }
    },
    {
      "cell_type": "code",
      "source": [
        "print('Before swapping')\n",
        "a=float(input('a = '))\n",
        "b=float(input('b = '))\n",
        "a,b=b,a\n",
        "print('After swapping :')\n",
        "print('a = ',a)\n",
        "print('b = ',b)"
      ],
      "metadata": {
        "colab": {
          "base_uri": "https://localhost:8080/"
        },
        "id": "TUP5i_sBhaek",
        "outputId": "275d39d5-c49f-4699-e0f0-de2ed75591a9"
      },
      "execution_count": null,
      "outputs": [
        {
          "output_type": "stream",
          "name": "stdout",
          "text": [
            "Before swapping\n",
            "a = 33.5\n",
            "b = 55\n",
            "After swapping :\n",
            "a =  55.0\n",
            "b =  33.5\n"
          ]
        }
      ]
    }
  ]
}