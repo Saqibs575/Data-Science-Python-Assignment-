{
  "nbformat": 4,
  "nbformat_minor": 0,
  "metadata": {
    "colab": {
      "provenance": [],
      "collapsed_sections": []
    },
    "kernelspec": {
      "name": "python3",
      "display_name": "Python 3"
    },
    "language_info": {
      "name": "python"
    }
  },
  "cells": [
    {
      "cell_type": "markdown",
      "source": [
        "#***Assignment_23***"
      ],
      "metadata": {
        "id": "usGpHrcE0faQ"
      }
    },
    {
      "cell_type": "markdown",
      "source": [
        "Q1. What is the result of the code, and why?<BR>\n",
        "&gt;&gt;&gt; def func(a, b=6, c=8):<BR>\n",
        "print(a, b, c)<BR>\n",
        "&gt;&gt;&gt; func(1, 2)"
      ],
      "metadata": {
        "id": "Q2ZEgxzv0kVn"
      }
    },
    {
      "cell_type": "code",
      "execution_count": null,
      "metadata": {
        "colab": {
          "base_uri": "https://localhost:8080/"
        },
        "id": "a3D_vmw-0ZtH",
        "outputId": "b4a28f3b-6d12-468f-f39c-b8e2ae0c7cfd"
      },
      "outputs": [
        {
          "output_type": "stream",
          "name": "stdout",
          "text": [
            "1 2 8\n"
          ]
        }
      ],
      "source": [
        "def func(a,b=6,c=8) :\n",
        "    print(a,b,c)\n",
        "\n",
        "func(1,2)"
      ]
    },
    {
      "cell_type": "markdown",
      "source": [
        "as two onlt arguments 1,2 are passed in the function func but this function takes three arguments hence the third argument will be default srgument that is 8"
      ],
      "metadata": {
        "id": "MUqR2glr1CRW"
      }
    },
    {
      "cell_type": "markdown",
      "source": [
        "Q2. What is the result of this code, and why?<BR>\n",
        "&gt;&gt;&gt; def func(a, b, c=5):<BR>\n",
        "print(a, b, c)<BR>\n",
        "&gt;&gt;&gt; func(1, c=3, b=2)<BR>"
      ],
      "metadata": {
        "id": "J6BFcgFv1lf7"
      }
    },
    {
      "cell_type": "code",
      "source": [
        "def func (a,b,c=5) :\n",
        "    print(a,b,c)\n",
        "\n",
        "func(1,c=3,b=2)"
      ],
      "metadata": {
        "colab": {
          "base_uri": "https://localhost:8080/"
        },
        "id": "KWMd2DyE14Pu",
        "outputId": "105f834c-e481-4528-e424-9502011f28c4"
      },
      "execution_count": null,
      "outputs": [
        {
          "output_type": "stream",
          "name": "stdout",
          "text": [
            "1 2 3\n"
          ]
        }
      ]
    },
    {
      "cell_type": "markdown",
      "source": [
        "As c=5 is default arguent in func function but if other value is given at the time of function call then it will not give dafault value of c. Also as at the time of function call we have specified the b and c hence their order matters. Now, let us look at the following call without any specification of arguments during function call."
      ],
      "metadata": {
        "id": "ZHVUltqY2fRk"
      }
    },
    {
      "cell_type": "code",
      "source": [
        "func(1,3,2)"
      ],
      "metadata": {
        "colab": {
          "base_uri": "https://localhost:8080/"
        },
        "id": "x51RJO6w3l4U",
        "outputId": "f848364b-9557-4901-d2af-8d7e2d8800b0"
      },
      "execution_count": null,
      "outputs": [
        {
          "output_type": "stream",
          "name": "stdout",
          "text": [
            "1 3 2\n"
          ]
        }
      ]
    },
    {
      "cell_type": "markdown",
      "source": [
        "3. How about this code: what is its result, and why?<BR>\n",
        "&gt;&gt;&gt; def func(a, *pargs):<BR>\n",
        "print(a, pargs)<BR>\n",
        "&gt;&gt;&gt; func(1, 2, 3)<BR>"
      ],
      "metadata": {
        "id": "r1lhMYNV3tE7"
      }
    },
    {
      "cell_type": "code",
      "source": [
        "def func(a,*pargs) :\n",
        "    print(a,pargs)\n",
        "\n",
        "func(1,2,3)"
      ],
      "metadata": {
        "colab": {
          "base_uri": "https://localhost:8080/"
        },
        "id": "63DkDUA636tZ",
        "outputId": "7a748725-c48d-4140-dcd6-04203fbd98c4"
      },
      "execution_count": null,
      "outputs": [
        {
          "output_type": "stream",
          "name": "stdout",
          "text": [
            "1 (2, 3)\n"
          ]
        }
      ]
    },
    {
      "cell_type": "markdown",
      "source": [
        "In function func first argument is fixed but second argument can be any number of arguments as operator * allow us to do so."
      ],
      "metadata": {
        "id": "OnA293b24Jqv"
      }
    },
    {
      "cell_type": "markdown",
      "source": [
        "Q4. What does this code print, and why?<BR>\n",
        "&gt;&gt;&gt; def func(a, **kargs):<BR>\n",
        "print(a, kargs)<BR>\n",
        "&gt;&gt;&gt; func(a=1, c=3, b=2)<BR>"
      ],
      "metadata": {
        "id": "o-RJQgqe4iMK"
      }
    },
    {
      "cell_type": "code",
      "source": [
        "def func(a,**kargs) :\n",
        "         print(a,kargs)\n",
        "\n",
        "func(a=1,c=3,b=2)"
      ],
      "metadata": {
        "colab": {
          "base_uri": "https://localhost:8080/"
        },
        "id": "LxAky4gA5BRg",
        "outputId": "c9561fa7-9299-4e8d-936e-d36c981edfad"
      },
      "execution_count": null,
      "outputs": [
        {
          "output_type": "stream",
          "name": "stdout",
          "text": [
            "1 {'c': 3, 'b': 2}\n"
          ]
        }
      ]
    },
    {
      "cell_type": "markdown",
      "source": [
        "As we have used ** arguments in the function func hence it will give dictionaryy of output for the all arguments other than the first one."
      ],
      "metadata": {
        "id": "BPZzo9Qq5Vx0"
      }
    },
    {
      "cell_type": "markdown",
      "source": [
        "5. What gets printed by this, and explain?<BR>\n",
        "&gt;&gt;&gt; def func(a, b, c=8, d=5): <BR>print(a, b, c, d)<BR>\n",
        "&gt;&gt;&gt; func(1, *(5, 6))<BR>"
      ],
      "metadata": {
        "id": "Kuf3reNz5yJi"
      }
    },
    {
      "cell_type": "code",
      "source": [
        "def func(a,b,c=8,d=5) :\n",
        "    print(a,b,c,d)\n",
        "\n",
        "func(1,*(5,6))"
      ],
      "metadata": {
        "colab": {
          "base_uri": "https://localhost:8080/"
        },
        "id": "QHSisrUf6BnO",
        "outputId": "8edc2c4f-4469-4778-970d-c46c457c79eb"
      },
      "execution_count": null,
      "outputs": [
        {
          "output_type": "stream",
          "name": "stdout",
          "text": [
            "1 5 6 5\n"
          ]
        }
      ]
    },
    {
      "cell_type": "markdown",
      "source": [
        "func function takes four arguments in total but we have given only two that is 1 and (5,6) but the second argument is given with the operator *. Hence, it will print 5 as send and 6 as third argument, and the fourth argument will be default that is 5."
      ],
      "metadata": {
        "id": "TnTaoPRs6aL-"
      }
    },
    {
      "cell_type": "markdown",
      "source": [
        "Q6. what is the result of this, and explain?<BR>\n",
        "&gt;&gt;&gt; def func(a, b, c): <BR>a = 2<BR>b[0] = &#39;x&#39;<BR>c[&#39;a&#39;] = &#39;y&#39;<BR>\n",
        "&gt;&gt;&gt; l=1<BR> m=[1]<BR>n={&#39;a&#39;:0}<BR>\n",
        "&gt;&gt;&gt; func(l, m, n)<BR>\n",
        "\n",
        "&gt;&gt;&gt; l, m, n<BR>"
      ],
      "metadata": {
        "id": "DRCMTYHZ7wfM"
      }
    },
    {
      "cell_type": "code",
      "source": [
        "def func(a,b,c) :\n",
        "    a = 2 \n",
        "    b[0] = 'x'\n",
        "    c['a'] = 'y'\n",
        "\n",
        "l = 1 \n",
        "m = [1]\n",
        "n = {'a' : 0}\n",
        "func(l,m,n)\n",
        "l,m,n"
      ],
      "metadata": {
        "colab": {
          "base_uri": "https://localhost:8080/"
        },
        "id": "e37lermA8dWt",
        "outputId": "71501a75-6a37-43d4-9d15-47789026fb96"
      },
      "execution_count": null,
      "outputs": [
        {
          "output_type": "execute_result",
          "data": {
            "text/plain": [
              "(1, ['x'], {'a': 'y'})"
            ]
          },
          "metadata": {},
          "execution_count": 11
        }
      ]
    },
    {
      "cell_type": "markdown",
      "source": [
        "Note that variable a used in a function is a local variable hence it will value of l passed in a function func won't change but m is a list hence it iterable and mutable, so the value of the m[0] will change to 'x'. Also, the third parameter is a dictionary and keys are immutable hence key will be 'a' and it's value will be changes to 'y' as value of dictionary is mutable."
      ],
      "metadata": {
        "id": "m0EK-Uvw9aVO"
      }
    }
  ]
}