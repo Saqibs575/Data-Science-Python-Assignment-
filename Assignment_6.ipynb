{
  "nbformat": 4,
  "nbformat_minor": 0,
  "metadata": {
    "colab": {
      "provenance": [],
      "collapsed_sections": []
    },
    "kernelspec": {
      "name": "python3",
      "display_name": "Python 3"
    },
    "language_info": {
      "name": "python"
    }
  },
  "cells": [
    {
      "cell_type": "markdown",
      "source": [
        "#***Assignment_6***"
      ],
      "metadata": {
        "id": "cD61fSecCD24"
      }
    },
    {
      "cell_type": "markdown",
      "source": [
        "Q1 What are Escape characters represent characters in string values that would otherwise be difficult or impossible to type into code.<br>**ANS :**<br>"
      ],
      "metadata": {
        "id": "gJRfXkzaCPFo"
      }
    },
    {
      "cell_type": "markdown",
      "source": [
        "Q2. What do the escape characters n and t stand for?<br>**ANS :**<br>\n",
        "'\\n' will print the text in new line and '\\t' will print the TAB (space)"
      ],
      "metadata": {
        "id": "n0H3e8SYCkUD"
      }
    },
    {
      "cell_type": "markdown",
      "source": [
        "Q3. What is the way to include backslash characters in a string?<br>**ANS :**<br>\n",
        "\\\\\\"
      ],
      "metadata": {
        "id": "-75DREY0DQXe"
      }
    },
    {
      "cell_type": "code",
      "execution_count": null,
      "metadata": {
        "colab": {
          "base_uri": "https://localhost:8080/"
        },
        "id": "nFwt5Tg-B6yY",
        "outputId": "0fb320d2-b599-4076-9e13-4ac0b5a31e04"
      },
      "outputs": [
        {
          "output_type": "stream",
          "name": "stdout",
          "text": [
            "\\\n"
          ]
        }
      ],
      "source": [
        "print('\\\\')"
      ]
    },
    {
      "cell_type": "markdown",
      "source": [
        "Q4. The string &quot;Howl&#39;s Moving Castle&quot; is a correct value. Why isn&#39;t the single quote character in the\n",
        "word Howl&#39;s not escaped a problem?<br>**ANS :**<br>\n",
        "Because, if we use single quote then compiler doesn't undersand from where string starts or end as Howl's has apostrophe s"
      ],
      "metadata": {
        "id": "JqeXjUdtEBB-"
      }
    },
    {
      "cell_type": "markdown",
      "source": [
        "Q5. How do you write a string of newlines if you don&#39;t want to use the n character?<br>**ANS :**<br>\n",
        "We can use tripple qoute"
      ],
      "metadata": {
        "id": "ZAELv-96E-aU"
      }
    },
    {
      "cell_type": "markdown",
      "source": [
        "Q6. What are the values of the given expressions?<br>\n",
        "&#39;Hello, world!&#39;[1]<br>\n",
        "&#39;Hello, world!&#39;[0:5]<br>\n",
        "&#39;Hello, world!&#39;[:5]<br>\n",
        "&#39;Hello, world!&#39;[3:]<br>**ANS :**<br><br>\n",
        "&#39;Hello, world!&#39;[1] --------> 'e'<br>\n",
        "&#39;Hello, world!&#39;[0:5] --------> 'Hello'<br>\n",
        "&#39;Hello, world!&#39;[:5] --------> 'Hello'<br>\n",
        "&#39;Hello, world!&#39;[3:] --------> 'lo world!'\n",
        "\n",
        "\n"
      ],
      "metadata": {
        "id": "adKlizKiFgH_"
      }
    },
    {
      "cell_type": "markdown",
      "source": [
        "Q7. What are the values of the following expressions?<br>\n",
        "&#39;Hello&#39;.upper()<br>\n",
        "&#39;Hello&#39;.upper().isupper()<br>\n",
        "&#39;Hello&#39;.upper().lower()<br><br>**ANS :**<br>\n",
        "&#39;Hello&#39;.upper() --------> 'HELLO'<br>\n",
        "&#39;Hello&#39;.upper().isupper() --------> True<br>\n",
        "&#39;Hello&#39;.upper().lower() --------> 'lower'"
      ],
      "metadata": {
        "id": "8vPuiU1JHLD4"
      }
    },
    {
      "cell_type": "markdown",
      "source": [
        "Q8. What are the values of the following expressions?<br>\n",
        "&#39;Remember, remember, the fifth of July.&#39;.split()<br>\n",
        "&#39;-&#39;.join(&#39;There can only one.&#39;.split())<br><br>**ANS :**<br>\n",
        "&#39;Remember, remember, the fifth of July.&#39;.split() --------> ['Remember,', 'remember,', 'the', 'fifth', 'of', 'November.']<br>\n",
        "&#39;-&#39;.join(&#39;There can only one.&#39;.split()) --------> 'There-can-be-only-one.'"
      ],
      "metadata": {
        "id": "EjsmFrjwILBV"
      }
    },
    {
      "cell_type": "markdown",
      "source": [
        "Q9. What are the methods for right-justifying, left-justifying, and centering a string?<br>**ANS :**<br>\n",
        "rjust(), ljust(), and center() "
      ],
      "metadata": {
        "id": "eXk-K2T9JCcs"
      }
    },
    {
      "cell_type": "markdown",
      "source": [
        "Q10. What is the best way to remove whitespace characters from the start or end?<br>**ANS :**<br>\n",
        "lstrip() to remove left white space and rstrip() to remove right white space."
      ],
      "metadata": {
        "id": "aDACnG8IJUta"
      }
    }
  ]
}