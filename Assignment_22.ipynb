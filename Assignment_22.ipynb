{
  "nbformat": 4,
  "nbformat_minor": 0,
  "metadata": {
    "colab": {
      "provenance": [],
      "collapsed_sections": []
    },
    "kernelspec": {
      "name": "python3",
      "display_name": "Python 3"
    },
    "language_info": {
      "name": "python"
    }
  },
  "cells": [
    {
      "cell_type": "markdown",
      "source": [
        "#***Assignment_22***"
      ],
      "metadata": {
        "id": "mGlxLgwOom1_"
      }
    },
    {
      "cell_type": "markdown",
      "source": [
        "Q1. What is the result of the code, and explain?<br>\n",
        "\n",
        "&gt;&gt;&gt; X = &#39;iNeuron&#39;<br>\n",
        "&gt;&gt;&gt; def func():<br>\n",
        "print(X)<br>\n",
        "\n",
        "&gt;&gt;&gt; func()<br>**ANS :**<BR>\n",
        "Result is ```iNeuron```<br>\n",
        "**Explaination :** Note that X is declared globally but not declared locally, hence function func( ) first search X whether it is declared locally then it will search whether is it declared globallly ? Hence, it will print the value of global variable X."
      ],
      "metadata": {
        "id": "JU9ypjdoowGY"
      }
    },
    {
      "cell_type": "code",
      "source": [
        "X='iNeuron'\n",
        "def func():\n",
        "    print(X)\n",
        "func()    "
      ],
      "metadata": {
        "colab": {
          "base_uri": "https://localhost:8080/"
        },
        "id": "k4bsQT1fpmAD",
        "outputId": "ff209aa4-11ee-4fb3-db47-41663fce07fb"
      },
      "execution_count": null,
      "outputs": [
        {
          "output_type": "stream",
          "name": "stdout",
          "text": [
            "iNeuron\n"
          ]
        }
      ]
    },
    {
      "cell_type": "markdown",
      "source": [
        "Q2. What is the result of the code, and explain?\n",
        "<br>\n",
        "&gt;&gt;&gt; X = &#39;iNeuron&#39;<br>\n",
        "&gt;&gt;&gt; def func():<br>\n",
        "X = &#39;NI!&#39;<br>\n",
        "\n",
        "&gt;&gt;&gt; func()<br>\n",
        "&gt;&gt;&gt; print(X)<br>**ANS :**<BR>\n",
        "Result is iNeuron<BR>\n",
        "**Explaination :** As ```X='NI'``` is local variable in function func() hence it can not be access outside func(). Therefore, ```print(X)``` will print the value of global variable ```X='iNeuron'```"
      ],
      "metadata": {
        "id": "MUextH2zrv52"
      }
    },
    {
      "cell_type": "code",
      "source": [
        "X='iNeuron'\n",
        "def func():\n",
        "    X='NI'\n",
        "func()\n",
        "print(X)    "
      ],
      "metadata": {
        "colab": {
          "base_uri": "https://localhost:8080/"
        },
        "id": "Ie6vJTj4sML3",
        "outputId": "c5993500-e8f6-47f2-c413-0361c25fbb30"
      },
      "execution_count": null,
      "outputs": [
        {
          "output_type": "stream",
          "name": "stdout",
          "text": [
            "iNeuron\n"
          ]
        }
      ]
    },
    {
      "cell_type": "markdown",
      "source": [
        "Q3. What does this code print, and why?\n",
        "<br>\n",
        "&gt;&gt;&gt; X = &#39;iNeuron&#39;\n",
        "<br>&gt;&gt;&gt; def func():\n",
        "<br>X = &#39;NI&#39;\n",
        "<br>print(X)\n",
        "\n",
        "<br>&gt;&gt;&gt; func()\n",
        "<br>&gt;&gt;&gt; print(X)<br>**ANS :**<br>Result is<BR> ```'NI'\n",
        "```<br>```iNEURON ``` <BR>**Explaination :**The funtion func() will use local declaration of X whereas ```print(X)```  outside func() will use global declaration of X "
      ],
      "metadata": {
        "id": "Sc2ZlWPopS4U"
      }
    },
    {
      "cell_type": "code",
      "source": [
        "X='iNeuron'\n",
        "def func():\n",
        "    X='NI'\n",
        "    print(X)\n",
        "func()\n",
        "print(X)"
      ],
      "metadata": {
        "colab": {
          "base_uri": "https://localhost:8080/"
        },
        "id": "7bctzc_S5nOJ",
        "outputId": "daa57201-a7d1-4d63-eec2-380f28ab9fa5"
      },
      "execution_count": null,
      "outputs": [
        {
          "output_type": "stream",
          "name": "stdout",
          "text": [
            "NI\n",
            "iNeuron\n"
          ]
        }
      ]
    },
    {
      "cell_type": "markdown",
      "source": [
        "q4. What output does this code produce? Why?\n",
        "<BR>\n",
        "&gt;&gt;&gt; X = &#39;iNeuron&#39;<BR>\n",
        "&gt;&gt;&gt; def func():<BR>\n",
        "global X<br>\n",
        "X = &#39;NI&#39;<br>\n",
        "\n",
        "&gt;&gt;&gt; func()<br>\n",
        "&gt;&gt;&gt; print(X)<BR>**ANS :**<BR>Result is ```NI```<br>\n",
        "**Explainaation :** Note that X is global variable also in funtion func() X is declared as global variable hence old value of X will be overriden and new value 'NI' will be assigned . "
      ],
      "metadata": {
        "id": "5jbKZMLNwZBk"
      }
    },
    {
      "cell_type": "code",
      "source": [
        "X='iNeuron'\n",
        "def func():\n",
        "    global X\n",
        "    X='NI'\n",
        "func()\n",
        "print(X)    "
      ],
      "metadata": {
        "colab": {
          "base_uri": "https://localhost:8080/"
        },
        "id": "VOWgooC6utl1",
        "outputId": "03b15257-f3e6-44bb-e68f-d76e1943739c"
      },
      "execution_count": null,
      "outputs": [
        {
          "output_type": "stream",
          "name": "stdout",
          "text": [
            "NI\n"
          ]
        }
      ]
    },
    {
      "cell_type": "markdown",
      "source": [
        "Q5. What about this code—what’s the output, and why?\n",
        "<br>\n",
        "&gt;&gt;&gt; X = &#39;iNeuron&#39;<br>\n",
        "&gt;&gt;&gt; def func():<br>\n",
        "X = &#39;NI&#39;<br>\n",
        "def nested():<br>\n",
        "print(X)<br>\n",
        "nested()<br>\n",
        "\n",
        "&gt;&gt;&gt; func()<br>\n",
        "&gt;&gt;&gt; X<br>**ANS :**<BR>\n",
        "Result is <br>```NI``` <br>```'iNeuron'```<br>**Explaination :** Note that X is declared locally as well as globally. Hence, nested function nested() will use local variable X . So, func() will print local assignment of X and call of X outside func() will use global assignment of X."
      ],
      "metadata": {
        "id": "Wf2lzTr4pHEh"
      }
    },
    {
      "cell_type": "code",
      "execution_count": null,
      "metadata": {
        "colab": {
          "base_uri": "https://localhost:8080/",
          "height": 54
        },
        "id": "CVI-kJfOoVHu",
        "outputId": "5ca9a6e6-c952-42f1-f705-d09485942859"
      },
      "outputs": [
        {
          "output_type": "stream",
          "name": "stdout",
          "text": [
            "NI\n"
          ]
        },
        {
          "output_type": "execute_result",
          "data": {
            "text/plain": [
              "'iNeuron'"
            ],
            "application/vnd.google.colaboratory.intrinsic+json": {
              "type": "string"
            }
          },
          "metadata": {},
          "execution_count": 4
        }
      ],
      "source": [
        "X='iNeuron'\n",
        "def func():\n",
        "    X='NI'\n",
        "    def nested():\n",
        "        print(X)\n",
        "    nested()\n",
        "func()\n",
        "X    "
      ]
    },
    {
      "cell_type": "markdown",
      "source": [
        "Q6. How about this code: what is its output in Python 3, and explain?\n",
        "<br>\n",
        "&gt;&gt;&gt; def func():<br>\n",
        "X = &#39;NI&#39;<br>\n",
        "def nested():<br>\n",
        "nonlocal X<br>\n",
        "X = &#39;Spam&#39;<br>\n",
        "nested()<br>\n",
        "print(X)<br>\n",
        "\n",
        "&gt;&gt;&gt; func()<br>**ANS :**<br>Result is ```spam```<br>**Explaination :** As X is declared locallly in funtion func() , also X is nonlocal variable for the nested function nested() hece, it can be used outside nested(). Therefore, print (X) command inside func() will search whether it is declared as nonlocally in nested() or not.  "
      ],
      "metadata": {
        "id": "9RRlIXdP2GDH"
      }
    },
    {
      "cell_type": "code",
      "source": [
        "def func():\n",
        "    X='NI'\n",
        "    def nested():\n",
        "        nonlocal X\n",
        "        X='spam'\n",
        "    nested()    \n",
        "    print(X)\n",
        "func()    "
      ],
      "metadata": {
        "colab": {
          "base_uri": "https://localhost:8080/"
        },
        "id": "0VxULtPr27tX",
        "outputId": "a25be987-612b-4da5-9d99-d1817ad46f86"
      },
      "execution_count": null,
      "outputs": [
        {
          "output_type": "stream",
          "name": "stdout",
          "text": [
            "spam\n"
          ]
        }
      ]
    }
  ]
}