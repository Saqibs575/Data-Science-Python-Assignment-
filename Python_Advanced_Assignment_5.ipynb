{
  "nbformat": 4,
  "nbformat_minor": 0,
  "metadata": {
    "colab": {
      "provenance": [],
      "collapsed_sections": []
    },
    "kernelspec": {
      "name": "python3",
      "display_name": "Python 3"
    },
    "language_info": {
      "name": "python"
    }
  },
  "cells": [
    {
      "cell_type": "markdown",
      "source": [
        "Q1. What is the meaning of multiple inheritance?<BR>**ANS :** When the class is inherited from more the one parent classess is called multiple inheritance. That is there is more then one base classess for any inherited class. We can derive multiple inherited class using keyword class followed by name of inherited class followed by name of all parenet classess enclosed in parantheses separated by comma."
      ],
      "metadata": {
        "id": "3vrGlBjYQFjc"
      }
    },
    {
      "cell_type": "markdown",
      "source": [
        "Q2. What is the concept of delegation?<BR>**ANS :** Delegation is an object oriented technique (also called a design pattern). Let's say you have an object x and want to change the behaviour of just one of its methods. You can create a new class that provides a new implementation of the method you're interested in changing and delegates all other methods to the corresponding method of x.\n",
        "\n",
        "The delegation is accomplished via the getattr method; consult the language reference for more information about controlling attribute access."
      ],
      "metadata": {
        "id": "ZAZzhFxxRX8J"
      }
    },
    {
      "cell_type": "markdown",
      "source": [
        "Q3. What is the concept of composition?<BR>**ANS :** It is one of the fundamental concepts of Object-Oriented Programming. In this concept, we will describe a class that references to one or more objects of other classes as an Instance variable. Here, by using the class name or by creating the object we can access the members of one class inside another class. It enables creating complex types by combining objects of different classes. It means that a class Composite can contain an object of another class Component."
      ],
      "metadata": {
        "id": "Mkk8kObgSJy1"
      }
    },
    {
      "cell_type": "markdown",
      "source": [
        "Q4. What are bound methods and how do we use them?<BR>**ANS :** If a function is an attribute of class and it is accessed via the instances, they are called bound methods. A bound method is one that has ‘self‘ as its first argument. Since these are dependent on the instance of classes, these are also known as instance methods.<BR>The methods inside the classes would take at least one argument. To make them zero-argument methods, ‘decorators‘ has to be used. Different instances of a class have different values associated with them."
      ],
      "metadata": {
        "id": "R1QUNo5CSlbw"
      }
    },
    {
      "cell_type": "markdown",
      "source": [
        "Q5. What is the purpose of pseudoprivate attributes?<BR>**ANS :** One of the main problems that the pseudoprivate attribute feature is meant to alleviate has to do with the way instance attributes are stored. In Python, all instance attributes wind up in the single instance object at the bottom of the class tree.<BR>Within a class method in Python, whenever a method assigns to a self attribute (e.g., self.attr = value), it changes or creates an attribute in the instance (inheritance searches happen only on reference, not on assignment). Because this is true even if multiple classes in a hierarchy assign to the same attribute, collisions are possible.<BR>"
      ],
      "metadata": {
        "id": "L9Jg4vVfTD_u"
      }
    },
    {
      "cell_type": "code",
      "source": [],
      "metadata": {
        "id": "AQKH6ZP3T0BL"
      },
      "execution_count": null,
      "outputs": []
    }
  ]
}