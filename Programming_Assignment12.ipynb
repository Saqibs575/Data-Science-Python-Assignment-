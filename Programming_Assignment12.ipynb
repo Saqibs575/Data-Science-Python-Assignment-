{
  "nbformat": 4,
  "nbformat_minor": 0,
  "metadata": {
    "colab": {
      "provenance": [],
      "collapsed_sections": []
    },
    "kernelspec": {
      "name": "python3",
      "display_name": "Python 3"
    },
    "language_info": {
      "name": "python"
    }
  },
  "cells": [
    {
      "cell_type": "markdown",
      "source": [
        "#***Programming_Assignment***"
      ],
      "metadata": {
        "id": "_7brgytYhtFT"
      }
    },
    {
      "cell_type": "markdown",
      "source": [
        "Q1. Write a Python program to Extract Unique values dictionary values?"
      ],
      "metadata": {
        "id": "EviCdn0Ux1ca"
      }
    },
    {
      "cell_type": "code",
      "source": [
        "def uniq(dict1) :\n",
        "    set1 = set()\n",
        "    \n",
        "    for i in dict1.keys() :\n",
        "        set1.add(dict1[i])\n",
        "\n",
        "    return set1\n",
        "\n",
        "dict1 = {'a':10,'b':100,'c':1000,'d':10000,'e':10,'f':10}\n",
        "print('Unique values in the dictionary :',uniq(dict1))"
      ],
      "metadata": {
        "colab": {
          "base_uri": "https://localhost:8080/"
        },
        "id": "7mGRplUgx_Zx",
        "outputId": "74faebad-e69d-4891-d9b2-e1089d53bb09"
      },
      "execution_count": null,
      "outputs": [
        {
          "output_type": "stream",
          "name": "stdout",
          "text": [
            "Unique values in the dictionary : {1000, 10000, 10, 100}\n"
          ]
        }
      ]
    },
    {
      "cell_type": "markdown",
      "source": [
        "Q2. Write a Python program to find the sum of all items in a dictionary?"
      ],
      "metadata": {
        "id": "FfgdvQVBwIF3"
      }
    },
    {
      "cell_type": "code",
      "source": [
        "def add(dict1) :\n",
        "    sum1 = sum(dict1.values())\n",
        "    return sum1\n",
        "\n",
        "dict1 = {'a':10,'b':100,'c':1000,'d':10000}\n",
        "print('Sum of dictionary items : ',add(dict1))"
      ],
      "metadata": {
        "colab": {
          "base_uri": "https://localhost:8080/"
        },
        "id": "5VpBu-GPwvSm",
        "outputId": "6e64fde2-ac61-4217-efdd-d4328ba5f3d1"
      },
      "execution_count": null,
      "outputs": [
        {
          "output_type": "stream",
          "name": "stdout",
          "text": [
            "Sum of dictionary items :  11110\n"
          ]
        }
      ]
    },
    {
      "cell_type": "markdown",
      "source": [
        "Q3. Write a Python program to Merging two Dictionaries?"
      ],
      "metadata": {
        "id": "jzBm__b8t-dU"
      }
    },
    {
      "cell_type": "code",
      "source": [
        "def merge(dict1,dict2) :\n",
        "    dict3 = {}\n",
        "    dict3.update(dict1)\n",
        "    dict3.update(dict2)\n",
        "\n",
        "    return dict3\n",
        "\n",
        "dict1 = {'Name': 'abc', 'Age': '24', 'Email': 'abc@gmai.com', 'Address': 'Mumbai', 'Job': 'Unemployed', 'Company': 'None'} \n",
        "dict2 = {'College' : 'Maharashtra college','University' : 'SPPU'}\n",
        "\n",
        "print('Merged Dictionary is : ', merge(dict1,dict2))\n"
      ],
      "metadata": {
        "colab": {
          "base_uri": "https://localhost:8080/"
        },
        "id": "B8uxOLKxj4fU",
        "outputId": "f2013fbe-e735-4ca4-a683-b957fb810db5"
      },
      "execution_count": null,
      "outputs": [
        {
          "output_type": "stream",
          "name": "stdout",
          "text": [
            "Merged Dictionary is :  {'Name': 'abc', 'Age': '24', 'Email': 'abc@gmai.com', 'Address': 'Mumbai', 'Job': 'Unemployed', 'Company': 'None', 'College': 'Maharashtra college', 'University': 'SPPU'}\n"
          ]
        }
      ]
    },
    {
      "cell_type": "markdown",
      "source": [
        "Q4. Write a Python program to convert key-values list to flat dictionary?"
      ],
      "metadata": {
        "id": "B3rdDKCcjJw6"
      }
    },
    {
      "cell_type": "code",
      "execution_count": null,
      "metadata": {
        "id": "VPE3_UZ0p6v2",
        "colab": {
          "base_uri": "https://localhost:8080/"
        },
        "outputId": "3fbff9a3-98f0-47c6-babf-df9913730f15"
      },
      "outputs": [
        {
          "output_type": "stream",
          "name": "stdout",
          "text": [
            "Give space separated elements of 1st list(keys) : Name Age Email Address Job Company\n",
            "Give space separated elements of 2nd list(values) : abc 24 abc@gmai.com Mumbai Unemployed None\n",
            "\n",
            "Dictionary of two lists is :  {'Name': 'abc', 'Age': '24', 'Email': 'abc@gmai.com', 'Address': 'Mumbai', 'Job': 'Unemployed', 'Company': 'None'}\n"
          ]
        }
      ],
      "source": [
        "def toDictionary(list1,list2) :\n",
        "    dict1 = {}\n",
        "    for i,j in zip (list1 , list2) :\n",
        "        dict1[i] = j\n",
        "    return dict1\n",
        "\n",
        "a = input ('Give space separated elements of 1st list(keys) : ' ).split()\n",
        "b = input ('Give space separated elements of 2nd list(values) : ').split()[:len(a)]\n",
        "print ('\\nDictionary of two lists is : ',toDictionary(a,b))"
      ]
    },
    {
      "cell_type": "markdown",
      "source": [
        "Q5. Write a Python program to insertion at the beginning in OrderedDict?"
      ],
      "metadata": {
        "id": "gyTz0G2Lz2r9"
      }
    },
    {
      "cell_type": "code",
      "source": [
        "from collections import OrderedDict\n",
        "dict1 = OrderedDict({'Name': 'abc', 'Age': '24', 'Email': 'abc@gmai.com', 'Address': 'Mumbai', 'Job': 'Unemployed', 'Company': 'None'}) \n",
        "dict2 = {'College':'Maharashtra Collge'}\n",
        "dict1.update(dict2)\n",
        "dict1.move_to_end('College',last=False)\n",
        "print('Ordered Dictionary after adding element at begining : ',dict1)"
      ],
      "metadata": {
        "colab": {
          "base_uri": "https://localhost:8080/"
        },
        "id": "9PE6KNjFz4Ca",
        "outputId": "0ad55092-d306-4d5a-86be-fc7d7dc69414"
      },
      "execution_count": null,
      "outputs": [
        {
          "output_type": "stream",
          "name": "stdout",
          "text": [
            "Ordered Dictionary after adding element at begining :  OrderedDict([('College', 'Maharashtra Collge'), ('Name', 'abc'), ('Age', '24'), ('Email', 'abc@gmai.com'), ('Address', 'Mumbai'), ('Job', 'Unemployed'), ('Company', 'None')])\n"
          ]
        }
      ]
    },
    {
      "cell_type": "markdown",
      "source": [
        "Q6. Write a Python program to check order of character in string using OrderedDict()?"
      ],
      "metadata": {
        "id": "QaKS_Y7Z4gxE"
      }
    },
    {
      "cell_type": "code",
      "source": [
        "from collections import OrderedDict\n",
        "\n",
        "def checkOrder(str1, char1):\n",
        "    dict1 = OrderedDict.fromkeys(str1)\n",
        "    length = 0\n",
        "\n",
        "    for key,value in dict1.items():\n",
        "        if (key == char1[length]):\n",
        "            length += 1\n",
        "\n",
        "        if (length == (len(char1))):\n",
        "            return 'The order of pattern is correct'\n",
        "\n",
        "    return 'The order of pattern is incorrect'\n",
        "\n",
        "a='nnbnb iuukuk'\n",
        "b='iu'\n",
        "print(checkOrder(a,b))"
      ],
      "metadata": {
        "colab": {
          "base_uri": "https://localhost:8080/"
        },
        "id": "HJz39ttO3q9O",
        "outputId": "592e9e5e-5ce7-4499-dde7-68e117e64f9d"
      },
      "execution_count": null,
      "outputs": [
        {
          "output_type": "stream",
          "name": "stdout",
          "text": [
            "The order of pattern is correct\n"
          ]
        }
      ]
    },
    {
      "cell_type": "markdown",
      "source": [
        "Q7. Write a Python program to sort Python Dictionaries by Key or Value?"
      ],
      "metadata": {
        "id": "i3kwGwK9GWfO"
      }
    },
    {
      "cell_type": "code",
      "source": [
        "def sortByKeys(dict1) :\n",
        "    dict2 = {}\n",
        "\n",
        "    for i in sorted(dict1.keys()) :\n",
        "        dict2[i] = dict1[i]\n",
        "\n",
        "    return dict2\n",
        "\n",
        "def sortByValues(dict1) :\n",
        "    dict2 = {}\n",
        "\n",
        "    for i in sorted(dict1.values()) :\n",
        "        for j in dict1.keys() :\n",
        "            if dict1[j] == i :\n",
        "                dict2[j]= i\n",
        "\n",
        "    return dict2\n",
        "\n",
        "dict1 = {'z':10,'c':1100,'b':1000,'x':10000,'g':10,'f':0} \n",
        "\n",
        "print('Sorted Dictionary by keys : ',sortByKeys(dict1))\n",
        "print('\\nSorted Dictionary by values :',sortByValues(dict1))"
      ],
      "metadata": {
        "colab": {
          "base_uri": "https://localhost:8080/"
        },
        "id": "JKlnyE4RGg3E",
        "outputId": "bdf5017b-d7e0-4b05-dba2-62a59aa8b718"
      },
      "execution_count": null,
      "outputs": [
        {
          "output_type": "stream",
          "name": "stdout",
          "text": [
            "Sorted Dictionary by keys :  {'b': 1000, 'c': 1100, 'f': 0, 'g': 10, 'x': 10000, 'z': 10}\n",
            "\n",
            "Sorted Dictionary by values : {'f': 0, 'z': 10, 'g': 10, 'b': 1000, 'c': 1100, 'x': 10000}\n"
          ]
        }
      ]
    }
  ]
}