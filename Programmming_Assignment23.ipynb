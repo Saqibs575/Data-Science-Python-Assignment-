{
  "nbformat": 4,
  "nbformat_minor": 0,
  "metadata": {
    "colab": {
      "provenance": [],
      "collapsed_sections": []
    },
    "kernelspec": {
      "name": "python3",
      "display_name": "Python 3"
    },
    "language_info": {
      "name": "python"
    }
  },
  "cells": [
    {
      "cell_type": "markdown",
      "source": [
        "#***Programming_Assignment***"
      ],
      "metadata": {
        "id": "1rJ1rfpbOw3-"
      }
    },
    {
      "cell_type": "markdown",
      "source": [
        "**Question 1**<BR><BR>\n",
        "Create a function that takes a number as an argument and returns True or False depending\n",
        "on whether the number is symmetrical or not. A number is symmetrical when it is the same as\n",
        "its reverse.<BR><BR>\n",
        "**Examples**<BR><BR>\n",
        "```\n",
        "is_symmetrical(7227) ➞ True\n",
        "\n",
        "is_symmetrical(12567) ➞ False\n",
        "\n",
        "is_symmetrical(44444444) ➞ True\n",
        "\n",
        "is_symmetrical(9939) ➞ False\n",
        "\n",
        "is_symmetrical(1112111) ➞ True\n",
        "```"
      ],
      "metadata": {
        "id": "A2Nw7Lc-O6ni"
      }
    },
    {
      "cell_type": "code",
      "source": [
        "def is_symmetrical(n) :\n",
        "    if str(n) == str(n)[::-1] :\n",
        "        return True \n",
        "    return False \n",
        "\n",
        "print(is_symmetrical(7227))\n",
        "print(is_symmetrical(12567))\n",
        "print(is_symmetrical(44444444))\n",
        "print(is_symmetrical(9939))\n",
        "print(is_symmetrical(1112111))"
      ],
      "metadata": {
        "colab": {
          "base_uri": "https://localhost:8080/"
        },
        "id": "COrAUJfdP95Y",
        "outputId": "d9ce04a1-18cf-471a-9399-372a23c98fea"
      },
      "execution_count": 2,
      "outputs": [
        {
          "output_type": "stream",
          "name": "stdout",
          "text": [
            "True\n",
            "False\n",
            "True\n",
            "False\n",
            "True\n"
          ]
        }
      ]
    },
    {
      "cell_type": "markdown",
      "source": [
        "**Question 2**<BR><BR>\n",
        "Given a string of numbers separated by a comma and space, return the product of the\n",
        "numbers.\n",
        "<BR><BR>**Examples**<BR><BR>\n",
        "```\n",
        "multiply_nums(\"2, 3\") ➞ 6\n",
        "\n",
        "multiply_nums(\"1, 2, 3, 4\") ➞ 24\n",
        "\n",
        "multiply_nums(\"54, 75, 453, 0\") ➞ 0\n",
        "\n",
        "multiply_nums(\"10, -2\") ➞ -20\n",
        "```"
      ],
      "metadata": {
        "id": "Q8qsesclRLBY"
      }
    },
    {
      "cell_type": "code",
      "execution_count": 5,
      "metadata": {
        "colab": {
          "base_uri": "https://localhost:8080/"
        },
        "id": "3R_qPMrBOjMF",
        "outputId": "e6e9ff6e-7551-48b8-8a65-7c2daaba7c7a"
      },
      "outputs": [
        {
          "output_type": "stream",
          "name": "stdout",
          "text": [
            "6\n",
            "24\n",
            "0\n",
            "-20\n"
          ]
        }
      ],
      "source": [
        "def multiply_nums(nums) :\n",
        "    result = 1\n",
        "    list1 = nums.split(',')\n",
        "\n",
        "    for i in list1 :\n",
        "        result *= int(i) \n",
        "\n",
        "    return result \n",
        "\n",
        "print(multiply_nums(\"2, 3\"))\n",
        "print(multiply_nums(\"1, 2, 3, 4\"))\n",
        "print(multiply_nums(\"54, 75 ,453, 0\"))\n",
        "print(multiply_nums(\"10, -2\"))"
      ]
    },
    {
      "cell_type": "markdown",
      "source": [
        "**Question 3**<BR><BR>\n",
        "Create a function that squares every digit of a number.\n",
        "<BR><BR>**Examples**<BR><BR>\n",
        "```\n",
        "square_digits(9119) ➞ 811181\n",
        "\n",
        "square_digits(2483) ➞ 416649\n",
        "\n",
        "square_digits(3212) ➞ 9414\n",
        "```"
      ],
      "metadata": {
        "id": "ZwvPSFYkTA0P"
      }
    },
    {
      "cell_type": "code",
      "source": [
        "def square_digits(n) :\n",
        "    result = \"\"\n",
        "    for i in str(n) :\n",
        "        result += str(int(i)**2)\n",
        "\n",
        "    return result\n",
        "\n",
        "print(square_digits(9119))\n",
        "print(square_digits(2483))\n",
        "print(square_digits(3212))"
      ],
      "metadata": {
        "colab": {
          "base_uri": "https://localhost:8080/"
        },
        "id": "wyfINzbYTSLp",
        "outputId": "244e927c-32bb-40bd-b1db-f83fbb4c28bb"
      },
      "execution_count": 9,
      "outputs": [
        {
          "output_type": "stream",
          "name": "stdout",
          "text": [
            "811181\n",
            "416649\n",
            "9414\n"
          ]
        }
      ]
    },
    {
      "cell_type": "markdown",
      "source": [
        "**Question 4**<BR><BR>\n",
        "Create a function that sorts a list and removes all duplicate items from it.\n",
        "<BR><BR>**Examples**<BR><BR>\n",
        "```\n",
        "setify([1, 3, 3, 5, 5]) ➞ [1, 3, 5]\n",
        "\n",
        "setify([4, 4, 4, 4]) ➞ [4]\n",
        "\n",
        "setify([5, 7, 8, 9, 10, 15]) ➞ [5, 7, 8, 9, 10, 15]\n",
        "\n",
        "setify([3, 3, 3, 2, 1]) ➞ [1, 2, 3]\n",
        "```"
      ],
      "metadata": {
        "id": "qHou_LirUtYx"
      }
    },
    {
      "cell_type": "code",
      "source": [
        "def setify(list1) :\n",
        "    \n",
        "    return sorted(list(set(list1)))\n",
        "\n",
        "print(setify([1, 3, 3, 5, 5]))\n",
        "print(setify([4, 4, 4, 4]))\n",
        "print(setify([5, 7, 8, 9, 10, 15]))\n",
        "print(setify([3,3, 3, 2, 1]))"
      ],
      "metadata": {
        "colab": {
          "base_uri": "https://localhost:8080/"
        },
        "id": "yBlQb3z4U9Pg",
        "outputId": "3281e8ab-7397-4c0a-b538-9742fd597daf"
      },
      "execution_count": 11,
      "outputs": [
        {
          "output_type": "stream",
          "name": "stdout",
          "text": [
            "[1, 3, 5]\n",
            "[4]\n",
            "[5, 7, 8, 9, 10, 15]\n",
            "[1, 2, 3]\n"
          ]
        }
      ]
    },
    {
      "cell_type": "markdown",
      "source": [
        "**Question 5**<BR><Br>\n",
        "Create a function that returns the mean of all digits.\n",
        "<BR><BR>**Examples**<BR><BR>\n",
        "```\n",
        "mean(42) ➞ 3\n",
        "\n",
        "mean(12345) ➞ 3\n",
        "\n",
        "mean(666) ➞ 6\n",
        "```"
      ],
      "metadata": {
        "id": "RpsvxaZ5X4XP"
      }
    },
    {
      "cell_type": "code",
      "source": [
        "def mean(n) :\n",
        "    sum = 0\n",
        "\n",
        "    for i in str(n) :\n",
        "        sum += int(i)\n",
        "\n",
        "    return int(sum / len(str(n)))\n",
        "\n",
        "print(mean(42))\n",
        "print(mean(12345))\n",
        "print(mean(666))"
      ],
      "metadata": {
        "colab": {
          "base_uri": "https://localhost:8080/"
        },
        "id": "AOekkBWGYiz3",
        "outputId": "35959b6d-1994-4f74-e7d2-d03c648e76b1"
      },
      "execution_count": 12,
      "outputs": [
        {
          "output_type": "stream",
          "name": "stdout",
          "text": [
            "3\n",
            "3\n",
            "6\n"
          ]
        }
      ]
    }
  ]
}