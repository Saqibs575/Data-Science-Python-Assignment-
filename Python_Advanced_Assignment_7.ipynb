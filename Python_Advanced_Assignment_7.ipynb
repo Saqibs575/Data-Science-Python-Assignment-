{
  "nbformat": 4,
  "nbformat_minor": 0,
  "metadata": {
    "colab": {
      "provenance": []
    },
    "kernelspec": {
      "name": "python3",
      "display_name": "Python 3"
    },
    "language_info": {
      "name": "python"
    }
  },
  "cells": [
    {
      "cell_type": "markdown",
      "source": [
        "#***Python_Advanced_Assignment_7***"
      ],
      "metadata": {
        "id": "9S68O3yl0l-E"
      }
    },
    {
      "cell_type": "markdown",
      "source": [
        "Q1. What is the purpose of the try statement?<BR>\n",
        "**ANS :**<BR>Error in python can be of two types one is syntax error and other can be Exception. Syntactical error can be resolved by the user itself. Now to resolve Exceptions in python we can write the code in try block if exception raised then the programme will throw exception instead of throwing error.\n"
      ],
      "metadata": {
        "id": "ecg5vXb0004y"
      }
    },
    {
      "cell_type": "markdown",
      "source": [
        "Q2. What are the two most popular try statement variations?\n",
        "<BR>**ANS :**<BR>\n",
        "try , Except <BR>\n",
        "try , Except , finally<BR>\n",
        "Code written in try block will excutes only if there is no exception in the code otherwise it will go to the else clause and raise exception. And finally will executes always irrespective of exception."
      ],
      "metadata": {
        "id": "0fPQAqub3bXu"
      }
    },
    {
      "cell_type": "markdown",
      "source": [
        "Q3. What is the purpose of the raise statement?\n",
        "<BR>**ANS :**<BR>Raise statement is used to raise exception if sode under try block is not executed."
      ],
      "metadata": {
        "id": "SzHIU5Vr8XRc"
      }
    },
    {
      "cell_type": "markdown",
      "source": [
        "Q4. What does the assert statement do, and what other statement is it like?\n",
        "<BR>**ANS :**<BR>Assert statements are used to check whether a condition is true. If a condition is True, then program will not stp and keep running. If a condition is false, the program will return an AssertionError. And the program will stop executing."
      ],
      "metadata": {
        "id": "7XmB51UyB6ef"
      }
    },
    {
      "cell_type": "markdown",
      "source": [
        "Q5. What is the purpose of the with/as argument, and what other statement is it like?<BR>**ANS :**<BR>With statement is used to handle the exception in python. We generally use 'with' to open file , if we use 'with' then we do not require try-finally blocks and also we do not bother about to close the file after writing. And can be used as alias to shorten the name."
      ],
      "metadata": {
        "id": "eDHHf58KDDjG"
      }
    }
  ]
}