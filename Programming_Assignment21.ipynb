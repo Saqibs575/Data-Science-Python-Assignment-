{
  "nbformat": 4,
  "nbformat_minor": 0,
  "metadata": {
    "colab": {
      "provenance": [],
      "collapsed_sections": []
    },
    "kernelspec": {
      "name": "python3",
      "display_name": "Python 3"
    },
    "language_info": {
      "name": "python"
    }
  },
  "cells": [
    {
      "cell_type": "markdown",
      "source": [
        "#***Programming_Assignment21***"
      ],
      "metadata": {
        "id": "AyWZvBCjAvoX"
      }
    },
    {
      "cell_type": "markdown",
      "source": [
        "**Question1**<BR><BR>\n",
        "Write a function that takes a list and a number as arguments. Add the number to the end of\n",
        "the list, then remove the first element of the list. The function should then return the updated\n",
        "list.<BR><BR>\n",
        "**Examples**<BR><BR>\n",
        "```\n",
        "next_in_line([5, 6, 7, 8, 9], 1) ➞ [6, 7, 8, 9, 1]\n",
        "\n",
        "next_in_line([7, 6, 3, 23, 17], 10) ➞ [6, 3, 23, 17, 10]\n",
        "\n",
        "next_in_line([1, 10, 20, 42 ], 6) ➞ [10, 20, 42, 6]\n",
        "\n",
        "next_in_line([], 6) ➞ \"No list has been selected\"\n",
        "```"
      ],
      "metadata": {
        "id": "yKHy7TZBA5UY"
      }
    },
    {
      "cell_type": "code",
      "execution_count": null,
      "metadata": {
        "colab": {
          "base_uri": "https://localhost:8080/"
        },
        "id": "1TY2pAhDAkaL",
        "outputId": "bf92e696-6afc-4e00-c6c0-163d4932836e"
      },
      "outputs": [
        {
          "output_type": "stream",
          "name": "stdout",
          "text": [
            "[6, 7, 8, 9, 1]\n",
            "[6, 3, 23, 17, 10]\n",
            "[10, 20, 42, 6]\n",
            "No list has been selected\n"
          ]
        }
      ],
      "source": [
        "def next_in_line(list1,n) :\n",
        "\n",
        "    if len(list1) > 0 :\n",
        "        list1.append(n) \n",
        "        list1.pop(0)\n",
        "        return list1 \n",
        "\n",
        "    return \"No list has been selected\"\n",
        "\n",
        "print(next_in_line([5, 6, 7, 8, 9], 1))\n",
        "print(next_in_line([7, 6, 3, 23, 17], 10))\n",
        "print(next_in_line([1, 10, 20, 42 ], 6))\n",
        "print(next_in_line([], 6))"
      ]
    },
    {
      "cell_type": "markdown",
      "source": [
        "**Question2**<BR><BR>\n",
        "Create the function that takes a list of dictionaries and returns the sum of people&#39;s budgets.\n",
        "<BR><BR>**Examples**<BR><BR>\n",
        "```\n",
        "get_budgets([\n",
        "{ \"name\": \"John\", \"age\": 21, \"budget\": 23000 },\n",
        "{ \"name\": \"Steve\", \"age\": 32, \"budget\": 40000 },\n",
        "{ \"name\": \"Martin\", \"age\": 16, \"budget\": 2700 }\n",
        "]) ➞ 65700\n",
        "\n",
        "get_budgets([\n",
        "{ \"name\": \"John\", \"age\": 21, \"budget\": 29000 },\n",
        "{ \"name\": \"Steve\", \"age\": 32, \"budget\": 32000 },\n",
        "{ \"name\": \"Martin\", \"age\": 16, \"budget\": 1600 }\n",
        "]) ➞ 62600\n",
        "```"
      ],
      "metadata": {
        "id": "dWn8ksobDrn-"
      }
    },
    {
      "cell_type": "code",
      "source": [
        "def get_budgets(dicts) :\n",
        "    sum = 0\n",
        "\n",
        "    for dict1 in dicts :\n",
        "        for k,v in dict1.items() :\n",
        "            if k == \"budget\" :\n",
        "                sum += v \n",
        "    return sum\n",
        "\n",
        "print(get_budgets([\n",
        "{ \"name\": \"John\", \"age\": 21, \"budget\": 23000 },\n",
        "{ \"name\": \"Steve\", \"age\": 32, \"budget\": 40000 },\n",
        "{ \"name\": \"Martin\", \"age\": 16, \"budget\": 2700 }\n",
        "]))\n",
        "\n",
        "print(get_budgets([\n",
        "{ \"name\": \"John\", \"age\": 21, \"budget\": 29000 },\n",
        "{ \"name\": \"Steve\", \"age\": 32, \"budget\": 32000 },\n",
        "{ \"name\": \"Martin\", \"age\": 16, \"budget\": 1600 }\n",
        "]))"
      ],
      "metadata": {
        "colab": {
          "base_uri": "https://localhost:8080/"
        },
        "id": "RCoCfQTQEhnb",
        "outputId": "8fbe4942-1b17-4d7f-8f1a-4efdbd5c30c5"
      },
      "execution_count": null,
      "outputs": [
        {
          "output_type": "stream",
          "name": "stdout",
          "text": [
            "65700\n",
            "62600\n"
          ]
        }
      ]
    },
    {
      "cell_type": "markdown",
      "source": [
        "**Question3**<BR><BR>\n",
        "Create a function that takes a string and returns a string with its letters in alphabetical order.<BR><BR>\n",
        "**Examples**<BR><BR>\n",
        "```\n",
        "alphabet_soup(\"hello\") ➞ \"ehllo\"\n",
        "\n",
        "alphabet_soup(\"edabit\") ➞ \"abdeit\"\n",
        "\n",
        "alphabet_soup(\"hacker\") ➞ \"acehkr\"\n",
        "\n",
        "alphabet_soup(\"geek\") ➞ \"eegk\"\n",
        "\n",
        "alphabet_soup(\"javascript\") ➞ \"aacijprstv\"\n",
        "```"
      ],
      "metadata": {
        "id": "SXYfYPg_GVFo"
      }
    },
    {
      "cell_type": "code",
      "source": [
        "def alphabet_soup(str1) :\n",
        "    return ''.join(sorted(str1))\n",
        "\n",
        "print(alphabet_soup(\"hello\"))\n",
        "print(alphabet_soup(\"edabit\"))\n",
        "print(alphabet_soup(\"hacker\"))\n",
        "print(alphabet_soup(\"geek\"))\n",
        "print(alphabet_soup(\"javascript\"))"
      ],
      "metadata": {
        "colab": {
          "base_uri": "https://localhost:8080/"
        },
        "id": "LPSk7muZG0Nb",
        "outputId": "f78b3065-890c-4b5d-f0e5-e12649aceaf6"
      },
      "execution_count": null,
      "outputs": [
        {
          "output_type": "stream",
          "name": "stdout",
          "text": [
            "ehllo\n",
            "abdeit\n",
            "acehkr\n",
            "eegk\n",
            "aacijprstv\n"
          ]
        }
      ]
    },
    {
      "cell_type": "markdown",
      "source": [
        "**Question4**<BR><BR>\n",
        "Suppose that you invest $10,000 for 10 years at an interest rate of 6% compounded monthly.\n",
        "What will be the value of your investment at the end of the 10 year period?\n",
        "<BR><BR>Create a function that accepts the principal p, the term in years t, the interest rate r, and the\n",
        "number of compounding periods per year n. The function returns the value at the end of term\n",
        "rounded to the nearest cent.\n",
        "<BR><BR>For the example above:\n",
        "```\n",
        "compound_interest(10000, 10, 0.06, 12) ➞ 18193.97\n",
        "```\n",
        "Note that the interest rate is given as a decimal and n=12 because with monthly compounding\n",
        "there are 12 periods per year. Compounding can also be done annually, quarterly, weekly, or\n",
        "daily.<BR><BR>\n",
        "**Examples**<BR><BR>\n",
        "```\n",
        "compound_interest(100, 1, 0.05, 1) ➞ 105.0\n",
        "\n",
        "compound_interest(3500, 15, 0.1, 4) ➞ 15399.26\n",
        "\n",
        "compound_interest(100000, 20, 0.15, 365) ➞ 2007316.26\n",
        "```"
      ],
      "metadata": {
        "id": "f5T2Xy6EIbdU"
      }
    },
    {
      "cell_type": "markdown",
      "source": [
        "A = P(1 + r/n)**nt<BR>\n",
        "<BR>A\t=\tfinal amount<BR>\n",
        "P\t=\tinitial principal balance<BR>\n",
        "r\t=\tinterest rate<BR>\n",
        "n\t=\tnumber of times interest applied per time period<br>\n",
        "t\t=\tnumber of time periods elapsed"
      ],
      "metadata": {
        "id": "gb50fqUnK7KK"
      }
    },
    {
      "cell_type": "code",
      "source": [
        "def compound_interest(P,t,r,n) :\n",
        "\n",
        "    return round(P*(1 + r/n)**(n*t),2)\n",
        "\n",
        "print(compound_interest(100, 1, 0.05, 1))\n",
        "print(compound_interest(3500, 15, 0.1, 4))\n",
        "print(compound_interest(100000, 20, 0.15, 365))"
      ],
      "metadata": {
        "colab": {
          "base_uri": "https://localhost:8080/"
        },
        "id": "uZfRyK-bHQ0c",
        "outputId": "50cbe770-9910-4f83-ba7e-ab98cffc8656"
      },
      "execution_count": null,
      "outputs": [
        {
          "output_type": "stream",
          "name": "stdout",
          "text": [
            "105.0\n",
            "15399.26\n",
            "2007316.26\n"
          ]
        }
      ]
    },
    {
      "cell_type": "markdown",
      "source": [
        "**Question5**<BR><BR>\n",
        "Write a function that takes a list of elements and returns only the integers.\n",
        "<BR><BR>**Examples**<BR><BR>\n",
        "```\n",
        "return_only_integer([9, 2, \"space\", \"car\", \"lion\", 16]) ➞ [9, 2, 16]\n",
        "\n",
        "return_only_integer([\"hello\", 81, \"basketball\", 123, \"fox\"]) ➞ [81, 123]\n",
        "\n",
        "return_only_integer([10, \"121\", 56, 20, \"car\", 3, \"lion\"]) ➞ [10, 56, 20,3]\n",
        "\n",
        "return_only_integer([\"String\", True, 3.3, 1]) ➞ [1]\n",
        "```"
      ],
      "metadata": {
        "id": "V6K0hnsuM_Ci"
      }
    },
    {
      "cell_type": "code",
      "source": [
        "def return_only_integer(list1) :\n",
        "    list2 = []\n",
        "\n",
        "    for i in list1 :\n",
        "        if type(i) == int :\n",
        "            list2.append(i)\n",
        "\n",
        "    return list2\n",
        "\n",
        "print(return_only_integer([9, 2, \"space\", \"car\", \"lion\", 16]))\n",
        "print(return_only_integer([\"hello\", 81, \"basketball\", 123, \"fox\"]))\n",
        "print(return_only_integer([10, \"121\", 56, 20, \"car\", 3, \"lion\"]))\n",
        "print(return_only_integer([\"String\", True, 3.3, 1]))"
      ],
      "metadata": {
        "colab": {
          "base_uri": "https://localhost:8080/"
        },
        "id": "-_OUhqY7HTst",
        "outputId": "d905ffea-55fa-4537-cf03-fe2a0de6c852"
      },
      "execution_count": null,
      "outputs": [
        {
          "output_type": "stream",
          "name": "stdout",
          "text": [
            "[9, 2, 16]\n",
            "[81, 123]\n",
            "[10, 56, 20, 3]\n",
            "[1]\n"
          ]
        }
      ]
    }
  ]
}