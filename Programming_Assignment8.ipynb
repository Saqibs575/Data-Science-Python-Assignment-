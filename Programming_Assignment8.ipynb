{
  "nbformat": 4,
  "nbformat_minor": 0,
  "metadata": {
    "colab": {
      "provenance": [],
      "collapsed_sections": []
    },
    "kernelspec": {
      "name": "python3",
      "display_name": "Python 3"
    },
    "language_info": {
      "name": "python"
    }
  },
  "cells": [
    {
      "cell_type": "markdown",
      "source": [
        "#***Programming_Assignment8***"
      ],
      "metadata": {
        "id": "7h9uGFrIl3o9"
      }
    },
    {
      "cell_type": "markdown",
      "source": [
        "Q1. Write a Python Program to Add Two Matrices?\n",
        "\n"
      ],
      "metadata": {
        "id": "UpPTvf6TmGsw"
      }
    },
    {
      "cell_type": "code",
      "source": [
        "def add(matrix1,matrix2) :\n",
        "\n",
        "    x = list(map(int, input(\"rows x columns =  \").split('x')))\n",
        "    r , c = x[0] , x[1]\n",
        "    matrix1 = []\n",
        "    matrix2 = []\n",
        "\n",
        "    def set_(matrix) :\n",
        "        for i in range (1 , r+1) :\n",
        "            a = list(map(float , (input(f'row{i} = ')).split()))[:c]\n",
        "            matrix.append(a)\n",
        "        return matrix\n",
        "\n",
        "    print('\\nGive elements of 1st matrix : ')\n",
        "    matrix1 = set_(matrix1)\n",
        "    print('\\nGive elements of 2nd matrix : ')\n",
        "    matrix2 = set_(matrix2)\n",
        "\n",
        "    def get (matrix) :\n",
        "        for i in range (r) :\n",
        "            for j in range (c) :\n",
        "                print(f'{matrix[i][j]}'.ljust(6),end = '  ')\n",
        "            print('\\n')\n",
        "\n",
        "    sumMatrix = []\n",
        "    for i in range (r) :                        # r is number of rows\n",
        "        a=[]                                     \n",
        "        for j in range (c) :                    # c is number columns\n",
        "            b=matrix1[i][j]+matrix2[i][j]\n",
        "            a.append(b)\n",
        "        sumMatrix.append(a)\n",
        "\n",
        "    print('\\n ')\n",
        "    print('1st MATRIX : ')\n",
        "    get(matrix1)\n",
        "    print('2nd MATRIX : ')\n",
        "    get(matrix2)\n",
        "    print('SUM OF THE GIVEN MATRICES IS : \\n')\n",
        "    get(sumMatrix)\n",
        "\n",
        "    return sumMatrix\n",
        "\n",
        "while True :    \n",
        "    add(matrix1,matrix2)\n",
        "    next = input('nWant to add more matrices ? (Yes / No) : ')\n",
        "    if next in {'No','no',\"NO\"} :\n",
        "        break"
      ],
      "metadata": {
        "colab": {
          "base_uri": "https://localhost:8080/"
        },
        "id": "UVu8qW_EyZFf",
        "outputId": "700e5546-1865-47f9-db50-3e869880321f"
      },
      "execution_count": null,
      "outputs": [
        {
          "name": "stdout",
          "output_type": "stream",
          "text": [
            "rows x columns =  1 x 3\n",
            "\n",
            "Give elements of 1st matrix : \n",
            "row1 = 12 15 17\n",
            "\n",
            "Give elements of 2nd matrix : \n",
            "row1 = 2 5 7\n",
            "\n",
            " \n",
            "1st MATRIX : \n",
            "12.0    15.0    17.0    \n",
            "\n",
            "2nd MATRIX : \n",
            "2.0     5.0     7.0     \n",
            "\n",
            "SUM OF THE GIVEN MATRICES IS : \n",
            "\n",
            "14.0    20.0    24.0    \n",
            "\n",
            "\n",
            "Want to add more matrices ? (Yes / No) : Yes\n",
            "rows x columns =  3 x 1\n",
            "\n",
            "Give elements of 1st matrix : \n",
            "row1 = 125\n",
            "row2 = 125\n",
            "row3 = 125\n",
            "\n",
            "Give elements of 2nd matrix : \n",
            "row1 = 5\n",
            "row2 = 5\n",
            "row3 = 5\n",
            "\n",
            " \n",
            "1st MATRIX : \n",
            "125.0   \n",
            "\n",
            "125.0   \n",
            "\n",
            "125.0   \n",
            "\n",
            "2nd MATRIX : \n",
            "5.0     \n",
            "\n",
            "5.0     \n",
            "\n",
            "5.0     \n",
            "\n",
            "SUM OF THE GIVEN MATRICES IS : \n",
            "\n",
            "130.0   \n",
            "\n",
            "130.0   \n",
            "\n",
            "130.0   \n",
            "\n",
            "\n",
            "Want to add more matrices ? (Yes / No) : Yes\n",
            "rows x columns =  3 x 3\n",
            "\n",
            "Give elements of 1st matrix : \n",
            "row1 = 1 2 3\n",
            "row2 = 4 5 6\n",
            "row3 = 7 8 9\n",
            "\n",
            "Give elements of 2nd matrix : \n",
            "row1 = 1 2 3\n",
            "row2 = 4 5 6\n",
            "row3 = 7 8 9\n",
            "\n",
            " \n",
            "1st MATRIX : \n",
            "1.0     2.0     3.0     \n",
            "\n",
            "4.0     5.0     6.0     \n",
            "\n",
            "7.0     8.0     9.0     \n",
            "\n",
            "2nd MATRIX : \n",
            "1.0     2.0     3.0     \n",
            "\n",
            "4.0     5.0     6.0     \n",
            "\n",
            "7.0     8.0     9.0     \n",
            "\n",
            "SUM OF THE GIVEN MATRICES IS : \n",
            "\n",
            "2.0     4.0     6.0     \n",
            "\n",
            "8.0     10.0    12.0    \n",
            "\n",
            "14.0    16.0    18.0    \n",
            "\n",
            "\n",
            "Want to add more matrices ? (Yes / No) : No\n"
          ]
        }
      ]
    },
    {
      "cell_type": "markdown",
      "source": [
        "Q2. Write a Python Program to Multiply Two Matrices?"
      ],
      "metadata": {
        "id": "kURmyCxMh15v"
      }
    },
    {
      "cell_type": "code",
      "source": [
        "def multiply(matrix1,matrix2) :\n",
        "\n",
        "    print('Give rows and clumns of 1st Matrix : ')\n",
        "    x = list(map(int, input(\"r1 x c1 =  \").split('x')))\n",
        "    r1 , c1 = x[0] , x[1]\n",
        "\n",
        "    print('\\nGive rows and columns of 2nd Matrix : ')\n",
        "    y = list(map(int, input(\"r2 x c2 =  \").split('x')))\n",
        "    r2 , c2 = y[0] , y[1]\n",
        "\n",
        "    if c1 != r2 :\n",
        "        return print('INVALID ROWS AND COLUMNS FOR MATRIX MULTIPICATION !!!')\n",
        "\n",
        "    def set_(matrix,r,c) :                                          # r and c are number of rows and columns of matrix\n",
        "        for i in range (1 , r+1) :\n",
        "            a = list(map(float , (input(f'row{i} = ')).split()))[:c]\n",
        "            matrix.append(a)\n",
        "        return matrix\n",
        "\n",
        "    print('\\nGive elements of 1st matrix : ')\n",
        "    matrix1 = set_(matrix1,r1,c1)\n",
        "    print('\\nGive elements of 2nd matrix : ')\n",
        "    matrix2 = set_(matrix2,r2,c2)\n",
        "\n",
        "    def get (matrix,r,c) :\n",
        "        for i in range (r) :\n",
        "            for j in range (c) :\n",
        "                print(f'{matrix[i][j]}'.ljust(6),end = '  ')\n",
        "            print('\\n')\n",
        "\n",
        "    multMatrix = []\n",
        "    for i in range (r1) :\n",
        "        a=[]\n",
        "        for j in range (c2) :\n",
        "            d=0\n",
        "            for k in range (r2) :\n",
        "                d+=matrix1[i][k]*matrix2[k][j]\n",
        "            a.append(d)\n",
        "        multMatrix.append(a)\n",
        "\n",
        "    print('\\n ')\n",
        "    print('1st MATRIX : ')\n",
        "    get(matrix1,r1,c1)\n",
        "    print('2nd MATRIX : ')\n",
        "    get(matrix2,r2,c2)\n",
        "    print('RESULTANT MATRIX : \\n')\n",
        "    get(multMatrix,r1,c2)\n",
        "\n",
        "    return multMatrix\n",
        "\n",
        "while True :   \n",
        "    matrix1 = []\n",
        "    matrix2 = [] \n",
        "    multiply(matrix1,matrix2)\n",
        "    next = input('\\nWant to multiply more matrices ? (Yes / No) : ')\n",
        "    if next in {'No','no',\"NO\"} :\n",
        "        break"
      ],
      "metadata": {
        "colab": {
          "base_uri": "https://localhost:8080/"
        },
        "outputId": "94b42280-f6cb-407e-926b-85716dd7e225",
        "id": "O5LrWaPOh__d"
      },
      "execution_count": null,
      "outputs": [
        {
          "name": "stdout",
          "output_type": "stream",
          "text": [
            "Give rows and clumns of 1st Matrix : \n",
            "r1 x c1 =  2 x 5\n",
            "\n",
            "Give rows and columns of 2nd Matrix : \n",
            "r2 x c2 =  3 x 5\n",
            "\u001b[31mINVALID ROWS AND COLUMNS FOR MATRIX MULTIPICATION !!!\u001b[37m\n",
            "\u001b[32m\n",
            "Want to multiply more matrices ? (Yes / No) : \u001b[37m Yes\n",
            "Give rows and clumns of 1st Matrix : \n",
            "r1 x c1 =  3 x 1\n",
            "\n",
            "Give rows and columns of 2nd Matrix : \n",
            "r2 x c2 =  1 x 3\n",
            "\n",
            "Give elements of 1st matrix : \n",
            "row1 = 10\n",
            "row2 = 11\n",
            "row3 = 12\n",
            "\n",
            "Give elements of 2nd matrix : \n",
            "row1 = 10 11 12\n",
            "\n",
            " \n",
            "1st MATRIX : \n",
            "10.0    \n",
            "\n",
            "11.0    \n",
            "\n",
            "12.0    \n",
            "\n",
            "2nd MATRIX : \n",
            "10.0    11.0    12.0    \n",
            "\n",
            "RESULTANT MATRIX : \n",
            "\n",
            "100.0   110.0   120.0   \n",
            "\n",
            "110.0   121.0   132.0   \n",
            "\n",
            "120.0   132.0   144.0   \n",
            "\n",
            "\u001b[32m\n",
            "Want to multiply more matrices ? (Yes / No) : \u001b[37m Yes\n",
            "Give rows and clumns of 1st Matrix : \n",
            "r1 x c1 =  1 x 3\n",
            "\n",
            "Give rows and columns of 2nd Matrix : \n",
            "r2 x c2 =  3 x 1\n",
            "\n",
            "Give elements of 1st matrix : \n",
            "row1 = 1 2 3\n",
            "\n",
            "Give elements of 2nd matrix : \n",
            "row1 = 3\n",
            "row2 = 2\n",
            "row3 = 1\n",
            "\n",
            " \n",
            "1st MATRIX : \n",
            "1.0     2.0     3.0     \n",
            "\n",
            "2nd MATRIX : \n",
            "3.0     \n",
            "\n",
            "2.0     \n",
            "\n",
            "1.0     \n",
            "\n",
            "RESULTANT MATRIX : \n",
            "\n",
            "10.0    \n",
            "\n",
            "\u001b[32m\n",
            "Want to multiply more matrices ? (Yes / No) : \u001b[37m Yes\n",
            "Give rows and clumns of 1st Matrix : \n",
            "r1 x c1 =  3 x 3\n",
            "\n",
            "Give rows and columns of 2nd Matrix : \n",
            "r2 x c2 =  3 x 3\n",
            "\n",
            "Give elements of 1st matrix : \n",
            "row1 = 1 2 3\n",
            "row2 = 4 5 6\n",
            "row3 = 7 8 9\n",
            "\n",
            "Give elements of 2nd matrix : \n",
            "row1 = 1 2 3\n",
            "row2 = 4 5 6\n",
            "row3 = 7 8 9\n",
            "\n",
            " \n",
            "1st MATRIX : \n",
            "1.0     2.0     3.0     \n",
            "\n",
            "4.0     5.0     6.0     \n",
            "\n",
            "7.0     8.0     9.0     \n",
            "\n",
            "2nd MATRIX : \n",
            "1.0     2.0     3.0     \n",
            "\n",
            "4.0     5.0     6.0     \n",
            "\n",
            "7.0     8.0     9.0     \n",
            "\n",
            "RESULTANT MATRIX : \n",
            "\n",
            "30.0    36.0    42.0    \n",
            "\n",
            "66.0    81.0    96.0    \n",
            "\n",
            "102.0   126.0   150.0   \n",
            "\n",
            "\u001b[32m\n",
            "Want to multiply more matrices ? (Yes / No) : \u001b[37m No\n"
          ]
        }
      ]
    },
    {
      "cell_type": "markdown",
      "source": [
        "Q3. Write a Python Program to Transpose a Matrix?"
      ],
      "metadata": {
        "id": "jlWqnfc6q_H9"
      }
    },
    {
      "cell_type": "code",
      "source": [
        "def trans(matrix) :\n",
        "\n",
        "    x = list(map(int, input(\"rows x columns =  \").split('x')))\n",
        "    r , c = x[0] , x[1]\n",
        "    matrix = []\n",
        "\n",
        "    def set_(matrix) :\n",
        "        for i in range (1 , r+1) :\n",
        "            a = list(map(float , (input(f'row{i} = ')).split()))[:c]\n",
        "            matrix.append(a)\n",
        "        return matrix\n",
        "\n",
        "    print('\\nGive elements of your matrix : ')\n",
        "    matrix = set_(matrix)\n",
        "\n",
        "    def get (matrix,r1,c1) :\n",
        "        for i in range (r1) :\n",
        "            for j in range (c1) :\n",
        "                print(f'{matrix[i][j]}'.ljust(6),end = '  ')\n",
        "            print('\\n')\n",
        "\n",
        "    trMatrix = []\n",
        "    for i in range (c) :\n",
        "        a=[]\n",
        "        for j in range (r) :\n",
        "            a.append(matrix[j][i])\n",
        "        trMatrix.append(a) \n",
        "\n",
        "    print('\\nGiven Matrix : ')\n",
        "    get(matrix,r,c)\n",
        "\n",
        "    print('\\nTranspose of given Matrix : ')\n",
        "    get(trMatrix,c,r)\n",
        "\n",
        "    return trMatrix\n",
        "while True : \n",
        "    matrix = []   \n",
        "    trans(matrix)\n",
        "    next = input('\\nWant to Transpose more matrices ? (Yes / No) : ')\n",
        "    if next in {'No','no',\"NO\"} :\n",
        "        break"
      ],
      "metadata": {
        "colab": {
          "base_uri": "https://localhost:8080/"
        },
        "id": "NNhMqNUYSeCO",
        "outputId": "c0e1d301-f706-4503-9240-3e21e9af571b"
      },
      "execution_count": null,
      "outputs": [
        {
          "name": "stdout",
          "output_type": "stream",
          "text": [
            "rows x columns =  2 x 3\n",
            "\n",
            "Give elements of your matrix : \n",
            "row1 = 1 2 3\n",
            "row2 = 4 5 6\n",
            "\n",
            "Given Matrix : \n",
            "1.0     2.0     3.0     \n",
            "\n",
            "4.0     5.0     6.0     \n",
            "\n",
            "\n",
            "Transpose of given Matrix : \n",
            "1.0     4.0     \n",
            "\n",
            "2.0     5.0     \n",
            "\n",
            "3.0     6.0     \n",
            "\n",
            "\u001b[32m\n",
            "Want to Transpose more matrices ? (Yes / No) : \u001b[37mYes\n",
            "rows x columns =  1 x 3\n",
            "\n",
            "Give elements of your matrix : \n",
            "row1 = 7 8 9\n",
            "\n",
            "Given Matrix : \n",
            "7.0     8.0     9.0     \n",
            "\n",
            "\n",
            "Transpose of given Matrix : \n",
            "7.0     \n",
            "\n",
            "8.0     \n",
            "\n",
            "9.0     \n",
            "\n",
            "\u001b[32m\n",
            "Want to Transpose more matrices ? (Yes / No) : \u001b[37mNo\n"
          ]
        }
      ]
    },
    {
      "cell_type": "markdown",
      "source": [
        "Q4. Write a Python Program to Sort Words in Alphabetic Order?"
      ],
      "metadata": {
        "id": "EEzLegoUAl1I"
      }
    },
    {
      "cell_type": "code",
      "source": [
        "def alphabetic(string):\n",
        "    word = string.split()\n",
        "    word = [i.upper() for i in word]\n",
        "    word.sort()\n",
        "    return word\n",
        "\n",
        "string = input ('Give your words / string : ')\n",
        "string = alphabetic(string)\n",
        "for i in string :\n",
        "    print(i,end=' ')"
      ],
      "metadata": {
        "colab": {
          "base_uri": "https://localhost:8080/"
        },
        "id": "VURUgMPaAoSr",
        "outputId": "5a177ceb-8320-4fd9-ecda-fb7fd612fd31"
      },
      "execution_count": null,
      "outputs": [
        {
          "output_type": "stream",
          "name": "stdout",
          "text": [
            "Give your words / string : My name is Saqib Shaikh.\n",
            "IS MY NAME SAQIB SHAIKH. "
          ]
        }
      ]
    },
    {
      "cell_type": "markdown",
      "source": [
        "Q5. Write a Python Program to Remove Punctuation From a String?"
      ],
      "metadata": {
        "id": "GzH5sRajF8P7"
      }
    },
    {
      "cell_type": "code",
      "source": [
        "def remove_punc(string) :\n",
        "    punctuations = '''!()-[]{};:'\"\\,<>./?@#$%^&*_~'''\n",
        "    for i in string :\n",
        "        if i in punctuations :\n",
        "            string = string.replace(i,'')\n",
        "    return string\n",
        "string = input('Give your string : ')\n",
        "print(remove_punc(string))"
      ],
      "metadata": {
        "colab": {
          "base_uri": "https://localhost:8080/"
        },
        "id": "odVnECHGCeRh",
        "outputId": "65bbb042-c2a0-433d-f606-ecdb8648a2ad"
      },
      "execution_count": null,
      "outputs": [
        {
          "output_type": "stream",
          "name": "stdout",
          "text": [
            "Give your string : I, am Saqib Shaikh. \"Am, I looking tired?\"\n",
            "I am Saqib Shaikh Am I looking tired\n"
          ]
        }
      ]
    }
  ]
}