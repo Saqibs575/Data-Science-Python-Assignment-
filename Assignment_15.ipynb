{
  "nbformat": 4,
  "nbformat_minor": 0,
  "metadata": {
    "colab": {
      "provenance": [],
      "collapsed_sections": []
    },
    "kernelspec": {
      "name": "python3",
      "display_name": "Python 3"
    },
    "language_info": {
      "name": "python"
    }
  },
  "cells": [
    {
      "cell_type": "markdown",
      "source": [
        "#**Assignment_15**"
      ],
      "metadata": {
        "id": "aI5dwVuDok1n"
      }
    },
    {
      "cell_type": "markdown",
      "source": [
        "Q1.How many seconds are in an hour? Use the interactive interpreter as a calculator and multiply the\n",
        "number of seconds in a minute (60) by the number of minutes in an hour (also 60).<BR>**ANS :** 60*60 = 3600<BR> Hence, 1hr = 3600 seconds"
      ],
      "metadata": {
        "id": "zarwFIZZosOx"
      }
    },
    {
      "cell_type": "code",
      "source": [
        "60*60"
      ],
      "metadata": {
        "colab": {
          "base_uri": "https://localhost:8080/"
        },
        "id": "-uLoxC_mpk4B",
        "outputId": "77e69e6f-1371-4f29-ac31-ecd8271958ba"
      },
      "execution_count": null,
      "outputs": [
        {
          "output_type": "execute_result",
          "data": {
            "text/plain": [
              "3600"
            ]
          },
          "metadata": {},
          "execution_count": 1
        }
      ]
    },
    {
      "cell_type": "markdown",
      "source": [
        "Q2. Assign the result from the previous task (seconds in an hour) to a variable called\n",
        "seconds_per_hour."
      ],
      "metadata": {
        "id": "T5R_w04-p458"
      }
    },
    {
      "cell_type": "code",
      "source": [
        "seconds_per_hour = 3600"
      ],
      "metadata": {
        "id": "mTXEgOoip7Lt"
      },
      "execution_count": null,
      "outputs": []
    },
    {
      "cell_type": "markdown",
      "source": [
        "Q3. How many seconds do you think there are in a day? Make use of the variables seconds per hour\n",
        "and minutes per hour.<BR>**ANS :** "
      ],
      "metadata": {
        "id": "7pHImmVYqAn2"
      }
    },
    {
      "cell_type": "code",
      "source": [
        "seconds_per_hour*24   # As we have 24 hours in aday."
      ],
      "metadata": {
        "colab": {
          "base_uri": "https://localhost:8080/"
        },
        "id": "5KeJ-Kg2qUMR",
        "outputId": "14d7219e-5f88-47a6-8cf9-60f19bc9912e"
      },
      "execution_count": null,
      "outputs": [
        {
          "output_type": "execute_result",
          "data": {
            "text/plain": [
              "86400"
            ]
          },
          "metadata": {},
          "execution_count": 5
        }
      ]
    },
    {
      "cell_type": "markdown",
      "source": [
        "Q4. Calculate seconds per day again, but this time save the result in a variable called seconds_per_day<BR>**ANS :** "
      ],
      "metadata": {
        "id": "BiUPd-K0qiUi"
      }
    },
    {
      "cell_type": "code",
      "source": [
        "seconds_per_day = seconds_per_hour*24"
      ],
      "metadata": {
        "id": "43zXUH6XqqMe"
      },
      "execution_count": null,
      "outputs": []
    },
    {
      "cell_type": "code",
      "source": [
        "seconds_per_day"
      ],
      "metadata": {
        "colab": {
          "base_uri": "https://localhost:8080/"
        },
        "id": "KE077g-Bq8Bo",
        "outputId": "53358f8b-be83-44bc-d03e-3541f133a7d6"
      },
      "execution_count": null,
      "outputs": [
        {
          "output_type": "execute_result",
          "data": {
            "text/plain": [
              "86400"
            ]
          },
          "metadata": {},
          "execution_count": 4
        }
      ]
    },
    {
      "cell_type": "markdown",
      "source": [
        "Q5. Divide seconds_per_day by seconds_per_hour. Use floating-point (/) division.<BR>**ANS :** "
      ],
      "metadata": {
        "id": "e9bmBItNq4PZ"
      }
    },
    {
      "cell_type": "code",
      "source": [
        "seconds_per_day/seconds_per_hour"
      ],
      "metadata": {
        "colab": {
          "base_uri": "https://localhost:8080/"
        },
        "id": "67SO1twXrNX1",
        "outputId": "e2b698f0-b8bc-4447-b36f-abe1d0acf0b0"
      },
      "execution_count": null,
      "outputs": [
        {
          "output_type": "execute_result",
          "data": {
            "text/plain": [
              "24.0"
            ]
          },
          "metadata": {},
          "execution_count": 7
        }
      ]
    },
    {
      "cell_type": "markdown",
      "source": [
        "Q6. Divide seconds_per_day by seconds_per_hour, using integer (//) division. Did this number agree\n",
        "with the floating-point value from the previous question, aside from the final .0?<BR>**ANS :**"
      ],
      "metadata": {
        "id": "IA2kKICUrcUs"
      }
    },
    {
      "cell_type": "code",
      "source": [
        "seconds_per_day//seconds_per_hour"
      ],
      "metadata": {
        "colab": {
          "base_uri": "https://localhost:8080/"
        },
        "id": "a4UgQMrSrbCt",
        "outputId": "4f929ae4-e701-4fd8-bb62-b7017f498f67"
      },
      "execution_count": null,
      "outputs": [
        {
          "output_type": "execute_result",
          "data": {
            "text/plain": [
              "24"
            ]
          },
          "metadata": {},
          "execution_count": 8
        }
      ]
    },
    {
      "cell_type": "markdown",
      "source": [
        "Yes , agreed"
      ],
      "metadata": {
        "id": "1VUsGkalr2Y7"
      }
    },
    {
      "cell_type": "markdown",
      "source": [
        "Q7. Write a generator, genPrimes, that returns the sequence of prime numbers on successive calls to\n",
        "its next() method: 2, 3, 5, 7, 11, ...<BR>**ANS :**"
      ],
      "metadata": {
        "id": "Uqu_4784r7sZ"
      }
    },
    {
      "cell_type": "code",
      "source": [
        "from math import sqrt\n",
        "\n",
        "def isPrime(n):\n",
        "\n",
        "    if (n == 2):\n",
        "        return True \n",
        "    elif n % 2 == 0 :\n",
        "        return False\n",
        "    else :\n",
        "        i = 3\n",
        "        while i <= sqrt(n):\n",
        "            if n % i == 0:\n",
        "                return False\n",
        "            i += 2\n",
        "\n",
        "        return True"
      ],
      "metadata": {
        "id": "LkVQpuoosCP0"
      },
      "execution_count": null,
      "outputs": []
    },
    {
      "cell_type": "code",
      "source": [
        "def genPrimes() :\n",
        "\n",
        "    num = 1\n",
        "    while True :\n",
        "        num += 1\n",
        "        if isPrime(num):\n",
        "            next = num\n",
        "            yield next\n",
        "            num = next"
      ],
      "metadata": {
        "id": "RKKVbFIyv8cR"
      },
      "execution_count": null,
      "outputs": []
    },
    {
      "cell_type": "code",
      "source": [
        "primeNumber=genPrimes()"
      ],
      "metadata": {
        "id": "88AMFtrIw7CX"
      },
      "execution_count": null,
      "outputs": []
    },
    {
      "cell_type": "code",
      "source": [
        "primeNumber.__next__()"
      ],
      "metadata": {
        "colab": {
          "base_uri": "https://localhost:8080/"
        },
        "id": "4NBYd--1xQxk",
        "outputId": "2bc3c674-5647-412c-d393-3d4e6c37964a"
      },
      "execution_count": null,
      "outputs": [
        {
          "output_type": "execute_result",
          "data": {
            "text/plain": [
              "2"
            ]
          },
          "metadata": {},
          "execution_count": 114
        }
      ]
    },
    {
      "cell_type": "code",
      "source": [
        "primeNumber.__next__()"
      ],
      "metadata": {
        "colab": {
          "base_uri": "https://localhost:8080/"
        },
        "id": "wdecZ4la2cXU",
        "outputId": "b4a7755b-c148-44a7-dfcf-a6a39cf87adb"
      },
      "execution_count": null,
      "outputs": [
        {
          "output_type": "execute_result",
          "data": {
            "text/plain": [
              "3"
            ]
          },
          "metadata": {},
          "execution_count": 115
        }
      ]
    },
    {
      "cell_type": "code",
      "source": [
        "primeNumber.__next__()"
      ],
      "metadata": {
        "colab": {
          "base_uri": "https://localhost:8080/"
        },
        "id": "cE_CsHjm2j1b",
        "outputId": "ab96f8c6-2fca-449c-cf08-9350f3dea2d5"
      },
      "execution_count": null,
      "outputs": [
        {
          "output_type": "execute_result",
          "data": {
            "text/plain": [
              "5"
            ]
          },
          "metadata": {},
          "execution_count": 116
        }
      ]
    },
    {
      "cell_type": "code",
      "source": [
        "primeNumber.__next__()"
      ],
      "metadata": {
        "colab": {
          "base_uri": "https://localhost:8080/"
        },
        "id": "U7LYtsAV3L5d",
        "outputId": "a57d29ac-bc68-4679-ace7-ab8f9881720f"
      },
      "execution_count": null,
      "outputs": [
        {
          "output_type": "execute_result",
          "data": {
            "text/plain": [
              "7"
            ]
          },
          "metadata": {},
          "execution_count": 117
        }
      ]
    },
    {
      "cell_type": "code",
      "source": [
        "primeNumber.__next__()"
      ],
      "metadata": {
        "colab": {
          "base_uri": "https://localhost:8080/"
        },
        "id": "1gEWMeJU3Ni-",
        "outputId": "1d2440fe-2c62-4573-fc43-ab2f8d618faf"
      },
      "execution_count": null,
      "outputs": [
        {
          "output_type": "execute_result",
          "data": {
            "text/plain": [
              "11"
            ]
          },
          "metadata": {},
          "execution_count": 118
        }
      ]
    },
    {
      "cell_type": "code",
      "source": [
        "primeNumber.__next__()"
      ],
      "metadata": {
        "colab": {
          "base_uri": "https://localhost:8080/"
        },
        "id": "Cl4rhs113O9n",
        "outputId": "e3635c6f-e6e7-4672-bd11-304b8055b9ac"
      },
      "execution_count": null,
      "outputs": [
        {
          "output_type": "execute_result",
          "data": {
            "text/plain": [
              "13"
            ]
          },
          "metadata": {},
          "execution_count": 119
        }
      ]
    },
    {
      "cell_type": "code",
      "source": [
        "primeNumber.__next__()"
      ],
      "metadata": {
        "colab": {
          "base_uri": "https://localhost:8080/"
        },
        "id": "7nzJjHgv3RTA",
        "outputId": "89e6aa8a-3df0-4ac4-f581-79ae4bf5a637"
      },
      "execution_count": null,
      "outputs": [
        {
          "output_type": "execute_result",
          "data": {
            "text/plain": [
              "17"
            ]
          },
          "metadata": {},
          "execution_count": 120
        }
      ]
    }
  ]
}