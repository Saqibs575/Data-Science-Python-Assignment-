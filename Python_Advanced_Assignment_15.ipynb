{
  "nbformat": 4,
  "nbformat_minor": 0,
  "metadata": {
    "colab": {
      "provenance": []
    },
    "kernelspec": {
      "name": "python3",
      "display_name": "Python 3"
    },
    "language_info": {
      "name": "python"
    }
  },
  "cells": [
    {
      "cell_type": "code",
      "execution_count": null,
      "metadata": {
        "id": "Paax39QJQoBh"
      },
      "outputs": [],
      "source": []
    },
    {
      "cell_type": "markdown",
      "source": [
        "#***Python_Advanced_Assignment_15***"
      ],
      "metadata": {
        "id": "TxWnVyJuQoq9"
      }
    },
    {
      "cell_type": "markdown",
      "source": [
        "Q1. What are the new features added in Python 3.8 version?\n",
        "\n",
        "**ANS :**\n",
        "\n",
        "Some New Features Added in Python 3.8 Version are:\n",
        "\n",
        "Walrus Operator: This operator is used to assign and return a value in the same expression. This removes the need for initializing the variable upfront. The major benefit of this is it saves some lines of code. It is also known as The Walrus Operator due to its similarity to the eyes and tusks of a walrus.\n",
        "\n",
        "yield and return statements do not require parentheses to return multiple values.\n",
        "\n",
        "Reversed works with a dictionary. The built-in method reversed() can be used for accessing the elements in the reverse order of insertion\n",
        "\n",
        "Dict comprehensions have been modified so that the key is computed first and the value second.\n",
        "\n",
        "importlib_metadata is a new library added in the Python’s standard utility modules, that provides an API for accessing an installed package’s metadata, such as its entry points or its top-level name.\n",
        "\n",
        "f-strings now support = , to make string interpolation easy. Python 3.8 allows the use of the above-discussed assignment operator and equal sign (=) inside the f-strings.\n",
        "\n",
        "In the three-argument form of pow(), when the exponent is -1, it calculates the modular multiplicative inverse of the given value\n",
        "\n",
        "The csv.DictReader now returns instances of dictionary instead of a collections.OrderedDict.\n",
        "\n",
        "If you miss a comma in your code such as a = [(1, 2) (3, 4)], instead of throwing TypeError, it displays an informative Syntax warning.\n",
        "\n"
      ],
      "metadata": {
        "id": "3s5U_mvcQ15Z"
      }
    },
    {
      "cell_type": "markdown",
      "source": [
        "Q2. What is monkey patching in Python?\n",
        "\n",
        "**ANS :**\n",
        "\n",
        "In Python, the term monkey patch refers to making dynamic (or run-time) modifications to a class or module. In Python, we can actually change the behavior of code at run-time."
      ],
      "metadata": {
        "id": "Qya0bg_XRGH5"
      }
    },
    {
      "cell_type": "markdown",
      "source": [
        "Q3. What is the difference between a shallow copy and deep copy?\n",
        "\n",
        "**ANS :**\n",
        "\n",
        "**SHALLOW COPY :** \n",
        "\n",
        "In shallow copy the copied object will refer to the same memory location as the actual one. So , if we make any changes in copied one will also reflect in the actual one . \n",
        "\n",
        "**DEEP COPY    :**\n",
        "In deep copy object copy the enitire infromation inly but refers to the different memory location. So , if we make any changes in copied one will not reflect in the actual one . \n"
      ],
      "metadata": {
        "id": "bEGvg4OZSAqT"
      }
    },
    {
      "cell_type": "markdown",
      "source": [
        "Q4. What is the maximum possible length of an identifier?\n",
        "\n",
        "*ANS :**\n",
        "\n",
        " An identifier can have a maximum length of 79 characters in Python. "
      ],
      "metadata": {
        "id": "O1oVJk4ITN4s"
      }
    },
    {
      "cell_type": "markdown",
      "source": [
        "Q5. What is generator comprehension?\n",
        "\n",
        "**ANS :**\n",
        "\n",
        "A generator comprehension is a single-line specification for defining a generator in Python.\n",
        "\n",
        "It is absolutely essential to learn this syntax in order to write simple and readable code.\n",
        "\n",
        "Generator comprehension uses round bracket unlike square bracket in list comprehension.\n",
        "\n",
        "The generator yields one item at a time and generates item only when in demand. Whereas, in a list comprehension, Python reserves memory for the whole list. \n",
        "\n",
        "Thus we can say that the generator expressions are memory efficient than the lists."
      ],
      "metadata": {
        "id": "SanMWptcTm8h"
      }
    }
  ]
}