{
  "nbformat": 4,
  "nbformat_minor": 0,
  "metadata": {
    "colab": {
      "provenance": []
    },
    "kernelspec": {
      "name": "python3",
      "display_name": "Python 3"
    },
    "language_info": {
      "name": "python"
    }
  },
  "cells": [
    {
      "cell_type": "code",
      "execution_count": null,
      "metadata": {
        "id": "Jv0KdOY9vy8U"
      },
      "outputs": [],
      "source": []
    },
    {
      "cell_type": "markdown",
      "source": [
        "#***Python_Advanced_Assignment_12***"
      ],
      "metadata": {
        "id": "WbxwdcGAv0bh"
      }
    },
    {
      "cell_type": "markdown",
      "source": [
        "Q1. Does assigning a value to a string&#39;s indexed character violate Python&#39;s string immutability?\n",
        "\n",
        "*ANS :**\n",
        "\n",
        "We can not assign a value to any index in python string as pyhton strings are immutable."
      ],
      "metadata": {
        "id": "lc3uE9hzv8XQ"
      }
    },
    {
      "cell_type": "code",
      "source": [
        "a = 'saqib'\n",
        "a[2] = 'k'"
      ],
      "metadata": {
        "colab": {
          "base_uri": "https://localhost:8080/",
          "height": 183
        },
        "id": "RdS28nc6v-V-",
        "outputId": "359cc7ab-1eb2-4635-9bd1-dfe8ea1961eb"
      },
      "execution_count": 1,
      "outputs": [
        {
          "output_type": "error",
          "ename": "TypeError",
          "evalue": "ignored",
          "traceback": [
            "\u001b[0;31m---------------------------------------------------------------------------\u001b[0m",
            "\u001b[0;31mTypeError\u001b[0m                                 Traceback (most recent call last)",
            "\u001b[0;32m<ipython-input-1-0236ce8760f4>\u001b[0m in \u001b[0;36m<module>\u001b[0;34m\u001b[0m\n\u001b[1;32m      1\u001b[0m \u001b[0ma\u001b[0m \u001b[0;34m=\u001b[0m \u001b[0;34m'saqib'\u001b[0m\u001b[0;34m\u001b[0m\u001b[0;34m\u001b[0m\u001b[0m\n\u001b[0;32m----> 2\u001b[0;31m \u001b[0ma\u001b[0m\u001b[0;34m[\u001b[0m\u001b[0;36m2\u001b[0m\u001b[0;34m]\u001b[0m \u001b[0;34m=\u001b[0m \u001b[0;34m'k'\u001b[0m\u001b[0;34m\u001b[0m\u001b[0;34m\u001b[0m\u001b[0m\n\u001b[0m",
            "\u001b[0;31mTypeError\u001b[0m: 'str' object does not support item assignment"
          ]
        }
      ]
    },
    {
      "cell_type": "markdown",
      "source": [
        "Q2. Does using the += operator to concatenate strings violate Python&#39;s string immutability? Why or\n",
        "why not?\n",
        "\n",
        "**ANS :** \n",
        "\n",
        "NO !... Using +=  does not violates the string immutability of pyhton string. Because , the concatenated string takes either the different memory or overrides the old value. As shown below ; "
      ],
      "metadata": {
        "id": "6R53K0avxGWE"
      }
    },
    {
      "cell_type": "code",
      "source": [
        "str1 = 'Saqib' \n",
        "str2 = 'Shaikh'\n",
        "str1 += str2\n",
        "\n",
        "id(str1) == str2"
      ],
      "metadata": {
        "colab": {
          "base_uri": "https://localhost:8080/"
        },
        "id": "W64uyXtuyGPs",
        "outputId": "679d601b-aa69-4984-ceb6-e48e3fce9b6e"
      },
      "execution_count": 3,
      "outputs": [
        {
          "output_type": "execute_result",
          "data": {
            "text/plain": [
              "False"
            ]
          },
          "metadata": {},
          "execution_count": 3
        }
      ]
    },
    {
      "cell_type": "markdown",
      "source": [
        "Q3. In Python, how many different ways are there to index a character?\n",
        "\n",
        "**ANS :**\n",
        "\n",
        "There are two ways to do the indexing in python i.e Positive indexing and indexinig. Posotive indexing starts with 0 and goes upto length of the strinf minus 1 . Whereas negative indexing starts from -1 and goes upto -(length of the string)."
      ],
      "metadata": {
        "id": "CRfLhOqsyfMI"
      }
    },
    {
      "cell_type": "markdown",
      "source": [
        "Q4. What is the relationship between indexing and slicing?\n",
        "\n",
        "**ANS :**\n",
        "\n",
        "We can use both indexing and slicing to access iterable datatypes in python. Indexing is used get single element whereas slicing is use to get sequence of an elements."
      ],
      "metadata": {
        "id": "9AZwM5RTztwM"
      }
    },
    {
      "cell_type": "markdown",
      "source": [
        "Q5. What is an indexed character&#39;s exact data type? What is the data form of a slicing-generated\n",
        "substring?\n",
        "\n",
        "**ANS :** \n",
        "\n",
        " Indexed characters and sliced substrings have datatype String."
      ],
      "metadata": {
        "id": "vxHr0rfx0u9c"
      }
    },
    {
      "cell_type": "code",
      "source": [
        "in_string = \"iNeuron Full Stack Data Science\"\n",
        "print(type(in_string[3])) # Indexing -> str\n",
        "print(type(in_string[1:10])) # Indexing -> str\n"
      ],
      "metadata": {
        "colab": {
          "base_uri": "https://localhost:8080/"
        },
        "id": "OV3FByLF2LIi",
        "outputId": "0c824512-21f8-4818-8b05-0cf6365b9479"
      },
      "execution_count": 4,
      "outputs": [
        {
          "output_type": "stream",
          "name": "stdout",
          "text": [
            "<class 'str'>\n",
            "<class 'str'>\n"
          ]
        }
      ]
    },
    {
      "cell_type": "markdown",
      "source": [
        "Q6. What is the relationship between string and character &quot;types&quot; in Python?\n",
        "\n",
        "**ANS :**\n",
        "\n",
        "Object that contains sequence of character datatypes are called String."
      ],
      "metadata": {
        "id": "H31c7c5v2W-6"
      }
    },
    {
      "cell_type": "markdown",
      "source": [
        "Q7. Identify at least two operators and one method that allow you to combine one or more smaller\n",
        "strings to create a larger string.\n",
        "\n",
        "**ANS :**\n",
        "\n",
        " ```+```, ```+=``` and ```*``` allow to combine one or more smaller strings to create a larger string. ```join()``` method joins element of iterable type like list and tuple to get a combined string."
      ],
      "metadata": {
        "id": "zVcoQ-jq2twW"
      }
    },
    {
      "cell_type": "markdown",
      "source": [
        "Q8. What is the benefit of first checking the target string with in or not before using the index\n",
        "method to find a substring?\n",
        "\n",
        "**ANS :**\n",
        "\n",
        "Checking the target string with in or not Operators before using the index method to find a substring just helps confirming availability of substring and thus avoid raising of ValueError."
      ],
      "metadata": {
        "id": "e4biFwj63KV6"
      }
    },
    {
      "cell_type": "markdown",
      "source": [
        "Q9. Which operators and built-in string methods produce simple Boolean (true/false) results?\n",
        "\n",
        "**ANS :**\n",
        "\n"
      ],
      "metadata": {
        "id": "lul4Z49k4AR9"
      }
    },
    {
      "cell_type": "markdown",
      "source": [
        " ==\n",
        "\n",
        " !=\n",
        "\n",
        ".isalpha()\n",
        "\n",
        ".isalnum()\n",
        "\n",
        ".isdecimal()\n",
        "\n",
        ".isdigit()\n",
        "\n",
        ".islower()\n",
        "\n",
        ".isnumeric()\n",
        "\n",
        ".isprintable()\n",
        "\n",
        ".isspace()\n",
        "\n",
        ".istitle()"
      ],
      "metadata": {
        "id": "Z39apKDg4OvC"
      }
    }
  ]
}