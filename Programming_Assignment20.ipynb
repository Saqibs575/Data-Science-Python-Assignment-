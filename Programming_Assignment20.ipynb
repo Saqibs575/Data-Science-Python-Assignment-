{
  "nbformat": 4,
  "nbformat_minor": 0,
  "metadata": {
    "colab": {
      "provenance": [],
      "collapsed_sections": []
    },
    "kernelspec": {
      "name": "python3",
      "display_name": "Python 3"
    },
    "language_info": {
      "name": "python"
    }
  },
  "cells": [
    {
      "cell_type": "markdown",
      "source": [
        "#***Programming_Assignment20***"
      ],
      "metadata": {
        "id": "_6tKpdNhzV-a"
      }
    },
    {
      "cell_type": "markdown",
      "source": [
        "**Question1**<BR><BR>\n",
        "Create a function that takes a list of strings and integers, and filters out the list so that it\n",
        "returns a list of integers only.\n",
        "<br><BR>**Examples**<BR><BR>\n",
        "```\n",
        "filter_list([1, 2, 3, \"a\", \"b\", 4]) ➞ [1, 2, 3, 4]\n",
        "filter_list([\"A\", 0, \"Edabit\", 1729, \"Python\", \"1729\"]) ➞ [0, 1729]\n",
        "filter_list([\"Nothing\", \"here\"]) ➞ []\n",
        "```"
      ],
      "metadata": {
        "id": "iudyADoczeNq"
      }
    },
    {
      "cell_type": "code",
      "execution_count": 1,
      "metadata": {
        "colab": {
          "base_uri": "https://localhost:8080/"
        },
        "id": "1-1y8r4dzMWY",
        "outputId": "8b707b9b-ce3a-4121-f704-0d8b6246e028"
      },
      "outputs": [
        {
          "output_type": "stream",
          "name": "stdout",
          "text": [
            "[1, 2, 3, 4]\n",
            "[0, 1729]\n",
            "[]\n"
          ]
        }
      ],
      "source": [
        "def filter_list(list1) :\n",
        "    list2 = []\n",
        "\n",
        "    for i in list1 :\n",
        "        if type(i) == int :\n",
        "            list2.append(i)\n",
        "\n",
        "    return list2\n",
        "\n",
        "print(filter_list([1, 2, 3, \"a\", \"b\", 4]))\n",
        "print(filter_list([\"A\", 0, \"Edabit\", 1729, \"Python\", \"172print(9\"]))\n",
        "print(filter_list([\"Nothing\", \"here\"]))"
      ]
    },
    {
      "cell_type": "markdown",
      "source": [
        "**Question2**<BR><BR>\n",
        "Given a list of numbers, create a function which returns the list but with each element&#39;s\n",
        "index in the list added to itself. This means you add 0 to the number at index 0, add 1 to the\n",
        "number at index 1, etc...<BR><BR>\n",
        "**Examples**<BR><BR>\n",
        "```\n",
        "add_indexes([0, 0, 0, 0, 0]) ➞ [0, 1, 2, 3, 4]\n",
        "\n",
        "add_indexes([1, 2, 3, 4, 5]) ➞ [1, 3, 5, 7, 9]\n",
        "\n",
        "add_indexes([5, 4, 3, 2, 1]) ➞ [5, 5, 5, 5, 5]\n",
        "```"
      ],
      "metadata": {
        "id": "zkq78LKP70qA"
      }
    },
    {
      "cell_type": "code",
      "source": [
        "def add_indexes(list1) :\n",
        "    list2 = []\n",
        "\n",
        "    for i in range(len(list1)) :\n",
        "        list2.append(list1[i]+list1.index(list1[i],i))\n",
        "\n",
        "    return list2\n",
        "\n",
        "print(add_indexes([0, 0, 0, 0, 0]))\n",
        "print(add_indexes([1, 2, 3, 4, 5]))\n",
        "print(add_indexes([5, 4, 3, 2, 1]))"
      ],
      "metadata": {
        "colab": {
          "base_uri": "https://localhost:8080/"
        },
        "id": "E-iBWKV99Tdg",
        "outputId": "49781fec-eb6d-45d8-c7e0-0f1454f6ce57"
      },
      "execution_count": 10,
      "outputs": [
        {
          "output_type": "stream",
          "name": "stdout",
          "text": [
            "[0, 1, 2, 3, 4]\n",
            "[1, 3, 5, 7, 9]\n",
            "[5, 5, 5, 5, 5]\n"
          ]
        }
      ]
    },
    {
      "cell_type": "markdown",
      "source": [
        "**Question3**<BR><BR>\n",
        "Create a function that takes the height and radius of a cone as arguments and returns the\n",
        "volume of the cone rounded to the nearest hundredth. See the resources tab for the formula.<BR><BR>\n",
        "![Screenshot 2022-10-15 185916.png](data:image/png;base64,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)\n",
        "\n",
        "**Examples**<BR><BR>\n",
        "```\n",
        "cone_volume(3, 2) ➞ 12.57\n",
        "\n",
        "cone_volume(15, 6) ➞ 565.49\n",
        "\n",
        "cone_volume(18, 0) ➞ 0\n",
        "```"
      ],
      "metadata": {
        "id": "u-OXgXz50xh7"
      }
    },
    {
      "cell_type": "code",
      "source": [
        "import math\n",
        "def cone_volume(height,radius) :\n",
        "\n",
        "    return round(math.pi*radius**2*height/3)   # Rounded to nearest Hundredth\n",
        "\n",
        "print(cone_volume(3, 2))\n",
        "print(cone_volume(15,6))\n",
        "print(cone_volume(18, 0))"
      ],
      "metadata": {
        "colab": {
          "base_uri": "https://localhost:8080/"
        },
        "id": "RbaVv-_K1m_K",
        "outputId": "d106ee62-c037-4d47-802c-3681293c2364"
      },
      "execution_count": 2,
      "outputs": [
        {
          "output_type": "stream",
          "name": "stdout",
          "text": [
            "13\n",
            "565\n",
            "0\n"
          ]
        }
      ]
    },
    {
      "cell_type": "markdown",
      "source": [
        "**Question4**<BR><BR>\n",
        "This Triangular Number Sequence is generated from a pattern of dots that form a triangle.\n",
        "The first 5 numbers of the sequence, or dots, are:<BR><BR>\n",
        "```\n",
        "1, 3, 6, 10, 15\n",
        "```\n",
        "This means that the first triangle has just one dot, the second one has three dots, the third one\n",
        "has 6 dots and so on.<BR><BR>\n",
        "Write a function that gives the number of dots with its corresponding triangle number of the\n",
        "sequence.<BR><BR>\n",
        "**Examples**<BR><BR>\n",
        "```\n",
        "triangle(1) ➞ 1\n",
        "\n",
        "triangle(6) ➞ 21\n",
        "\n",
        "triangle(215) ➞ 23220\n",
        "```"
      ],
      "metadata": {
        "id": "EG-XWeXs3tQE"
      }
    },
    {
      "cell_type": "code",
      "source": [
        "def triangle(n) :\n",
        "    return int(n*(n+1)/2)\n",
        "\n",
        "print(triangle(1))\n",
        "print(triangle(6))\n",
        "print(triangle(215))"
      ],
      "metadata": {
        "colab": {
          "base_uri": "https://localhost:8080/"
        },
        "id": "QE_EO2y54b6n",
        "outputId": "ab633ee7-549e-4549-d056-f7a8a9f72c61"
      },
      "execution_count": 4,
      "outputs": [
        {
          "output_type": "stream",
          "name": "stdout",
          "text": [
            "1\n",
            "21\n",
            "23220\n"
          ]
        }
      ]
    },
    {
      "cell_type": "markdown",
      "source": [
        "**Question5**<BR><BR>\n",
        "Create a function that takes a list of numbers between 1 and 10 (excluding one number) and\n",
        "returns the missing number.\n",
        "<BR><BR>**Examples**<BR><BR>\n",
        "```\n",
        "missing_num([1, 2, 3, 4, 6, 7, 8, 9, 10]) ➞ 5\n",
        "\n",
        "missing_num([7, 2, 3, 6, 5, 9, 1, 4, 8]) ➞ 10\n",
        "\n",
        "missing_num([10, 5, 1, 2, 4, 6, 8, 3, 9]) ➞ 7\n",
        "```"
      ],
      "metadata": {
        "id": "5bFEVUyM5ybJ"
      }
    },
    {
      "cell_type": "code",
      "source": [
        "def missing_num(list1) :\n",
        "    list2 = [i for i in range(1,11)] \n",
        "\n",
        "    for i in list2 :\n",
        "        if i not in list1 :\n",
        "            return i \n",
        "\n",
        "print(missing_num([1, 2, 3, 4, 6, 7, 8, 9, 10]))\n",
        "print(missing_num([7, 2, 3, 6, 5, 9, 1, 4, 8]))\n",
        "print(missing_num([10, 5, 1, 2, 4, 6, 8, 3, 9]))"
      ],
      "metadata": {
        "colab": {
          "base_uri": "https://localhost:8080/"
        },
        "id": "jCUkR3D46Ufe",
        "outputId": "9f0e3e76-d274-4fe0-ceb4-8c23a4d0a491"
      },
      "execution_count": 6,
      "outputs": [
        {
          "output_type": "stream",
          "name": "stdout",
          "text": [
            "5\n",
            "10\n",
            "7\n"
          ]
        }
      ]
    }
  ]
}