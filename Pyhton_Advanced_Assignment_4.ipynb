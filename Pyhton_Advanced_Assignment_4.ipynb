{
  "nbformat": 4,
  "nbformat_minor": 0,
  "metadata": {
    "colab": {
      "provenance": []
    },
    "kernelspec": {
      "name": "python3",
      "display_name": "Python 3"
    },
    "language_info": {
      "name": "python"
    }
  },
  "cells": [
    {
      "cell_type": "markdown",
      "source": [
        "Q1. Which two operator overloading methods can you use in your classes to support iteration?<BR>**ANS :** The two operator overloaing methods that support iteration are ```__init__()``` and ```__next__()```"
      ],
      "metadata": {
        "id": "6taZjuOuNpQ2"
      }
    },
    {
      "cell_type": "markdown",
      "source": [
        "Q2. In what contexts do the two operator overloading methods manage printing?<BR>**ANS :** ```__str__``` and ```__repr__``` are both constructors in pthon i.e both method will execute as soon as object is created. As after creating object if we call print function for the object then the address of the object will be printed. To avoid this , we can use ```__str__``` and ```__repr__```.\n",
        "\n",
        "The main purpose of ```__str__``` is for readability. it prints the informal string representation of an object, one that is useful for printing the object. it may not be possible to convert result string to original object.\n",
        "\n",
        "```__repr__``` is used to print official string representation of an object, so it includes all information and development."
      ],
      "metadata": {
        "id": "ADHMFjuOPQvQ"
      }
    },
    {
      "cell_type": "markdown",
      "source": [
        "Q3.  In a class, how do you capture in-place addition?\n",
        "<BR>**ANS :** <BR>  In a class use of ```slice()``` in ```__getitem__``` method is used for intercept slice operation. This slice method is provided with start integer number, stop integer number and step integer number."
      ],
      "metadata": {
        "id": "68XOpAHsmFKS"
      }
    },
    {
      "cell_type": "markdown",
      "source": [
        "Q4. In a class, how do you capture in-place addition?\n",
        "<BR>**ANS :**<BR>a+b is normal addition. Whereas a+=b is inplace addition operation. In this in-place addition a itself will store the value of addition. In a class __iadd__ method is used for this in-place operation\n",
        "\n"
      ],
      "metadata": {
        "id": "3dbFwEZ_nKLL"
      }
    },
    {
      "cell_type": "markdown",
      "source": [
        "Q5. When is it appropriate to use operator overloading?\n",
        "\n",
        "\n",
        "\n",
        "**ANS :** \n",
        "\n",
        "Operator overloading is used when we want to use an operator other than its normal operation to have different meaning according to the context required in user defined function."
      ],
      "metadata": {
        "id": "ND-4q5ehnWTR"
      }
    }
  ]
}