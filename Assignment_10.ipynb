{
  "nbformat": 4,
  "nbformat_minor": 0,
  "metadata": {
    "colab": {
      "provenance": [],
      "collapsed_sections": []
    },
    "kernelspec": {
      "name": "python3",
      "display_name": "Python 3"
    },
    "language_info": {
      "name": "python"
    }
  },
  "cells": [
    {
      "cell_type": "markdown",
      "source": [
        "#***Assignment_10***"
      ],
      "metadata": {
        "id": "n2IOmvppNku3"
      }
    },
    {
      "cell_type": "markdown",
      "source": [
        "Q1. How do you distinguish between shutil.copy() and shutil.copytree()?<BR>**ANS :**The shutil.copy() function will copy a single file, whereas shutil.copytree() will copy an entire folder, along with all its contents."
      ],
      "metadata": {
        "id": "-PvIRAYeNrj2"
      }
    },
    {
      "cell_type": "markdown",
      "source": [
        "Q2. What function is used to rename files??<BR>**ANS :** shutil.move()"
      ],
      "metadata": {
        "id": "ZV-nKyr8OP_q"
      }
    },
    {
      "cell_type": "markdown",
      "source": [
        "Q3. What is the difference between the delete functions in the send2trash and shutil modules?<BR>**ANS :** The send2trash functions will move a file or folder to the recycle bin, while shutil modules will permanently delete files and folders."
      ],
      "metadata": {
        "id": "z3G_VihgOsFw"
      }
    },
    {
      "cell_type": "markdown",
      "source": [
        "Q4. ZipFile objects have a close() method just like File objects's close() method. What ZipFile method is\n",
        "equivalent to File object's open() method?<BR>**ANS :** The zipfile.ZipFile() function is equivalent to the open() function of files objects."
      ],
      "metadata": {
        "id": "uREFshnYPaMt"
      }
    },
    {
      "cell_type": "markdown",
      "source": [
        "Q5. Create a programme that searches a folder tree for files with a certain file extension (such as .pdf\n",
        "or .jpg). Copy these files from whatever location they are in to a new folder.<BR>**ANS :** "
      ],
      "metadata": {
        "id": "pdGCEOL7Qilw"
      }
    }
  ]
}