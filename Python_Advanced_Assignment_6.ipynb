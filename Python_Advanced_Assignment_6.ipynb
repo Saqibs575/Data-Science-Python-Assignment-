{
  "nbformat": 4,
  "nbformat_minor": 0,
  "metadata": {
    "colab": {
      "provenance": [],
      "collapsed_sections": []
    },
    "kernelspec": {
      "name": "python3",
      "display_name": "Python 3"
    },
    "language_info": {
      "name": "python"
    }
  },
  "cells": [
    {
      "cell_type": "markdown",
      "source": [
        "Q1. Describe three applications for exception processing.<BR>**ANS :** Python has many built-in exceptions that are raised when your program encounters an error (something in the program goes wrong).\n",
        "\n",
        "When these exceptions occur, the Python interpreter stops the current process and passes it to the calling process until it is handled. If not handled, the program will crash.\n",
        "<BR>**Catching Exception :** <BR>In Python, exceptions can be handled using a try statement.\n",
        "\n",
        "The critical operation which can raise an exception is placed inside the try clause. The code that handles the exceptions is written in the except clause.\n",
        "\n",
        "We can thus choose what operations to perform once we have caught the exception.<BR>**Catching Specific Esception :**<BR>In Python, exceptions can be handled using a try statement.\n",
        "\n",
        "The critical operation which can raise an exception is placed inside the try clause. The code that handles the exceptions is written in the except clause.\n",
        "\n",
        "We can thus choose what operations to perform once we have caught the exception.<BR>**Raising Exception :** In Python programming, exceptions are raised when errors occur at runtime. We can also manually raise exceptions using the raise keyword.\n",
        "\n",
        "We can optionally pass values to the exception to clarify why that exception was raised."
      ],
      "metadata": {
        "id": "UEZ_vdMJZwfR"
      }
    },
    {
      "cell_type": "markdown",
      "source": [
        "Q2. What happens if you don&#39;t do something extra to treat an exception?<BR>**ANS :** Whenever an exception occurs, the program stops the execution, and thus the further code is not executed. Therefore, an exception is the run-time errors that are unable to handle to Python script. An exception is a Python object that represents an error"
      ],
      "metadata": {
        "id": "ZD3MqP50cDOG"
      }
    },
    {
      "cell_type": "markdown",
      "source": [
        "Q3. What are your options for recovering from an exception in your script?<BR>**ANS :** "
      ],
      "metadata": {
        "id": "GWDY3MVYceKe"
      }
    },
    {
      "cell_type": "markdown",
      "source": [
        "Q4. Describe two methods for triggering exceptions in your script.<BR>**ANS :** <BR>**try with else clause :**<BR>\n",
        "In some situations, you might want to run a certain block of code if the code block inside try ran without any errors. For these cases, you can use the optional else keyword with the try statement.<BR>**try...finally :**<BR>\n",
        "The try statement in Python can have an optional finally clause. This clause is executed no matter what, and is generally used to release external resources."
      ],
      "metadata": {
        "id": "hjaSrNnzcuHW"
      }
    },
    {
      "cell_type": "markdown",
      "source": [
        "Q5. Identify two methods for specifying actions to be executed at termination time, regardless of\n",
        "whether or not an exception exists.<BR>**ANS :** In else block, code is written to handle if no exception is raised by code in try block.\n",
        "\n",
        "In finally block, code executes regardless of whether or not an exception exists."
      ],
      "metadata": {
        "id": "rLCJYC2Zde-m"
      }
    }
  ]
}