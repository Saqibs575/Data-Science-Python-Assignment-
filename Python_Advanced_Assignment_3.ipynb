{
  "nbformat": 4,
  "nbformat_minor": 0,
  "metadata": {
    "colab": {
      "provenance": [],
      "collapsed_sections": []
    },
    "kernelspec": {
      "name": "python3",
      "display_name": "Python 3"
    },
    "language_info": {
      "name": "python"
    }
  },
  "cells": [
    {
      "cell_type": "markdown",
      "source": [
        "Q1. What is the concept of an abstract superclass?<BR>**ANS :**An abstract superclass is one way to provide re-usable code.<BR>\n",
        "\n",
        "You can extend the abstract class and inherit the code. This is sometimes more convenient than using static methods or object composition to share code.\n",
        "<BR>\n",
        "The abstract class can \"fix\" parts of the code (by making it final). This is called the \"template method\" pattern (and this is not possible with an interface, which cannot provide final methods).\n",
        "<BR>\n",
        "Of course, you can achieve both with a non-abstract superclass as well.\n",
        "<BR>\n",
        "An abstract class has the additional benefit that it does not have to provide a complete implementation (that would make sense to instantiate on its own), some parts can be left specified, but unimplemented (the abstract methods)<BR>Some of the properties of abstract superclass lsited following ; <BR> A common superclass <BR>for several subclasses.\n",
        "<BR>Methods that subclasses should implement are declared abstract\n",
        "<BR>Instances of the subclasses are created, but no instances of the superclass"
      ],
      "metadata": {
        "id": "XDFpr2bGEak3"
      }
    },
    {
      "cell_type": "markdown",
      "source": [
        "Q2. What happens when a class statement&#39;s top level contains a basic assignment statement?<BR>**ANS :** When assignments are done in the top of the class definitions then these assignments are called the attributes of the class. We can access these attributes even without creating any object of the class. These attributes can be used by using class name itself. All these attributes are associated with all the objects of the class. Even we can modify these attributes outside the class definition."
      ],
      "metadata": {
        "id": "CT4_D_HTGDJr"
      }
    },
    {
      "cell_type": "markdown",
      "source": [
        "Q3. Why does a ' need to manually call a superclass&#39;s __init__ method?<BR>**ANS :** We should always call  super class's  __init__ explicitly as a good coding practice. Forgetting to do this can cause subtle issues or run time errors. This is true even if __init__ doesn't take any parameter.\n",
        "<BR>\n",
        "The main reason for always calling  super class's  _init__ is that  super class's  may typically create member variable and initialize them to defaults. So if we don't call  super class's  init, none of that code would be executed and we would end up with  super class's  that has no member variables."
      ],
      "metadata": {
        "id": "oeRp-cBdH5h1"
      }
    },
    {
      "cell_type": "markdown",
      "source": [
        "Q4. How can you argugment, instead of completely replacing, an inherited method?<BR>**ANS :** Each method that is inherited from a superclass can be augmented to perform some different action in the new class. If there is no augmentation then the inherited methods will perform as defined in the superclass.\n",
        "\n",
        "An inherited method is augmented simply by creating a new definition for the method in your class definition."
      ],
      "metadata": {
        "id": "Ss2FErWXJzOF"
      }
    },
    {
      "cell_type": "markdown",
      "source": [
        "Q5. How is the local scope of a class different from that of a function<BR>**ANS :** If the variable of a class is declared without using self argument then it is called as local variable and these variables can be used inside the class definition only. To use the variables outside the class we nedd to declare it with self argument. <BR>\n",
        "\n",
        "However, function's local variables can be used inside funtions's definition itself. These variables can not be use outside the function's definition."
      ],
      "metadata": {
        "id": "8LZJLoE5Lhmr"
      }
    }
  ]
}