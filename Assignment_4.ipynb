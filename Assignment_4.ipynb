{
  "nbformat": 4,
  "nbformat_minor": 0,
  "metadata": {
    "colab": {
      "provenance": [],
      "collapsed_sections": []
    },
    "kernelspec": {
      "name": "python3",
      "display_name": "Python 3"
    },
    "language_info": {
      "name": "python"
    }
  },
  "cells": [
    {
      "cell_type": "markdown",
      "source": [
        "#***Assignment_4***"
      ],
      "metadata": {
        "id": "1do7pZkeNUQk"
      }
    },
    {
      "cell_type": "markdown",
      "source": [
        "Q1. What exactly is []?<br>**ANS :**<br>\n",
        "It is a list with no elements."
      ],
      "metadata": {
        "id": "XOdpGQkGNh5C"
      }
    },
    {
      "cell_type": "markdown",
      "source": [
        "Q2. In a list of values stored in a variable called spam, how would you assign the value &#39;hello&#39; as the\n",
        "third value? (Assume [2, 4, 6, 8, 10] are in spam.)<br>**ANS :**<br>\n",
        "spam[2]='hello'"
      ],
      "metadata": {
        "id": "VtPw-DCvNwGn"
      }
    },
    {
      "cell_type": "markdown",
      "source": [
        "###**Let&#39;s pretend the spam includes the list [ ' a ' , ' b ' , ' c ', ' d '] for the next three queries.**"
      ],
      "metadata": {
        "id": "JE6Ry9qgQwIz"
      }
    },
    {
      "cell_type": "markdown",
      "source": [
        "Q3. What is the value of spam[int(int(&#39;3&#39; * 2) / 11)]?<br>**ANS :**<br>\n",
        "' d '"
      ],
      "metadata": {
        "id": "SkncW8TxOJ-q"
      }
    },
    {
      "cell_type": "code",
      "source": [
        "spam=['a','b','c','d']\n",
        "spam[int(int('3'*2) / 11)]"
      ],
      "metadata": {
        "colab": {
          "base_uri": "https://localhost:8080/",
          "height": 36
        },
        "id": "vUjBFMh0O60K",
        "outputId": "a80b675c-9bfe-4da9-a9e5-acd6f1d659ef"
      },
      "execution_count": null,
      "outputs": [
        {
          "output_type": "execute_result",
          "data": {
            "text/plain": [
              "'d'"
            ],
            "application/vnd.google.colaboratory.intrinsic+json": {
              "type": "string"
            }
          },
          "metadata": {},
          "execution_count": 1
        }
      ]
    },
    {
      "cell_type": "markdown",
      "source": [
        "Q4. What is the value of spam[-1]?<br>**ANS :**<br>\n",
        "'d'"
      ],
      "metadata": {
        "id": "S1CyLP7dPze3"
      }
    },
    {
      "cell_type": "markdown",
      "source": [
        "Q5. What is the value of spam[:2]?<br>**ANS :**<br>\n",
        "[ ' a ' , ' b ' ]"
      ],
      "metadata": {
        "id": "1_n0Quz3QUv5"
      }
    },
    {
      "cell_type": "markdown",
      "source": [
        "###**Let&#39;s pretend bacon has the list [3.14, ' cat ', 11,' cat ', True] for the next three questions.**"
      ],
      "metadata": {
        "id": "wQUUDki6Riw0"
      }
    },
    {
      "cell_type": "markdown",
      "source": [
        "Q6. What is the value of bacon.index(&#39;cat&#39;)?<br>**ANS :**<br>\n",
        "1"
      ],
      "metadata": {
        "id": "jFSCCikgSMcu"
      }
    },
    {
      "cell_type": "markdown",
      "source": [
        "Q7. How does bacon.append(99) change the look of the list value in bacon?<br>**ANS :**<br>\n",
        "[3.14, ' cat ', 11,' cat ', True , 99] "
      ],
      "metadata": {
        "id": "SufVvC4jSiXi"
      }
    },
    {
      "cell_type": "markdown",
      "source": [
        "Q8. How does bacon.remove(&#39;cat&#39;) change the look of the list in bacon?<br>**ANS :**<br>\n",
        "[3.14 , 11,' cat ', True , 99]"
      ],
      "metadata": {
        "id": "XiGtWs0_SMXO"
      }
    },
    {
      "cell_type": "markdown",
      "source": [
        "Q9. What are the list concatenation and list replication operators?<br>**ANS :**<br>\n",
        "For concatenation operator is + and for replication operator  *"
      ],
      "metadata": {
        "id": "H7fPBRStTRt7"
      }
    },
    {
      "cell_type": "markdown",
      "source": [
        "Q10. What is difference between the list methods append() and insert()?<br>**ANS :**<br>\n",
        "append insert the element at the last position in the list where insert use to add element at the particular index in the list"
      ],
      "metadata": {
        "id": "0PoLzdwDa973"
      }
    },
    {
      "cell_type": "markdown",
      "source": [
        "Q11. What are the two methods for removing items from a list?<br>**ANS :**<br>\n",
        "keywords remove() and pop() are two methods to remove the elements from the list."
      ],
      "metadata": {
        "id": "cxwF3c8mVv9T"
      }
    },
    {
      "cell_type": "markdown",
      "source": [
        "Q12. Describe how list values and string values are identical.<br>**ANS :**<br>\n",
        "Both list and strings are indexed , both allows concatenation, replication and slicing."
      ],
      "metadata": {
        "id": "bV-7QmvdWTqX"
      }
    },
    {
      "cell_type": "markdown",
      "source": [
        "Q13. What&#39;s the difference between tuples and lists?<br>**ANS :**<br>\n",
        "Lists are mutable, indexed, heterogeneous collection of data whereas Tuples are immutable, indexed, heterogenous collection of data. Both allows duplication of elements."
      ],
      "metadata": {
        "id": "8nWwiBmhXUh2"
      }
    },
    {
      "cell_type": "markdown",
      "source": [
        "Q14. How do you type a tuple value that only contains the integer 42?<br>**ANS :**<br>\n",
        "(42,)"
      ],
      "metadata": {
        "id": "UyWsnRgRYKMu"
      }
    },
    {
      "cell_type": "markdown",
      "source": [
        "Q15. How do you get a list value&#39;s tuple form? How do you get a tuple value&#39;s list form?<br>**ANS :**<br>\n",
        "To get list tuple we can use tuple() and to use tuple to list we can use list()"
      ],
      "metadata": {
        "id": "kJmix1YYYekY"
      }
    },
    {
      "cell_type": "markdown",
      "source": [
        "Q16. Variables that &quot;contain&quot; list values are not necessarily lists themselves. Instead, what do they\n",
        "contain?<br>**ANS :**<br>It contains reference to list values."
      ],
      "metadata": {
        "id": "7jztWRyNZPTk"
      }
    },
    {
      "cell_type": "markdown",
      "source": [
        "Q17. How do you distinguish between copy.copy() and copy.deepcopy()?<br>**ANS :**<br>\n",
        "copy.copy() will do shallow copy and copy.deepcopy() will do deep copy (creating copy of nested list)"
      ],
      "metadata": {
        "id": "q9RQXJbYaLoa"
      }
    }
  ]
}