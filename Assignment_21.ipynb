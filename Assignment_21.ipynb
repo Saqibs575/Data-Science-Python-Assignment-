{
  "nbformat": 4,
  "nbformat_minor": 0,
  "metadata": {
    "colab": {
      "provenance": [],
      "collapsed_sections": []
    },
    "kernelspec": {
      "name": "python3",
      "display_name": "Python 3"
    },
    "language_info": {
      "name": "python"
    }
  },
  "cells": [
    {
      "cell_type": "markdown",
      "source": [
        "#***Assignment_21***"
      ],
      "metadata": {
        "id": "mZmcjn5Ptad_"
      }
    },
    {
      "cell_type": "markdown",
      "source": [
        "Q1. Add the current date to the text file today.txt as a string."
      ],
      "metadata": {
        "id": "0YlFweAnth9O"
      }
    },
    {
      "cell_type": "code",
      "execution_count": null,
      "metadata": {
        "id": "njr5TV3utIn9"
      },
      "outputs": [],
      "source": [
        "from datetime import date \n",
        "today = date.today().isoformat()\n",
        "file1 = open('today.txt','w')\n",
        "file1.write(today)\n",
        "file1.close()"
      ]
    },
    {
      "cell_type": "markdown",
      "source": [
        "Q2. Read the text file today.txt into the string today_string"
      ],
      "metadata": {
        "id": "d-3yq9wcuvS7"
      }
    },
    {
      "cell_type": "code",
      "source": [
        "file2 = open('today.txt','r')\n",
        "today_string = file2.read()\n",
        "file2.close()\n",
        "today_string"
      ],
      "metadata": {
        "colab": {
          "base_uri": "https://localhost:8080/",
          "height": 35
        },
        "id": "-mPaA6RHuy1f",
        "outputId": "164312d6-3fa9-4fb5-aaaf-a5e62a188e11"
      },
      "execution_count": null,
      "outputs": [
        {
          "output_type": "execute_result",
          "data": {
            "text/plain": [
              "'2022-10-21'"
            ],
            "application/vnd.google.colaboratory.intrinsic+json": {
              "type": "string"
            }
          },
          "metadata": {},
          "execution_count": 2
        }
      ]
    },
    {
      "cell_type": "markdown",
      "source": [
        "3. Parse the date from today_string."
      ],
      "metadata": {
        "id": "peM_qrdpvJJ9"
      }
    },
    {
      "cell_type": "markdown",
      "source": [
        "Q4. List the files in your current directory"
      ],
      "metadata": {
        "id": "cBeU03eCxISV"
      }
    },
    {
      "cell_type": "code",
      "source": [
        "import os\n",
        "os.listdir('.')"
      ],
      "metadata": {
        "colab": {
          "base_uri": "https://localhost:8080/"
        },
        "id": "6ZhMGhiwxRX6",
        "outputId": "c2c8078b-07aa-4959-9ae1-f30e79e9cfd8"
      },
      "execution_count": null,
      "outputs": [
        {
          "output_type": "execute_result",
          "data": {
            "text/plain": [
              "['.config', 'today.txt', 'sample_data']"
            ]
          },
          "metadata": {},
          "execution_count": 6
        }
      ]
    },
    {
      "cell_type": "markdown",
      "source": [
        "5. Create a list of all of the files in your parent directory (minimum five files should be available)."
      ],
      "metadata": {
        "id": "r2XHEJgoxgbS"
      }
    },
    {
      "cell_type": "code",
      "source": [
        "os.listdir('..')"
      ],
      "metadata": {
        "colab": {
          "base_uri": "https://localhost:8080/"
        },
        "id": "gcUw7B4KxmSf",
        "outputId": "4cc114ac-4139-4c94-abda-25119cf8e37e"
      },
      "execution_count": null,
      "outputs": [
        {
          "output_type": "execute_result",
          "data": {
            "text/plain": [
              "['sbin',\n",
              " 'bin',\n",
              " 'var',\n",
              " 'dev',\n",
              " 'root',\n",
              " 'mnt',\n",
              " 'srv',\n",
              " 'home',\n",
              " 'boot',\n",
              " 'usr',\n",
              " 'tmp',\n",
              " 'proc',\n",
              " 'lib',\n",
              " 'opt',\n",
              " 'sys',\n",
              " 'media',\n",
              " 'etc',\n",
              " 'run',\n",
              " 'lib64',\n",
              " 'content',\n",
              " '.dockerenv',\n",
              " 'datalab',\n",
              " 'tools',\n",
              " 'lib32',\n",
              " 'python-apt',\n",
              " 'NGC-DL-CONTAINER-LICENSE']"
            ]
          },
          "metadata": {},
          "execution_count": 7
        }
      ]
    },
    {
      "cell_type": "markdown",
      "source": [
        "Q6. Use multiprocessing to create three separate processes. Make each one wait a random number of\n",
        "seconds between one and five, print the current time, and then exit."
      ],
      "metadata": {
        "id": "G8dzGwElxr6t"
      }
    },
    {
      "cell_type": "markdown",
      "source": [
        "Q7. Create a date object of your day of birth."
      ],
      "metadata": {
        "id": "40yWdPA5yUXm"
      }
    },
    {
      "cell_type": "code",
      "source": [
        "DOB = date(1995,2,5)"
      ],
      "metadata": {
        "id": "CqVOmP6pyZmQ"
      },
      "execution_count": null,
      "outputs": []
    },
    {
      "cell_type": "markdown",
      "source": [
        "Q8. What day of the week was your day of birth?"
      ],
      "metadata": {
        "id": "LhfmPdYAy7Uu"
      }
    },
    {
      "cell_type": "code",
      "source": [
        "DOB.weekday()"
      ],
      "metadata": {
        "colab": {
          "base_uri": "https://localhost:8080/"
        },
        "id": "SIP0mD_bys_k",
        "outputId": "4b8ec1e1-570a-495b-f5e7-a89d29cb42db"
      },
      "execution_count": null,
      "outputs": [
        {
          "output_type": "execute_result",
          "data": {
            "text/plain": [
              "6"
            ]
          },
          "metadata": {},
          "execution_count": 12
        }
      ]
    },
    {
      "cell_type": "markdown",
      "source": [
        "Q9. When will you be (or when were you) 10,000 days old?"
      ],
      "metadata": {
        "id": "W_-bUn4dzKcy"
      }
    },
    {
      "cell_type": "code",
      "source": [
        "from datetime import timedelta"
      ],
      "metadata": {
        "id": "BDeu2OxwzdmI"
      },
      "execution_count": null,
      "outputs": []
    },
    {
      "cell_type": "code",
      "source": [
        "DOB + timedelta(days=10000)"
      ],
      "metadata": {
        "colab": {
          "base_uri": "https://localhost:8080/"
        },
        "id": "mn0u2gH7zjp0",
        "outputId": "ec6c550c-5eb3-40f4-d29e-05477b452b4b"
      },
      "execution_count": null,
      "outputs": [
        {
          "output_type": "execute_result",
          "data": {
            "text/plain": [
              "datetime.date(2022, 6, 23)"
            ]
          },
          "metadata": {},
          "execution_count": 14
        }
      ]
    }
  ]
}