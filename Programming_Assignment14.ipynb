{
  "nbformat": 4,
  "nbformat_minor": 0,
  "metadata": {
    "colab": {
      "provenance": [],
      "collapsed_sections": []
    },
    "kernelspec": {
      "name": "python3",
      "display_name": "Python 3"
    },
    "language_info": {
      "name": "python"
    }
  },
  "cells": [
    {
      "cell_type": "markdown",
      "source": [
        "#***Programming_Assignment14***"
      ],
      "metadata": {
        "id": "4wPzmKhwT_Bg"
      }
    },
    {
      "cell_type": "markdown",
      "source": [
        "Q1. Define a class with a generator which can iterate the numbers, which are divisible by\n",
        "7, between a given range 0 and n."
      ],
      "metadata": {
        "id": "Fnt7uI76UFc1"
      }
    },
    {
      "cell_type": "code",
      "source": [
        "class generator :\n",
        "\n",
        "\tdef __init__(self,n,d) :\n",
        "\t\tself.n = n\n",
        "\t\tself.d = d\n",
        "\n",
        "\tdef isDivisible(self,num) :\n",
        "\t\tif  num % self.d == 0 :\n",
        "\t\t\treturn True\n",
        "\t\treturn False\n",
        "\n",
        "\tdef iterator (self) :\n",
        "\t\tfor i in range (self.n+1) :\n",
        "\t\t\tif self.isDivisible(i) :\n",
        "\t\t\t\tyield i\n",
        "\n",
        "n = int(input('Give your Range : '))\n",
        "obj = generator (n,7)\n",
        "print(f\"\\nAll numbers Divisible by 7 upto {n} are : \",end =' ')\n",
        "for i in obj.iterator() :\n",
        "\tprint(i,end =' ')"
      ],
      "metadata": {
        "colab": {
          "base_uri": "https://localhost:8080/"
        },
        "id": "MHeO23Fu3uQI",
        "outputId": "14d568bf-02ad-481b-afe6-4ba96d34479a"
      },
      "execution_count": 1,
      "outputs": [
        {
          "output_type": "stream",
          "name": "stdout",
          "text": [
            "Give your Range : 106\n",
            "\n",
            "All numbers Divisible by 7 upto 106 are :  0 7 14 21 28 35 42 49 56 63 70 77 84 91 98 105 "
          ]
        }
      ]
    },
    {
      "cell_type": "markdown",
      "source": [
        "Q2. Write a program to compute the frequency of the words from the input. The output\n",
        "should output after sorting the key alphanumerically.<Br>\n",
        "Suppose the following input is supplied to the program:<BR>\n",
        "New to Python or choosing between Python 2 and Python 3? Read Python 2 or\n",
        "Python 3.<BR>\n",
        "Then, the output should be:<BR>\n",
        "<BR>2:2<BR><BR>\n",
        "3.:1<BR><BR>\n",
        "3?:1<BR><BR>\n",
        "New:1<BR><BR>\n",
        "Python:5<BR><BR>\n",
        "Read:1<BR><BR>\n",
        "and:1<BR><BR>\n",
        "between:1<BR><BR>\n",
        "choosing:1<BR><BR>\n",
        "or:2<BR><BR>\n",
        "to:1"
      ],
      "metadata": {
        "id": "T3KiStek7k55"
      }
    },
    {
      "cell_type": "code",
      "source": [
        "def frequencyOfWord(str1) :\n",
        "    str2 = str1.split()\n",
        "    set1 = set(str1.split())\n",
        "    dict1 = {}\n",
        "    dict2 = {}\n",
        "\n",
        "    for i in set1 :\n",
        "        count = 0\n",
        "        for j in str2 :\n",
        "            if i == j :\n",
        "                count += 1\n",
        "        dict1[i] = count\n",
        "\n",
        "    for k in sorted(dict1) :\n",
        "        dict2[k] = dict1[k]\n",
        "\n",
        "    return dict2\n",
        "\n",
        "str1 = input ()\n",
        "frequency = frequencyOfWord(str1)\n",
        "\n",
        "for i in frequency.keys() :\n",
        "    print(f'\\n{i}:{frequency[i]}') "
      ],
      "metadata": {
        "colab": {
          "base_uri": "https://localhost:8080/"
        },
        "id": "_vrVZJSu9EiC",
        "outputId": "c2959d32-8b7a-4ad4-f873-727265155873"
      },
      "execution_count": 3,
      "outputs": [
        {
          "output_type": "stream",
          "name": "stdout",
          "text": [
            "New to Python or choosing between Python 2 and Python 3? Read Python 2 or Python 3.\n",
            "\n",
            "2:2\n",
            "\n",
            "3.:1\n",
            "\n",
            "3?:1\n",
            "\n",
            "New:1\n",
            "\n",
            "Python:5\n",
            "\n",
            "Read:1\n",
            "\n",
            "and:1\n",
            "\n",
            "between:1\n",
            "\n",
            "choosing:1\n",
            "\n",
            "or:2\n",
            "\n",
            "to:1\n"
          ]
        }
      ]
    },
    {
      "cell_type": "markdown",
      "source": [
        "Q3. Define a class Person and its two child classes: Male and Female. All classes have a\n",
        "method &quot;getGender&quot; which can print &quot;Male&quot; for Male class and &quot;Female&quot; for Female\n",
        "class."
      ],
      "metadata": {
        "id": "aML9KXuf_Ubn"
      }
    },
    {
      "cell_type": "code",
      "source": [
        "class Person :\n",
        "    def getGender (self) :\n",
        "        pass\n",
        "\n",
        "class Male(Person) :\n",
        "    def getGender (self) :\n",
        "        print('Male')\n",
        "\n",
        "class Female(Person) :\n",
        "    def getGender (self) :\n",
        "        print('Female')\n",
        "\n",
        "Person_1 = Male()\n",
        "Person_2 = Female()\n",
        "Person_1.getGender()\n",
        "Person_2.getGender()"
      ],
      "metadata": {
        "colab": {
          "base_uri": "https://localhost:8080/"
        },
        "id": "Aj1yqWvA_Z6b",
        "outputId": "407e5fba-49bc-494c-e98d-5094d23efa4b"
      },
      "execution_count": 3,
      "outputs": [
        {
          "output_type": "stream",
          "name": "stdout",
          "text": [
            "Male\n",
            "Female\n"
          ]
        }
      ]
    },
    {
      "cell_type": "code",
      "execution_count": 4,
      "metadata": {
        "id": "YrHNwz3cT3rX",
        "colab": {
          "base_uri": "https://localhost:8080/"
        },
        "outputId": "02811785-505d-455c-ec0b-d07ab11ce861"
      },
      "outputs": [
        {
          "output_type": "stream",
          "name": "stdout",
          "text": [
            "I play hockey \n",
            "\n",
            "I play football \n",
            "\n",
            "I love hockey \n",
            "\n",
            "I love football \n",
            "\n",
            "You play hockey \n",
            "\n",
            "You play football \n",
            "\n",
            "You love hockey \n",
            "\n",
            "You love football \n",
            "\n"
          ]
        }
      ],
      "source": [
        "a=['I',\"You\"]\n",
        "b=['play','love']\n",
        "c=['hockey','football']\n",
        "\n",
        "for i in a :\n",
        "    for j in b :\n",
        "        for k in c:\n",
        "            print(i,j,k,'\\n')"
      ]
    },
    {
      "cell_type": "markdown",
      "source": [
        "Q5. Please write a program to compress and decompress the string &quot;hello world!hello\n",
        "world!hello world!hello world!&quot;.\n",
        "\n"
      ],
      "metadata": {
        "id": "H4OOoyRRE1UI"
      }
    },
    {
      "cell_type": "code",
      "source": [
        "def compress (string) :\n",
        "    i = 0 \n",
        "    compressed = ''\n",
        "    while i < len(string) :\n",
        "        count = 1\n",
        "\n",
        "        while i < len (string) -1 and string[i] == string[i+1] :\n",
        "            count += 1\n",
        "            i += 1\n",
        "        compressed += f\"{string[i]}{count}\"\n",
        "        i += 1 \n",
        "    return compressed\n",
        "\n",
        "def deCompress(string) :\n",
        "    decompressed = ''\n",
        "    for i in range (0,len(string),2) :\n",
        "        for j in range (int(string[i+1])) :\n",
        "            decompressed +=string[i]\n",
        "\n",
        "    return decompressed\n",
        "\n",
        "print(compress(\"hello world!hello world!hello world!hello world!\"), '\\n')\n",
        "print(deCompress(compress(\"hello world!hello world!hello world!hello world!\")))"
      ],
      "metadata": {
        "colab": {
          "base_uri": "https://localhost:8080/"
        },
        "id": "DGIqK8alE1zq",
        "outputId": "92244fcd-d3db-4597-a1ad-e0628a4f7c7b"
      },
      "execution_count": 5,
      "outputs": [
        {
          "output_type": "stream",
          "name": "stdout",
          "text": [
            "h1e1l2o1 1w1o1r1l1d1!1h1e1l2o1 1w1o1r1l1d1!1h1e1l2o1 1w1o1r1l1d1!1h1e1l2o1 1w1o1r1l1d1!1 \n",
            "\n",
            "hello world!hello world!hello world!hello world!\n"
          ]
        }
      ]
    },
    {
      "cell_type": "markdown",
      "source": [
        "Q6. Please write a binary search function which searches an item in a sorted list. The\n",
        "function should return the index of element to be searched in the list."
      ],
      "metadata": {
        "id": "Jx_nK8E1zQ36"
      }
    },
    {
      "cell_type": "code",
      "source": [
        "def binarySearch(list1, item):\n",
        "    \n",
        "    if item in list1:\n",
        "        return list1.index(item)\n",
        "    else :\n",
        "        return False\n",
        "\n",
        "       \n",
        "list1 = [100,200,300,400,500,600,700,800,900,1000]\n",
        "item = 700\n",
        "if binarySearch(list1,item) != False :\n",
        "    print(f'Index of {item} is {binarySearch(list1,item)}')\n",
        "else : \n",
        "    print(f'{item} NOT found in the given list !!!')"
      ],
      "metadata": {
        "colab": {
          "base_uri": "https://localhost:8080/"
        },
        "id": "NJzmj0vIz0AN",
        "outputId": "e4d683dc-81e0-4fe6-9673-e1543dd9b14b"
      },
      "execution_count": 6,
      "outputs": [
        {
          "output_type": "stream",
          "name": "stdout",
          "text": [
            "Index of 700 is 6\n"
          ]
        }
      ]
    },
    {
      "cell_type": "code",
      "source": [
        "d={'x':1,'y':8,'a':9,'f':0,'e':3}\n",
        "sorted(d)"
      ],
      "metadata": {
        "colab": {
          "base_uri": "https://localhost:8080/"
        },
        "id": "XeJiqBDAS0Cu",
        "outputId": "6d470d66-3c2c-4ef8-8a43-097085570ccd"
      },
      "execution_count": 2,
      "outputs": [
        {
          "output_type": "execute_result",
          "data": {
            "text/plain": [
              "['a', 'e', 'f', 'x', 'y']"
            ]
          },
          "metadata": {},
          "execution_count": 2
        }
      ]
    }
  ]
}